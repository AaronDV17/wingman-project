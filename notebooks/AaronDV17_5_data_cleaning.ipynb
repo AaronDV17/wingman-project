{
 "cells": [
  {
   "attachments": {},
   "cell_type": "markdown",
   "metadata": {},
   "source": [
    "## Imports"
   ]
  },
  {
   "cell_type": "code",
   "execution_count": 34,
   "metadata": {},
   "outputs": [],
   "source": [
    "# IMPORTS\n",
    "import pandas as pd\n",
    "import numpy as np\n",
    "\n",
    "import seaborn as sns\n",
    "import matplotlib.pyplot as plt\n",
    "\n",
    "from sklearn.impute import SimpleImputer"
   ]
  },
  {
   "attachments": {},
   "cell_type": "markdown",
   "metadata": {},
   "source": [
    "## Load Data"
   ]
  },
  {
   "cell_type": "code",
   "execution_count": 2,
   "metadata": {},
   "outputs": [],
   "source": [
    "wingman_df = pd.read_csv('../raw_data/trimmed_data/wingman_data.csv')"
   ]
  },
  {
   "attachments": {},
   "cell_type": "markdown",
   "metadata": {},
   "source": [
    "## Cleaning"
   ]
  },
  {
   "attachments": {},
   "cell_type": "markdown",
   "metadata": {},
   "source": [
    "### Info"
   ]
  },
  {
   "cell_type": "code",
   "execution_count": 3,
   "metadata": {},
   "outputs": [
    {
     "data": {
      "text/plain": [
       "(18811, 41)"
      ]
     },
     "execution_count": 3,
     "metadata": {},
     "output_type": "execute_result"
    }
   ],
   "source": [
    "wingman_df.shape"
   ]
  },
  {
   "cell_type": "code",
   "execution_count": 4,
   "metadata": {},
   "outputs": [
    {
     "data": {
      "text/plain": [
       "Index(['id', 'eventsoe_no', 'far_part', 'flt_plan_filed', 'acft_make',\n",
       "       'acft_model', 'total_seats', 'num_eng', 'fixed_retractable',\n",
       "       'cert_max_gr_wt', 'acft_category', 'homebuilt', 'type_last_insp',\n",
       "       'afm_hrs_last_insp', 'afm_hrs', 'elt_install', 'elt_type', 'oper_dba',\n",
       "       'certs_held', 'type_fly', 'second_pilot', 'dprt_apt_id', 'dprt_time',\n",
       "       'dest_apt_id', 'site_seeing', 'air_medical', 'flight_hours_mean',\n",
       "       'crew_category', 'crew_sex', 'pc_profession', 'crew_tox_perf',\n",
       "       'mr_faa_med_certf', 'available_restraint', 'eng_no', 'eng_type',\n",
       "       'eng_mfgr', 'eng_model', 'power_units', 'hp_or_lbs',\n",
       "       'carb_fuel_injection', 'propeller_type'],\n",
       "      dtype='object')"
      ]
     },
     "execution_count": 4,
     "metadata": {},
     "output_type": "execute_result"
    }
   ],
   "source": [
    "wingman_df.columns"
   ]
  },
  {
   "cell_type": "code",
   "execution_count": 5,
   "metadata": {},
   "outputs": [
    {
     "data": {
      "text/plain": [
       "41"
      ]
     },
     "execution_count": 5,
     "metadata": {},
     "output_type": "execute_result"
    }
   ],
   "source": [
    "len(wingman_df.columns)"
   ]
  },
  {
   "cell_type": "code",
   "execution_count": 6,
   "metadata": {},
   "outputs": [
    {
     "data": {
      "text/html": [
       "<div>\n",
       "<style scoped>\n",
       "    .dataframe tbody tr th:only-of-type {\n",
       "        vertical-align: middle;\n",
       "    }\n",
       "\n",
       "    .dataframe tbody tr th {\n",
       "        vertical-align: top;\n",
       "    }\n",
       "\n",
       "    .dataframe thead th {\n",
       "        text-align: right;\n",
       "    }\n",
       "</style>\n",
       "<table border=\"1\" class=\"dataframe\">\n",
       "  <thead>\n",
       "    <tr style=\"text-align: right;\">\n",
       "      <th></th>\n",
       "      <th>id</th>\n",
       "      <th>eventsoe_no</th>\n",
       "      <th>far_part</th>\n",
       "      <th>flt_plan_filed</th>\n",
       "      <th>acft_make</th>\n",
       "      <th>acft_model</th>\n",
       "      <th>total_seats</th>\n",
       "      <th>num_eng</th>\n",
       "      <th>fixed_retractable</th>\n",
       "      <th>cert_max_gr_wt</th>\n",
       "      <th>...</th>\n",
       "      <th>mr_faa_med_certf</th>\n",
       "      <th>available_restraint</th>\n",
       "      <th>eng_no</th>\n",
       "      <th>eng_type</th>\n",
       "      <th>eng_mfgr</th>\n",
       "      <th>eng_model</th>\n",
       "      <th>power_units</th>\n",
       "      <th>hp_or_lbs</th>\n",
       "      <th>carb_fuel_injection</th>\n",
       "      <th>propeller_type</th>\n",
       "    </tr>\n",
       "  </thead>\n",
       "  <tbody>\n",
       "    <tr>\n",
       "      <th>0</th>\n",
       "      <td>20080107X000261</td>\n",
       "      <td>250</td>\n",
       "      <td>091</td>\n",
       "      <td>NONE</td>\n",
       "      <td>PIPER</td>\n",
       "      <td>PA 28-180</td>\n",
       "      <td>4.0</td>\n",
       "      <td>1.0</td>\n",
       "      <td>FIXD</td>\n",
       "      <td>2400.0</td>\n",
       "      <td>...</td>\n",
       "      <td>NaN</td>\n",
       "      <td>NaN</td>\n",
       "      <td>1</td>\n",
       "      <td>REC</td>\n",
       "      <td>Textron Lycoming</td>\n",
       "      <td>O-360-A3A</td>\n",
       "      <td>180.0</td>\n",
       "      <td>HP</td>\n",
       "      <td>CARB</td>\n",
       "      <td>NaN</td>\n",
       "    </tr>\n",
       "    <tr>\n",
       "      <th>1</th>\n",
       "      <td>20080107X000262</td>\n",
       "      <td>250</td>\n",
       "      <td>091</td>\n",
       "      <td>NONE</td>\n",
       "      <td>Barnard/Stancil</td>\n",
       "      <td>Glastar</td>\n",
       "      <td>2.0</td>\n",
       "      <td>1.0</td>\n",
       "      <td>FIXD</td>\n",
       "      <td>1960.0</td>\n",
       "      <td>...</td>\n",
       "      <td>NaN</td>\n",
       "      <td>NaN</td>\n",
       "      <td>1</td>\n",
       "      <td>REC</td>\n",
       "      <td>Textron Lycoming</td>\n",
       "      <td>O-360</td>\n",
       "      <td>180.0</td>\n",
       "      <td>HP</td>\n",
       "      <td>CARB</td>\n",
       "      <td>NaN</td>\n",
       "    </tr>\n",
       "    <tr>\n",
       "      <th>2</th>\n",
       "      <td>20080109X000361</td>\n",
       "      <td>230</td>\n",
       "      <td>091</td>\n",
       "      <td>NONE</td>\n",
       "      <td>Micco Aircraft Company</td>\n",
       "      <td>MAC-145B</td>\n",
       "      <td>2.0</td>\n",
       "      <td>1.0</td>\n",
       "      <td>RETR</td>\n",
       "      <td>2850.0</td>\n",
       "      <td>...</td>\n",
       "      <td>NaN</td>\n",
       "      <td>NaN</td>\n",
       "      <td>1</td>\n",
       "      <td>REC</td>\n",
       "      <td>Lycoming</td>\n",
       "      <td>IO-540</td>\n",
       "      <td>260.0</td>\n",
       "      <td>HP</td>\n",
       "      <td>FINJ</td>\n",
       "      <td>NaN</td>\n",
       "    </tr>\n",
       "    <tr>\n",
       "      <th>3</th>\n",
       "      <td>20080107X000271</td>\n",
       "      <td>81</td>\n",
       "      <td>091</td>\n",
       "      <td>IFR</td>\n",
       "      <td>Pilatus</td>\n",
       "      <td>PC-12/45</td>\n",
       "      <td>9.0</td>\n",
       "      <td>1.0</td>\n",
       "      <td>RETR</td>\n",
       "      <td>9920.0</td>\n",
       "      <td>...</td>\n",
       "      <td>NaN</td>\n",
       "      <td>NaN</td>\n",
       "      <td>1</td>\n",
       "      <td>TP</td>\n",
       "      <td>Pratt &amp; Whitney Canada</td>\n",
       "      <td>PT6A-67A</td>\n",
       "      <td>1200.0</td>\n",
       "      <td>HP</td>\n",
       "      <td>NaN</td>\n",
       "      <td>NaN</td>\n",
       "    </tr>\n",
       "    <tr>\n",
       "      <th>4</th>\n",
       "      <td>20080115X000511</td>\n",
       "      <td>240</td>\n",
       "      <td>091</td>\n",
       "      <td>NONE</td>\n",
       "      <td>Cessna</td>\n",
       "      <td>152</td>\n",
       "      <td>2.0</td>\n",
       "      <td>1.0</td>\n",
       "      <td>FIXD</td>\n",
       "      <td>1670.0</td>\n",
       "      <td>...</td>\n",
       "      <td>NaN</td>\n",
       "      <td>NaN</td>\n",
       "      <td>1</td>\n",
       "      <td>REC</td>\n",
       "      <td>Lycoming</td>\n",
       "      <td>O-235-L2C</td>\n",
       "      <td>110.0</td>\n",
       "      <td>HP</td>\n",
       "      <td>CARB</td>\n",
       "      <td>NaN</td>\n",
       "    </tr>\n",
       "  </tbody>\n",
       "</table>\n",
       "<p>5 rows × 41 columns</p>\n",
       "</div>"
      ],
      "text/plain": [
       "                id  eventsoe_no far_part flt_plan_filed  \\\n",
       "0  20080107X000261          250      091           NONE   \n",
       "1  20080107X000262          250      091           NONE   \n",
       "2  20080109X000361          230      091           NONE   \n",
       "3  20080107X000271           81      091            IFR   \n",
       "4  20080115X000511          240      091           NONE   \n",
       "\n",
       "                acft_make acft_model  total_seats  num_eng fixed_retractable  \\\n",
       "0                   PIPER  PA 28-180          4.0      1.0              FIXD   \n",
       "1         Barnard/Stancil    Glastar          2.0      1.0              FIXD   \n",
       "2  Micco Aircraft Company   MAC-145B          2.0      1.0              RETR   \n",
       "3                 Pilatus   PC-12/45          9.0      1.0              RETR   \n",
       "4                  Cessna        152          2.0      1.0              FIXD   \n",
       "\n",
       "   cert_max_gr_wt  ... mr_faa_med_certf available_restraint eng_no  eng_type  \\\n",
       "0          2400.0  ...              NaN                 NaN      1       REC   \n",
       "1          1960.0  ...              NaN                 NaN      1       REC   \n",
       "2          2850.0  ...              NaN                 NaN      1       REC   \n",
       "3          9920.0  ...              NaN                 NaN      1        TP   \n",
       "4          1670.0  ...              NaN                 NaN      1       REC   \n",
       "\n",
       "                 eng_mfgr  eng_model power_units hp_or_lbs  \\\n",
       "0        Textron Lycoming  O-360-A3A       180.0        HP   \n",
       "1        Textron Lycoming      O-360       180.0        HP   \n",
       "2                Lycoming     IO-540       260.0        HP   \n",
       "3  Pratt & Whitney Canada   PT6A-67A      1200.0        HP   \n",
       "4                Lycoming  O-235-L2C       110.0        HP   \n",
       "\n",
       "  carb_fuel_injection propeller_type  \n",
       "0                CARB            NaN  \n",
       "1                CARB            NaN  \n",
       "2                FINJ            NaN  \n",
       "3                 NaN            NaN  \n",
       "4                CARB            NaN  \n",
       "\n",
       "[5 rows x 41 columns]"
      ]
     },
     "execution_count": 6,
     "metadata": {},
     "output_type": "execute_result"
    }
   ],
   "source": [
    "wingman_df.head()"
   ]
  },
  {
   "attachments": {},
   "cell_type": "markdown",
   "metadata": {},
   "source": [
    "### Duplicates"
   ]
  },
  {
   "cell_type": "code",
   "execution_count": 7,
   "metadata": {},
   "outputs": [
    {
     "data": {
      "text/plain": [
       "0"
      ]
     },
     "execution_count": 7,
     "metadata": {},
     "output_type": "execute_result"
    }
   ],
   "source": [
    "wingman_df.duplicated().sum()"
   ]
  },
  {
   "cell_type": "code",
   "execution_count": 8,
   "metadata": {},
   "outputs": [
    {
     "data": {
      "text/html": [
       "<div>\n",
       "<style scoped>\n",
       "    .dataframe tbody tr th:only-of-type {\n",
       "        vertical-align: middle;\n",
       "    }\n",
       "\n",
       "    .dataframe tbody tr th {\n",
       "        vertical-align: top;\n",
       "    }\n",
       "\n",
       "    .dataframe thead th {\n",
       "        text-align: right;\n",
       "    }\n",
       "</style>\n",
       "<table border=\"1\" class=\"dataframe\">\n",
       "  <thead>\n",
       "    <tr style=\"text-align: right;\">\n",
       "      <th></th>\n",
       "      <th>id</th>\n",
       "      <th>eventsoe_no</th>\n",
       "      <th>far_part</th>\n",
       "      <th>flt_plan_filed</th>\n",
       "      <th>acft_make</th>\n",
       "      <th>acft_model</th>\n",
       "      <th>total_seats</th>\n",
       "      <th>num_eng</th>\n",
       "      <th>fixed_retractable</th>\n",
       "      <th>cert_max_gr_wt</th>\n",
       "      <th>...</th>\n",
       "      <th>mr_faa_med_certf</th>\n",
       "      <th>available_restraint</th>\n",
       "      <th>eng_no</th>\n",
       "      <th>eng_type</th>\n",
       "      <th>eng_mfgr</th>\n",
       "      <th>eng_model</th>\n",
       "      <th>power_units</th>\n",
       "      <th>hp_or_lbs</th>\n",
       "      <th>carb_fuel_injection</th>\n",
       "      <th>propeller_type</th>\n",
       "    </tr>\n",
       "  </thead>\n",
       "  <tbody>\n",
       "  </tbody>\n",
       "</table>\n",
       "<p>0 rows × 41 columns</p>\n",
       "</div>"
      ],
      "text/plain": [
       "Empty DataFrame\n",
       "Columns: [id, eventsoe_no, far_part, flt_plan_filed, acft_make, acft_model, total_seats, num_eng, fixed_retractable, cert_max_gr_wt, acft_category, homebuilt, type_last_insp, afm_hrs_last_insp, afm_hrs, elt_install, elt_type, oper_dba, certs_held, type_fly, second_pilot, dprt_apt_id, dprt_time, dest_apt_id, site_seeing, air_medical, flight_hours_mean, crew_category, crew_sex, pc_profession, crew_tox_perf, mr_faa_med_certf, available_restraint, eng_no, eng_type, eng_mfgr, eng_model, power_units, hp_or_lbs, carb_fuel_injection, propeller_type]\n",
       "Index: []\n",
       "\n",
       "[0 rows x 41 columns]"
      ]
     },
     "execution_count": 8,
     "metadata": {},
     "output_type": "execute_result"
    }
   ],
   "source": [
    "wingman_df[wingman_df.duplicated(subset='id', keep=False)].head()"
   ]
  },
  {
   "attachments": {},
   "cell_type": "markdown",
   "metadata": {},
   "source": [
    "### Missing Values"
   ]
  },
  {
   "attachments": {},
   "cell_type": "markdown",
   "metadata": {},
   "source": [
    "#### Check null values in columns"
   ]
  },
  {
   "cell_type": "code",
   "execution_count": 9,
   "metadata": {},
   "outputs": [
    {
     "data": {
      "text/plain": [
       "mr_faa_med_certf       18550\n",
       "oper_dba               17773\n",
       "afm_hrs_last_insp      12374\n",
       "propeller_type         11077\n",
       "available_restraint     8338\n",
       "elt_type                7796\n",
       "dest_apt_id             3666\n",
       "carb_fuel_injection     3666\n",
       "dprt_time               3627\n",
       "afm_hrs                 3260\n",
       "crew_sex                3218\n",
       "cert_max_gr_wt          3111\n",
       "dprt_apt_id             2371\n",
       "elt_install             1969\n",
       "crew_tox_perf           1607\n",
       "hp_or_lbs               1561\n",
       "type_last_insp          1456\n",
       "power_units             1377\n",
       "total_seats             1339\n",
       "second_pilot            1127\n",
       "type_fly                1085\n",
       "pc_profession            600\n",
       "certs_held               407\n",
       "num_eng                  392\n",
       "eng_model                222\n",
       "flt_plan_filed           197\n",
       "eng_mfgr                 109\n",
       "eng_type                  75\n",
       "air_medical               25\n",
       "site_seeing               17\n",
       "acft_make                  1\n",
       "acft_category              1\n",
       "acft_model                 1\n",
       "eventsoe_no                0\n",
       "far_part                   0\n",
       "fixed_retractable          0\n",
       "eng_no                     0\n",
       "crew_category              0\n",
       "flight_hours_mean          0\n",
       "homebuilt                  0\n",
       "id                         0\n",
       "dtype: int64"
      ]
     },
     "execution_count": 9,
     "metadata": {},
     "output_type": "execute_result"
    }
   ],
   "source": [
    "# Count of null values in each column\n",
    "wingman_df.isnull().sum().sort_values(ascending=False)"
   ]
  },
  {
   "cell_type": "code",
   "execution_count": 10,
   "metadata": {},
   "outputs": [
    {
     "data": {
      "text/plain": [
       "mr_faa_med_certf       98.6\n",
       "oper_dba               94.5\n",
       "afm_hrs_last_insp      65.8\n",
       "propeller_type         58.9\n",
       "available_restraint    44.3\n",
       "elt_type               41.4\n",
       "dest_apt_id            19.5\n",
       "carb_fuel_injection    19.5\n",
       "dprt_time              19.3\n",
       "afm_hrs                17.3\n",
       "crew_sex               17.1\n",
       "cert_max_gr_wt         16.5\n",
       "dprt_apt_id            12.6\n",
       "elt_install            10.5\n",
       "crew_tox_perf           8.5\n",
       "hp_or_lbs               8.3\n",
       "type_last_insp          7.7\n",
       "power_units             7.3\n",
       "total_seats             7.1\n",
       "second_pilot            6.0\n",
       "type_fly                5.8\n",
       "pc_profession           3.2\n",
       "certs_held              2.2\n",
       "num_eng                 2.1\n",
       "eng_model               1.2\n",
       "flt_plan_filed          1.0\n",
       "eng_mfgr                0.6\n",
       "eng_type                0.4\n",
       "air_medical             0.1\n",
       "site_seeing             0.1\n",
       "acft_make               0.0\n",
       "acft_category           0.0\n",
       "acft_model              0.0\n",
       "eventsoe_no             0.0\n",
       "far_part                0.0\n",
       "fixed_retractable       0.0\n",
       "eng_no                  0.0\n",
       "crew_category           0.0\n",
       "flight_hours_mean       0.0\n",
       "homebuilt               0.0\n",
       "id                      0.0\n",
       "dtype: float64"
      ]
     },
     "execution_count": 10,
     "metadata": {},
     "output_type": "execute_result"
    }
   ],
   "source": [
    "# Percent of column that is null\n",
    "round(wingman_df.isnull().sum().sort_values(ascending=False)/len(wingman_df), 3) * 100"
   ]
  },
  {
   "attachments": {},
   "cell_type": "markdown",
   "metadata": {},
   "source": [
    "#### Drop columns with many null values"
   ]
  },
  {
   "cell_type": "code",
   "execution_count": 11,
   "metadata": {},
   "outputs": [],
   "source": [
    "drop_cols = []"
   ]
  },
  {
   "cell_type": "code",
   "execution_count": 12,
   "metadata": {},
   "outputs": [],
   "source": [
    "# Columns with too many null values\n",
    "drop_cols.extend(['mr_faa_med_certf', 'oper_dba', 'afm_hrs_last_insp', 'propeller_type', 'available_restraint', 'elt_type',])"
   ]
  },
  {
   "cell_type": "code",
   "execution_count": 13,
   "metadata": {},
   "outputs": [],
   "source": [
    "# Columns with identical values\n",
    "drop_cols.extend(['eng_no'])"
   ]
  },
  {
   "cell_type": "code",
   "execution_count": 14,
   "metadata": {},
   "outputs": [],
   "source": [
    "# Columns with values unavailable preflight\n",
    "drop_cols.extend(['crew_tox_perf'])"
   ]
  },
  {
   "cell_type": "code",
   "execution_count": 15,
   "metadata": {},
   "outputs": [],
   "source": [
    "# Columns for misc reasons\n",
    "drop_cols.extend(['elt_install', 'eng_model'])"
   ]
  },
  {
   "cell_type": "code",
   "execution_count": 16,
   "metadata": {},
   "outputs": [
    {
     "data": {
      "text/plain": [
       "['mr_faa_med_certf',\n",
       " 'oper_dba',\n",
       " 'afm_hrs_last_insp',\n",
       " 'propeller_type',\n",
       " 'available_restraint',\n",
       " 'elt_type',\n",
       " 'eng_no',\n",
       " 'crew_tox_perf',\n",
       " 'elt_install',\n",
       " 'eng_model']"
      ]
     },
     "execution_count": 16,
     "metadata": {},
     "output_type": "execute_result"
    }
   ],
   "source": [
    "drop_cols"
   ]
  },
  {
   "cell_type": "code",
   "execution_count": 17,
   "metadata": {},
   "outputs": [],
   "source": [
    "wingman_df.drop(columns=drop_cols, inplace=True)"
   ]
  },
  {
   "attachments": {},
   "cell_type": "markdown",
   "metadata": {},
   "source": [
    "#### Drop rows with null values"
   ]
  },
  {
   "cell_type": "code",
   "execution_count": 18,
   "metadata": {},
   "outputs": [],
   "source": [
    "wingman_df.dropna(subset=['acft_make', 'acft_category', 'acft_model'], how='any', inplace=True)"
   ]
  },
  {
   "attachments": {},
   "cell_type": "markdown",
   "metadata": {},
   "source": [
    "#### Drop rows with specific values in the following columns"
   ]
  },
  {
   "cell_type": "code",
   "execution_count": 19,
   "metadata": {},
   "outputs": [],
   "source": [
    "mask = wingman_df['hp_or_lbs'] == 'HP'\n",
    "\n",
    "wingman_df = wingman_df[mask]\n",
    "\n",
    "wingman_df.drop(columns=['hp_or_lbs'], inplace=True)"
   ]
  },
  {
   "attachments": {},
   "cell_type": "markdown",
   "metadata": {},
   "source": [
    "#### Imputation"
   ]
  },
  {
   "attachments": {},
   "cell_type": "markdown",
   "metadata": {},
   "source": [
    "##### Create imputer objects"
   ]
  },
  {
   "cell_type": "code",
   "execution_count": 20,
   "metadata": {},
   "outputs": [],
   "source": [
    "imp_mean = SimpleImputer(missing_values=np.nan, strategy='mean')"
   ]
  },
  {
   "cell_type": "code",
   "execution_count": 21,
   "metadata": {},
   "outputs": [],
   "source": [
    "imp_mode = SimpleImputer(missing_values=np.nan, strategy='most_frequent')"
   ]
  },
  {
   "cell_type": "code",
   "execution_count": 22,
   "metadata": {},
   "outputs": [],
   "source": [
    "imp_median = SimpleImputer(missing_values=np.nan, strategy='median')"
   ]
  },
  {
   "cell_type": "code",
   "execution_count": 23,
   "metadata": {},
   "outputs": [],
   "source": [
    "imp_const_unk = SimpleImputer(strategy='constant', fill_value='UNK')"
   ]
  },
  {
   "cell_type": "code",
   "execution_count": 24,
   "metadata": {},
   "outputs": [],
   "source": [
    "imp_const_N = SimpleImputer(strategy='constant', fill_value='N')"
   ]
  },
  {
   "cell_type": "code",
   "execution_count": 25,
   "metadata": {},
   "outputs": [],
   "source": [
    "imp_const_none = SimpleImputer(strategy='constant', fill_value='NONE')"
   ]
  },
  {
   "attachments": {},
   "cell_type": "markdown",
   "metadata": {},
   "source": [
    "##### Process - as per 'AaronDV17_5_cols_to_impute.txt'"
   ]
  },
  {
   "cell_type": "code",
   "execution_count": 26,
   "metadata": {},
   "outputs": [],
   "source": [
    "wingman_df['dprt_time'] = imp_mean.fit_transform(wingman_df['dprt_time'].to_frame())"
   ]
  },
  {
   "cell_type": "code",
   "execution_count": 27,
   "metadata": {},
   "outputs": [],
   "source": [
    "wingman_df.loc[:, ['site_seeing', 'crew_sex', 'num_eng', 'second_pilot', 'type_last_insp', 'air_medical']] = imp_mode.fit_transform(wingman_df.loc[:, ['site_seeing', 'crew_sex', 'num_eng', 'second_pilot', 'type_last_insp', 'air_medical']])"
   ]
  },
  {
   "cell_type": "code",
   "execution_count": 28,
   "metadata": {},
   "outputs": [],
   "source": [
    "wingman_df.loc[:, ['total_seats', 'power_units', 'afm_hrs', 'cert_max_gr_wt']] = imp_median.fit_transform(wingman_df.loc[:, ['total_seats', 'power_units', 'afm_hrs', 'cert_max_gr_wt']])"
   ]
  },
  {
   "cell_type": "code",
   "execution_count": 29,
   "metadata": {},
   "outputs": [],
   "source": [
    "wingman_df.loc[:, ['type_fly', 'eng_type', 'eng_mfgr', 'pc_profession', 'carb_fuel_injection']] = imp_const_unk.fit_transform(wingman_df.loc[:, ['type_fly', 'eng_type', 'eng_mfgr', 'pc_profession', 'carb_fuel_injection']])"
   ]
  },
  {
   "cell_type": "code",
   "execution_count": 30,
   "metadata": {},
   "outputs": [],
   "source": [
    "wingman_df['certs_held'] = imp_const_N.fit_transform(wingman_df['certs_held'].to_frame())"
   ]
  },
  {
   "cell_type": "code",
   "execution_count": 31,
   "metadata": {},
   "outputs": [],
   "source": [
    "wingman_df.loc[:, ['flt_plan_filed', 'dprt_apt_id', 'dest_apt_id']] = imp_const_none.fit_transform(wingman_df.loc[:, ['flt_plan_filed', 'dprt_apt_id', 'dest_apt_id']])"
   ]
  },
  {
   "attachments": {},
   "cell_type": "markdown",
   "metadata": {},
   "source": [
    "##### Check nulls have been removed"
   ]
  },
  {
   "cell_type": "code",
   "execution_count": 32,
   "metadata": {},
   "outputs": [
    {
     "data": {
      "text/plain": [
       "(16724, 30)"
      ]
     },
     "execution_count": 32,
     "metadata": {},
     "output_type": "execute_result"
    }
   ],
   "source": [
    "wingman_df.shape"
   ]
  },
  {
   "cell_type": "code",
   "execution_count": 33,
   "metadata": {},
   "outputs": [
    {
     "data": {
      "text/plain": [
       "id                     0\n",
       "eventsoe_no            0\n",
       "power_units            0\n",
       "eng_mfgr               0\n",
       "eng_type               0\n",
       "pc_profession          0\n",
       "crew_sex               0\n",
       "crew_category          0\n",
       "flight_hours_mean      0\n",
       "air_medical            0\n",
       "site_seeing            0\n",
       "dest_apt_id            0\n",
       "dprt_time              0\n",
       "dprt_apt_id            0\n",
       "second_pilot           0\n",
       "type_fly               0\n",
       "certs_held             0\n",
       "afm_hrs                0\n",
       "type_last_insp         0\n",
       "homebuilt              0\n",
       "acft_category          0\n",
       "cert_max_gr_wt         0\n",
       "fixed_retractable      0\n",
       "num_eng                0\n",
       "total_seats            0\n",
       "acft_model             0\n",
       "acft_make              0\n",
       "flt_plan_filed         0\n",
       "far_part               0\n",
       "carb_fuel_injection    0\n",
       "dtype: int64"
      ]
     },
     "execution_count": 33,
     "metadata": {},
     "output_type": "execute_result"
    }
   ],
   "source": [
    "# Count of null values in each column\n",
    "wingman_df.isnull().sum().sort_values(ascending=False)"
   ]
  },
  {
   "attachments": {},
   "cell_type": "markdown",
   "metadata": {},
   "source": [
    "## Export to CSV"
   ]
  },
  {
   "cell_type": "code",
   "execution_count": null,
   "metadata": {},
   "outputs": [],
   "source": [
    "# Write to CSV\n",
    "\n",
    "import os\n",
    " \n",
    "output_directory = r\"/home/aaron/code/AaronDV17/wingman-project/raw_data/trimmed_data\"\n",
    "\n",
    "output_file = os.path.join(output_directory, \"WINGMAN_CLEAN.csv\")\n",
    "\n",
    "pd.DataFrame.to_csv(wingman_df, output_file, index=False)"
   ]
  }
 ],
 "metadata": {
  "kernelspec": {
   "display_name": "Python 3",
   "language": "python",
   "name": "python3"
  },
  "language_info": {
   "codemirror_mode": {
    "name": "ipython",
    "version": 3
   },
   "file_extension": ".py",
   "mimetype": "text/x-python",
   "name": "python",
   "nbconvert_exporter": "python",
   "pygments_lexer": "ipython3",
   "version": "3.10.6"
  },
  "orig_nbformat": 4
 },
 "nbformat": 4,
 "nbformat_minor": 2
}
