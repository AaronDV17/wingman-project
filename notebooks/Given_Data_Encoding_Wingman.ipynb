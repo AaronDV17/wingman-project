{
  "nbformat": 4,
  "nbformat_minor": 0,
  "metadata": {
    "colab": {
      "provenance": [],
      "collapsed_sections": [
        "Na8Zkr9bgPQn",
        "t8BRq00un1l2",
        "0yB1fCyOijzy",
        "G9llRbPvnb_w"
      ]
    },
    "kernelspec": {
      "name": "python3",
      "display_name": "Python 3"
    },
    "language_info": {
      "name": "python"
    }
  },
  "cells": [
    {
      "cell_type": "code",
      "execution_count": 46,
      "metadata": {
        "id": "0w8v2Le-ftul"
      },
      "outputs": [],
      "source": [
        "import pandas as pd\n",
        "from sklearn.preprocessing import OrdinalEncoder, OneHotEncoder"
      ]
    },
    {
      "cell_type": "markdown",
      "source": [
        "### Importing Data & Viewing\n",
        "\n",
        "\n",
        "---\n",
        "\n"
      ],
      "metadata": {
        "id": "Na8Zkr9bgPQn"
      }
    },
    {
      "cell_type": "code",
      "source": [
        "df = pd.read_csv('drive/MyDrive/Colab Notebooks/data/wingman/wingman_data_cleaned.csv')"
      ],
      "metadata": {
        "id": "4l2YkdwngP4g"
      },
      "execution_count": 2,
      "outputs": []
    },
    {
      "cell_type": "code",
      "source": [
        "df"
      ],
      "metadata": {
        "colab": {
          "base_uri": "https://localhost:8080/",
          "height": 592
        },
        "id": "VqdXO95MhIMR",
        "outputId": "fd539e8c-41af-491d-d083-f8b8765b9004"
      },
      "execution_count": 3,
      "outputs": [
        {
          "output_type": "execute_result",
          "data": {
            "text/plain": [
              "                    id  eventsoe_no far_part               acft_make  \\\n",
              "0      20080107X000261          250      091                   PIPER   \n",
              "1      20080107X000262          250      091         Barnard/Stancil   \n",
              "2      20080109X000361          230      091  Micco Aircraft Company   \n",
              "3      20080107X000271           81      091                 Pilatus   \n",
              "4      20080115X000511          240      091                  Cessna   \n",
              "...                ...          ...      ...                     ...   \n",
              "18802  202303131068811          901      091                   BEECH   \n",
              "18803  202303131068821          470      091                 TRENDAK   \n",
              "18804  202303131068841           96      091                   MAULE   \n",
              "18805  202303131068851          191      091                   BEECH   \n",
              "18806  202303241069471           96      091          FIEDLER MARK R   \n",
              "\n",
              "          acft_model fixed_retractable acft_category homebuilt  \\\n",
              "0          PA 28-180              FIXD           AIR         N   \n",
              "1            Glastar              FIXD           AIR         Y   \n",
              "2           MAC-145B              RETR           AIR         N   \n",
              "3           PC-12/45              RETR           AIR         N   \n",
              "4                152              FIXD           AIR         N   \n",
              "...              ...               ...           ...       ...   \n",
              "18802           E-55              RETR           AIR         N   \n",
              "18803         TAURUS              FIXD          GYRO         Y   \n",
              "18804       M-7-235B              FIXD           AIR         N   \n",
              "18805           F33A              RETR           AIR         N   \n",
              "18806  PA-18 REPLICA              FIXD           AIR         Y   \n",
              "\n",
              "       flight_hours_mean crew_category  ...  crew_sex certs_held  dprt_apt_id  \\\n",
              "0             705.000000           PLT  ...         M          Y         O69    \n",
              "1            8300.000000           PLT  ...         M          Y         OQ3    \n",
              "2            1000.000000           PLT  ...         F          Y         T20    \n",
              "3           10571.000000           PLT  ...         M          Y         PHX    \n",
              "4              18.000000          DSTU  ...         M          Y         KFNL   \n",
              "...                  ...           ...  ...       ...        ...          ...   \n",
              "18802       10235.000000           PLT  ...         M          Y         2CO5   \n",
              "18803         550.299988           PLT  ...         M          Y          ATW   \n",
              "18804         632.000000           PLT  ...         M          Y          3L2   \n",
              "18805        1655.000000           PLT  ...         M          Y         NONE   \n",
              "18806       23000.000000           PLT  ...         M          Y         NONE   \n",
              "\n",
              "       dest_apt_id  flt_plan_filed  pc_profession  eng_type  \\\n",
              "0             OQ3             NONE             No       REC   \n",
              "1             O70             NONE             No       REC   \n",
              "2             AXH             NONE             No       REC   \n",
              "3             PWA              IFR            UNK        TP   \n",
              "4             KFNL            NONE             No       REC   \n",
              "...            ...             ...            ...       ...   \n",
              "18802          PVT            NONE             No       REC   \n",
              "18803          LOT             IFR             No       REC   \n",
              "18804         KVGT            NONE            Yes       REC   \n",
              "18805         NONE            NONE            Yes        TS   \n",
              "18806         NONE            NONE             No       REC   \n",
              "\n",
              "      carb_fuel_injection type_fly                eng_mfgr  \n",
              "0                    CARB     PERS        Textron Lycoming  \n",
              "1                    CARB     PERS        Textron Lycoming  \n",
              "2                    FINJ     PERS                Lycoming  \n",
              "3                     UNK     PERS  Pratt & Whitney Canada  \n",
              "4                    CARB     INST                Lycoming  \n",
              "...                   ...      ...                     ...  \n",
              "18802                CARB     PERS                Lycoming  \n",
              "18803                FINJ     PERS             Continental  \n",
              "18804                CARB     PERS                   Titan  \n",
              "18805                 UNK     AAPL                 ALLISON  \n",
              "18806                CARB     INST                Lycoming  \n",
              "\n",
              "[18807 rows x 31 columns]"
            ],
            "text/html": [
              "\n",
              "  <div id=\"df-fd236293-f866-49aa-888a-f3e6a8302989\">\n",
              "    <div class=\"colab-df-container\">\n",
              "      <div>\n",
              "<style scoped>\n",
              "    .dataframe tbody tr th:only-of-type {\n",
              "        vertical-align: middle;\n",
              "    }\n",
              "\n",
              "    .dataframe tbody tr th {\n",
              "        vertical-align: top;\n",
              "    }\n",
              "\n",
              "    .dataframe thead th {\n",
              "        text-align: right;\n",
              "    }\n",
              "</style>\n",
              "<table border=\"1\" class=\"dataframe\">\n",
              "  <thead>\n",
              "    <tr style=\"text-align: right;\">\n",
              "      <th></th>\n",
              "      <th>id</th>\n",
              "      <th>eventsoe_no</th>\n",
              "      <th>far_part</th>\n",
              "      <th>acft_make</th>\n",
              "      <th>acft_model</th>\n",
              "      <th>fixed_retractable</th>\n",
              "      <th>acft_category</th>\n",
              "      <th>homebuilt</th>\n",
              "      <th>flight_hours_mean</th>\n",
              "      <th>crew_category</th>\n",
              "      <th>...</th>\n",
              "      <th>crew_sex</th>\n",
              "      <th>certs_held</th>\n",
              "      <th>dprt_apt_id</th>\n",
              "      <th>dest_apt_id</th>\n",
              "      <th>flt_plan_filed</th>\n",
              "      <th>pc_profession</th>\n",
              "      <th>eng_type</th>\n",
              "      <th>carb_fuel_injection</th>\n",
              "      <th>type_fly</th>\n",
              "      <th>eng_mfgr</th>\n",
              "    </tr>\n",
              "  </thead>\n",
              "  <tbody>\n",
              "    <tr>\n",
              "      <th>0</th>\n",
              "      <td>20080107X000261</td>\n",
              "      <td>250</td>\n",
              "      <td>091</td>\n",
              "      <td>PIPER</td>\n",
              "      <td>PA 28-180</td>\n",
              "      <td>FIXD</td>\n",
              "      <td>AIR</td>\n",
              "      <td>N</td>\n",
              "      <td>705.000000</td>\n",
              "      <td>PLT</td>\n",
              "      <td>...</td>\n",
              "      <td>M</td>\n",
              "      <td>Y</td>\n",
              "      <td>O69</td>\n",
              "      <td>OQ3</td>\n",
              "      <td>NONE</td>\n",
              "      <td>No</td>\n",
              "      <td>REC</td>\n",
              "      <td>CARB</td>\n",
              "      <td>PERS</td>\n",
              "      <td>Textron Lycoming</td>\n",
              "    </tr>\n",
              "    <tr>\n",
              "      <th>1</th>\n",
              "      <td>20080107X000262</td>\n",
              "      <td>250</td>\n",
              "      <td>091</td>\n",
              "      <td>Barnard/Stancil</td>\n",
              "      <td>Glastar</td>\n",
              "      <td>FIXD</td>\n",
              "      <td>AIR</td>\n",
              "      <td>Y</td>\n",
              "      <td>8300.000000</td>\n",
              "      <td>PLT</td>\n",
              "      <td>...</td>\n",
              "      <td>M</td>\n",
              "      <td>Y</td>\n",
              "      <td>OQ3</td>\n",
              "      <td>O70</td>\n",
              "      <td>NONE</td>\n",
              "      <td>No</td>\n",
              "      <td>REC</td>\n",
              "      <td>CARB</td>\n",
              "      <td>PERS</td>\n",
              "      <td>Textron Lycoming</td>\n",
              "    </tr>\n",
              "    <tr>\n",
              "      <th>2</th>\n",
              "      <td>20080109X000361</td>\n",
              "      <td>230</td>\n",
              "      <td>091</td>\n",
              "      <td>Micco Aircraft Company</td>\n",
              "      <td>MAC-145B</td>\n",
              "      <td>RETR</td>\n",
              "      <td>AIR</td>\n",
              "      <td>N</td>\n",
              "      <td>1000.000000</td>\n",
              "      <td>PLT</td>\n",
              "      <td>...</td>\n",
              "      <td>F</td>\n",
              "      <td>Y</td>\n",
              "      <td>T20</td>\n",
              "      <td>AXH</td>\n",
              "      <td>NONE</td>\n",
              "      <td>No</td>\n",
              "      <td>REC</td>\n",
              "      <td>FINJ</td>\n",
              "      <td>PERS</td>\n",
              "      <td>Lycoming</td>\n",
              "    </tr>\n",
              "    <tr>\n",
              "      <th>3</th>\n",
              "      <td>20080107X000271</td>\n",
              "      <td>81</td>\n",
              "      <td>091</td>\n",
              "      <td>Pilatus</td>\n",
              "      <td>PC-12/45</td>\n",
              "      <td>RETR</td>\n",
              "      <td>AIR</td>\n",
              "      <td>N</td>\n",
              "      <td>10571.000000</td>\n",
              "      <td>PLT</td>\n",
              "      <td>...</td>\n",
              "      <td>M</td>\n",
              "      <td>Y</td>\n",
              "      <td>PHX</td>\n",
              "      <td>PWA</td>\n",
              "      <td>IFR</td>\n",
              "      <td>UNK</td>\n",
              "      <td>TP</td>\n",
              "      <td>UNK</td>\n",
              "      <td>PERS</td>\n",
              "      <td>Pratt &amp; Whitney Canada</td>\n",
              "    </tr>\n",
              "    <tr>\n",
              "      <th>4</th>\n",
              "      <td>20080115X000511</td>\n",
              "      <td>240</td>\n",
              "      <td>091</td>\n",
              "      <td>Cessna</td>\n",
              "      <td>152</td>\n",
              "      <td>FIXD</td>\n",
              "      <td>AIR</td>\n",
              "      <td>N</td>\n",
              "      <td>18.000000</td>\n",
              "      <td>DSTU</td>\n",
              "      <td>...</td>\n",
              "      <td>M</td>\n",
              "      <td>Y</td>\n",
              "      <td>KFNL</td>\n",
              "      <td>KFNL</td>\n",
              "      <td>NONE</td>\n",
              "      <td>No</td>\n",
              "      <td>REC</td>\n",
              "      <td>CARB</td>\n",
              "      <td>INST</td>\n",
              "      <td>Lycoming</td>\n",
              "    </tr>\n",
              "    <tr>\n",
              "      <th>...</th>\n",
              "      <td>...</td>\n",
              "      <td>...</td>\n",
              "      <td>...</td>\n",
              "      <td>...</td>\n",
              "      <td>...</td>\n",
              "      <td>...</td>\n",
              "      <td>...</td>\n",
              "      <td>...</td>\n",
              "      <td>...</td>\n",
              "      <td>...</td>\n",
              "      <td>...</td>\n",
              "      <td>...</td>\n",
              "      <td>...</td>\n",
              "      <td>...</td>\n",
              "      <td>...</td>\n",
              "      <td>...</td>\n",
              "      <td>...</td>\n",
              "      <td>...</td>\n",
              "      <td>...</td>\n",
              "      <td>...</td>\n",
              "      <td>...</td>\n",
              "    </tr>\n",
              "    <tr>\n",
              "      <th>18802</th>\n",
              "      <td>202303131068811</td>\n",
              "      <td>901</td>\n",
              "      <td>091</td>\n",
              "      <td>BEECH</td>\n",
              "      <td>E-55</td>\n",
              "      <td>RETR</td>\n",
              "      <td>AIR</td>\n",
              "      <td>N</td>\n",
              "      <td>10235.000000</td>\n",
              "      <td>PLT</td>\n",
              "      <td>...</td>\n",
              "      <td>M</td>\n",
              "      <td>Y</td>\n",
              "      <td>2CO5</td>\n",
              "      <td>PVT</td>\n",
              "      <td>NONE</td>\n",
              "      <td>No</td>\n",
              "      <td>REC</td>\n",
              "      <td>CARB</td>\n",
              "      <td>PERS</td>\n",
              "      <td>Lycoming</td>\n",
              "    </tr>\n",
              "    <tr>\n",
              "      <th>18803</th>\n",
              "      <td>202303131068821</td>\n",
              "      <td>470</td>\n",
              "      <td>091</td>\n",
              "      <td>TRENDAK</td>\n",
              "      <td>TAURUS</td>\n",
              "      <td>FIXD</td>\n",
              "      <td>GYRO</td>\n",
              "      <td>Y</td>\n",
              "      <td>550.299988</td>\n",
              "      <td>PLT</td>\n",
              "      <td>...</td>\n",
              "      <td>M</td>\n",
              "      <td>Y</td>\n",
              "      <td>ATW</td>\n",
              "      <td>LOT</td>\n",
              "      <td>IFR</td>\n",
              "      <td>No</td>\n",
              "      <td>REC</td>\n",
              "      <td>FINJ</td>\n",
              "      <td>PERS</td>\n",
              "      <td>Continental</td>\n",
              "    </tr>\n",
              "    <tr>\n",
              "      <th>18804</th>\n",
              "      <td>202303131068841</td>\n",
              "      <td>96</td>\n",
              "      <td>091</td>\n",
              "      <td>MAULE</td>\n",
              "      <td>M-7-235B</td>\n",
              "      <td>FIXD</td>\n",
              "      <td>AIR</td>\n",
              "      <td>N</td>\n",
              "      <td>632.000000</td>\n",
              "      <td>PLT</td>\n",
              "      <td>...</td>\n",
              "      <td>M</td>\n",
              "      <td>Y</td>\n",
              "      <td>3L2</td>\n",
              "      <td>KVGT</td>\n",
              "      <td>NONE</td>\n",
              "      <td>Yes</td>\n",
              "      <td>REC</td>\n",
              "      <td>CARB</td>\n",
              "      <td>PERS</td>\n",
              "      <td>Titan</td>\n",
              "    </tr>\n",
              "    <tr>\n",
              "      <th>18805</th>\n",
              "      <td>202303131068851</td>\n",
              "      <td>191</td>\n",
              "      <td>091</td>\n",
              "      <td>BEECH</td>\n",
              "      <td>F33A</td>\n",
              "      <td>RETR</td>\n",
              "      <td>AIR</td>\n",
              "      <td>N</td>\n",
              "      <td>1655.000000</td>\n",
              "      <td>PLT</td>\n",
              "      <td>...</td>\n",
              "      <td>M</td>\n",
              "      <td>Y</td>\n",
              "      <td>NONE</td>\n",
              "      <td>NONE</td>\n",
              "      <td>NONE</td>\n",
              "      <td>Yes</td>\n",
              "      <td>TS</td>\n",
              "      <td>UNK</td>\n",
              "      <td>AAPL</td>\n",
              "      <td>ALLISON</td>\n",
              "    </tr>\n",
              "    <tr>\n",
              "      <th>18806</th>\n",
              "      <td>202303241069471</td>\n",
              "      <td>96</td>\n",
              "      <td>091</td>\n",
              "      <td>FIEDLER MARK R</td>\n",
              "      <td>PA-18 REPLICA</td>\n",
              "      <td>FIXD</td>\n",
              "      <td>AIR</td>\n",
              "      <td>Y</td>\n",
              "      <td>23000.000000</td>\n",
              "      <td>PLT</td>\n",
              "      <td>...</td>\n",
              "      <td>M</td>\n",
              "      <td>Y</td>\n",
              "      <td>NONE</td>\n",
              "      <td>NONE</td>\n",
              "      <td>NONE</td>\n",
              "      <td>No</td>\n",
              "      <td>REC</td>\n",
              "      <td>CARB</td>\n",
              "      <td>INST</td>\n",
              "      <td>Lycoming</td>\n",
              "    </tr>\n",
              "  </tbody>\n",
              "</table>\n",
              "<p>18807 rows × 31 columns</p>\n",
              "</div>\n",
              "      <button class=\"colab-df-convert\" onclick=\"convertToInteractive('df-fd236293-f866-49aa-888a-f3e6a8302989')\"\n",
              "              title=\"Convert this dataframe to an interactive table.\"\n",
              "              style=\"display:none;\">\n",
              "        \n",
              "  <svg xmlns=\"http://www.w3.org/2000/svg\" height=\"24px\"viewBox=\"0 0 24 24\"\n",
              "       width=\"24px\">\n",
              "    <path d=\"M0 0h24v24H0V0z\" fill=\"none\"/>\n",
              "    <path d=\"M18.56 5.44l.94 2.06.94-2.06 2.06-.94-2.06-.94-.94-2.06-.94 2.06-2.06.94zm-11 1L8.5 8.5l.94-2.06 2.06-.94-2.06-.94L8.5 2.5l-.94 2.06-2.06.94zm10 10l.94 2.06.94-2.06 2.06-.94-2.06-.94-.94-2.06-.94 2.06-2.06.94z\"/><path d=\"M17.41 7.96l-1.37-1.37c-.4-.4-.92-.59-1.43-.59-.52 0-1.04.2-1.43.59L10.3 9.45l-7.72 7.72c-.78.78-.78 2.05 0 2.83L4 21.41c.39.39.9.59 1.41.59.51 0 1.02-.2 1.41-.59l7.78-7.78 2.81-2.81c.8-.78.8-2.07 0-2.86zM5.41 20L4 18.59l7.72-7.72 1.47 1.35L5.41 20z\"/>\n",
              "  </svg>\n",
              "      </button>\n",
              "      \n",
              "  <style>\n",
              "    .colab-df-container {\n",
              "      display:flex;\n",
              "      flex-wrap:wrap;\n",
              "      gap: 12px;\n",
              "    }\n",
              "\n",
              "    .colab-df-convert {\n",
              "      background-color: #E8F0FE;\n",
              "      border: none;\n",
              "      border-radius: 50%;\n",
              "      cursor: pointer;\n",
              "      display: none;\n",
              "      fill: #1967D2;\n",
              "      height: 32px;\n",
              "      padding: 0 0 0 0;\n",
              "      width: 32px;\n",
              "    }\n",
              "\n",
              "    .colab-df-convert:hover {\n",
              "      background-color: #E2EBFA;\n",
              "      box-shadow: 0px 1px 2px rgba(60, 64, 67, 0.3), 0px 1px 3px 1px rgba(60, 64, 67, 0.15);\n",
              "      fill: #174EA6;\n",
              "    }\n",
              "\n",
              "    [theme=dark] .colab-df-convert {\n",
              "      background-color: #3B4455;\n",
              "      fill: #D2E3FC;\n",
              "    }\n",
              "\n",
              "    [theme=dark] .colab-df-convert:hover {\n",
              "      background-color: #434B5C;\n",
              "      box-shadow: 0px 1px 3px 1px rgba(0, 0, 0, 0.15);\n",
              "      filter: drop-shadow(0px 1px 2px rgba(0, 0, 0, 0.3));\n",
              "      fill: #FFFFFF;\n",
              "    }\n",
              "  </style>\n",
              "\n",
              "      <script>\n",
              "        const buttonEl =\n",
              "          document.querySelector('#df-fd236293-f866-49aa-888a-f3e6a8302989 button.colab-df-convert');\n",
              "        buttonEl.style.display =\n",
              "          google.colab.kernel.accessAllowed ? 'block' : 'none';\n",
              "\n",
              "        async function convertToInteractive(key) {\n",
              "          const element = document.querySelector('#df-fd236293-f866-49aa-888a-f3e6a8302989');\n",
              "          const dataTable =\n",
              "            await google.colab.kernel.invokeFunction('convertToInteractive',\n",
              "                                                     [key], {});\n",
              "          if (!dataTable) return;\n",
              "\n",
              "          const docLinkHtml = 'Like what you see? Visit the ' +\n",
              "            '<a target=\"_blank\" href=https://colab.research.google.com/notebooks/data_table.ipynb>data table notebook</a>'\n",
              "            + ' to learn more about interactive tables.';\n",
              "          element.innerHTML = '';\n",
              "          dataTable['output_type'] = 'display_data';\n",
              "          await google.colab.output.renderOutput(dataTable, element);\n",
              "          const docLink = document.createElement('div');\n",
              "          docLink.innerHTML = docLinkHtml;\n",
              "          element.appendChild(docLink);\n",
              "        }\n",
              "      </script>\n",
              "    </div>\n",
              "  </div>\n",
              "  "
            ]
          },
          "metadata": {},
          "execution_count": 3
        }
      ]
    },
    {
      "cell_type": "code",
      "source": [
        "df = df[['type_last_insp', 'second_pilot','site_seeing', 'air_medical', 'crew_sex']]"
      ],
      "metadata": {
        "id": "2GGZq7hQhKF7"
      },
      "execution_count": 12,
      "outputs": []
    },
    {
      "cell_type": "code",
      "source": [
        "df"
      ],
      "metadata": {
        "colab": {
          "base_uri": "https://localhost:8080/",
          "height": 424
        },
        "id": "YCOUsXtZhob9",
        "outputId": "9ba479cf-1b7f-4098-a8b5-127e547c7dba"
      },
      "execution_count": 13,
      "outputs": [
        {
          "output_type": "execute_result",
          "data": {
            "text/plain": [
              "      type_last_insp second_pilot site_seeing air_medical crew_sex\n",
              "0               ANNL            N           N           N        M\n",
              "1               COAW            N           N           N        M\n",
              "2               ANNL            N           N           N        F\n",
              "3                UNK            N           N           N        M\n",
              "4               ANNL            N           N           N        M\n",
              "...              ...          ...         ...         ...      ...\n",
              "18802           ANNL            N           N           N        M\n",
              "18803           ANNL            N           N           N        M\n",
              "18804           COND            N           N           N        M\n",
              "18805           ANNL            N           N           N        M\n",
              "18806           100H            N           N           N        M\n",
              "\n",
              "[18807 rows x 5 columns]"
            ],
            "text/html": [
              "\n",
              "  <div id=\"df-fad9b149-d33b-4d10-b94d-6e44726c407b\">\n",
              "    <div class=\"colab-df-container\">\n",
              "      <div>\n",
              "<style scoped>\n",
              "    .dataframe tbody tr th:only-of-type {\n",
              "        vertical-align: middle;\n",
              "    }\n",
              "\n",
              "    .dataframe tbody tr th {\n",
              "        vertical-align: top;\n",
              "    }\n",
              "\n",
              "    .dataframe thead th {\n",
              "        text-align: right;\n",
              "    }\n",
              "</style>\n",
              "<table border=\"1\" class=\"dataframe\">\n",
              "  <thead>\n",
              "    <tr style=\"text-align: right;\">\n",
              "      <th></th>\n",
              "      <th>type_last_insp</th>\n",
              "      <th>second_pilot</th>\n",
              "      <th>site_seeing</th>\n",
              "      <th>air_medical</th>\n",
              "      <th>crew_sex</th>\n",
              "    </tr>\n",
              "  </thead>\n",
              "  <tbody>\n",
              "    <tr>\n",
              "      <th>0</th>\n",
              "      <td>ANNL</td>\n",
              "      <td>N</td>\n",
              "      <td>N</td>\n",
              "      <td>N</td>\n",
              "      <td>M</td>\n",
              "    </tr>\n",
              "    <tr>\n",
              "      <th>1</th>\n",
              "      <td>COAW</td>\n",
              "      <td>N</td>\n",
              "      <td>N</td>\n",
              "      <td>N</td>\n",
              "      <td>M</td>\n",
              "    </tr>\n",
              "    <tr>\n",
              "      <th>2</th>\n",
              "      <td>ANNL</td>\n",
              "      <td>N</td>\n",
              "      <td>N</td>\n",
              "      <td>N</td>\n",
              "      <td>F</td>\n",
              "    </tr>\n",
              "    <tr>\n",
              "      <th>3</th>\n",
              "      <td>UNK</td>\n",
              "      <td>N</td>\n",
              "      <td>N</td>\n",
              "      <td>N</td>\n",
              "      <td>M</td>\n",
              "    </tr>\n",
              "    <tr>\n",
              "      <th>4</th>\n",
              "      <td>ANNL</td>\n",
              "      <td>N</td>\n",
              "      <td>N</td>\n",
              "      <td>N</td>\n",
              "      <td>M</td>\n",
              "    </tr>\n",
              "    <tr>\n",
              "      <th>...</th>\n",
              "      <td>...</td>\n",
              "      <td>...</td>\n",
              "      <td>...</td>\n",
              "      <td>...</td>\n",
              "      <td>...</td>\n",
              "    </tr>\n",
              "    <tr>\n",
              "      <th>18802</th>\n",
              "      <td>ANNL</td>\n",
              "      <td>N</td>\n",
              "      <td>N</td>\n",
              "      <td>N</td>\n",
              "      <td>M</td>\n",
              "    </tr>\n",
              "    <tr>\n",
              "      <th>18803</th>\n",
              "      <td>ANNL</td>\n",
              "      <td>N</td>\n",
              "      <td>N</td>\n",
              "      <td>N</td>\n",
              "      <td>M</td>\n",
              "    </tr>\n",
              "    <tr>\n",
              "      <th>18804</th>\n",
              "      <td>COND</td>\n",
              "      <td>N</td>\n",
              "      <td>N</td>\n",
              "      <td>N</td>\n",
              "      <td>M</td>\n",
              "    </tr>\n",
              "    <tr>\n",
              "      <th>18805</th>\n",
              "      <td>ANNL</td>\n",
              "      <td>N</td>\n",
              "      <td>N</td>\n",
              "      <td>N</td>\n",
              "      <td>M</td>\n",
              "    </tr>\n",
              "    <tr>\n",
              "      <th>18806</th>\n",
              "      <td>100H</td>\n",
              "      <td>N</td>\n",
              "      <td>N</td>\n",
              "      <td>N</td>\n",
              "      <td>M</td>\n",
              "    </tr>\n",
              "  </tbody>\n",
              "</table>\n",
              "<p>18807 rows × 5 columns</p>\n",
              "</div>\n",
              "      <button class=\"colab-df-convert\" onclick=\"convertToInteractive('df-fad9b149-d33b-4d10-b94d-6e44726c407b')\"\n",
              "              title=\"Convert this dataframe to an interactive table.\"\n",
              "              style=\"display:none;\">\n",
              "        \n",
              "  <svg xmlns=\"http://www.w3.org/2000/svg\" height=\"24px\"viewBox=\"0 0 24 24\"\n",
              "       width=\"24px\">\n",
              "    <path d=\"M0 0h24v24H0V0z\" fill=\"none\"/>\n",
              "    <path d=\"M18.56 5.44l.94 2.06.94-2.06 2.06-.94-2.06-.94-.94-2.06-.94 2.06-2.06.94zm-11 1L8.5 8.5l.94-2.06 2.06-.94-2.06-.94L8.5 2.5l-.94 2.06-2.06.94zm10 10l.94 2.06.94-2.06 2.06-.94-2.06-.94-.94-2.06-.94 2.06-2.06.94z\"/><path d=\"M17.41 7.96l-1.37-1.37c-.4-.4-.92-.59-1.43-.59-.52 0-1.04.2-1.43.59L10.3 9.45l-7.72 7.72c-.78.78-.78 2.05 0 2.83L4 21.41c.39.39.9.59 1.41.59.51 0 1.02-.2 1.41-.59l7.78-7.78 2.81-2.81c.8-.78.8-2.07 0-2.86zM5.41 20L4 18.59l7.72-7.72 1.47 1.35L5.41 20z\"/>\n",
              "  </svg>\n",
              "      </button>\n",
              "      \n",
              "  <style>\n",
              "    .colab-df-container {\n",
              "      display:flex;\n",
              "      flex-wrap:wrap;\n",
              "      gap: 12px;\n",
              "    }\n",
              "\n",
              "    .colab-df-convert {\n",
              "      background-color: #E8F0FE;\n",
              "      border: none;\n",
              "      border-radius: 50%;\n",
              "      cursor: pointer;\n",
              "      display: none;\n",
              "      fill: #1967D2;\n",
              "      height: 32px;\n",
              "      padding: 0 0 0 0;\n",
              "      width: 32px;\n",
              "    }\n",
              "\n",
              "    .colab-df-convert:hover {\n",
              "      background-color: #E2EBFA;\n",
              "      box-shadow: 0px 1px 2px rgba(60, 64, 67, 0.3), 0px 1px 3px 1px rgba(60, 64, 67, 0.15);\n",
              "      fill: #174EA6;\n",
              "    }\n",
              "\n",
              "    [theme=dark] .colab-df-convert {\n",
              "      background-color: #3B4455;\n",
              "      fill: #D2E3FC;\n",
              "    }\n",
              "\n",
              "    [theme=dark] .colab-df-convert:hover {\n",
              "      background-color: #434B5C;\n",
              "      box-shadow: 0px 1px 3px 1px rgba(0, 0, 0, 0.15);\n",
              "      filter: drop-shadow(0px 1px 2px rgba(0, 0, 0, 0.3));\n",
              "      fill: #FFFFFF;\n",
              "    }\n",
              "  </style>\n",
              "\n",
              "      <script>\n",
              "        const buttonEl =\n",
              "          document.querySelector('#df-fad9b149-d33b-4d10-b94d-6e44726c407b button.colab-df-convert');\n",
              "        buttonEl.style.display =\n",
              "          google.colab.kernel.accessAllowed ? 'block' : 'none';\n",
              "\n",
              "        async function convertToInteractive(key) {\n",
              "          const element = document.querySelector('#df-fad9b149-d33b-4d10-b94d-6e44726c407b');\n",
              "          const dataTable =\n",
              "            await google.colab.kernel.invokeFunction('convertToInteractive',\n",
              "                                                     [key], {});\n",
              "          if (!dataTable) return;\n",
              "\n",
              "          const docLinkHtml = 'Like what you see? Visit the ' +\n",
              "            '<a target=\"_blank\" href=https://colab.research.google.com/notebooks/data_table.ipynb>data table notebook</a>'\n",
              "            + ' to learn more about interactive tables.';\n",
              "          element.innerHTML = '';\n",
              "          dataTable['output_type'] = 'display_data';\n",
              "          await google.colab.output.renderOutput(dataTable, element);\n",
              "          const docLink = document.createElement('div');\n",
              "          docLink.innerHTML = docLinkHtml;\n",
              "          element.appendChild(docLink);\n",
              "        }\n",
              "      </script>\n",
              "    </div>\n",
              "  </div>\n",
              "  "
            ]
          },
          "metadata": {},
          "execution_count": 13
        }
      ]
    },
    {
      "cell_type": "markdown",
      "source": [
        "## Exploring Categories Of Fields"
      ],
      "metadata": {
        "id": "t8BRq00un1l2"
      }
    },
    {
      "cell_type": "code",
      "source": [
        "df['type_last_insp'].value_counts()"
      ],
      "metadata": {
        "colab": {
          "base_uri": "https://localhost:8080/"
        },
        "id": "CH_3FWCfho1x",
        "outputId": "140f04ed-9c15-4aab-83c3-4f3f8ef29e09"
      },
      "execution_count": 15,
      "outputs": [
        {
          "output_type": "execute_result",
          "data": {
            "text/plain": [
              "ANNL    11814\n",
              "100H     2586\n",
              "COND     2039\n",
              "UNK       948\n",
              "COAW      837\n",
              "AAIP      583\n",
              "Name: type_last_insp, dtype: int64"
            ]
          },
          "metadata": {},
          "execution_count": 15
        }
      ]
    },
    {
      "cell_type": "code",
      "source": [],
      "metadata": {
        "id": "dHgT9VvHiKv6"
      },
      "execution_count": 15,
      "outputs": []
    },
    {
      "cell_type": "code",
      "source": [
        "df['second_pilot'].value_counts()"
      ],
      "metadata": {
        "colab": {
          "base_uri": "https://localhost:8080/"
        },
        "id": "g4kS1TyBiLce",
        "outputId": "7c96bf59-482f-4755-e273-0088e3551bdb"
      },
      "execution_count": 24,
      "outputs": [
        {
          "output_type": "execute_result",
          "data": {
            "text/plain": [
              "N    15633\n",
              "Y     3174\n",
              "Name: second_pilot, dtype: int64"
            ]
          },
          "metadata": {},
          "execution_count": 24
        }
      ]
    },
    {
      "cell_type": "code",
      "source": [],
      "metadata": {
        "id": "fsvxfOSYiTcj"
      },
      "execution_count": null,
      "outputs": []
    },
    {
      "cell_type": "code",
      "source": [
        "df['site_seeing'].value_counts()"
      ],
      "metadata": {
        "colab": {
          "base_uri": "https://localhost:8080/"
        },
        "id": "qYGq9rI-iT4D",
        "outputId": "6a05850f-e946-4654-90c3-a1b6ae07c9cb"
      },
      "execution_count": 17,
      "outputs": [
        {
          "output_type": "execute_result",
          "data": {
            "text/plain": [
              "N    18656\n",
              "Y      151\n",
              "Name: site_seeing, dtype: int64"
            ]
          },
          "metadata": {},
          "execution_count": 17
        }
      ]
    },
    {
      "cell_type": "code",
      "source": [],
      "metadata": {
        "id": "Irh5L8WyiU1G"
      },
      "execution_count": null,
      "outputs": []
    },
    {
      "cell_type": "code",
      "source": [
        "df['air_medical'].value_counts()"
      ],
      "metadata": {
        "colab": {
          "base_uri": "https://localhost:8080/"
        },
        "id": "4u1wW1wsiV1o",
        "outputId": "98994999-5539-4618-9595-e640cb3e9a58"
      },
      "execution_count": 18,
      "outputs": [
        {
          "output_type": "execute_result",
          "data": {
            "text/plain": [
              "N    18650\n",
              "Y      157\n",
              "Name: air_medical, dtype: int64"
            ]
          },
          "metadata": {},
          "execution_count": 18
        }
      ]
    },
    {
      "cell_type": "code",
      "source": [
        "df['crew_sex'].value_counts()"
      ],
      "metadata": {
        "colab": {
          "base_uri": "https://localhost:8080/"
        },
        "id": "YipDtnN2ikSq",
        "outputId": "e6d647b7-e1ce-4524-98f8-d39acebf2981"
      },
      "execution_count": 19,
      "outputs": [
        {
          "output_type": "execute_result",
          "data": {
            "text/plain": [
              "M    18243\n",
              "F      564\n",
              "Name: crew_sex, dtype: int64"
            ]
          },
          "metadata": {},
          "execution_count": 19
        }
      ]
    },
    {
      "cell_type": "markdown",
      "source": [
        "## Yes/No Binary Encoding"
      ],
      "metadata": {
        "id": "0yB1fCyOijzy"
      }
    },
    {
      "cell_type": "code",
      "source": [
        "yn_categories = [\"N\", \"Y\"]\n",
        "bin_encoder_1 = OrdinalEncoder(categories=[yn_categories])"
      ],
      "metadata": {
        "id": "vp4rMRBClMuW"
      },
      "execution_count": 43,
      "outputs": []
    },
    {
      "cell_type": "code",
      "source": [
        "bin_encoder_1.fit(df[['second_pilot']])"
      ],
      "metadata": {
        "colab": {
          "base_uri": "https://localhost:8080/",
          "height": 75
        },
        "id": "uGSLJM1clckv",
        "outputId": "f1bed6b2-64b0-41d9-e9c8-8db36844c366"
      },
      "execution_count": 37,
      "outputs": [
        {
          "output_type": "execute_result",
          "data": {
            "text/plain": [
              "OrdinalEncoder(categories=[['N', 'Y']])"
            ],
            "text/html": [
              "<style>#sk-container-id-3 {color: black;background-color: white;}#sk-container-id-3 pre{padding: 0;}#sk-container-id-3 div.sk-toggleable {background-color: white;}#sk-container-id-3 label.sk-toggleable__label {cursor: pointer;display: block;width: 100%;margin-bottom: 0;padding: 0.3em;box-sizing: border-box;text-align: center;}#sk-container-id-3 label.sk-toggleable__label-arrow:before {content: \"▸\";float: left;margin-right: 0.25em;color: #696969;}#sk-container-id-3 label.sk-toggleable__label-arrow:hover:before {color: black;}#sk-container-id-3 div.sk-estimator:hover label.sk-toggleable__label-arrow:before {color: black;}#sk-container-id-3 div.sk-toggleable__content {max-height: 0;max-width: 0;overflow: hidden;text-align: left;background-color: #f0f8ff;}#sk-container-id-3 div.sk-toggleable__content pre {margin: 0.2em;color: black;border-radius: 0.25em;background-color: #f0f8ff;}#sk-container-id-3 input.sk-toggleable__control:checked~div.sk-toggleable__content {max-height: 200px;max-width: 100%;overflow: auto;}#sk-container-id-3 input.sk-toggleable__control:checked~label.sk-toggleable__label-arrow:before {content: \"▾\";}#sk-container-id-3 div.sk-estimator input.sk-toggleable__control:checked~label.sk-toggleable__label {background-color: #d4ebff;}#sk-container-id-3 div.sk-label input.sk-toggleable__control:checked~label.sk-toggleable__label {background-color: #d4ebff;}#sk-container-id-3 input.sk-hidden--visually {border: 0;clip: rect(1px 1px 1px 1px);clip: rect(1px, 1px, 1px, 1px);height: 1px;margin: -1px;overflow: hidden;padding: 0;position: absolute;width: 1px;}#sk-container-id-3 div.sk-estimator {font-family: monospace;background-color: #f0f8ff;border: 1px dotted black;border-radius: 0.25em;box-sizing: border-box;margin-bottom: 0.5em;}#sk-container-id-3 div.sk-estimator:hover {background-color: #d4ebff;}#sk-container-id-3 div.sk-parallel-item::after {content: \"\";width: 100%;border-bottom: 1px solid gray;flex-grow: 1;}#sk-container-id-3 div.sk-label:hover label.sk-toggleable__label {background-color: #d4ebff;}#sk-container-id-3 div.sk-serial::before {content: \"\";position: absolute;border-left: 1px solid gray;box-sizing: border-box;top: 0;bottom: 0;left: 50%;z-index: 0;}#sk-container-id-3 div.sk-serial {display: flex;flex-direction: column;align-items: center;background-color: white;padding-right: 0.2em;padding-left: 0.2em;position: relative;}#sk-container-id-3 div.sk-item {position: relative;z-index: 1;}#sk-container-id-3 div.sk-parallel {display: flex;align-items: stretch;justify-content: center;background-color: white;position: relative;}#sk-container-id-3 div.sk-item::before, #sk-container-id-3 div.sk-parallel-item::before {content: \"\";position: absolute;border-left: 1px solid gray;box-sizing: border-box;top: 0;bottom: 0;left: 50%;z-index: -1;}#sk-container-id-3 div.sk-parallel-item {display: flex;flex-direction: column;z-index: 1;position: relative;background-color: white;}#sk-container-id-3 div.sk-parallel-item:first-child::after {align-self: flex-end;width: 50%;}#sk-container-id-3 div.sk-parallel-item:last-child::after {align-self: flex-start;width: 50%;}#sk-container-id-3 div.sk-parallel-item:only-child::after {width: 0;}#sk-container-id-3 div.sk-dashed-wrapped {border: 1px dashed gray;margin: 0 0.4em 0.5em 0.4em;box-sizing: border-box;padding-bottom: 0.4em;background-color: white;}#sk-container-id-3 div.sk-label label {font-family: monospace;font-weight: bold;display: inline-block;line-height: 1.2em;}#sk-container-id-3 div.sk-label-container {text-align: center;}#sk-container-id-3 div.sk-container {/* jupyter's `normalize.less` sets `[hidden] { display: none; }` but bootstrap.min.css set `[hidden] { display: none !important; }` so we also need the `!important` here to be able to override the default hidden behavior on the sphinx rendered scikit-learn.org. See: https://github.com/scikit-learn/scikit-learn/issues/21755 */display: inline-block !important;position: relative;}#sk-container-id-3 div.sk-text-repr-fallback {display: none;}</style><div id=\"sk-container-id-3\" class=\"sk-top-container\"><div class=\"sk-text-repr-fallback\"><pre>OrdinalEncoder(categories=[[&#x27;N&#x27;, &#x27;Y&#x27;]])</pre><b>In a Jupyter environment, please rerun this cell to show the HTML representation or trust the notebook. <br />On GitHub, the HTML representation is unable to render, please try loading this page with nbviewer.org.</b></div><div class=\"sk-container\" hidden><div class=\"sk-item\"><div class=\"sk-estimator sk-toggleable\"><input class=\"sk-toggleable__control sk-hidden--visually\" id=\"sk-estimator-id-3\" type=\"checkbox\" checked><label for=\"sk-estimator-id-3\" class=\"sk-toggleable__label sk-toggleable__label-arrow\">OrdinalEncoder</label><div class=\"sk-toggleable__content\"><pre>OrdinalEncoder(categories=[[&#x27;N&#x27;, &#x27;Y&#x27;]])</pre></div></div></div></div></div>"
            ]
          },
          "metadata": {},
          "execution_count": 37
        }
      ]
    },
    {
      "cell_type": "code",
      "source": [
        "bin_encoder_1.transform(df[['second_pilot']])"
      ],
      "metadata": {
        "colab": {
          "base_uri": "https://localhost:8080/"
        },
        "id": "zXehJUKhllMv",
        "outputId": "c85c1868-7a94-4b5e-d4ee-3cd294ffc8ab"
      },
      "execution_count": 39,
      "outputs": [
        {
          "output_type": "execute_result",
          "data": {
            "text/plain": [
              "array([[0.],\n",
              "       [0.],\n",
              "       [0.],\n",
              "       ...,\n",
              "       [0.],\n",
              "       [0.],\n",
              "       [0.]])"
            ]
          },
          "metadata": {},
          "execution_count": 39
        }
      ]
    },
    {
      "cell_type": "code",
      "source": [
        "df[['second_pilot']].to_numpy()"
      ],
      "metadata": {
        "colab": {
          "base_uri": "https://localhost:8080/"
        },
        "id": "2sSfSFSZmINA",
        "outputId": "37996a24-fca1-4a92-e5b8-1c66d5c575ad"
      },
      "execution_count": 41,
      "outputs": [
        {
          "output_type": "execute_result",
          "data": {
            "text/plain": [
              "array([['N'],\n",
              "       ['N'],\n",
              "       ['N'],\n",
              "       ...,\n",
              "       ['N'],\n",
              "       ['N'],\n",
              "       ['N']], dtype=object)"
            ]
          },
          "metadata": {},
          "execution_count": 41
        }
      ]
    },
    {
      "cell_type": "code",
      "source": [],
      "metadata": {
        "id": "PAUXIj2enbsj"
      },
      "execution_count": null,
      "outputs": []
    },
    {
      "cell_type": "markdown",
      "source": [
        "## Gender Binary Encoding"
      ],
      "metadata": {
        "id": "G9llRbPvnb_w"
      }
    },
    {
      "cell_type": "code",
      "source": [
        "mf_categories = [\"M\", \"F\"]\n",
        "bin_encoder_2 = OrdinalEncoder(categories=[mf_categories])"
      ],
      "metadata": {
        "id": "7drs6VTxmbhd"
      },
      "execution_count": 44,
      "outputs": []
    },
    {
      "cell_type": "code",
      "source": [
        "bin_encoder_2.fit(df[['crew_sex']])"
      ],
      "metadata": {
        "colab": {
          "base_uri": "https://localhost:8080/",
          "height": 75
        },
        "id": "QrlLkRATmwvx",
        "outputId": "09b8de2b-59e9-4734-cc3a-ffb74de8c6ff"
      },
      "execution_count": 38,
      "outputs": [
        {
          "output_type": "execute_result",
          "data": {
            "text/plain": [
              "OrdinalEncoder(categories=[['M', 'F']])"
            ],
            "text/html": [
              "<style>#sk-container-id-4 {color: black;background-color: white;}#sk-container-id-4 pre{padding: 0;}#sk-container-id-4 div.sk-toggleable {background-color: white;}#sk-container-id-4 label.sk-toggleable__label {cursor: pointer;display: block;width: 100%;margin-bottom: 0;padding: 0.3em;box-sizing: border-box;text-align: center;}#sk-container-id-4 label.sk-toggleable__label-arrow:before {content: \"▸\";float: left;margin-right: 0.25em;color: #696969;}#sk-container-id-4 label.sk-toggleable__label-arrow:hover:before {color: black;}#sk-container-id-4 div.sk-estimator:hover label.sk-toggleable__label-arrow:before {color: black;}#sk-container-id-4 div.sk-toggleable__content {max-height: 0;max-width: 0;overflow: hidden;text-align: left;background-color: #f0f8ff;}#sk-container-id-4 div.sk-toggleable__content pre {margin: 0.2em;color: black;border-radius: 0.25em;background-color: #f0f8ff;}#sk-container-id-4 input.sk-toggleable__control:checked~div.sk-toggleable__content {max-height: 200px;max-width: 100%;overflow: auto;}#sk-container-id-4 input.sk-toggleable__control:checked~label.sk-toggleable__label-arrow:before {content: \"▾\";}#sk-container-id-4 div.sk-estimator input.sk-toggleable__control:checked~label.sk-toggleable__label {background-color: #d4ebff;}#sk-container-id-4 div.sk-label input.sk-toggleable__control:checked~label.sk-toggleable__label {background-color: #d4ebff;}#sk-container-id-4 input.sk-hidden--visually {border: 0;clip: rect(1px 1px 1px 1px);clip: rect(1px, 1px, 1px, 1px);height: 1px;margin: -1px;overflow: hidden;padding: 0;position: absolute;width: 1px;}#sk-container-id-4 div.sk-estimator {font-family: monospace;background-color: #f0f8ff;border: 1px dotted black;border-radius: 0.25em;box-sizing: border-box;margin-bottom: 0.5em;}#sk-container-id-4 div.sk-estimator:hover {background-color: #d4ebff;}#sk-container-id-4 div.sk-parallel-item::after {content: \"\";width: 100%;border-bottom: 1px solid gray;flex-grow: 1;}#sk-container-id-4 div.sk-label:hover label.sk-toggleable__label {background-color: #d4ebff;}#sk-container-id-4 div.sk-serial::before {content: \"\";position: absolute;border-left: 1px solid gray;box-sizing: border-box;top: 0;bottom: 0;left: 50%;z-index: 0;}#sk-container-id-4 div.sk-serial {display: flex;flex-direction: column;align-items: center;background-color: white;padding-right: 0.2em;padding-left: 0.2em;position: relative;}#sk-container-id-4 div.sk-item {position: relative;z-index: 1;}#sk-container-id-4 div.sk-parallel {display: flex;align-items: stretch;justify-content: center;background-color: white;position: relative;}#sk-container-id-4 div.sk-item::before, #sk-container-id-4 div.sk-parallel-item::before {content: \"\";position: absolute;border-left: 1px solid gray;box-sizing: border-box;top: 0;bottom: 0;left: 50%;z-index: -1;}#sk-container-id-4 div.sk-parallel-item {display: flex;flex-direction: column;z-index: 1;position: relative;background-color: white;}#sk-container-id-4 div.sk-parallel-item:first-child::after {align-self: flex-end;width: 50%;}#sk-container-id-4 div.sk-parallel-item:last-child::after {align-self: flex-start;width: 50%;}#sk-container-id-4 div.sk-parallel-item:only-child::after {width: 0;}#sk-container-id-4 div.sk-dashed-wrapped {border: 1px dashed gray;margin: 0 0.4em 0.5em 0.4em;box-sizing: border-box;padding-bottom: 0.4em;background-color: white;}#sk-container-id-4 div.sk-label label {font-family: monospace;font-weight: bold;display: inline-block;line-height: 1.2em;}#sk-container-id-4 div.sk-label-container {text-align: center;}#sk-container-id-4 div.sk-container {/* jupyter's `normalize.less` sets `[hidden] { display: none; }` but bootstrap.min.css set `[hidden] { display: none !important; }` so we also need the `!important` here to be able to override the default hidden behavior on the sphinx rendered scikit-learn.org. See: https://github.com/scikit-learn/scikit-learn/issues/21755 */display: inline-block !important;position: relative;}#sk-container-id-4 div.sk-text-repr-fallback {display: none;}</style><div id=\"sk-container-id-4\" class=\"sk-top-container\"><div class=\"sk-text-repr-fallback\"><pre>OrdinalEncoder(categories=[[&#x27;M&#x27;, &#x27;F&#x27;]])</pre><b>In a Jupyter environment, please rerun this cell to show the HTML representation or trust the notebook. <br />On GitHub, the HTML representation is unable to render, please try loading this page with nbviewer.org.</b></div><div class=\"sk-container\" hidden><div class=\"sk-item\"><div class=\"sk-estimator sk-toggleable\"><input class=\"sk-toggleable__control sk-hidden--visually\" id=\"sk-estimator-id-4\" type=\"checkbox\" checked><label for=\"sk-estimator-id-4\" class=\"sk-toggleable__label sk-toggleable__label-arrow\">OrdinalEncoder</label><div class=\"sk-toggleable__content\"><pre>OrdinalEncoder(categories=[[&#x27;M&#x27;, &#x27;F&#x27;]])</pre></div></div></div></div></div>"
            ]
          },
          "metadata": {},
          "execution_count": 38
        }
      ]
    },
    {
      "cell_type": "code",
      "source": [
        "bin_encoder_2.transform(df[['crew_sex']])"
      ],
      "metadata": {
        "colab": {
          "base_uri": "https://localhost:8080/"
        },
        "id": "5oiAA2fgm6EJ",
        "outputId": "a59960d7-9a29-4591-b690-eff35a9d0371"
      },
      "execution_count": 40,
      "outputs": [
        {
          "output_type": "execute_result",
          "data": {
            "text/plain": [
              "array([[0.],\n",
              "       [0.],\n",
              "       [1.],\n",
              "       ...,\n",
              "       [0.],\n",
              "       [0.],\n",
              "       [0.]])"
            ]
          },
          "metadata": {},
          "execution_count": 40
        }
      ]
    },
    {
      "cell_type": "code",
      "source": [
        "df[['crew_sex']].to_numpy()"
      ],
      "metadata": {
        "colab": {
          "base_uri": "https://localhost:8080/"
        },
        "id": "eckraBkxm9LI",
        "outputId": "8cc4f62d-c8c9-4fc1-a959-a9df2bc36a46"
      },
      "execution_count": 42,
      "outputs": [
        {
          "output_type": "execute_result",
          "data": {
            "text/plain": [
              "array([['M'],\n",
              "       ['M'],\n",
              "       ['F'],\n",
              "       ...,\n",
              "       ['M'],\n",
              "       ['M'],\n",
              "       ['M']], dtype=object)"
            ]
          },
          "metadata": {},
          "execution_count": 42
        }
      ]
    },
    {
      "cell_type": "markdown",
      "source": [
        "## One Hot Encoding"
      ],
      "metadata": {
        "id": "IQwvEOEzoo3f"
      }
    },
    {
      "cell_type": "code",
      "source": [
        "ohe = OneHotEncoder(sparse=False, drop='if_binary')\n",
        "ohe.fit(df[['type_last_insp']])"
      ],
      "metadata": {
        "colab": {
          "base_uri": "https://localhost:8080/",
          "height": 129
        },
        "id": "pQoMpIZJpwtT",
        "outputId": "3697d7f5-8cbc-4902-d93a-d0da77bf5933"
      },
      "execution_count": 55,
      "outputs": [
        {
          "output_type": "stream",
          "name": "stderr",
          "text": [
            "/usr/local/lib/python3.10/dist-packages/sklearn/preprocessing/_encoders.py:868: FutureWarning: `sparse` was renamed to `sparse_output` in version 1.2 and will be removed in 1.4. `sparse_output` is ignored unless you leave `sparse` to its default value.\n",
            "  warnings.warn(\n"
          ]
        },
        {
          "output_type": "execute_result",
          "data": {
            "text/plain": [
              "OneHotEncoder(drop='if_binary', sparse=False, sparse_output=False)"
            ],
            "text/html": [
              "<style>#sk-container-id-6 {color: black;background-color: white;}#sk-container-id-6 pre{padding: 0;}#sk-container-id-6 div.sk-toggleable {background-color: white;}#sk-container-id-6 label.sk-toggleable__label {cursor: pointer;display: block;width: 100%;margin-bottom: 0;padding: 0.3em;box-sizing: border-box;text-align: center;}#sk-container-id-6 label.sk-toggleable__label-arrow:before {content: \"▸\";float: left;margin-right: 0.25em;color: #696969;}#sk-container-id-6 label.sk-toggleable__label-arrow:hover:before {color: black;}#sk-container-id-6 div.sk-estimator:hover label.sk-toggleable__label-arrow:before {color: black;}#sk-container-id-6 div.sk-toggleable__content {max-height: 0;max-width: 0;overflow: hidden;text-align: left;background-color: #f0f8ff;}#sk-container-id-6 div.sk-toggleable__content pre {margin: 0.2em;color: black;border-radius: 0.25em;background-color: #f0f8ff;}#sk-container-id-6 input.sk-toggleable__control:checked~div.sk-toggleable__content {max-height: 200px;max-width: 100%;overflow: auto;}#sk-container-id-6 input.sk-toggleable__control:checked~label.sk-toggleable__label-arrow:before {content: \"▾\";}#sk-container-id-6 div.sk-estimator input.sk-toggleable__control:checked~label.sk-toggleable__label {background-color: #d4ebff;}#sk-container-id-6 div.sk-label input.sk-toggleable__control:checked~label.sk-toggleable__label {background-color: #d4ebff;}#sk-container-id-6 input.sk-hidden--visually {border: 0;clip: rect(1px 1px 1px 1px);clip: rect(1px, 1px, 1px, 1px);height: 1px;margin: -1px;overflow: hidden;padding: 0;position: absolute;width: 1px;}#sk-container-id-6 div.sk-estimator {font-family: monospace;background-color: #f0f8ff;border: 1px dotted black;border-radius: 0.25em;box-sizing: border-box;margin-bottom: 0.5em;}#sk-container-id-6 div.sk-estimator:hover {background-color: #d4ebff;}#sk-container-id-6 div.sk-parallel-item::after {content: \"\";width: 100%;border-bottom: 1px solid gray;flex-grow: 1;}#sk-container-id-6 div.sk-label:hover label.sk-toggleable__label {background-color: #d4ebff;}#sk-container-id-6 div.sk-serial::before {content: \"\";position: absolute;border-left: 1px solid gray;box-sizing: border-box;top: 0;bottom: 0;left: 50%;z-index: 0;}#sk-container-id-6 div.sk-serial {display: flex;flex-direction: column;align-items: center;background-color: white;padding-right: 0.2em;padding-left: 0.2em;position: relative;}#sk-container-id-6 div.sk-item {position: relative;z-index: 1;}#sk-container-id-6 div.sk-parallel {display: flex;align-items: stretch;justify-content: center;background-color: white;position: relative;}#sk-container-id-6 div.sk-item::before, #sk-container-id-6 div.sk-parallel-item::before {content: \"\";position: absolute;border-left: 1px solid gray;box-sizing: border-box;top: 0;bottom: 0;left: 50%;z-index: -1;}#sk-container-id-6 div.sk-parallel-item {display: flex;flex-direction: column;z-index: 1;position: relative;background-color: white;}#sk-container-id-6 div.sk-parallel-item:first-child::after {align-self: flex-end;width: 50%;}#sk-container-id-6 div.sk-parallel-item:last-child::after {align-self: flex-start;width: 50%;}#sk-container-id-6 div.sk-parallel-item:only-child::after {width: 0;}#sk-container-id-6 div.sk-dashed-wrapped {border: 1px dashed gray;margin: 0 0.4em 0.5em 0.4em;box-sizing: border-box;padding-bottom: 0.4em;background-color: white;}#sk-container-id-6 div.sk-label label {font-family: monospace;font-weight: bold;display: inline-block;line-height: 1.2em;}#sk-container-id-6 div.sk-label-container {text-align: center;}#sk-container-id-6 div.sk-container {/* jupyter's `normalize.less` sets `[hidden] { display: none; }` but bootstrap.min.css set `[hidden] { display: none !important; }` so we also need the `!important` here to be able to override the default hidden behavior on the sphinx rendered scikit-learn.org. See: https://github.com/scikit-learn/scikit-learn/issues/21755 */display: inline-block !important;position: relative;}#sk-container-id-6 div.sk-text-repr-fallback {display: none;}</style><div id=\"sk-container-id-6\" class=\"sk-top-container\"><div class=\"sk-text-repr-fallback\"><pre>OneHotEncoder(drop=&#x27;if_binary&#x27;, sparse=False, sparse_output=False)</pre><b>In a Jupyter environment, please rerun this cell to show the HTML representation or trust the notebook. <br />On GitHub, the HTML representation is unable to render, please try loading this page with nbviewer.org.</b></div><div class=\"sk-container\" hidden><div class=\"sk-item\"><div class=\"sk-estimator sk-toggleable\"><input class=\"sk-toggleable__control sk-hidden--visually\" id=\"sk-estimator-id-6\" type=\"checkbox\" checked><label for=\"sk-estimator-id-6\" class=\"sk-toggleable__label sk-toggleable__label-arrow\">OneHotEncoder</label><div class=\"sk-toggleable__content\"><pre>OneHotEncoder(drop=&#x27;if_binary&#x27;, sparse=False, sparse_output=False)</pre></div></div></div></div></div>"
            ]
          },
          "metadata": {},
          "execution_count": 55
        }
      ]
    },
    {
      "cell_type": "code",
      "source": [
        "ohe.transform(df[['type_last_insp']])"
      ],
      "metadata": {
        "colab": {
          "base_uri": "https://localhost:8080/"
        },
        "id": "hwCBTQEPqwic",
        "outputId": "2eea03fa-8f75-43ef-8232-b80ef2a80a2f"
      },
      "execution_count": 48,
      "outputs": [
        {
          "output_type": "execute_result",
          "data": {
            "text/plain": [
              "array([[0., 0., 1., 0., 0., 0.],\n",
              "       [0., 0., 0., 1., 0., 0.],\n",
              "       [0., 0., 1., 0., 0., 0.],\n",
              "       ...,\n",
              "       [0., 0., 0., 0., 1., 0.],\n",
              "       [0., 0., 1., 0., 0., 0.],\n",
              "       [1., 0., 0., 0., 0., 0.]])"
            ]
          },
          "metadata": {},
          "execution_count": 48
        }
      ]
    },
    {
      "cell_type": "code",
      "source": [
        "ohe.get_feature_names_out()"
      ],
      "metadata": {
        "colab": {
          "base_uri": "https://localhost:8080/"
        },
        "id": "RN8C19Y4q4QC",
        "outputId": "deb6d428-3186-4d7b-a8ad-9412171750e0"
      },
      "execution_count": 49,
      "outputs": [
        {
          "output_type": "execute_result",
          "data": {
            "text/plain": [
              "array(['type_last_insp_100H', 'type_last_insp_AAIP',\n",
              "       'type_last_insp_ANNL', 'type_last_insp_COAW',\n",
              "       'type_last_insp_COND', 'type_last_insp_UNK'], dtype=object)"
            ]
          },
          "metadata": {},
          "execution_count": 49
        }
      ]
    },
    {
      "cell_type": "markdown",
      "source": [
        "## Final preproc code"
      ],
      "metadata": {
        "id": "ug72EJqdoYP2"
      }
    },
    {
      "cell_type": "code",
      "source": [
        "df.columns"
      ],
      "metadata": {
        "colab": {
          "base_uri": "https://localhost:8080/"
        },
        "id": "iwivJL0hqvWL",
        "outputId": "0ab81afd-4ffe-479f-80a8-aa2265d9ebf5"
      },
      "execution_count": 50,
      "outputs": [
        {
          "output_type": "execute_result",
          "data": {
            "text/plain": [
              "Index(['type_last_insp', 'second_pilot', 'site_seeing', 'air_medical',\n",
              "       'crew_sex'],\n",
              "      dtype='object')"
            ]
          },
          "metadata": {},
          "execution_count": 50
        }
      ]
    },
    {
      "cell_type": "code",
      "source": [
        "# yes/no ordinal encoding\n",
        "\n",
        "yn_categories = [\"N\", \"Y\"]\n",
        "bin_encoder_1 = OrdinalEncoder(categories=[yn_categories])\n",
        "\n",
        "bin_encoder_1.fit(df[['second_pilot']])\n",
        "\n",
        "# transforming yes/no fields\n",
        "df['second_pilot'] = bin_encoder_1.transform(df[['second_pilot']])\n",
        "df['site_seeing'] = bin_encoder_1.transform(df[['site_seeing']])\n",
        "df['air_medical'] = bin_encoder_1.transform(df[['air_medical']])\n",
        "\n",
        "# gender ordinal encoding\n",
        "\n",
        "mf_categories = [\"M\", \"F\"]\n",
        "bin_encoder_2 = OrdinalEncoder(categories=[mf_categories])\n",
        "\n",
        "bin_encoder_2.fit(df[['crew_sex']])\n",
        "\n",
        "# transforming gender fields\n",
        "df['crew_sex'] = bin_encoder_2.transform(df[['crew_sex']])\n",
        "\n",
        "# one hot encoding\n",
        "ohe = OneHotEncoder(sparse=False, drop='if_binary')\n",
        "ohe.fit(df[['type_last_insp']])\n",
        "\n",
        "df[ohe.get_feature_names_out()] = ohe.transform(df[['type_last_insp']])"
      ],
      "metadata": {
        "id": "mvhznJ8fogQU"
      },
      "execution_count": null,
      "outputs": []
    }
  ]
}