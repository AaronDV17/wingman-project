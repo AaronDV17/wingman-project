{
 "cells": [
  {
   "attachments": {},
   "cell_type": "markdown",
   "metadata": {},
   "source": [
    "## Imports"
   ]
  },
  {
   "cell_type": "code",
   "execution_count": 1,
   "metadata": {},
   "outputs": [],
   "source": [
    "# IMPORTS\n",
    "import pandas as pd\n",
    "import numpy as np\n",
    "\n",
    "import seaborn as sns\n",
    "import matplotlib.pyplot as plt"
   ]
  },
  {
   "attachments": {},
   "cell_type": "markdown",
   "metadata": {},
   "source": [
    "## Load Data"
   ]
  },
  {
   "cell_type": "code",
   "execution_count": 2,
   "metadata": {},
   "outputs": [
    {
     "name": "stderr",
     "output_type": "stream",
     "text": [
      "/tmp/ipykernel_17382/1129666278.py:2: DtypeWarning: Columns (0,59) have mixed types. Specify dtype option on import or set low_memory=False.\n",
      "  aircraft_df = pd.read_csv('../raw_data/csv/aircraft.csv')\n",
      "/tmp/ipykernel_17382/1129666278.py:5: DtypeWarning: Columns (0,31,51) have mixed types. Specify dtype option on import or set low_memory=False.\n",
      "  events_df = pd.read_csv('../raw_data/csv/events.csv')\n"
     ]
    }
   ],
   "source": [
    "# Essential\n",
    "aircraft_df = pd.read_csv('../raw_data/csv/aircraft.csv')\n",
    "engines_df = pd.read_csv('../raw_data/csv/engines.csv')\n",
    "Events_Sequence_df = pd.read_csv('../raw_data/csv/Events_Sequence.csv')\n",
    "events_df = pd.read_csv('../raw_data/csv/events.csv')\n",
    "Flight_Crew_df = pd.read_csv('../raw_data/csv/Flight_Crew.csv')\n",
    "flight_time_df = pd.read_csv('../raw_data/csv/flight_time.csv')\n",
    "\n",
    "# Optional - Nice to have, but not essential\n",
    "Findings_df = pd.read_csv('../raw_data/csv/Findings.csv')\n",
    "injury_df = pd.read_csv('../raw_data/csv/injury.csv')\n",
    "\n",
    "# Optional - Only if there is extra time\n",
    "dt_aircraft_df = pd.read_csv('../raw_data/csv/dt_aircraft.csv')\n",
    "dt_events_df = pd.read_csv('../raw_data/csv/dt_events.csv')\n",
    "dt_Flight_Crew_df = pd.read_csv('../raw_data/csv/dt_Flight_Crew.csv')"
   ]
  },
  {
   "attachments": {},
   "cell_type": "markdown",
   "metadata": {},
   "source": [
    "## Dataset Preparation"
   ]
  },
  {
   "attachments": {},
   "cell_type": "markdown",
   "metadata": {},
   "source": [
    "### 1. aircraft"
   ]
  },
  {
   "attachments": {},
   "cell_type": "markdown",
   "metadata": {},
   "source": [
    "##### Info"
   ]
  },
  {
   "cell_type": "code",
   "execution_count": 3,
   "metadata": {},
   "outputs": [
    {
     "data": {
      "text/plain": [
       "(26064, 93)"
      ]
     },
     "execution_count": 3,
     "metadata": {},
     "output_type": "execute_result"
    }
   ],
   "source": [
    "aircraft_df.shape"
   ]
  },
  {
   "cell_type": "code",
   "execution_count": 4,
   "metadata": {},
   "outputs": [
    {
     "data": {
      "text/html": [
       "<div>\n",
       "<style scoped>\n",
       "    .dataframe tbody tr th:only-of-type {\n",
       "        vertical-align: middle;\n",
       "    }\n",
       "\n",
       "    .dataframe tbody tr th {\n",
       "        vertical-align: top;\n",
       "    }\n",
       "\n",
       "    .dataframe thead th {\n",
       "        text-align: right;\n",
       "    }\n",
       "</style>\n",
       "<table border=\"1\" class=\"dataframe\">\n",
       "  <thead>\n",
       "    <tr style=\"text-align: right;\">\n",
       "      <th></th>\n",
       "      <th>ev_id</th>\n",
       "      <th>Aircraft_Key</th>\n",
       "      <th>regis_no</th>\n",
       "      <th>ntsb_no</th>\n",
       "      <th>acft_missing</th>\n",
       "      <th>far_part</th>\n",
       "      <th>flt_plan_filed</th>\n",
       "      <th>flight_plan_activated</th>\n",
       "      <th>damage</th>\n",
       "      <th>acft_fire</th>\n",
       "      <th>...</th>\n",
       "      <th>acft_year</th>\n",
       "      <th>fuel_on_board</th>\n",
       "      <th>commercial_space_flight</th>\n",
       "      <th>unmanned</th>\n",
       "      <th>ifr_equipped_cert</th>\n",
       "      <th>elt_mounted_aircraft</th>\n",
       "      <th>elt_connected_antenna</th>\n",
       "      <th>elt_manufacturer</th>\n",
       "      <th>elt_model</th>\n",
       "      <th>elt_reason_other</th>\n",
       "    </tr>\n",
       "  </thead>\n",
       "  <tbody>\n",
       "    <tr>\n",
       "      <th>0</th>\n",
       "      <td>20080211X00175</td>\n",
       "      <td>1</td>\n",
       "      <td>N530NA</td>\n",
       "      <td>DFW08RA039</td>\n",
       "      <td>N</td>\n",
       "      <td>NUSN</td>\n",
       "      <td>NaN</td>\n",
       "      <td>NaN</td>\n",
       "      <td>SUBS</td>\n",
       "      <td>NaN</td>\n",
       "      <td>...</td>\n",
       "      <td>NaN</td>\n",
       "      <td>NaN</td>\n",
       "      <td>False</td>\n",
       "      <td>False</td>\n",
       "      <td>False</td>\n",
       "      <td>False</td>\n",
       "      <td>False</td>\n",
       "      <td>NaN</td>\n",
       "      <td>NaN</td>\n",
       "      <td>NaN</td>\n",
       "    </tr>\n",
       "    <tr>\n",
       "      <th>1</th>\n",
       "      <td>20080107X00026</td>\n",
       "      <td>1</td>\n",
       "      <td>N8037W</td>\n",
       "      <td>SEA08LA057A</td>\n",
       "      <td>N</td>\n",
       "      <td>091</td>\n",
       "      <td>NONE</td>\n",
       "      <td>NaN</td>\n",
       "      <td>MINR</td>\n",
       "      <td>NONE</td>\n",
       "      <td>...</td>\n",
       "      <td>NaN</td>\n",
       "      <td>NaN</td>\n",
       "      <td>False</td>\n",
       "      <td>False</td>\n",
       "      <td>False</td>\n",
       "      <td>False</td>\n",
       "      <td>False</td>\n",
       "      <td>NaN</td>\n",
       "      <td>NaN</td>\n",
       "      <td>NaN</td>\n",
       "    </tr>\n",
       "    <tr>\n",
       "      <th>2</th>\n",
       "      <td>20080107X00026</td>\n",
       "      <td>2</td>\n",
       "      <td>N15EX</td>\n",
       "      <td>SEA08LA057B</td>\n",
       "      <td>N</td>\n",
       "      <td>091</td>\n",
       "      <td>NONE</td>\n",
       "      <td>NaN</td>\n",
       "      <td>SUBS</td>\n",
       "      <td>NONE</td>\n",
       "      <td>...</td>\n",
       "      <td>NaN</td>\n",
       "      <td>NaN</td>\n",
       "      <td>False</td>\n",
       "      <td>False</td>\n",
       "      <td>False</td>\n",
       "      <td>False</td>\n",
       "      <td>False</td>\n",
       "      <td>NaN</td>\n",
       "      <td>NaN</td>\n",
       "      <td>NaN</td>\n",
       "    </tr>\n",
       "    <tr>\n",
       "      <th>3</th>\n",
       "      <td>20080109X00036</td>\n",
       "      <td>1</td>\n",
       "      <td>N579RM</td>\n",
       "      <td>DFW08CA054</td>\n",
       "      <td>N</td>\n",
       "      <td>091</td>\n",
       "      <td>NONE</td>\n",
       "      <td>N</td>\n",
       "      <td>SUBS</td>\n",
       "      <td>NONE</td>\n",
       "      <td>...</td>\n",
       "      <td>NaN</td>\n",
       "      <td>NaN</td>\n",
       "      <td>False</td>\n",
       "      <td>False</td>\n",
       "      <td>False</td>\n",
       "      <td>False</td>\n",
       "      <td>False</td>\n",
       "      <td>NaN</td>\n",
       "      <td>NaN</td>\n",
       "      <td>NaN</td>\n",
       "    </tr>\n",
       "    <tr>\n",
       "      <th>4</th>\n",
       "      <td>20080107X00027</td>\n",
       "      <td>1</td>\n",
       "      <td>N398J</td>\n",
       "      <td>DFW08LA055</td>\n",
       "      <td>N</td>\n",
       "      <td>091</td>\n",
       "      <td>IFR</td>\n",
       "      <td>Y</td>\n",
       "      <td>NaN</td>\n",
       "      <td>NONE</td>\n",
       "      <td>...</td>\n",
       "      <td>NaN</td>\n",
       "      <td>NaN</td>\n",
       "      <td>False</td>\n",
       "      <td>False</td>\n",
       "      <td>False</td>\n",
       "      <td>False</td>\n",
       "      <td>False</td>\n",
       "      <td>NaN</td>\n",
       "      <td>NaN</td>\n",
       "      <td>NaN</td>\n",
       "    </tr>\n",
       "  </tbody>\n",
       "</table>\n",
       "<p>5 rows × 93 columns</p>\n",
       "</div>"
      ],
      "text/plain": [
       "            ev_id  Aircraft_Key regis_no      ntsb_no acft_missing far_part  \\\n",
       "0  20080211X00175             1   N530NA   DFW08RA039            N     NUSN   \n",
       "1  20080107X00026             1   N8037W  SEA08LA057A            N      091   \n",
       "2  20080107X00026             2    N15EX  SEA08LA057B            N      091   \n",
       "3  20080109X00036             1   N579RM   DFW08CA054            N      091   \n",
       "4  20080107X00027             1    N398J   DFW08LA055            N      091   \n",
       "\n",
       "  flt_plan_filed flight_plan_activated damage acft_fire  ... acft_year  \\\n",
       "0            NaN                   NaN   SUBS       NaN  ...       NaN   \n",
       "1           NONE                   NaN   MINR      NONE  ...       NaN   \n",
       "2           NONE                   NaN   SUBS      NONE  ...       NaN   \n",
       "3           NONE                     N   SUBS      NONE  ...       NaN   \n",
       "4            IFR                     Y    NaN      NONE  ...       NaN   \n",
       "\n",
       "  fuel_on_board commercial_space_flight unmanned ifr_equipped_cert  \\\n",
       "0           NaN                   False    False             False   \n",
       "1           NaN                   False    False             False   \n",
       "2           NaN                   False    False             False   \n",
       "3           NaN                   False    False             False   \n",
       "4           NaN                   False    False             False   \n",
       "\n",
       "   elt_mounted_aircraft elt_connected_antenna  elt_manufacturer elt_model  \\\n",
       "0                 False                 False               NaN       NaN   \n",
       "1                 False                 False               NaN       NaN   \n",
       "2                 False                 False               NaN       NaN   \n",
       "3                 False                 False               NaN       NaN   \n",
       "4                 False                 False               NaN       NaN   \n",
       "\n",
       "   elt_reason_other  \n",
       "0               NaN  \n",
       "1               NaN  \n",
       "2               NaN  \n",
       "3               NaN  \n",
       "4               NaN  \n",
       "\n",
       "[5 rows x 93 columns]"
      ]
     },
     "execution_count": 4,
     "metadata": {},
     "output_type": "execute_result"
    }
   ],
   "source": [
    "aircraft_df.head()"
   ]
  },
  {
   "cell_type": "code",
   "execution_count": 5,
   "metadata": {},
   "outputs": [
    {
     "data": {
      "text/plain": [
       "25653"
      ]
     },
     "execution_count": 5,
     "metadata": {},
     "output_type": "execute_result"
    }
   ],
   "source": [
    "aircraft_df['ev_id'].nunique()"
   ]
  },
  {
   "attachments": {},
   "cell_type": "markdown",
   "metadata": {},
   "source": [
    "##### Basic"
   ]
  },
  {
   "cell_type": "code",
   "execution_count": 6,
   "metadata": {},
   "outputs": [],
   "source": [
    "aircraft_df['id'] = (aircraft_df['ev_id'].astype(str) + aircraft_df['Aircraft_Key'].astype(str)).astype('object')\n",
    "\n",
    "aircraft_df.drop(['ev_id', 'Aircraft_Key'], axis=1, inplace=True)"
   ]
  },
  {
   "attachments": {},
   "cell_type": "markdown",
   "metadata": {},
   "source": [
    "##### Final Check"
   ]
  },
  {
   "cell_type": "code",
   "execution_count": 7,
   "metadata": {},
   "outputs": [
    {
     "data": {
      "text/plain": [
       "(26064, 92)"
      ]
     },
     "execution_count": 7,
     "metadata": {},
     "output_type": "execute_result"
    }
   ],
   "source": [
    "aircraft_df.shape"
   ]
  },
  {
   "cell_type": "code",
   "execution_count": 8,
   "metadata": {},
   "outputs": [
    {
     "data": {
      "text/plain": [
       "26064"
      ]
     },
     "execution_count": 8,
     "metadata": {},
     "output_type": "execute_result"
    }
   ],
   "source": [
    "aircraft_df['id'].nunique()"
   ]
  },
  {
   "cell_type": "code",
   "execution_count": 9,
   "metadata": {},
   "outputs": [
    {
     "data": {
      "text/plain": [
       "0"
      ]
     },
     "execution_count": 9,
     "metadata": {},
     "output_type": "execute_result"
    }
   ],
   "source": [
    "len(aircraft_df[aircraft_df.duplicated(subset='id', keep=False)])"
   ]
  },
  {
   "cell_type": "code",
   "execution_count": 10,
   "metadata": {},
   "outputs": [
    {
     "data": {
      "text/html": [
       "<div>\n",
       "<style scoped>\n",
       "    .dataframe tbody tr th:only-of-type {\n",
       "        vertical-align: middle;\n",
       "    }\n",
       "\n",
       "    .dataframe tbody tr th {\n",
       "        vertical-align: top;\n",
       "    }\n",
       "\n",
       "    .dataframe thead th {\n",
       "        text-align: right;\n",
       "    }\n",
       "</style>\n",
       "<table border=\"1\" class=\"dataframe\">\n",
       "  <thead>\n",
       "    <tr style=\"text-align: right;\">\n",
       "      <th></th>\n",
       "      <th>regis_no</th>\n",
       "      <th>ntsb_no</th>\n",
       "      <th>acft_missing</th>\n",
       "      <th>far_part</th>\n",
       "      <th>flt_plan_filed</th>\n",
       "      <th>flight_plan_activated</th>\n",
       "      <th>damage</th>\n",
       "      <th>acft_fire</th>\n",
       "      <th>acft_expl</th>\n",
       "      <th>acft_make</th>\n",
       "      <th>...</th>\n",
       "      <th>fuel_on_board</th>\n",
       "      <th>commercial_space_flight</th>\n",
       "      <th>unmanned</th>\n",
       "      <th>ifr_equipped_cert</th>\n",
       "      <th>elt_mounted_aircraft</th>\n",
       "      <th>elt_connected_antenna</th>\n",
       "      <th>elt_manufacturer</th>\n",
       "      <th>elt_model</th>\n",
       "      <th>elt_reason_other</th>\n",
       "      <th>id</th>\n",
       "    </tr>\n",
       "  </thead>\n",
       "  <tbody>\n",
       "    <tr>\n",
       "      <th>0</th>\n",
       "      <td>N530NA</td>\n",
       "      <td>DFW08RA039</td>\n",
       "      <td>N</td>\n",
       "      <td>NUSN</td>\n",
       "      <td>NaN</td>\n",
       "      <td>NaN</td>\n",
       "      <td>SUBS</td>\n",
       "      <td>NaN</td>\n",
       "      <td>NaN</td>\n",
       "      <td>Eurocopter France</td>\n",
       "      <td>...</td>\n",
       "      <td>NaN</td>\n",
       "      <td>False</td>\n",
       "      <td>False</td>\n",
       "      <td>False</td>\n",
       "      <td>False</td>\n",
       "      <td>False</td>\n",
       "      <td>NaN</td>\n",
       "      <td>NaN</td>\n",
       "      <td>NaN</td>\n",
       "      <td>20080211X001751</td>\n",
       "    </tr>\n",
       "    <tr>\n",
       "      <th>1</th>\n",
       "      <td>N8037W</td>\n",
       "      <td>SEA08LA057A</td>\n",
       "      <td>N</td>\n",
       "      <td>091</td>\n",
       "      <td>NONE</td>\n",
       "      <td>NaN</td>\n",
       "      <td>MINR</td>\n",
       "      <td>NONE</td>\n",
       "      <td>NONE</td>\n",
       "      <td>PIPER</td>\n",
       "      <td>...</td>\n",
       "      <td>NaN</td>\n",
       "      <td>False</td>\n",
       "      <td>False</td>\n",
       "      <td>False</td>\n",
       "      <td>False</td>\n",
       "      <td>False</td>\n",
       "      <td>NaN</td>\n",
       "      <td>NaN</td>\n",
       "      <td>NaN</td>\n",
       "      <td>20080107X000261</td>\n",
       "    </tr>\n",
       "    <tr>\n",
       "      <th>2</th>\n",
       "      <td>N15EX</td>\n",
       "      <td>SEA08LA057B</td>\n",
       "      <td>N</td>\n",
       "      <td>091</td>\n",
       "      <td>NONE</td>\n",
       "      <td>NaN</td>\n",
       "      <td>SUBS</td>\n",
       "      <td>NONE</td>\n",
       "      <td>NONE</td>\n",
       "      <td>Barnard/Stancil</td>\n",
       "      <td>...</td>\n",
       "      <td>NaN</td>\n",
       "      <td>False</td>\n",
       "      <td>False</td>\n",
       "      <td>False</td>\n",
       "      <td>False</td>\n",
       "      <td>False</td>\n",
       "      <td>NaN</td>\n",
       "      <td>NaN</td>\n",
       "      <td>NaN</td>\n",
       "      <td>20080107X000262</td>\n",
       "    </tr>\n",
       "    <tr>\n",
       "      <th>3</th>\n",
       "      <td>N579RM</td>\n",
       "      <td>DFW08CA054</td>\n",
       "      <td>N</td>\n",
       "      <td>091</td>\n",
       "      <td>NONE</td>\n",
       "      <td>N</td>\n",
       "      <td>SUBS</td>\n",
       "      <td>NONE</td>\n",
       "      <td>NONE</td>\n",
       "      <td>Micco Aircraft Company</td>\n",
       "      <td>...</td>\n",
       "      <td>NaN</td>\n",
       "      <td>False</td>\n",
       "      <td>False</td>\n",
       "      <td>False</td>\n",
       "      <td>False</td>\n",
       "      <td>False</td>\n",
       "      <td>NaN</td>\n",
       "      <td>NaN</td>\n",
       "      <td>NaN</td>\n",
       "      <td>20080109X000361</td>\n",
       "    </tr>\n",
       "    <tr>\n",
       "      <th>4</th>\n",
       "      <td>N398J</td>\n",
       "      <td>DFW08LA055</td>\n",
       "      <td>N</td>\n",
       "      <td>091</td>\n",
       "      <td>IFR</td>\n",
       "      <td>Y</td>\n",
       "      <td>NaN</td>\n",
       "      <td>NONE</td>\n",
       "      <td>NONE</td>\n",
       "      <td>Pilatus</td>\n",
       "      <td>...</td>\n",
       "      <td>NaN</td>\n",
       "      <td>False</td>\n",
       "      <td>False</td>\n",
       "      <td>False</td>\n",
       "      <td>False</td>\n",
       "      <td>False</td>\n",
       "      <td>NaN</td>\n",
       "      <td>NaN</td>\n",
       "      <td>NaN</td>\n",
       "      <td>20080107X000271</td>\n",
       "    </tr>\n",
       "  </tbody>\n",
       "</table>\n",
       "<p>5 rows × 92 columns</p>\n",
       "</div>"
      ],
      "text/plain": [
       "  regis_no      ntsb_no acft_missing far_part flt_plan_filed  \\\n",
       "0   N530NA   DFW08RA039            N     NUSN            NaN   \n",
       "1   N8037W  SEA08LA057A            N      091           NONE   \n",
       "2    N15EX  SEA08LA057B            N      091           NONE   \n",
       "3   N579RM   DFW08CA054            N      091           NONE   \n",
       "4    N398J   DFW08LA055            N      091            IFR   \n",
       "\n",
       "  flight_plan_activated damage acft_fire acft_expl               acft_make  \\\n",
       "0                   NaN   SUBS       NaN       NaN       Eurocopter France   \n",
       "1                   NaN   MINR      NONE      NONE                   PIPER   \n",
       "2                   NaN   SUBS      NONE      NONE         Barnard/Stancil   \n",
       "3                     N   SUBS      NONE      NONE  Micco Aircraft Company   \n",
       "4                     Y    NaN      NONE      NONE                 Pilatus   \n",
       "\n",
       "   ... fuel_on_board commercial_space_flight unmanned  ifr_equipped_cert  \\\n",
       "0  ...           NaN                   False    False              False   \n",
       "1  ...           NaN                   False    False              False   \n",
       "2  ...           NaN                   False    False              False   \n",
       "3  ...           NaN                   False    False              False   \n",
       "4  ...           NaN                   False    False              False   \n",
       "\n",
       "  elt_mounted_aircraft  elt_connected_antenna elt_manufacturer  elt_model  \\\n",
       "0                False                  False              NaN        NaN   \n",
       "1                False                  False              NaN        NaN   \n",
       "2                False                  False              NaN        NaN   \n",
       "3                False                  False              NaN        NaN   \n",
       "4                False                  False              NaN        NaN   \n",
       "\n",
       "   elt_reason_other               id  \n",
       "0               NaN  20080211X001751  \n",
       "1               NaN  20080107X000261  \n",
       "2               NaN  20080107X000262  \n",
       "3               NaN  20080109X000361  \n",
       "4               NaN  20080107X000271  \n",
       "\n",
       "[5 rows x 92 columns]"
      ]
     },
     "execution_count": 10,
     "metadata": {},
     "output_type": "execute_result"
    }
   ],
   "source": [
    "aircraft_df.head()"
   ]
  },
  {
   "attachments": {},
   "cell_type": "markdown",
   "metadata": {},
   "source": [
    "### 2. engines"
   ]
  },
  {
   "attachments": {},
   "cell_type": "markdown",
   "metadata": {},
   "source": [
    "##### Info"
   ]
  },
  {
   "cell_type": "code",
   "execution_count": 11,
   "metadata": {},
   "outputs": [
    {
     "data": {
      "text/plain": [
       "(23669, 17)"
      ]
     },
     "execution_count": 11,
     "metadata": {},
     "output_type": "execute_result"
    }
   ],
   "source": [
    "engines_df.shape"
   ]
  },
  {
   "cell_type": "code",
   "execution_count": 12,
   "metadata": {},
   "outputs": [
    {
     "data": {
      "text/html": [
       "<div>\n",
       "<style scoped>\n",
       "    .dataframe tbody tr th:only-of-type {\n",
       "        vertical-align: middle;\n",
       "    }\n",
       "\n",
       "    .dataframe tbody tr th {\n",
       "        vertical-align: top;\n",
       "    }\n",
       "\n",
       "    .dataframe thead th {\n",
       "        text-align: right;\n",
       "    }\n",
       "</style>\n",
       "<table border=\"1\" class=\"dataframe\">\n",
       "  <thead>\n",
       "    <tr style=\"text-align: right;\">\n",
       "      <th></th>\n",
       "      <th>ev_id</th>\n",
       "      <th>Aircraft_Key</th>\n",
       "      <th>eng_no</th>\n",
       "      <th>eng_type</th>\n",
       "      <th>eng_mfgr</th>\n",
       "      <th>eng_model</th>\n",
       "      <th>power_units</th>\n",
       "      <th>hp_or_lbs</th>\n",
       "      <th>lchg_userid</th>\n",
       "      <th>lchg_date</th>\n",
       "      <th>carb_fuel_injection</th>\n",
       "      <th>propeller_type</th>\n",
       "      <th>propeller_make</th>\n",
       "      <th>propeller_model</th>\n",
       "      <th>eng_time_total</th>\n",
       "      <th>eng_time_last_insp</th>\n",
       "      <th>eng_time_overhaul</th>\n",
       "    </tr>\n",
       "  </thead>\n",
       "  <tbody>\n",
       "    <tr>\n",
       "      <th>0</th>\n",
       "      <td>20080107X00026</td>\n",
       "      <td>1</td>\n",
       "      <td>1</td>\n",
       "      <td>REC</td>\n",
       "      <td>Textron Lycoming</td>\n",
       "      <td>O-360-A3A</td>\n",
       "      <td>180.0</td>\n",
       "      <td>HP</td>\n",
       "      <td>NaN</td>\n",
       "      <td>2020-09-25 18:05:31</td>\n",
       "      <td>CARB</td>\n",
       "      <td>NaN</td>\n",
       "      <td>NaN</td>\n",
       "      <td>NaN</td>\n",
       "      <td>0.0</td>\n",
       "      <td>0.0</td>\n",
       "      <td>0.0</td>\n",
       "    </tr>\n",
       "    <tr>\n",
       "      <th>1</th>\n",
       "      <td>20080107X00026</td>\n",
       "      <td>2</td>\n",
       "      <td>1</td>\n",
       "      <td>REC</td>\n",
       "      <td>Textron Lycoming</td>\n",
       "      <td>O-360</td>\n",
       "      <td>180.0</td>\n",
       "      <td>HP</td>\n",
       "      <td>NaN</td>\n",
       "      <td>2020-09-25 18:05:31</td>\n",
       "      <td>CARB</td>\n",
       "      <td>NaN</td>\n",
       "      <td>NaN</td>\n",
       "      <td>NaN</td>\n",
       "      <td>0.0</td>\n",
       "      <td>0.0</td>\n",
       "      <td>0.0</td>\n",
       "    </tr>\n",
       "    <tr>\n",
       "      <th>2</th>\n",
       "      <td>20080109X00036</td>\n",
       "      <td>1</td>\n",
       "      <td>1</td>\n",
       "      <td>REC</td>\n",
       "      <td>Lycoming</td>\n",
       "      <td>IO-540</td>\n",
       "      <td>260.0</td>\n",
       "      <td>HP</td>\n",
       "      <td>NaN</td>\n",
       "      <td>2020-09-25 18:05:31</td>\n",
       "      <td>FINJ</td>\n",
       "      <td>NaN</td>\n",
       "      <td>NaN</td>\n",
       "      <td>NaN</td>\n",
       "      <td>0.0</td>\n",
       "      <td>0.0</td>\n",
       "      <td>0.0</td>\n",
       "    </tr>\n",
       "    <tr>\n",
       "      <th>3</th>\n",
       "      <td>20080107X00027</td>\n",
       "      <td>1</td>\n",
       "      <td>1</td>\n",
       "      <td>TP</td>\n",
       "      <td>Pratt &amp; Whitney Canada</td>\n",
       "      <td>PT6A-67A</td>\n",
       "      <td>1200.0</td>\n",
       "      <td>HP</td>\n",
       "      <td>NaN</td>\n",
       "      <td>2020-09-25 18:04:02</td>\n",
       "      <td>NaN</td>\n",
       "      <td>NaN</td>\n",
       "      <td>NaN</td>\n",
       "      <td>NaN</td>\n",
       "      <td>0.0</td>\n",
       "      <td>0.0</td>\n",
       "      <td>0.0</td>\n",
       "    </tr>\n",
       "    <tr>\n",
       "      <th>4</th>\n",
       "      <td>20080115X00051</td>\n",
       "      <td>1</td>\n",
       "      <td>1</td>\n",
       "      <td>REC</td>\n",
       "      <td>Lycoming</td>\n",
       "      <td>O-235-L2C</td>\n",
       "      <td>110.0</td>\n",
       "      <td>HP</td>\n",
       "      <td>NaN</td>\n",
       "      <td>2020-09-25 18:06:16</td>\n",
       "      <td>CARB</td>\n",
       "      <td>NaN</td>\n",
       "      <td>NaN</td>\n",
       "      <td>NaN</td>\n",
       "      <td>0.0</td>\n",
       "      <td>0.0</td>\n",
       "      <td>0.0</td>\n",
       "    </tr>\n",
       "  </tbody>\n",
       "</table>\n",
       "</div>"
      ],
      "text/plain": [
       "            ev_id  Aircraft_Key  eng_no eng_type                eng_mfgr  \\\n",
       "0  20080107X00026             1       1      REC        Textron Lycoming   \n",
       "1  20080107X00026             2       1      REC        Textron Lycoming   \n",
       "2  20080109X00036             1       1      REC                Lycoming   \n",
       "3  20080107X00027             1       1       TP  Pratt & Whitney Canada   \n",
       "4  20080115X00051             1       1      REC                Lycoming   \n",
       "\n",
       "   eng_model  power_units hp_or_lbs lchg_userid            lchg_date  \\\n",
       "0  O-360-A3A        180.0        HP         NaN  2020-09-25 18:05:31   \n",
       "1      O-360        180.0        HP         NaN  2020-09-25 18:05:31   \n",
       "2     IO-540        260.0        HP         NaN  2020-09-25 18:05:31   \n",
       "3   PT6A-67A       1200.0        HP         NaN  2020-09-25 18:04:02   \n",
       "4  O-235-L2C        110.0        HP         NaN  2020-09-25 18:06:16   \n",
       "\n",
       "  carb_fuel_injection propeller_type propeller_make propeller_model  \\\n",
       "0                CARB            NaN            NaN             NaN   \n",
       "1                CARB            NaN            NaN             NaN   \n",
       "2                FINJ            NaN            NaN             NaN   \n",
       "3                 NaN            NaN            NaN             NaN   \n",
       "4                CARB            NaN            NaN             NaN   \n",
       "\n",
       "   eng_time_total  eng_time_last_insp  eng_time_overhaul  \n",
       "0             0.0                 0.0                0.0  \n",
       "1             0.0                 0.0                0.0  \n",
       "2             0.0                 0.0                0.0  \n",
       "3             0.0                 0.0                0.0  \n",
       "4             0.0                 0.0                0.0  "
      ]
     },
     "execution_count": 12,
     "metadata": {},
     "output_type": "execute_result"
    }
   ],
   "source": [
    "engines_df.head()"
   ]
  },
  {
   "cell_type": "code",
   "execution_count": 13,
   "metadata": {},
   "outputs": [
    {
     "data": {
      "text/plain": [
       "20657"
      ]
     },
     "execution_count": 13,
     "metadata": {},
     "output_type": "execute_result"
    }
   ],
   "source": [
    "engines_df['ev_id'].nunique()"
   ]
  },
  {
   "attachments": {},
   "cell_type": "markdown",
   "metadata": {},
   "source": [
    "##### Basic"
   ]
  },
  {
   "cell_type": "code",
   "execution_count": 14,
   "metadata": {},
   "outputs": [],
   "source": [
    "engines_df['id'] = (engines_df['ev_id'].astype(str) + engines_df['Aircraft_Key'].astype(str)).astype('object')\n",
    "\n",
    "engines_df.drop(['ev_id', 'Aircraft_Key'], axis=1, inplace=True)"
   ]
  },
  {
   "attachments": {},
   "cell_type": "markdown",
   "metadata": {},
   "source": [
    "##### Duplicate Dropping"
   ]
  },
  {
   "cell_type": "code",
   "execution_count": 15,
   "metadata": {},
   "outputs": [],
   "source": [
    "mask = engines_df['eng_no'] == 1\n",
    "\n",
    "engines_df = engines_df[mask]\n",
    "engines_df.drop(['eng_no'], axis=1, inplace=True)"
   ]
  },
  {
   "attachments": {},
   "cell_type": "markdown",
   "metadata": {},
   "source": [
    "##### Final Check"
   ]
  },
  {
   "cell_type": "code",
   "execution_count": 16,
   "metadata": {},
   "outputs": [
    {
     "data": {
      "text/plain": [
       "(20876, 15)"
      ]
     },
     "execution_count": 16,
     "metadata": {},
     "output_type": "execute_result"
    }
   ],
   "source": [
    "engines_df.shape"
   ]
  },
  {
   "cell_type": "code",
   "execution_count": 17,
   "metadata": {},
   "outputs": [
    {
     "data": {
      "text/plain": [
       "20876"
      ]
     },
     "execution_count": 17,
     "metadata": {},
     "output_type": "execute_result"
    }
   ],
   "source": [
    "engines_df['id'].nunique()"
   ]
  },
  {
   "cell_type": "code",
   "execution_count": 18,
   "metadata": {},
   "outputs": [
    {
     "data": {
      "text/plain": [
       "0"
      ]
     },
     "execution_count": 18,
     "metadata": {},
     "output_type": "execute_result"
    }
   ],
   "source": [
    "len(engines_df[engines_df.duplicated(subset='id', keep=False)])"
   ]
  },
  {
   "cell_type": "code",
   "execution_count": 19,
   "metadata": {},
   "outputs": [
    {
     "data": {
      "text/html": [
       "<div>\n",
       "<style scoped>\n",
       "    .dataframe tbody tr th:only-of-type {\n",
       "        vertical-align: middle;\n",
       "    }\n",
       "\n",
       "    .dataframe tbody tr th {\n",
       "        vertical-align: top;\n",
       "    }\n",
       "\n",
       "    .dataframe thead th {\n",
       "        text-align: right;\n",
       "    }\n",
       "</style>\n",
       "<table border=\"1\" class=\"dataframe\">\n",
       "  <thead>\n",
       "    <tr style=\"text-align: right;\">\n",
       "      <th></th>\n",
       "      <th>eng_type</th>\n",
       "      <th>eng_mfgr</th>\n",
       "      <th>eng_model</th>\n",
       "      <th>power_units</th>\n",
       "      <th>hp_or_lbs</th>\n",
       "      <th>lchg_userid</th>\n",
       "      <th>lchg_date</th>\n",
       "      <th>carb_fuel_injection</th>\n",
       "      <th>propeller_type</th>\n",
       "      <th>propeller_make</th>\n",
       "      <th>propeller_model</th>\n",
       "      <th>eng_time_total</th>\n",
       "      <th>eng_time_last_insp</th>\n",
       "      <th>eng_time_overhaul</th>\n",
       "      <th>id</th>\n",
       "    </tr>\n",
       "  </thead>\n",
       "  <tbody>\n",
       "    <tr>\n",
       "      <th>0</th>\n",
       "      <td>REC</td>\n",
       "      <td>Textron Lycoming</td>\n",
       "      <td>O-360-A3A</td>\n",
       "      <td>180.0</td>\n",
       "      <td>HP</td>\n",
       "      <td>NaN</td>\n",
       "      <td>2020-09-25 18:05:31</td>\n",
       "      <td>CARB</td>\n",
       "      <td>NaN</td>\n",
       "      <td>NaN</td>\n",
       "      <td>NaN</td>\n",
       "      <td>0.0</td>\n",
       "      <td>0.0</td>\n",
       "      <td>0.0</td>\n",
       "      <td>20080107X000261</td>\n",
       "    </tr>\n",
       "    <tr>\n",
       "      <th>1</th>\n",
       "      <td>REC</td>\n",
       "      <td>Textron Lycoming</td>\n",
       "      <td>O-360</td>\n",
       "      <td>180.0</td>\n",
       "      <td>HP</td>\n",
       "      <td>NaN</td>\n",
       "      <td>2020-09-25 18:05:31</td>\n",
       "      <td>CARB</td>\n",
       "      <td>NaN</td>\n",
       "      <td>NaN</td>\n",
       "      <td>NaN</td>\n",
       "      <td>0.0</td>\n",
       "      <td>0.0</td>\n",
       "      <td>0.0</td>\n",
       "      <td>20080107X000262</td>\n",
       "    </tr>\n",
       "    <tr>\n",
       "      <th>2</th>\n",
       "      <td>REC</td>\n",
       "      <td>Lycoming</td>\n",
       "      <td>IO-540</td>\n",
       "      <td>260.0</td>\n",
       "      <td>HP</td>\n",
       "      <td>NaN</td>\n",
       "      <td>2020-09-25 18:05:31</td>\n",
       "      <td>FINJ</td>\n",
       "      <td>NaN</td>\n",
       "      <td>NaN</td>\n",
       "      <td>NaN</td>\n",
       "      <td>0.0</td>\n",
       "      <td>0.0</td>\n",
       "      <td>0.0</td>\n",
       "      <td>20080109X000361</td>\n",
       "    </tr>\n",
       "    <tr>\n",
       "      <th>3</th>\n",
       "      <td>TP</td>\n",
       "      <td>Pratt &amp; Whitney Canada</td>\n",
       "      <td>PT6A-67A</td>\n",
       "      <td>1200.0</td>\n",
       "      <td>HP</td>\n",
       "      <td>NaN</td>\n",
       "      <td>2020-09-25 18:04:02</td>\n",
       "      <td>NaN</td>\n",
       "      <td>NaN</td>\n",
       "      <td>NaN</td>\n",
       "      <td>NaN</td>\n",
       "      <td>0.0</td>\n",
       "      <td>0.0</td>\n",
       "      <td>0.0</td>\n",
       "      <td>20080107X000271</td>\n",
       "    </tr>\n",
       "    <tr>\n",
       "      <th>4</th>\n",
       "      <td>REC</td>\n",
       "      <td>Lycoming</td>\n",
       "      <td>O-235-L2C</td>\n",
       "      <td>110.0</td>\n",
       "      <td>HP</td>\n",
       "      <td>NaN</td>\n",
       "      <td>2020-09-25 18:06:16</td>\n",
       "      <td>CARB</td>\n",
       "      <td>NaN</td>\n",
       "      <td>NaN</td>\n",
       "      <td>NaN</td>\n",
       "      <td>0.0</td>\n",
       "      <td>0.0</td>\n",
       "      <td>0.0</td>\n",
       "      <td>20080115X000511</td>\n",
       "    </tr>\n",
       "  </tbody>\n",
       "</table>\n",
       "</div>"
      ],
      "text/plain": [
       "  eng_type                eng_mfgr  eng_model  power_units hp_or_lbs  \\\n",
       "0      REC        Textron Lycoming  O-360-A3A        180.0        HP   \n",
       "1      REC        Textron Lycoming      O-360        180.0        HP   \n",
       "2      REC                Lycoming     IO-540        260.0        HP   \n",
       "3       TP  Pratt & Whitney Canada   PT6A-67A       1200.0        HP   \n",
       "4      REC                Lycoming  O-235-L2C        110.0        HP   \n",
       "\n",
       "  lchg_userid            lchg_date carb_fuel_injection propeller_type  \\\n",
       "0         NaN  2020-09-25 18:05:31                CARB            NaN   \n",
       "1         NaN  2020-09-25 18:05:31                CARB            NaN   \n",
       "2         NaN  2020-09-25 18:05:31                FINJ            NaN   \n",
       "3         NaN  2020-09-25 18:04:02                 NaN            NaN   \n",
       "4         NaN  2020-09-25 18:06:16                CARB            NaN   \n",
       "\n",
       "  propeller_make propeller_model  eng_time_total  eng_time_last_insp  \\\n",
       "0            NaN             NaN             0.0                 0.0   \n",
       "1            NaN             NaN             0.0                 0.0   \n",
       "2            NaN             NaN             0.0                 0.0   \n",
       "3            NaN             NaN             0.0                 0.0   \n",
       "4            NaN             NaN             0.0                 0.0   \n",
       "\n",
       "   eng_time_overhaul               id  \n",
       "0                0.0  20080107X000261  \n",
       "1                0.0  20080107X000262  \n",
       "2                0.0  20080109X000361  \n",
       "3                0.0  20080107X000271  \n",
       "4                0.0  20080115X000511  "
      ]
     },
     "execution_count": 19,
     "metadata": {},
     "output_type": "execute_result"
    }
   ],
   "source": [
    "engines_df.head()"
   ]
  },
  {
   "attachments": {},
   "cell_type": "markdown",
   "metadata": {},
   "source": [
    "### 3. Events_Sequence"
   ]
  },
  {
   "attachments": {},
   "cell_type": "markdown",
   "metadata": {},
   "source": [
    "##### Info"
   ]
  },
  {
   "cell_type": "code",
   "execution_count": 20,
   "metadata": {},
   "outputs": [
    {
     "data": {
      "text/plain": [
       "(55838, 10)"
      ]
     },
     "execution_count": 20,
     "metadata": {},
     "output_type": "execute_result"
    }
   ],
   "source": [
    "Events_Sequence_df.shape"
   ]
  },
  {
   "cell_type": "code",
   "execution_count": 21,
   "metadata": {},
   "outputs": [
    {
     "data": {
      "text/html": [
       "<div>\n",
       "<style scoped>\n",
       "    .dataframe tbody tr th:only-of-type {\n",
       "        vertical-align: middle;\n",
       "    }\n",
       "\n",
       "    .dataframe tbody tr th {\n",
       "        vertical-align: top;\n",
       "    }\n",
       "\n",
       "    .dataframe thead th {\n",
       "        text-align: right;\n",
       "    }\n",
       "</style>\n",
       "<table border=\"1\" class=\"dataframe\">\n",
       "  <thead>\n",
       "    <tr style=\"text-align: right;\">\n",
       "      <th></th>\n",
       "      <th>ev_id</th>\n",
       "      <th>Aircraft_Key</th>\n",
       "      <th>Occurrence_No</th>\n",
       "      <th>Occurrence_Code</th>\n",
       "      <th>Occurrence_Description</th>\n",
       "      <th>phase_no</th>\n",
       "      <th>eventsoe_no</th>\n",
       "      <th>Defining_ev</th>\n",
       "      <th>lchg_date</th>\n",
       "      <th>lchg_userid</th>\n",
       "    </tr>\n",
       "  </thead>\n",
       "  <tbody>\n",
       "    <tr>\n",
       "      <th>0</th>\n",
       "      <td>20080107X00026</td>\n",
       "      <td>1</td>\n",
       "      <td>1</td>\n",
       "      <td>550250</td>\n",
       "      <td>Landing Midair collision</td>\n",
       "      <td>550</td>\n",
       "      <td>250</td>\n",
       "      <td>True</td>\n",
       "      <td>2020-09-25 18:05:31</td>\n",
       "      <td>NaN</td>\n",
       "    </tr>\n",
       "    <tr>\n",
       "      <th>1</th>\n",
       "      <td>20080107X00026</td>\n",
       "      <td>2</td>\n",
       "      <td>1</td>\n",
       "      <td>350250</td>\n",
       "      <td>Initial climb Midair collision</td>\n",
       "      <td>350</td>\n",
       "      <td>250</td>\n",
       "      <td>True</td>\n",
       "      <td>2020-09-25 18:05:31</td>\n",
       "      <td>NaN</td>\n",
       "    </tr>\n",
       "    <tr>\n",
       "      <th>2</th>\n",
       "      <td>20080109X00036</td>\n",
       "      <td>1</td>\n",
       "      <td>1</td>\n",
       "      <td>551230</td>\n",
       "      <td>Landing-flare/touchdown Loss of control on ground</td>\n",
       "      <td>551</td>\n",
       "      <td>230</td>\n",
       "      <td>True</td>\n",
       "      <td>2020-09-25 18:05:31</td>\n",
       "      <td>NaN</td>\n",
       "    </tr>\n",
       "    <tr>\n",
       "      <th>3</th>\n",
       "      <td>20080109X00036</td>\n",
       "      <td>1</td>\n",
       "      <td>2</td>\n",
       "      <td>550300</td>\n",
       "      <td>Landing Runway excursion</td>\n",
       "      <td>550</td>\n",
       "      <td>300</td>\n",
       "      <td>False</td>\n",
       "      <td>2020-09-25 18:05:31</td>\n",
       "      <td>NaN</td>\n",
       "    </tr>\n",
       "    <tr>\n",
       "      <th>4</th>\n",
       "      <td>20080107X00027</td>\n",
       "      <td>1</td>\n",
       "      <td>1</td>\n",
       "      <td>153081</td>\n",
       "      <td>Standing-engine(s) operating AC/prop/rotor con...</td>\n",
       "      <td>153</td>\n",
       "      <td>81</td>\n",
       "      <td>True</td>\n",
       "      <td>2020-09-25 18:04:02</td>\n",
       "      <td>NaN</td>\n",
       "    </tr>\n",
       "  </tbody>\n",
       "</table>\n",
       "</div>"
      ],
      "text/plain": [
       "            ev_id  Aircraft_Key  Occurrence_No  Occurrence_Code  \\\n",
       "0  20080107X00026             1              1           550250   \n",
       "1  20080107X00026             2              1           350250   \n",
       "2  20080109X00036             1              1           551230   \n",
       "3  20080109X00036             1              2           550300   \n",
       "4  20080107X00027             1              1           153081   \n",
       "\n",
       "                              Occurrence_Description  phase_no  eventsoe_no  \\\n",
       "0                           Landing Midair collision       550          250   \n",
       "1                     Initial climb Midair collision       350          250   \n",
       "2  Landing-flare/touchdown Loss of control on ground       551          230   \n",
       "3                           Landing Runway excursion       550          300   \n",
       "4  Standing-engine(s) operating AC/prop/rotor con...       153           81   \n",
       "\n",
       "   Defining_ev            lchg_date  lchg_userid  \n",
       "0         True  2020-09-25 18:05:31          NaN  \n",
       "1         True  2020-09-25 18:05:31          NaN  \n",
       "2         True  2020-09-25 18:05:31          NaN  \n",
       "3        False  2020-09-25 18:05:31          NaN  \n",
       "4         True  2020-09-25 18:04:02          NaN  "
      ]
     },
     "execution_count": 21,
     "metadata": {},
     "output_type": "execute_result"
    }
   ],
   "source": [
    "Events_Sequence_df.head()"
   ]
  },
  {
   "cell_type": "code",
   "execution_count": 22,
   "metadata": {},
   "outputs": [
    {
     "data": {
      "text/plain": [
       "24999"
      ]
     },
     "execution_count": 22,
     "metadata": {},
     "output_type": "execute_result"
    }
   ],
   "source": [
    "Events_Sequence_df['ev_id'].nunique()"
   ]
  },
  {
   "attachments": {},
   "cell_type": "markdown",
   "metadata": {},
   "source": [
    "##### Basic"
   ]
  },
  {
   "cell_type": "code",
   "execution_count": 23,
   "metadata": {},
   "outputs": [],
   "source": [
    "Events_Sequence_df['id'] = (Events_Sequence_df['ev_id'].astype(str) + Events_Sequence_df['Aircraft_Key'].astype(str)).astype('object')\n",
    "\n",
    "Events_Sequence_df.drop(['ev_id', 'Aircraft_Key'], axis=1, inplace=True)"
   ]
  },
  {
   "attachments": {},
   "cell_type": "markdown",
   "metadata": {},
   "source": [
    "##### Duplicate Dropping"
   ]
  },
  {
   "cell_type": "code",
   "execution_count": 24,
   "metadata": {},
   "outputs": [],
   "source": [
    "mask = Events_Sequence_df['Defining_ev'] == True\n",
    "\n",
    "Events_Sequence_df = Events_Sequence_df[mask]\n",
    "Events_Sequence_df.drop(['Defining_ev'], axis=1, inplace=True)"
   ]
  },
  {
   "attachments": {},
   "cell_type": "markdown",
   "metadata": {},
   "source": [
    "##### Final Check"
   ]
  },
  {
   "cell_type": "code",
   "execution_count": 25,
   "metadata": {},
   "outputs": [
    {
     "data": {
      "text/plain": [
       "(25154, 8)"
      ]
     },
     "execution_count": 25,
     "metadata": {},
     "output_type": "execute_result"
    }
   ],
   "source": [
    "Events_Sequence_df.shape"
   ]
  },
  {
   "cell_type": "code",
   "execution_count": 26,
   "metadata": {},
   "outputs": [
    {
     "data": {
      "text/plain": [
       "25154"
      ]
     },
     "execution_count": 26,
     "metadata": {},
     "output_type": "execute_result"
    }
   ],
   "source": [
    "Events_Sequence_df['id'].nunique()"
   ]
  },
  {
   "cell_type": "code",
   "execution_count": 27,
   "metadata": {},
   "outputs": [
    {
     "data": {
      "text/plain": [
       "0"
      ]
     },
     "execution_count": 27,
     "metadata": {},
     "output_type": "execute_result"
    }
   ],
   "source": [
    "len(Events_Sequence_df[Events_Sequence_df.duplicated(subset='id', keep=False)])"
   ]
  },
  {
   "cell_type": "code",
   "execution_count": 28,
   "metadata": {},
   "outputs": [
    {
     "data": {
      "text/html": [
       "<div>\n",
       "<style scoped>\n",
       "    .dataframe tbody tr th:only-of-type {\n",
       "        vertical-align: middle;\n",
       "    }\n",
       "\n",
       "    .dataframe tbody tr th {\n",
       "        vertical-align: top;\n",
       "    }\n",
       "\n",
       "    .dataframe thead th {\n",
       "        text-align: right;\n",
       "    }\n",
       "</style>\n",
       "<table border=\"1\" class=\"dataframe\">\n",
       "  <thead>\n",
       "    <tr style=\"text-align: right;\">\n",
       "      <th></th>\n",
       "      <th>Occurrence_No</th>\n",
       "      <th>Occurrence_Code</th>\n",
       "      <th>Occurrence_Description</th>\n",
       "      <th>phase_no</th>\n",
       "      <th>eventsoe_no</th>\n",
       "      <th>lchg_date</th>\n",
       "      <th>lchg_userid</th>\n",
       "      <th>id</th>\n",
       "    </tr>\n",
       "  </thead>\n",
       "  <tbody>\n",
       "    <tr>\n",
       "      <th>0</th>\n",
       "      <td>1</td>\n",
       "      <td>550250</td>\n",
       "      <td>Landing Midair collision</td>\n",
       "      <td>550</td>\n",
       "      <td>250</td>\n",
       "      <td>2020-09-25 18:05:31</td>\n",
       "      <td>NaN</td>\n",
       "      <td>20080107X000261</td>\n",
       "    </tr>\n",
       "    <tr>\n",
       "      <th>1</th>\n",
       "      <td>1</td>\n",
       "      <td>350250</td>\n",
       "      <td>Initial climb Midair collision</td>\n",
       "      <td>350</td>\n",
       "      <td>250</td>\n",
       "      <td>2020-09-25 18:05:31</td>\n",
       "      <td>NaN</td>\n",
       "      <td>20080107X000262</td>\n",
       "    </tr>\n",
       "    <tr>\n",
       "      <th>2</th>\n",
       "      <td>1</td>\n",
       "      <td>551230</td>\n",
       "      <td>Landing-flare/touchdown Loss of control on ground</td>\n",
       "      <td>551</td>\n",
       "      <td>230</td>\n",
       "      <td>2020-09-25 18:05:31</td>\n",
       "      <td>NaN</td>\n",
       "      <td>20080109X000361</td>\n",
       "    </tr>\n",
       "    <tr>\n",
       "      <th>4</th>\n",
       "      <td>1</td>\n",
       "      <td>153081</td>\n",
       "      <td>Standing-engine(s) operating AC/prop/rotor con...</td>\n",
       "      <td>153</td>\n",
       "      <td>81</td>\n",
       "      <td>2020-09-25 18:04:02</td>\n",
       "      <td>NaN</td>\n",
       "      <td>20080107X000271</td>\n",
       "    </tr>\n",
       "    <tr>\n",
       "      <th>5</th>\n",
       "      <td>1</td>\n",
       "      <td>551240</td>\n",
       "      <td>Landing-flare/touchdown Loss of control in flight</td>\n",
       "      <td>551</td>\n",
       "      <td>240</td>\n",
       "      <td>2020-09-25 18:06:16</td>\n",
       "      <td>NaN</td>\n",
       "      <td>20080115X000511</td>\n",
       "    </tr>\n",
       "  </tbody>\n",
       "</table>\n",
       "</div>"
      ],
      "text/plain": [
       "   Occurrence_No  Occurrence_Code  \\\n",
       "0              1           550250   \n",
       "1              1           350250   \n",
       "2              1           551230   \n",
       "4              1           153081   \n",
       "5              1           551240   \n",
       "\n",
       "                              Occurrence_Description  phase_no  eventsoe_no  \\\n",
       "0                           Landing Midair collision       550          250   \n",
       "1                     Initial climb Midair collision       350          250   \n",
       "2  Landing-flare/touchdown Loss of control on ground       551          230   \n",
       "4  Standing-engine(s) operating AC/prop/rotor con...       153           81   \n",
       "5  Landing-flare/touchdown Loss of control in flight       551          240   \n",
       "\n",
       "             lchg_date  lchg_userid               id  \n",
       "0  2020-09-25 18:05:31          NaN  20080107X000261  \n",
       "1  2020-09-25 18:05:31          NaN  20080107X000262  \n",
       "2  2020-09-25 18:05:31          NaN  20080109X000361  \n",
       "4  2020-09-25 18:04:02          NaN  20080107X000271  \n",
       "5  2020-09-25 18:06:16          NaN  20080115X000511  "
      ]
     },
     "execution_count": 28,
     "metadata": {},
     "output_type": "execute_result"
    }
   ],
   "source": [
    "Events_Sequence_df.head()"
   ]
  },
  {
   "attachments": {},
   "cell_type": "markdown",
   "metadata": {},
   "source": [
    "### 4. events *['ev_id']"
   ]
  },
  {
   "attachments": {},
   "cell_type": "markdown",
   "metadata": {},
   "source": [
    "##### Info"
   ]
  },
  {
   "cell_type": "code",
   "execution_count": 29,
   "metadata": {},
   "outputs": [
    {
     "data": {
      "text/plain": [
       "(25653, 73)"
      ]
     },
     "execution_count": 29,
     "metadata": {},
     "output_type": "execute_result"
    }
   ],
   "source": [
    "events_df.shape"
   ]
  },
  {
   "cell_type": "code",
   "execution_count": 30,
   "metadata": {},
   "outputs": [
    {
     "data": {
      "text/html": [
       "<div>\n",
       "<style scoped>\n",
       "    .dataframe tbody tr th:only-of-type {\n",
       "        vertical-align: middle;\n",
       "    }\n",
       "\n",
       "    .dataframe tbody tr th {\n",
       "        vertical-align: top;\n",
       "    }\n",
       "\n",
       "    .dataframe thead th {\n",
       "        text-align: right;\n",
       "    }\n",
       "</style>\n",
       "<table border=\"1\" class=\"dataframe\">\n",
       "  <thead>\n",
       "    <tr style=\"text-align: right;\">\n",
       "      <th></th>\n",
       "      <th>ev_id</th>\n",
       "      <th>ntsb_no</th>\n",
       "      <th>ev_type</th>\n",
       "      <th>ev_date</th>\n",
       "      <th>ev_dow</th>\n",
       "      <th>ev_time</th>\n",
       "      <th>ev_tmzn</th>\n",
       "      <th>ev_city</th>\n",
       "      <th>ev_state</th>\n",
       "      <th>ev_country</th>\n",
       "      <th>...</th>\n",
       "      <th>ntsb_notf_from</th>\n",
       "      <th>ntsb_notf_date</th>\n",
       "      <th>ntsb_notf_tm</th>\n",
       "      <th>fiche_number</th>\n",
       "      <th>lchg_date</th>\n",
       "      <th>lchg_userid</th>\n",
       "      <th>wx_cond_basic</th>\n",
       "      <th>faa_dist_office</th>\n",
       "      <th>dec_latitude</th>\n",
       "      <th>dec_longitude</th>\n",
       "    </tr>\n",
       "  </thead>\n",
       "  <tbody>\n",
       "    <tr>\n",
       "      <th>0</th>\n",
       "      <td>20080211X00175</td>\n",
       "      <td>DFW08RA039</td>\n",
       "      <td>ACC</td>\n",
       "      <td>2008-01-10</td>\n",
       "      <td>Th</td>\n",
       "      <td>1907.0</td>\n",
       "      <td>UTC</td>\n",
       "      <td>Pitt Meadow, BC</td>\n",
       "      <td>NaN</td>\n",
       "      <td>CA</td>\n",
       "      <td>...</td>\n",
       "      <td>NaN</td>\n",
       "      <td>NaN</td>\n",
       "      <td>NaN</td>\n",
       "      <td>NaN</td>\n",
       "      <td>2020-09-25 18:07:50</td>\n",
       "      <td>NaN</td>\n",
       "      <td>NaN</td>\n",
       "      <td>NaN</td>\n",
       "      <td>NaN</td>\n",
       "      <td>NaN</td>\n",
       "    </tr>\n",
       "    <tr>\n",
       "      <th>1</th>\n",
       "      <td>20080107X00026</td>\n",
       "      <td>SEA08LA057</td>\n",
       "      <td>ACC</td>\n",
       "      <td>2008-01-01</td>\n",
       "      <td>Tu</td>\n",
       "      <td>2230.0</td>\n",
       "      <td>UTC</td>\n",
       "      <td>Sonoma</td>\n",
       "      <td>CA</td>\n",
       "      <td>USA</td>\n",
       "      <td>...</td>\n",
       "      <td>NaN</td>\n",
       "      <td>NaN</td>\n",
       "      <td>NaN</td>\n",
       "      <td>NaN</td>\n",
       "      <td>2020-09-25 18:05:31</td>\n",
       "      <td>NaN</td>\n",
       "      <td>VMC</td>\n",
       "      <td>NaN</td>\n",
       "      <td>38.223888</td>\n",
       "      <td>-122.449722</td>\n",
       "    </tr>\n",
       "    <tr>\n",
       "      <th>2</th>\n",
       "      <td>20080109X00036</td>\n",
       "      <td>DFW08CA054</td>\n",
       "      <td>ACC</td>\n",
       "      <td>2008-01-01</td>\n",
       "      <td>Tu</td>\n",
       "      <td>2200.0</td>\n",
       "      <td>UTC</td>\n",
       "      <td>Arcola</td>\n",
       "      <td>TX</td>\n",
       "      <td>USA</td>\n",
       "      <td>...</td>\n",
       "      <td>NaN</td>\n",
       "      <td>NaN</td>\n",
       "      <td>NaN</td>\n",
       "      <td>NaN</td>\n",
       "      <td>2020-09-25 18:05:31</td>\n",
       "      <td>NaN</td>\n",
       "      <td>VMC</td>\n",
       "      <td>NaN</td>\n",
       "      <td>29.506111</td>\n",
       "      <td>-95.476669</td>\n",
       "    </tr>\n",
       "    <tr>\n",
       "      <th>3</th>\n",
       "      <td>20080107X00027</td>\n",
       "      <td>DFW08LA055</td>\n",
       "      <td>ACC</td>\n",
       "      <td>2008-01-03</td>\n",
       "      <td>Th</td>\n",
       "      <td>825.0</td>\n",
       "      <td>UTC</td>\n",
       "      <td>Oklahoma City</td>\n",
       "      <td>OK</td>\n",
       "      <td>USA</td>\n",
       "      <td>...</td>\n",
       "      <td>NaN</td>\n",
       "      <td>NaN</td>\n",
       "      <td>NaN</td>\n",
       "      <td>NaN</td>\n",
       "      <td>2020-09-25 18:04:02</td>\n",
       "      <td>NaN</td>\n",
       "      <td>VMC</td>\n",
       "      <td>NaN</td>\n",
       "      <td>35.533611</td>\n",
       "      <td>-97.641387</td>\n",
       "    </tr>\n",
       "    <tr>\n",
       "      <th>4</th>\n",
       "      <td>20080115X00051</td>\n",
       "      <td>DEN08CA047</td>\n",
       "      <td>ACC</td>\n",
       "      <td>2008-01-02</td>\n",
       "      <td>We</td>\n",
       "      <td>2230.0</td>\n",
       "      <td>UTC</td>\n",
       "      <td>Loveland</td>\n",
       "      <td>CO</td>\n",
       "      <td>USA</td>\n",
       "      <td>...</td>\n",
       "      <td>NaN</td>\n",
       "      <td>NaN</td>\n",
       "      <td>NaN</td>\n",
       "      <td>NaN</td>\n",
       "      <td>2020-09-25 18:06:16</td>\n",
       "      <td>NaN</td>\n",
       "      <td>VMC</td>\n",
       "      <td>NaN</td>\n",
       "      <td>40.451667</td>\n",
       "      <td>-105.001113</td>\n",
       "    </tr>\n",
       "  </tbody>\n",
       "</table>\n",
       "<p>5 rows × 73 columns</p>\n",
       "</div>"
      ],
      "text/plain": [
       "            ev_id     ntsb_no ev_type     ev_date ev_dow  ev_time ev_tmzn  \\\n",
       "0  20080211X00175  DFW08RA039     ACC  2008-01-10     Th   1907.0     UTC   \n",
       "1  20080107X00026  SEA08LA057     ACC  2008-01-01     Tu   2230.0     UTC   \n",
       "2  20080109X00036  DFW08CA054     ACC  2008-01-01     Tu   2200.0     UTC   \n",
       "3  20080107X00027  DFW08LA055     ACC  2008-01-03     Th    825.0     UTC   \n",
       "4  20080115X00051  DEN08CA047     ACC  2008-01-02     We   2230.0     UTC   \n",
       "\n",
       "           ev_city ev_state ev_country  ...  ntsb_notf_from  ntsb_notf_date  \\\n",
       "0  Pitt Meadow, BC      NaN         CA  ...             NaN             NaN   \n",
       "1           Sonoma       CA        USA  ...             NaN             NaN   \n",
       "2           Arcola       TX        USA  ...             NaN             NaN   \n",
       "3    Oklahoma City       OK        USA  ...             NaN             NaN   \n",
       "4         Loveland       CO        USA  ...             NaN             NaN   \n",
       "\n",
       "   ntsb_notf_tm fiche_number            lchg_date lchg_userid wx_cond_basic  \\\n",
       "0           NaN          NaN  2020-09-25 18:07:50         NaN           NaN   \n",
       "1           NaN          NaN  2020-09-25 18:05:31         NaN           VMC   \n",
       "2           NaN          NaN  2020-09-25 18:05:31         NaN           VMC   \n",
       "3           NaN          NaN  2020-09-25 18:04:02         NaN           VMC   \n",
       "4           NaN          NaN  2020-09-25 18:06:16         NaN           VMC   \n",
       "\n",
       "  faa_dist_office dec_latitude dec_longitude  \n",
       "0             NaN          NaN           NaN  \n",
       "1             NaN    38.223888   -122.449722  \n",
       "2             NaN    29.506111    -95.476669  \n",
       "3             NaN    35.533611    -97.641387  \n",
       "4             NaN    40.451667   -105.001113  \n",
       "\n",
       "[5 rows x 73 columns]"
      ]
     },
     "execution_count": 30,
     "metadata": {},
     "output_type": "execute_result"
    }
   ],
   "source": [
    "events_df.head()"
   ]
  },
  {
   "attachments": {},
   "cell_type": "markdown",
   "metadata": {},
   "source": [
    "##### Final Check"
   ]
  },
  {
   "cell_type": "code",
   "execution_count": 31,
   "metadata": {},
   "outputs": [
    {
     "data": {
      "text/plain": [
       "(25653, 73)"
      ]
     },
     "execution_count": 31,
     "metadata": {},
     "output_type": "execute_result"
    }
   ],
   "source": [
    "events_df.shape"
   ]
  },
  {
   "cell_type": "code",
   "execution_count": 32,
   "metadata": {},
   "outputs": [
    {
     "data": {
      "text/plain": [
       "25653"
      ]
     },
     "execution_count": 32,
     "metadata": {},
     "output_type": "execute_result"
    }
   ],
   "source": [
    "events_df['ev_id'].nunique()"
   ]
  },
  {
   "cell_type": "code",
   "execution_count": 33,
   "metadata": {},
   "outputs": [
    {
     "data": {
      "text/plain": [
       "0"
      ]
     },
     "execution_count": 33,
     "metadata": {},
     "output_type": "execute_result"
    }
   ],
   "source": [
    "len(events_df[events_df.duplicated(subset='ev_id', keep=False)])"
   ]
  },
  {
   "cell_type": "code",
   "execution_count": 34,
   "metadata": {},
   "outputs": [
    {
     "data": {
      "text/html": [
       "<div>\n",
       "<style scoped>\n",
       "    .dataframe tbody tr th:only-of-type {\n",
       "        vertical-align: middle;\n",
       "    }\n",
       "\n",
       "    .dataframe tbody tr th {\n",
       "        vertical-align: top;\n",
       "    }\n",
       "\n",
       "    .dataframe thead th {\n",
       "        text-align: right;\n",
       "    }\n",
       "</style>\n",
       "<table border=\"1\" class=\"dataframe\">\n",
       "  <thead>\n",
       "    <tr style=\"text-align: right;\">\n",
       "      <th></th>\n",
       "      <th>ev_id</th>\n",
       "      <th>ntsb_no</th>\n",
       "      <th>ev_type</th>\n",
       "      <th>ev_date</th>\n",
       "      <th>ev_dow</th>\n",
       "      <th>ev_time</th>\n",
       "      <th>ev_tmzn</th>\n",
       "      <th>ev_city</th>\n",
       "      <th>ev_state</th>\n",
       "      <th>ev_country</th>\n",
       "      <th>...</th>\n",
       "      <th>ntsb_notf_from</th>\n",
       "      <th>ntsb_notf_date</th>\n",
       "      <th>ntsb_notf_tm</th>\n",
       "      <th>fiche_number</th>\n",
       "      <th>lchg_date</th>\n",
       "      <th>lchg_userid</th>\n",
       "      <th>wx_cond_basic</th>\n",
       "      <th>faa_dist_office</th>\n",
       "      <th>dec_latitude</th>\n",
       "      <th>dec_longitude</th>\n",
       "    </tr>\n",
       "  </thead>\n",
       "  <tbody>\n",
       "    <tr>\n",
       "      <th>0</th>\n",
       "      <td>20080211X00175</td>\n",
       "      <td>DFW08RA039</td>\n",
       "      <td>ACC</td>\n",
       "      <td>2008-01-10</td>\n",
       "      <td>Th</td>\n",
       "      <td>1907.0</td>\n",
       "      <td>UTC</td>\n",
       "      <td>Pitt Meadow, BC</td>\n",
       "      <td>NaN</td>\n",
       "      <td>CA</td>\n",
       "      <td>...</td>\n",
       "      <td>NaN</td>\n",
       "      <td>NaN</td>\n",
       "      <td>NaN</td>\n",
       "      <td>NaN</td>\n",
       "      <td>2020-09-25 18:07:50</td>\n",
       "      <td>NaN</td>\n",
       "      <td>NaN</td>\n",
       "      <td>NaN</td>\n",
       "      <td>NaN</td>\n",
       "      <td>NaN</td>\n",
       "    </tr>\n",
       "    <tr>\n",
       "      <th>1</th>\n",
       "      <td>20080107X00026</td>\n",
       "      <td>SEA08LA057</td>\n",
       "      <td>ACC</td>\n",
       "      <td>2008-01-01</td>\n",
       "      <td>Tu</td>\n",
       "      <td>2230.0</td>\n",
       "      <td>UTC</td>\n",
       "      <td>Sonoma</td>\n",
       "      <td>CA</td>\n",
       "      <td>USA</td>\n",
       "      <td>...</td>\n",
       "      <td>NaN</td>\n",
       "      <td>NaN</td>\n",
       "      <td>NaN</td>\n",
       "      <td>NaN</td>\n",
       "      <td>2020-09-25 18:05:31</td>\n",
       "      <td>NaN</td>\n",
       "      <td>VMC</td>\n",
       "      <td>NaN</td>\n",
       "      <td>38.223888</td>\n",
       "      <td>-122.449722</td>\n",
       "    </tr>\n",
       "    <tr>\n",
       "      <th>2</th>\n",
       "      <td>20080109X00036</td>\n",
       "      <td>DFW08CA054</td>\n",
       "      <td>ACC</td>\n",
       "      <td>2008-01-01</td>\n",
       "      <td>Tu</td>\n",
       "      <td>2200.0</td>\n",
       "      <td>UTC</td>\n",
       "      <td>Arcola</td>\n",
       "      <td>TX</td>\n",
       "      <td>USA</td>\n",
       "      <td>...</td>\n",
       "      <td>NaN</td>\n",
       "      <td>NaN</td>\n",
       "      <td>NaN</td>\n",
       "      <td>NaN</td>\n",
       "      <td>2020-09-25 18:05:31</td>\n",
       "      <td>NaN</td>\n",
       "      <td>VMC</td>\n",
       "      <td>NaN</td>\n",
       "      <td>29.506111</td>\n",
       "      <td>-95.476669</td>\n",
       "    </tr>\n",
       "    <tr>\n",
       "      <th>3</th>\n",
       "      <td>20080107X00027</td>\n",
       "      <td>DFW08LA055</td>\n",
       "      <td>ACC</td>\n",
       "      <td>2008-01-03</td>\n",
       "      <td>Th</td>\n",
       "      <td>825.0</td>\n",
       "      <td>UTC</td>\n",
       "      <td>Oklahoma City</td>\n",
       "      <td>OK</td>\n",
       "      <td>USA</td>\n",
       "      <td>...</td>\n",
       "      <td>NaN</td>\n",
       "      <td>NaN</td>\n",
       "      <td>NaN</td>\n",
       "      <td>NaN</td>\n",
       "      <td>2020-09-25 18:04:02</td>\n",
       "      <td>NaN</td>\n",
       "      <td>VMC</td>\n",
       "      <td>NaN</td>\n",
       "      <td>35.533611</td>\n",
       "      <td>-97.641387</td>\n",
       "    </tr>\n",
       "    <tr>\n",
       "      <th>4</th>\n",
       "      <td>20080115X00051</td>\n",
       "      <td>DEN08CA047</td>\n",
       "      <td>ACC</td>\n",
       "      <td>2008-01-02</td>\n",
       "      <td>We</td>\n",
       "      <td>2230.0</td>\n",
       "      <td>UTC</td>\n",
       "      <td>Loveland</td>\n",
       "      <td>CO</td>\n",
       "      <td>USA</td>\n",
       "      <td>...</td>\n",
       "      <td>NaN</td>\n",
       "      <td>NaN</td>\n",
       "      <td>NaN</td>\n",
       "      <td>NaN</td>\n",
       "      <td>2020-09-25 18:06:16</td>\n",
       "      <td>NaN</td>\n",
       "      <td>VMC</td>\n",
       "      <td>NaN</td>\n",
       "      <td>40.451667</td>\n",
       "      <td>-105.001113</td>\n",
       "    </tr>\n",
       "  </tbody>\n",
       "</table>\n",
       "<p>5 rows × 73 columns</p>\n",
       "</div>"
      ],
      "text/plain": [
       "            ev_id     ntsb_no ev_type     ev_date ev_dow  ev_time ev_tmzn  \\\n",
       "0  20080211X00175  DFW08RA039     ACC  2008-01-10     Th   1907.0     UTC   \n",
       "1  20080107X00026  SEA08LA057     ACC  2008-01-01     Tu   2230.0     UTC   \n",
       "2  20080109X00036  DFW08CA054     ACC  2008-01-01     Tu   2200.0     UTC   \n",
       "3  20080107X00027  DFW08LA055     ACC  2008-01-03     Th    825.0     UTC   \n",
       "4  20080115X00051  DEN08CA047     ACC  2008-01-02     We   2230.0     UTC   \n",
       "\n",
       "           ev_city ev_state ev_country  ...  ntsb_notf_from  ntsb_notf_date  \\\n",
       "0  Pitt Meadow, BC      NaN         CA  ...             NaN             NaN   \n",
       "1           Sonoma       CA        USA  ...             NaN             NaN   \n",
       "2           Arcola       TX        USA  ...             NaN             NaN   \n",
       "3    Oklahoma City       OK        USA  ...             NaN             NaN   \n",
       "4         Loveland       CO        USA  ...             NaN             NaN   \n",
       "\n",
       "   ntsb_notf_tm fiche_number            lchg_date lchg_userid wx_cond_basic  \\\n",
       "0           NaN          NaN  2020-09-25 18:07:50         NaN           NaN   \n",
       "1           NaN          NaN  2020-09-25 18:05:31         NaN           VMC   \n",
       "2           NaN          NaN  2020-09-25 18:05:31         NaN           VMC   \n",
       "3           NaN          NaN  2020-09-25 18:04:02         NaN           VMC   \n",
       "4           NaN          NaN  2020-09-25 18:06:16         NaN           VMC   \n",
       "\n",
       "  faa_dist_office dec_latitude dec_longitude  \n",
       "0             NaN          NaN           NaN  \n",
       "1             NaN    38.223888   -122.449722  \n",
       "2             NaN    29.506111    -95.476669  \n",
       "3             NaN    35.533611    -97.641387  \n",
       "4             NaN    40.451667   -105.001113  \n",
       "\n",
       "[5 rows x 73 columns]"
      ]
     },
     "execution_count": 34,
     "metadata": {},
     "output_type": "execute_result"
    }
   ],
   "source": [
    "events_df.head()"
   ]
  },
  {
   "attachments": {},
   "cell_type": "markdown",
   "metadata": {},
   "source": [
    "### 5. Flight_Crew"
   ]
  },
  {
   "attachments": {},
   "cell_type": "markdown",
   "metadata": {},
   "source": [
    "##### Info"
   ]
  },
  {
   "cell_type": "code",
   "execution_count": 35,
   "metadata": {},
   "outputs": [
    {
     "data": {
      "text/plain": [
       "(26270, 33)"
      ]
     },
     "execution_count": 35,
     "metadata": {},
     "output_type": "execute_result"
    }
   ],
   "source": [
    "Flight_Crew_df.shape"
   ]
  },
  {
   "cell_type": "code",
   "execution_count": 36,
   "metadata": {},
   "outputs": [
    {
     "data": {
      "text/html": [
       "<div>\n",
       "<style scoped>\n",
       "    .dataframe tbody tr th:only-of-type {\n",
       "        vertical-align: middle;\n",
       "    }\n",
       "\n",
       "    .dataframe tbody tr th {\n",
       "        vertical-align: top;\n",
       "    }\n",
       "\n",
       "    .dataframe thead th {\n",
       "        text-align: right;\n",
       "    }\n",
       "</style>\n",
       "<table border=\"1\" class=\"dataframe\">\n",
       "  <thead>\n",
       "    <tr style=\"text-align: right;\">\n",
       "      <th></th>\n",
       "      <th>ev_id</th>\n",
       "      <th>Aircraft_Key</th>\n",
       "      <th>crew_no</th>\n",
       "      <th>crew_category</th>\n",
       "      <th>crew_age</th>\n",
       "      <th>crew_sex</th>\n",
       "      <th>crew_city</th>\n",
       "      <th>crew_res_state</th>\n",
       "      <th>crew_res_country</th>\n",
       "      <th>med_certf</th>\n",
       "      <th>...</th>\n",
       "      <th>lchg_userid</th>\n",
       "      <th>seat_occ_row</th>\n",
       "      <th>infl_rest_inst</th>\n",
       "      <th>infl_rest_depl</th>\n",
       "      <th>child_restraint</th>\n",
       "      <th>med_crtf_limit</th>\n",
       "      <th>mr_faa_med_certf</th>\n",
       "      <th>pilot_flying</th>\n",
       "      <th>available_restraint</th>\n",
       "      <th>restraint_used</th>\n",
       "    </tr>\n",
       "  </thead>\n",
       "  <tbody>\n",
       "    <tr>\n",
       "      <th>0</th>\n",
       "      <td>20080107X00026</td>\n",
       "      <td>1</td>\n",
       "      <td>1</td>\n",
       "      <td>PLT</td>\n",
       "      <td>56.0</td>\n",
       "      <td>M</td>\n",
       "      <td>Novato</td>\n",
       "      <td>CA</td>\n",
       "      <td>USA</td>\n",
       "      <td>CL3</td>\n",
       "      <td>...</td>\n",
       "      <td>NaN</td>\n",
       "      <td>NaN</td>\n",
       "      <td>NaN</td>\n",
       "      <td>NaN</td>\n",
       "      <td>NaN</td>\n",
       "      <td>NaN</td>\n",
       "      <td>NaN</td>\n",
       "      <td>False</td>\n",
       "      <td>NaN</td>\n",
       "      <td>NaN</td>\n",
       "    </tr>\n",
       "    <tr>\n",
       "      <th>1</th>\n",
       "      <td>20080107X00026</td>\n",
       "      <td>2</td>\n",
       "      <td>1</td>\n",
       "      <td>PLT</td>\n",
       "      <td>70.0</td>\n",
       "      <td>M</td>\n",
       "      <td>Pioneer</td>\n",
       "      <td>CA</td>\n",
       "      <td>USA</td>\n",
       "      <td>CL3</td>\n",
       "      <td>...</td>\n",
       "      <td>NaN</td>\n",
       "      <td>NaN</td>\n",
       "      <td>NaN</td>\n",
       "      <td>NaN</td>\n",
       "      <td>NaN</td>\n",
       "      <td>NaN</td>\n",
       "      <td>NaN</td>\n",
       "      <td>False</td>\n",
       "      <td>NaN</td>\n",
       "      <td>NaN</td>\n",
       "    </tr>\n",
       "    <tr>\n",
       "      <th>2</th>\n",
       "      <td>20080109X00036</td>\n",
       "      <td>1</td>\n",
       "      <td>1</td>\n",
       "      <td>PLT</td>\n",
       "      <td>54.0</td>\n",
       "      <td>F</td>\n",
       "      <td>Gonzales</td>\n",
       "      <td>TX</td>\n",
       "      <td>USA</td>\n",
       "      <td>CL3</td>\n",
       "      <td>...</td>\n",
       "      <td>NaN</td>\n",
       "      <td>NaN</td>\n",
       "      <td>NaN</td>\n",
       "      <td>NaN</td>\n",
       "      <td>NaN</td>\n",
       "      <td>NaN</td>\n",
       "      <td>NaN</td>\n",
       "      <td>False</td>\n",
       "      <td>NaN</td>\n",
       "      <td>NaN</td>\n",
       "    </tr>\n",
       "    <tr>\n",
       "      <th>3</th>\n",
       "      <td>20080107X00027</td>\n",
       "      <td>1</td>\n",
       "      <td>1</td>\n",
       "      <td>PLT</td>\n",
       "      <td>59.0</td>\n",
       "      <td>M</td>\n",
       "      <td>Conroe</td>\n",
       "      <td>TX</td>\n",
       "      <td>USA</td>\n",
       "      <td>CL2</td>\n",
       "      <td>...</td>\n",
       "      <td>NaN</td>\n",
       "      <td>NaN</td>\n",
       "      <td>NaN</td>\n",
       "      <td>NaN</td>\n",
       "      <td>NaN</td>\n",
       "      <td>NaN</td>\n",
       "      <td>NaN</td>\n",
       "      <td>False</td>\n",
       "      <td>NaN</td>\n",
       "      <td>NaN</td>\n",
       "    </tr>\n",
       "    <tr>\n",
       "      <th>4</th>\n",
       "      <td>20080115X00051</td>\n",
       "      <td>1</td>\n",
       "      <td>1</td>\n",
       "      <td>DSTU</td>\n",
       "      <td>36.0</td>\n",
       "      <td>M</td>\n",
       "      <td>Loveland</td>\n",
       "      <td>CO</td>\n",
       "      <td>USA</td>\n",
       "      <td>CL3</td>\n",
       "      <td>...</td>\n",
       "      <td>NaN</td>\n",
       "      <td>NaN</td>\n",
       "      <td>NaN</td>\n",
       "      <td>NaN</td>\n",
       "      <td>NaN</td>\n",
       "      <td>NaN</td>\n",
       "      <td>NaN</td>\n",
       "      <td>False</td>\n",
       "      <td>NaN</td>\n",
       "      <td>NaN</td>\n",
       "    </tr>\n",
       "  </tbody>\n",
       "</table>\n",
       "<p>5 rows × 33 columns</p>\n",
       "</div>"
      ],
      "text/plain": [
       "            ev_id  Aircraft_Key  crew_no crew_category  crew_age crew_sex  \\\n",
       "0  20080107X00026             1        1           PLT      56.0        M   \n",
       "1  20080107X00026             2        1           PLT      70.0        M   \n",
       "2  20080109X00036             1        1           PLT      54.0        F   \n",
       "3  20080107X00027             1        1           PLT      59.0        M   \n",
       "4  20080115X00051             1        1          DSTU      36.0        M   \n",
       "\n",
       "  crew_city crew_res_state crew_res_country med_certf  ... lchg_userid  \\\n",
       "0    Novato             CA              USA       CL3  ...         NaN   \n",
       "1   Pioneer             CA              USA       CL3  ...         NaN   \n",
       "2  Gonzales             TX              USA       CL3  ...         NaN   \n",
       "3    Conroe             TX              USA       CL2  ...         NaN   \n",
       "4  Loveland             CO              USA       CL3  ...         NaN   \n",
       "\n",
       "  seat_occ_row  infl_rest_inst infl_rest_depl  child_restraint  \\\n",
       "0          NaN             NaN            NaN              NaN   \n",
       "1          NaN             NaN            NaN              NaN   \n",
       "2          NaN             NaN            NaN              NaN   \n",
       "3          NaN             NaN            NaN              NaN   \n",
       "4          NaN             NaN            NaN              NaN   \n",
       "\n",
       "   med_crtf_limit mr_faa_med_certf pilot_flying available_restraint  \\\n",
       "0             NaN              NaN        False                 NaN   \n",
       "1             NaN              NaN        False                 NaN   \n",
       "2             NaN              NaN        False                 NaN   \n",
       "3             NaN              NaN        False                 NaN   \n",
       "4             NaN              NaN        False                 NaN   \n",
       "\n",
       "   restraint_used  \n",
       "0             NaN  \n",
       "1             NaN  \n",
       "2             NaN  \n",
       "3             NaN  \n",
       "4             NaN  \n",
       "\n",
       "[5 rows x 33 columns]"
      ]
     },
     "execution_count": 36,
     "metadata": {},
     "output_type": "execute_result"
    }
   ],
   "source": [
    "Flight_Crew_df.head()"
   ]
  },
  {
   "cell_type": "code",
   "execution_count": 37,
   "metadata": {},
   "outputs": [
    {
     "data": {
      "text/plain": [
       "20697"
      ]
     },
     "execution_count": 37,
     "metadata": {},
     "output_type": "execute_result"
    }
   ],
   "source": [
    "Flight_Crew_df['ev_id'].nunique()"
   ]
  },
  {
   "attachments": {},
   "cell_type": "markdown",
   "metadata": {},
   "source": [
    "##### Basic"
   ]
  },
  {
   "cell_type": "code",
   "execution_count": 38,
   "metadata": {},
   "outputs": [],
   "source": [
    "Flight_Crew_df['id'] = (Flight_Crew_df['ev_id'].astype(str) + Flight_Crew_df['Aircraft_Key'].astype(str)).astype('object')\n",
    "\n",
    "Flight_Crew_df.drop(['ev_id', 'Aircraft_Key'], axis=1, inplace=True)"
   ]
  },
  {
   "attachments": {},
   "cell_type": "markdown",
   "metadata": {},
   "source": [
    "##### Duplicate Dropping"
   ]
  },
  {
   "cell_type": "code",
   "execution_count": 39,
   "metadata": {},
   "outputs": [],
   "source": [
    "mask = (Flight_Crew_df['crew_category'].isin(['PLT','DSTU','FLTI','CPLT','KPLT'])) & (Flight_Crew_df['crew_no'] == 1)\n",
    "\n",
    "Flight_Crew_df = Flight_Crew_df[mask]\n",
    "Flight_Crew_df.drop(['crew_no'], axis=1, inplace=True)"
   ]
  },
  {
   "attachments": {},
   "cell_type": "markdown",
   "metadata": {},
   "source": [
    "##### Final Check"
   ]
  },
  {
   "cell_type": "code",
   "execution_count": 40,
   "metadata": {},
   "outputs": [
    {
     "data": {
      "text/plain": [
       "(20693, 31)"
      ]
     },
     "execution_count": 40,
     "metadata": {},
     "output_type": "execute_result"
    }
   ],
   "source": [
    "Flight_Crew_df.shape"
   ]
  },
  {
   "cell_type": "code",
   "execution_count": 41,
   "metadata": {},
   "outputs": [
    {
     "data": {
      "text/plain": [
       "20693"
      ]
     },
     "execution_count": 41,
     "metadata": {},
     "output_type": "execute_result"
    }
   ],
   "source": [
    "Flight_Crew_df['id'].nunique()"
   ]
  },
  {
   "cell_type": "code",
   "execution_count": 42,
   "metadata": {},
   "outputs": [
    {
     "data": {
      "text/html": [
       "<div>\n",
       "<style scoped>\n",
       "    .dataframe tbody tr th:only-of-type {\n",
       "        vertical-align: middle;\n",
       "    }\n",
       "\n",
       "    .dataframe tbody tr th {\n",
       "        vertical-align: top;\n",
       "    }\n",
       "\n",
       "    .dataframe thead th {\n",
       "        text-align: right;\n",
       "    }\n",
       "</style>\n",
       "<table border=\"1\" class=\"dataframe\">\n",
       "  <thead>\n",
       "    <tr style=\"text-align: right;\">\n",
       "      <th></th>\n",
       "      <th>crew_category</th>\n",
       "      <th>crew_age</th>\n",
       "      <th>crew_sex</th>\n",
       "      <th>crew_city</th>\n",
       "      <th>crew_res_state</th>\n",
       "      <th>crew_res_country</th>\n",
       "      <th>med_certf</th>\n",
       "      <th>med_crtf_vldty</th>\n",
       "      <th>date_lst_med</th>\n",
       "      <th>crew_rat_endorse</th>\n",
       "      <th>...</th>\n",
       "      <th>seat_occ_row</th>\n",
       "      <th>infl_rest_inst</th>\n",
       "      <th>infl_rest_depl</th>\n",
       "      <th>child_restraint</th>\n",
       "      <th>med_crtf_limit</th>\n",
       "      <th>mr_faa_med_certf</th>\n",
       "      <th>pilot_flying</th>\n",
       "      <th>available_restraint</th>\n",
       "      <th>restraint_used</th>\n",
       "      <th>id</th>\n",
       "    </tr>\n",
       "  </thead>\n",
       "  <tbody>\n",
       "  </tbody>\n",
       "</table>\n",
       "<p>0 rows × 31 columns</p>\n",
       "</div>"
      ],
      "text/plain": [
       "Empty DataFrame\n",
       "Columns: [crew_category, crew_age, crew_sex, crew_city, crew_res_state, crew_res_country, med_certf, med_crtf_vldty, date_lst_med, crew_rat_endorse, crew_inj_level, seatbelts_used, shldr_harn_used, crew_tox_perf, seat_occ_pic, pc_profession, bfr, bfr_date, ft_as_of, lchg_date, lchg_userid, seat_occ_row, infl_rest_inst, infl_rest_depl, child_restraint, med_crtf_limit, mr_faa_med_certf, pilot_flying, available_restraint, restraint_used, id]\n",
       "Index: []\n",
       "\n",
       "[0 rows x 31 columns]"
      ]
     },
     "execution_count": 42,
     "metadata": {},
     "output_type": "execute_result"
    }
   ],
   "source": [
    "Flight_Crew_df[Flight_Crew_df.duplicated(subset='id', keep=False)].head()"
   ]
  },
  {
   "cell_type": "code",
   "execution_count": 43,
   "metadata": {},
   "outputs": [
    {
     "data": {
      "text/plain": [
       "0"
      ]
     },
     "execution_count": 43,
     "metadata": {},
     "output_type": "execute_result"
    }
   ],
   "source": [
    "len(Flight_Crew_df[Flight_Crew_df.duplicated(subset='id', keep=False)])"
   ]
  },
  {
   "cell_type": "code",
   "execution_count": 44,
   "metadata": {},
   "outputs": [
    {
     "data": {
      "text/html": [
       "<div>\n",
       "<style scoped>\n",
       "    .dataframe tbody tr th:only-of-type {\n",
       "        vertical-align: middle;\n",
       "    }\n",
       "\n",
       "    .dataframe tbody tr th {\n",
       "        vertical-align: top;\n",
       "    }\n",
       "\n",
       "    .dataframe thead th {\n",
       "        text-align: right;\n",
       "    }\n",
       "</style>\n",
       "<table border=\"1\" class=\"dataframe\">\n",
       "  <thead>\n",
       "    <tr style=\"text-align: right;\">\n",
       "      <th></th>\n",
       "      <th>crew_category</th>\n",
       "      <th>crew_age</th>\n",
       "      <th>crew_sex</th>\n",
       "      <th>crew_city</th>\n",
       "      <th>crew_res_state</th>\n",
       "      <th>crew_res_country</th>\n",
       "      <th>med_certf</th>\n",
       "      <th>med_crtf_vldty</th>\n",
       "      <th>date_lst_med</th>\n",
       "      <th>crew_rat_endorse</th>\n",
       "      <th>...</th>\n",
       "      <th>seat_occ_row</th>\n",
       "      <th>infl_rest_inst</th>\n",
       "      <th>infl_rest_depl</th>\n",
       "      <th>child_restraint</th>\n",
       "      <th>med_crtf_limit</th>\n",
       "      <th>mr_faa_med_certf</th>\n",
       "      <th>pilot_flying</th>\n",
       "      <th>available_restraint</th>\n",
       "      <th>restraint_used</th>\n",
       "      <th>id</th>\n",
       "    </tr>\n",
       "  </thead>\n",
       "  <tbody>\n",
       "    <tr>\n",
       "      <th>0</th>\n",
       "      <td>PLT</td>\n",
       "      <td>56.0</td>\n",
       "      <td>M</td>\n",
       "      <td>Novato</td>\n",
       "      <td>CA</td>\n",
       "      <td>USA</td>\n",
       "      <td>CL3</td>\n",
       "      <td>WWL</td>\n",
       "      <td>2007-11-01</td>\n",
       "      <td>NaN</td>\n",
       "      <td>...</td>\n",
       "      <td>NaN</td>\n",
       "      <td>NaN</td>\n",
       "      <td>NaN</td>\n",
       "      <td>NaN</td>\n",
       "      <td>NaN</td>\n",
       "      <td>NaN</td>\n",
       "      <td>False</td>\n",
       "      <td>NaN</td>\n",
       "      <td>NaN</td>\n",
       "      <td>20080107X000261</td>\n",
       "    </tr>\n",
       "    <tr>\n",
       "      <th>1</th>\n",
       "      <td>PLT</td>\n",
       "      <td>70.0</td>\n",
       "      <td>M</td>\n",
       "      <td>Pioneer</td>\n",
       "      <td>CA</td>\n",
       "      <td>USA</td>\n",
       "      <td>CL3</td>\n",
       "      <td>WWL</td>\n",
       "      <td>2006-12-01</td>\n",
       "      <td>NaN</td>\n",
       "      <td>...</td>\n",
       "      <td>NaN</td>\n",
       "      <td>NaN</td>\n",
       "      <td>NaN</td>\n",
       "      <td>NaN</td>\n",
       "      <td>NaN</td>\n",
       "      <td>NaN</td>\n",
       "      <td>False</td>\n",
       "      <td>NaN</td>\n",
       "      <td>NaN</td>\n",
       "      <td>20080107X000262</td>\n",
       "    </tr>\n",
       "    <tr>\n",
       "      <th>2</th>\n",
       "      <td>PLT</td>\n",
       "      <td>54.0</td>\n",
       "      <td>F</td>\n",
       "      <td>Gonzales</td>\n",
       "      <td>TX</td>\n",
       "      <td>USA</td>\n",
       "      <td>CL3</td>\n",
       "      <td>WWL</td>\n",
       "      <td>2006-09-01</td>\n",
       "      <td>NaN</td>\n",
       "      <td>...</td>\n",
       "      <td>NaN</td>\n",
       "      <td>NaN</td>\n",
       "      <td>NaN</td>\n",
       "      <td>NaN</td>\n",
       "      <td>NaN</td>\n",
       "      <td>NaN</td>\n",
       "      <td>False</td>\n",
       "      <td>NaN</td>\n",
       "      <td>NaN</td>\n",
       "      <td>20080109X000361</td>\n",
       "    </tr>\n",
       "    <tr>\n",
       "      <th>3</th>\n",
       "      <td>PLT</td>\n",
       "      <td>59.0</td>\n",
       "      <td>M</td>\n",
       "      <td>Conroe</td>\n",
       "      <td>TX</td>\n",
       "      <td>USA</td>\n",
       "      <td>CL2</td>\n",
       "      <td>NaN</td>\n",
       "      <td>2007-06-01</td>\n",
       "      <td>NaN</td>\n",
       "      <td>...</td>\n",
       "      <td>NaN</td>\n",
       "      <td>NaN</td>\n",
       "      <td>NaN</td>\n",
       "      <td>NaN</td>\n",
       "      <td>NaN</td>\n",
       "      <td>NaN</td>\n",
       "      <td>False</td>\n",
       "      <td>NaN</td>\n",
       "      <td>NaN</td>\n",
       "      <td>20080107X000271</td>\n",
       "    </tr>\n",
       "    <tr>\n",
       "      <th>4</th>\n",
       "      <td>DSTU</td>\n",
       "      <td>36.0</td>\n",
       "      <td>M</td>\n",
       "      <td>Loveland</td>\n",
       "      <td>CO</td>\n",
       "      <td>USA</td>\n",
       "      <td>CL3</td>\n",
       "      <td>WOWL</td>\n",
       "      <td>2007-12-01</td>\n",
       "      <td>NaN</td>\n",
       "      <td>...</td>\n",
       "      <td>NaN</td>\n",
       "      <td>NaN</td>\n",
       "      <td>NaN</td>\n",
       "      <td>NaN</td>\n",
       "      <td>NaN</td>\n",
       "      <td>NaN</td>\n",
       "      <td>False</td>\n",
       "      <td>NaN</td>\n",
       "      <td>NaN</td>\n",
       "      <td>20080115X000511</td>\n",
       "    </tr>\n",
       "  </tbody>\n",
       "</table>\n",
       "<p>5 rows × 31 columns</p>\n",
       "</div>"
      ],
      "text/plain": [
       "  crew_category  crew_age crew_sex crew_city crew_res_state crew_res_country  \\\n",
       "0           PLT      56.0        M    Novato             CA              USA   \n",
       "1           PLT      70.0        M   Pioneer             CA              USA   \n",
       "2           PLT      54.0        F  Gonzales             TX              USA   \n",
       "3           PLT      59.0        M    Conroe             TX              USA   \n",
       "4          DSTU      36.0        M  Loveland             CO              USA   \n",
       "\n",
       "  med_certf med_crtf_vldty date_lst_med  crew_rat_endorse  ... seat_occ_row  \\\n",
       "0       CL3            WWL   2007-11-01               NaN  ...          NaN   \n",
       "1       CL3            WWL   2006-12-01               NaN  ...          NaN   \n",
       "2       CL3            WWL   2006-09-01               NaN  ...          NaN   \n",
       "3       CL2            NaN   2007-06-01               NaN  ...          NaN   \n",
       "4       CL3           WOWL   2007-12-01               NaN  ...          NaN   \n",
       "\n",
       "   infl_rest_inst  infl_rest_depl child_restraint med_crtf_limit  \\\n",
       "0             NaN             NaN             NaN            NaN   \n",
       "1             NaN             NaN             NaN            NaN   \n",
       "2             NaN             NaN             NaN            NaN   \n",
       "3             NaN             NaN             NaN            NaN   \n",
       "4             NaN             NaN             NaN            NaN   \n",
       "\n",
       "  mr_faa_med_certf  pilot_flying available_restraint restraint_used  \\\n",
       "0              NaN         False                 NaN            NaN   \n",
       "1              NaN         False                 NaN            NaN   \n",
       "2              NaN         False                 NaN            NaN   \n",
       "3              NaN         False                 NaN            NaN   \n",
       "4              NaN         False                 NaN            NaN   \n",
       "\n",
       "                id  \n",
       "0  20080107X000261  \n",
       "1  20080107X000262  \n",
       "2  20080109X000361  \n",
       "3  20080107X000271  \n",
       "4  20080115X000511  \n",
       "\n",
       "[5 rows x 31 columns]"
      ]
     },
     "execution_count": 44,
     "metadata": {},
     "output_type": "execute_result"
    }
   ],
   "source": [
    "Flight_Crew_df.head()"
   ]
  },
  {
   "attachments": {},
   "cell_type": "markdown",
   "metadata": {},
   "source": [
    "### 6. flight_time"
   ]
  },
  {
   "attachments": {},
   "cell_type": "markdown",
   "metadata": {},
   "source": [
    "##### Info"
   ]
  },
  {
   "cell_type": "code",
   "execution_count": 45,
   "metadata": {},
   "outputs": [
    {
     "data": {
      "text/plain": [
       "(327193, 8)"
      ]
     },
     "execution_count": 45,
     "metadata": {},
     "output_type": "execute_result"
    }
   ],
   "source": [
    "flight_time_df.shape"
   ]
  },
  {
   "cell_type": "code",
   "execution_count": 46,
   "metadata": {},
   "outputs": [
    {
     "data": {
      "text/html": [
       "<div>\n",
       "<style scoped>\n",
       "    .dataframe tbody tr th:only-of-type {\n",
       "        vertical-align: middle;\n",
       "    }\n",
       "\n",
       "    .dataframe tbody tr th {\n",
       "        vertical-align: top;\n",
       "    }\n",
       "\n",
       "    .dataframe thead th {\n",
       "        text-align: right;\n",
       "    }\n",
       "</style>\n",
       "<table border=\"1\" class=\"dataframe\">\n",
       "  <thead>\n",
       "    <tr style=\"text-align: right;\">\n",
       "      <th></th>\n",
       "      <th>ev_id</th>\n",
       "      <th>Aircraft_Key</th>\n",
       "      <th>crew_no</th>\n",
       "      <th>flight_type</th>\n",
       "      <th>flight_craft</th>\n",
       "      <th>flight_hours</th>\n",
       "      <th>lchg_date</th>\n",
       "      <th>lchg_userid</th>\n",
       "    </tr>\n",
       "  </thead>\n",
       "  <tbody>\n",
       "    <tr>\n",
       "      <th>0</th>\n",
       "      <td>20080107X00026</td>\n",
       "      <td>1</td>\n",
       "      <td>1</td>\n",
       "      <td>L90D</td>\n",
       "      <td>ACTU</td>\n",
       "      <td>3.0</td>\n",
       "      <td>2020-09-25 18:05:31</td>\n",
       "      <td>NaN</td>\n",
       "    </tr>\n",
       "    <tr>\n",
       "      <th>1</th>\n",
       "      <td>20080107X00026</td>\n",
       "      <td>1</td>\n",
       "      <td>1</td>\n",
       "      <td>L90D</td>\n",
       "      <td>ALL</td>\n",
       "      <td>29.0</td>\n",
       "      <td>2020-09-25 18:05:31</td>\n",
       "      <td>NaN</td>\n",
       "    </tr>\n",
       "    <tr>\n",
       "      <th>2</th>\n",
       "      <td>20080107X00026</td>\n",
       "      <td>1</td>\n",
       "      <td>1</td>\n",
       "      <td>L90D</td>\n",
       "      <td>MAKE</td>\n",
       "      <td>29.0</td>\n",
       "      <td>2020-09-25 18:05:31</td>\n",
       "      <td>NaN</td>\n",
       "    </tr>\n",
       "    <tr>\n",
       "      <th>3</th>\n",
       "      <td>20080107X00026</td>\n",
       "      <td>1</td>\n",
       "      <td>1</td>\n",
       "      <td>L90D</td>\n",
       "      <td>SENG</td>\n",
       "      <td>29.0</td>\n",
       "      <td>2020-09-25 18:05:31</td>\n",
       "      <td>NaN</td>\n",
       "    </tr>\n",
       "    <tr>\n",
       "      <th>4</th>\n",
       "      <td>20080107X00026</td>\n",
       "      <td>1</td>\n",
       "      <td>1</td>\n",
       "      <td>L90D</td>\n",
       "      <td>SIMU</td>\n",
       "      <td>26.0</td>\n",
       "      <td>2020-09-25 18:05:31</td>\n",
       "      <td>NaN</td>\n",
       "    </tr>\n",
       "  </tbody>\n",
       "</table>\n",
       "</div>"
      ],
      "text/plain": [
       "            ev_id  Aircraft_Key  crew_no flight_type flight_craft  \\\n",
       "0  20080107X00026             1        1        L90D         ACTU   \n",
       "1  20080107X00026             1        1        L90D          ALL   \n",
       "2  20080107X00026             1        1        L90D         MAKE   \n",
       "3  20080107X00026             1        1        L90D         SENG   \n",
       "4  20080107X00026             1        1        L90D         SIMU   \n",
       "\n",
       "   flight_hours            lchg_date lchg_userid  \n",
       "0           3.0  2020-09-25 18:05:31         NaN  \n",
       "1          29.0  2020-09-25 18:05:31         NaN  \n",
       "2          29.0  2020-09-25 18:05:31         NaN  \n",
       "3          29.0  2020-09-25 18:05:31         NaN  \n",
       "4          26.0  2020-09-25 18:05:31         NaN  "
      ]
     },
     "execution_count": 46,
     "metadata": {},
     "output_type": "execute_result"
    }
   ],
   "source": [
    "flight_time_df.head()"
   ]
  },
  {
   "cell_type": "code",
   "execution_count": 47,
   "metadata": {},
   "outputs": [
    {
     "data": {
      "text/plain": [
       "19432"
      ]
     },
     "execution_count": 47,
     "metadata": {},
     "output_type": "execute_result"
    }
   ],
   "source": [
    "flight_time_df['ev_id'].nunique()"
   ]
  },
  {
   "attachments": {},
   "cell_type": "markdown",
   "metadata": {},
   "source": [
    "##### Basic"
   ]
  },
  {
   "cell_type": "code",
   "execution_count": 48,
   "metadata": {},
   "outputs": [],
   "source": [
    "flight_time_df['id'] = (flight_time_df['ev_id'].astype(str) + flight_time_df['Aircraft_Key'].astype(str)).astype('object')\n",
    "\n",
    "flight_time_df.drop(['ev_id', 'Aircraft_Key'], axis=1, inplace=True)"
   ]
  },
  {
   "attachments": {},
   "cell_type": "markdown",
   "metadata": {},
   "source": [
    "##### Duplicate Dropping"
   ]
  },
  {
   "cell_type": "code",
   "execution_count": 49,
   "metadata": {},
   "outputs": [],
   "source": [
    "mask = (flight_time_df['flight_craft'] == 'ALL') & (flight_time_df['flight_type'] == 'TOTL')\n",
    "\n",
    "flight_time_df = flight_time_df[mask]\n",
    "flight_time_df.drop(['flight_craft', 'flight_type'], axis=1, inplace=True)"
   ]
  },
  {
   "cell_type": "code",
   "execution_count": 50,
   "metadata": {},
   "outputs": [],
   "source": [
    "flight_time_df = pd.DataFrame(flight_time_df[['id', 'flight_hours']], columns=['id', 'flight_hours'])\n",
    "flight_time_df = flight_time_df.groupby('id', as_index=False).mean()"
   ]
  },
  {
   "attachments": {},
   "cell_type": "markdown",
   "metadata": {},
   "source": [
    "##### Final Check"
   ]
  },
  {
   "cell_type": "code",
   "execution_count": 51,
   "metadata": {},
   "outputs": [
    {
     "data": {
      "text/plain": [
       "(19552, 2)"
      ]
     },
     "execution_count": 51,
     "metadata": {},
     "output_type": "execute_result"
    }
   ],
   "source": [
    "flight_time_df.shape"
   ]
  },
  {
   "cell_type": "code",
   "execution_count": 52,
   "metadata": {},
   "outputs": [
    {
     "data": {
      "text/plain": [
       "19552"
      ]
     },
     "execution_count": 52,
     "metadata": {},
     "output_type": "execute_result"
    }
   ],
   "source": [
    "flight_time_df['id'].nunique()"
   ]
  },
  {
   "cell_type": "code",
   "execution_count": 53,
   "metadata": {},
   "outputs": [
    {
     "data": {
      "text/html": [
       "<div>\n",
       "<style scoped>\n",
       "    .dataframe tbody tr th:only-of-type {\n",
       "        vertical-align: middle;\n",
       "    }\n",
       "\n",
       "    .dataframe tbody tr th {\n",
       "        vertical-align: top;\n",
       "    }\n",
       "\n",
       "    .dataframe thead th {\n",
       "        text-align: right;\n",
       "    }\n",
       "</style>\n",
       "<table border=\"1\" class=\"dataframe\">\n",
       "  <thead>\n",
       "    <tr style=\"text-align: right;\">\n",
       "      <th></th>\n",
       "      <th>id</th>\n",
       "      <th>flight_hours</th>\n",
       "    </tr>\n",
       "  </thead>\n",
       "  <tbody>\n",
       "  </tbody>\n",
       "</table>\n",
       "</div>"
      ],
      "text/plain": [
       "Empty DataFrame\n",
       "Columns: [id, flight_hours]\n",
       "Index: []"
      ]
     },
     "execution_count": 53,
     "metadata": {},
     "output_type": "execute_result"
    }
   ],
   "source": [
    "flight_time_df[flight_time_df.duplicated(subset='id', keep=False)].head()"
   ]
  },
  {
   "cell_type": "code",
   "execution_count": 54,
   "metadata": {},
   "outputs": [
    {
     "data": {
      "text/plain": [
       "0"
      ]
     },
     "execution_count": 54,
     "metadata": {},
     "output_type": "execute_result"
    }
   ],
   "source": [
    "len(flight_time_df[flight_time_df.duplicated(subset='id', keep=False)])"
   ]
  },
  {
   "cell_type": "code",
   "execution_count": 55,
   "metadata": {},
   "outputs": [
    {
     "data": {
      "text/html": [
       "<div>\n",
       "<style scoped>\n",
       "    .dataframe tbody tr th:only-of-type {\n",
       "        vertical-align: middle;\n",
       "    }\n",
       "\n",
       "    .dataframe tbody tr th {\n",
       "        vertical-align: top;\n",
       "    }\n",
       "\n",
       "    .dataframe thead th {\n",
       "        text-align: right;\n",
       "    }\n",
       "</style>\n",
       "<table border=\"1\" class=\"dataframe\">\n",
       "  <thead>\n",
       "    <tr style=\"text-align: right;\">\n",
       "      <th></th>\n",
       "      <th>id</th>\n",
       "      <th>flight_hours</th>\n",
       "    </tr>\n",
       "  </thead>\n",
       "  <tbody>\n",
       "    <tr>\n",
       "      <th>0</th>\n",
       "      <td>20080107X000261</td>\n",
       "      <td>705.0</td>\n",
       "    </tr>\n",
       "    <tr>\n",
       "      <th>1</th>\n",
       "      <td>20080107X000262</td>\n",
       "      <td>8300.0</td>\n",
       "    </tr>\n",
       "    <tr>\n",
       "      <th>2</th>\n",
       "      <td>20080107X000271</td>\n",
       "      <td>10571.0</td>\n",
       "    </tr>\n",
       "    <tr>\n",
       "      <th>3</th>\n",
       "      <td>20080109X000361</td>\n",
       "      <td>1000.0</td>\n",
       "    </tr>\n",
       "    <tr>\n",
       "      <th>4</th>\n",
       "      <td>20080114X000441</td>\n",
       "      <td>537.0</td>\n",
       "    </tr>\n",
       "  </tbody>\n",
       "</table>\n",
       "</div>"
      ],
      "text/plain": [
       "                id  flight_hours\n",
       "0  20080107X000261         705.0\n",
       "1  20080107X000262        8300.0\n",
       "2  20080107X000271       10571.0\n",
       "3  20080109X000361        1000.0\n",
       "4  20080114X000441         537.0"
      ]
     },
     "execution_count": 55,
     "metadata": {},
     "output_type": "execute_result"
    }
   ],
   "source": [
    "flight_time_df.head()"
   ]
  },
  {
   "attachments": {},
   "cell_type": "markdown",
   "metadata": {},
   "source": [
    "## Data Merging"
   ]
  },
  {
   "cell_type": "code",
   "execution_count": 56,
   "metadata": {},
   "outputs": [],
   "source": [
    "def merge_dataframes(df_ref, other_dfs, index_column):\n",
    "    \n",
    "    for df in other_dfs:\n",
    "        df_ref = df_ref.merge(df, how='left', on=index_column)\n",
    "        \n",
    "    return df_ref"
   ]
  },
  {
   "cell_type": "code",
   "execution_count": 57,
   "metadata": {},
   "outputs": [
    {
     "name": "stderr",
     "output_type": "stream",
     "text": [
      "/tmp/ipykernel_17382/3592830939.py:4: FutureWarning: Passing 'suffixes' which cause duplicate columns {'lchg_userid_x', 'lchg_date_x'} in the result is deprecated and will raise a MergeError in a future version.\n",
      "  df_ref = df_ref.merge(df, how='left', on=index_column)\n"
     ]
    }
   ],
   "source": [
    "wingman_df = merge_dataframes(Events_Sequence_df, [aircraft_df, engines_df, Flight_Crew_df, flight_time_df], 'id')"
   ]
  },
  {
   "cell_type": "code",
   "execution_count": 58,
   "metadata": {},
   "outputs": [],
   "source": [
    "X = wingman_df.drop(['eventsoe_no'], axis=1)"
   ]
  },
  {
   "cell_type": "code",
   "execution_count": 59,
   "metadata": {},
   "outputs": [],
   "source": [
    "y = wingman_df[['id', 'eventsoe_no']]"
   ]
  },
  {
   "cell_type": "code",
   "execution_count": 60,
   "metadata": {},
   "outputs": [],
   "source": [
    "X.set_index('id', inplace=True)\n",
    "y.set_index('id', inplace=True)"
   ]
  },
  {
   "cell_type": "code",
   "execution_count": 61,
   "metadata": {},
   "outputs": [],
   "source": [
    "wingman_df.set_index('id', inplace=True)"
   ]
  },
  {
   "attachments": {},
   "cell_type": "markdown",
   "metadata": {},
   "source": [
    "##### Final Check"
   ]
  },
  {
   "cell_type": "code",
   "execution_count": 62,
   "metadata": {},
   "outputs": [
    {
     "data": {
      "text/plain": [
       "(25154, 142)"
      ]
     },
     "execution_count": 62,
     "metadata": {},
     "output_type": "execute_result"
    }
   ],
   "source": [
    "X.shape"
   ]
  },
  {
   "cell_type": "code",
   "execution_count": 63,
   "metadata": {},
   "outputs": [
    {
     "data": {
      "text/plain": [
       "(25154, 1)"
      ]
     },
     "execution_count": 63,
     "metadata": {},
     "output_type": "execute_result"
    }
   ],
   "source": [
    "y.shape"
   ]
  },
  {
   "cell_type": "code",
   "execution_count": 64,
   "metadata": {},
   "outputs": [
    {
     "data": {
      "text/html": [
       "<div>\n",
       "<style scoped>\n",
       "    .dataframe tbody tr th:only-of-type {\n",
       "        vertical-align: middle;\n",
       "    }\n",
       "\n",
       "    .dataframe tbody tr th {\n",
       "        vertical-align: top;\n",
       "    }\n",
       "\n",
       "    .dataframe thead th {\n",
       "        text-align: right;\n",
       "    }\n",
       "</style>\n",
       "<table border=\"1\" class=\"dataframe\">\n",
       "  <thead>\n",
       "    <tr style=\"text-align: right;\">\n",
       "      <th></th>\n",
       "      <th>Occurrence_No</th>\n",
       "      <th>Occurrence_Code</th>\n",
       "      <th>Occurrence_Description</th>\n",
       "      <th>phase_no</th>\n",
       "      <th>lchg_date_x</th>\n",
       "      <th>lchg_userid_x</th>\n",
       "      <th>regis_no</th>\n",
       "      <th>ntsb_no</th>\n",
       "      <th>acft_missing</th>\n",
       "      <th>far_part</th>\n",
       "      <th>...</th>\n",
       "      <th>seat_occ_row</th>\n",
       "      <th>infl_rest_inst</th>\n",
       "      <th>infl_rest_depl</th>\n",
       "      <th>child_restraint</th>\n",
       "      <th>med_crtf_limit</th>\n",
       "      <th>mr_faa_med_certf</th>\n",
       "      <th>pilot_flying</th>\n",
       "      <th>available_restraint</th>\n",
       "      <th>restraint_used</th>\n",
       "      <th>flight_hours</th>\n",
       "    </tr>\n",
       "    <tr>\n",
       "      <th>id</th>\n",
       "      <th></th>\n",
       "      <th></th>\n",
       "      <th></th>\n",
       "      <th></th>\n",
       "      <th></th>\n",
       "      <th></th>\n",
       "      <th></th>\n",
       "      <th></th>\n",
       "      <th></th>\n",
       "      <th></th>\n",
       "      <th></th>\n",
       "      <th></th>\n",
       "      <th></th>\n",
       "      <th></th>\n",
       "      <th></th>\n",
       "      <th></th>\n",
       "      <th></th>\n",
       "      <th></th>\n",
       "      <th></th>\n",
       "      <th></th>\n",
       "      <th></th>\n",
       "    </tr>\n",
       "  </thead>\n",
       "  <tbody>\n",
       "    <tr>\n",
       "      <th>20080107X000261</th>\n",
       "      <td>1</td>\n",
       "      <td>550250</td>\n",
       "      <td>Landing Midair collision</td>\n",
       "      <td>550</td>\n",
       "      <td>2020-09-25 18:05:31</td>\n",
       "      <td>NaN</td>\n",
       "      <td>N8037W</td>\n",
       "      <td>SEA08LA057A</td>\n",
       "      <td>N</td>\n",
       "      <td>091</td>\n",
       "      <td>...</td>\n",
       "      <td>NaN</td>\n",
       "      <td>NaN</td>\n",
       "      <td>NaN</td>\n",
       "      <td>NaN</td>\n",
       "      <td>NaN</td>\n",
       "      <td>NaN</td>\n",
       "      <td>False</td>\n",
       "      <td>NaN</td>\n",
       "      <td>NaN</td>\n",
       "      <td>705.0</td>\n",
       "    </tr>\n",
       "    <tr>\n",
       "      <th>20080107X000262</th>\n",
       "      <td>1</td>\n",
       "      <td>350250</td>\n",
       "      <td>Initial climb Midair collision</td>\n",
       "      <td>350</td>\n",
       "      <td>2020-09-25 18:05:31</td>\n",
       "      <td>NaN</td>\n",
       "      <td>N15EX</td>\n",
       "      <td>SEA08LA057B</td>\n",
       "      <td>N</td>\n",
       "      <td>091</td>\n",
       "      <td>...</td>\n",
       "      <td>NaN</td>\n",
       "      <td>NaN</td>\n",
       "      <td>NaN</td>\n",
       "      <td>NaN</td>\n",
       "      <td>NaN</td>\n",
       "      <td>NaN</td>\n",
       "      <td>False</td>\n",
       "      <td>NaN</td>\n",
       "      <td>NaN</td>\n",
       "      <td>8300.0</td>\n",
       "    </tr>\n",
       "    <tr>\n",
       "      <th>20080109X000361</th>\n",
       "      <td>1</td>\n",
       "      <td>551230</td>\n",
       "      <td>Landing-flare/touchdown Loss of control on ground</td>\n",
       "      <td>551</td>\n",
       "      <td>2020-09-25 18:05:31</td>\n",
       "      <td>NaN</td>\n",
       "      <td>N579RM</td>\n",
       "      <td>DFW08CA054</td>\n",
       "      <td>N</td>\n",
       "      <td>091</td>\n",
       "      <td>...</td>\n",
       "      <td>NaN</td>\n",
       "      <td>NaN</td>\n",
       "      <td>NaN</td>\n",
       "      <td>NaN</td>\n",
       "      <td>NaN</td>\n",
       "      <td>NaN</td>\n",
       "      <td>False</td>\n",
       "      <td>NaN</td>\n",
       "      <td>NaN</td>\n",
       "      <td>1000.0</td>\n",
       "    </tr>\n",
       "    <tr>\n",
       "      <th>20080107X000271</th>\n",
       "      <td>1</td>\n",
       "      <td>153081</td>\n",
       "      <td>Standing-engine(s) operating AC/prop/rotor con...</td>\n",
       "      <td>153</td>\n",
       "      <td>2020-09-25 18:04:02</td>\n",
       "      <td>NaN</td>\n",
       "      <td>N398J</td>\n",
       "      <td>DFW08LA055</td>\n",
       "      <td>N</td>\n",
       "      <td>091</td>\n",
       "      <td>...</td>\n",
       "      <td>NaN</td>\n",
       "      <td>NaN</td>\n",
       "      <td>NaN</td>\n",
       "      <td>NaN</td>\n",
       "      <td>NaN</td>\n",
       "      <td>NaN</td>\n",
       "      <td>False</td>\n",
       "      <td>NaN</td>\n",
       "      <td>NaN</td>\n",
       "      <td>10571.0</td>\n",
       "    </tr>\n",
       "    <tr>\n",
       "      <th>20080115X000511</th>\n",
       "      <td>1</td>\n",
       "      <td>551240</td>\n",
       "      <td>Landing-flare/touchdown Loss of control in flight</td>\n",
       "      <td>551</td>\n",
       "      <td>2020-09-25 18:06:16</td>\n",
       "      <td>NaN</td>\n",
       "      <td>N24965</td>\n",
       "      <td>DEN08CA047</td>\n",
       "      <td>N</td>\n",
       "      <td>091</td>\n",
       "      <td>...</td>\n",
       "      <td>NaN</td>\n",
       "      <td>NaN</td>\n",
       "      <td>NaN</td>\n",
       "      <td>NaN</td>\n",
       "      <td>NaN</td>\n",
       "      <td>NaN</td>\n",
       "      <td>False</td>\n",
       "      <td>NaN</td>\n",
       "      <td>NaN</td>\n",
       "      <td>18.0</td>\n",
       "    </tr>\n",
       "  </tbody>\n",
       "</table>\n",
       "<p>5 rows × 142 columns</p>\n",
       "</div>"
      ],
      "text/plain": [
       "                 Occurrence_No  Occurrence_Code  \\\n",
       "id                                                \n",
       "20080107X000261              1           550250   \n",
       "20080107X000262              1           350250   \n",
       "20080109X000361              1           551230   \n",
       "20080107X000271              1           153081   \n",
       "20080115X000511              1           551240   \n",
       "\n",
       "                                            Occurrence_Description  phase_no  \\\n",
       "id                                                                             \n",
       "20080107X000261                           Landing Midair collision       550   \n",
       "20080107X000262                     Initial climb Midair collision       350   \n",
       "20080109X000361  Landing-flare/touchdown Loss of control on ground       551   \n",
       "20080107X000271  Standing-engine(s) operating AC/prop/rotor con...       153   \n",
       "20080115X000511  Landing-flare/touchdown Loss of control in flight       551   \n",
       "\n",
       "                         lchg_date_x  lchg_userid_x regis_no      ntsb_no  \\\n",
       "id                                                                          \n",
       "20080107X000261  2020-09-25 18:05:31            NaN   N8037W  SEA08LA057A   \n",
       "20080107X000262  2020-09-25 18:05:31            NaN    N15EX  SEA08LA057B   \n",
       "20080109X000361  2020-09-25 18:05:31            NaN   N579RM   DFW08CA054   \n",
       "20080107X000271  2020-09-25 18:04:02            NaN    N398J   DFW08LA055   \n",
       "20080115X000511  2020-09-25 18:06:16            NaN   N24965   DEN08CA047   \n",
       "\n",
       "                acft_missing far_part  ... seat_occ_row infl_rest_inst  \\\n",
       "id                                     ...                               \n",
       "20080107X000261            N      091  ...          NaN            NaN   \n",
       "20080107X000262            N      091  ...          NaN            NaN   \n",
       "20080109X000361            N      091  ...          NaN            NaN   \n",
       "20080107X000271            N      091  ...          NaN            NaN   \n",
       "20080115X000511            N      091  ...          NaN            NaN   \n",
       "\n",
       "                infl_rest_depl child_restraint med_crtf_limit  \\\n",
       "id                                                              \n",
       "20080107X000261            NaN             NaN            NaN   \n",
       "20080107X000262            NaN             NaN            NaN   \n",
       "20080109X000361            NaN             NaN            NaN   \n",
       "20080107X000271            NaN             NaN            NaN   \n",
       "20080115X000511            NaN             NaN            NaN   \n",
       "\n",
       "                mr_faa_med_certf pilot_flying available_restraint  \\\n",
       "id                                                                  \n",
       "20080107X000261              NaN        False                 NaN   \n",
       "20080107X000262              NaN        False                 NaN   \n",
       "20080109X000361              NaN        False                 NaN   \n",
       "20080107X000271              NaN        False                 NaN   \n",
       "20080115X000511              NaN        False                 NaN   \n",
       "\n",
       "                restraint_used  flight_hours  \n",
       "id                                            \n",
       "20080107X000261            NaN         705.0  \n",
       "20080107X000262            NaN        8300.0  \n",
       "20080109X000361            NaN        1000.0  \n",
       "20080107X000271            NaN       10571.0  \n",
       "20080115X000511            NaN          18.0  \n",
       "\n",
       "[5 rows x 142 columns]"
      ]
     },
     "execution_count": 64,
     "metadata": {},
     "output_type": "execute_result"
    }
   ],
   "source": [
    "X.head()"
   ]
  },
  {
   "cell_type": "code",
   "execution_count": 65,
   "metadata": {},
   "outputs": [
    {
     "data": {
      "text/html": [
       "<div>\n",
       "<style scoped>\n",
       "    .dataframe tbody tr th:only-of-type {\n",
       "        vertical-align: middle;\n",
       "    }\n",
       "\n",
       "    .dataframe tbody tr th {\n",
       "        vertical-align: top;\n",
       "    }\n",
       "\n",
       "    .dataframe thead th {\n",
       "        text-align: right;\n",
       "    }\n",
       "</style>\n",
       "<table border=\"1\" class=\"dataframe\">\n",
       "  <thead>\n",
       "    <tr style=\"text-align: right;\">\n",
       "      <th></th>\n",
       "      <th>eventsoe_no</th>\n",
       "    </tr>\n",
       "    <tr>\n",
       "      <th>id</th>\n",
       "      <th></th>\n",
       "    </tr>\n",
       "  </thead>\n",
       "  <tbody>\n",
       "    <tr>\n",
       "      <th>20080107X000261</th>\n",
       "      <td>250</td>\n",
       "    </tr>\n",
       "    <tr>\n",
       "      <th>20080107X000262</th>\n",
       "      <td>250</td>\n",
       "    </tr>\n",
       "    <tr>\n",
       "      <th>20080109X000361</th>\n",
       "      <td>230</td>\n",
       "    </tr>\n",
       "    <tr>\n",
       "      <th>20080107X000271</th>\n",
       "      <td>81</td>\n",
       "    </tr>\n",
       "    <tr>\n",
       "      <th>20080115X000511</th>\n",
       "      <td>240</td>\n",
       "    </tr>\n",
       "  </tbody>\n",
       "</table>\n",
       "</div>"
      ],
      "text/plain": [
       "                 eventsoe_no\n",
       "id                          \n",
       "20080107X000261          250\n",
       "20080107X000262          250\n",
       "20080109X000361          230\n",
       "20080107X000271           81\n",
       "20080115X000511          240"
      ]
     },
     "execution_count": 65,
     "metadata": {},
     "output_type": "execute_result"
    }
   ],
   "source": [
    "y.head()"
   ]
  },
  {
   "cell_type": "code",
   "execution_count": 66,
   "metadata": {},
   "outputs": [],
   "source": [
    "# Write to CSV\n",
    "\n",
    "import os\n",
    " \n",
    "output_directory = r\"/home/aaron/code/AaronDV17/wingman-project/raw_data/trimmed_data\"\n",
    "\n",
    "output_file = os.path.join(output_directory, \"WINGMAN.csv\")\n",
    "\n",
    "pd.DataFrame.to_csv(wingman_df, output_file, index=False)"
   ]
  }
 ],
 "metadata": {
  "kernelspec": {
   "display_name": "Python 3",
   "language": "python",
   "name": "python3"
  },
  "language_info": {
   "codemirror_mode": {
    "name": "ipython",
    "version": 3
   },
   "file_extension": ".py",
   "mimetype": "text/x-python",
   "name": "python",
   "nbconvert_exporter": "python",
   "pygments_lexer": "ipython3",
   "version": "3.10.6"
  },
  "orig_nbformat": 4
 },
 "nbformat": 4,
 "nbformat_minor": 2
}
