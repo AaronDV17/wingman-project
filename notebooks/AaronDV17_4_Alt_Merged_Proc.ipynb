{
 "cells": [
  {
   "attachments": {},
   "cell_type": "markdown",
   "metadata": {},
   "source": [
    "## Imports"
   ]
  },
  {
   "cell_type": "code",
   "execution_count": 1,
   "metadata": {},
   "outputs": [],
   "source": [
    "# IMPORTS\n",
    "import pandas as pd\n",
    "import numpy as np\n",
    "\n",
    "import seaborn as sns\n",
    "import matplotlib.pyplot as plt"
   ]
  },
  {
   "attachments": {},
   "cell_type": "markdown",
   "metadata": {},
   "source": [
    "## Load Data"
   ]
  },
  {
   "cell_type": "code",
   "execution_count": 2,
   "metadata": {},
   "outputs": [
    {
     "name": "stderr",
     "output_type": "stream",
     "text": [
      "/tmp/ipykernel_17367/3449516746.py:1: DtypeWarning: Columns (64,136,138) have mixed types. Specify dtype option on import or set low_memory=False.\n",
      "  wingman_df = pd.read_csv('../raw_data/trimmed_data/WNGMN.csv')\n"
     ]
    }
   ],
   "source": [
    "wingman_df = pd.read_csv('../raw_data/trimmed_data/WINGMAN.csv')"
   ]
  },
  {
   "attachments": {},
   "cell_type": "markdown",
   "metadata": {},
   "source": [
    "## Column Dropping / Selection"
   ]
  },
  {
   "attachments": {},
   "cell_type": "markdown",
   "metadata": {},
   "source": [
    "##### Info"
   ]
  },
  {
   "cell_type": "code",
   "execution_count": 5,
   "metadata": {},
   "outputs": [
    {
     "name": "stdout",
     "output_type": "stream",
     "text": [
      "<class 'pandas.core.frame.DataFrame'>\n",
      "RangeIndex: 25154 entries, 0 to 25153\n",
      "Columns: 143 entries, Occurrence_No to flight_hours\n",
      "dtypes: bool(5), float64(36), int64(4), object(98)\n",
      "memory usage: 26.6+ MB\n"
     ]
    }
   ],
   "source": [
    "wingman_df.info()"
   ]
  },
  {
   "cell_type": "code",
   "execution_count": 4,
   "metadata": {},
   "outputs": [
    {
     "data": {
      "text/html": [
       "<div>\n",
       "<style scoped>\n",
       "    .dataframe tbody tr th:only-of-type {\n",
       "        vertical-align: middle;\n",
       "    }\n",
       "\n",
       "    .dataframe tbody tr th {\n",
       "        vertical-align: top;\n",
       "    }\n",
       "\n",
       "    .dataframe thead th {\n",
       "        text-align: right;\n",
       "    }\n",
       "</style>\n",
       "<table border=\"1\" class=\"dataframe\">\n",
       "  <thead>\n",
       "    <tr style=\"text-align: right;\">\n",
       "      <th></th>\n",
       "      <th>Occurrence_No</th>\n",
       "      <th>Occurrence_Code</th>\n",
       "      <th>Occurrence_Description</th>\n",
       "      <th>phase_no</th>\n",
       "      <th>eventsoe_no</th>\n",
       "      <th>lchg_date_x</th>\n",
       "      <th>lchg_userid_x</th>\n",
       "      <th>regis_no</th>\n",
       "      <th>ntsb_no</th>\n",
       "      <th>acft_missing</th>\n",
       "      <th>...</th>\n",
       "      <th>seat_occ_row</th>\n",
       "      <th>infl_rest_inst</th>\n",
       "      <th>infl_rest_depl</th>\n",
       "      <th>child_restraint</th>\n",
       "      <th>med_crtf_limit</th>\n",
       "      <th>mr_faa_med_certf</th>\n",
       "      <th>pilot_flying</th>\n",
       "      <th>available_restraint</th>\n",
       "      <th>restraint_used</th>\n",
       "      <th>flight_hours</th>\n",
       "    </tr>\n",
       "  </thead>\n",
       "  <tbody>\n",
       "    <tr>\n",
       "      <th>0</th>\n",
       "      <td>1</td>\n",
       "      <td>550250</td>\n",
       "      <td>Landing Midair collision</td>\n",
       "      <td>550</td>\n",
       "      <td>250</td>\n",
       "      <td>2020-09-25 18:05:31</td>\n",
       "      <td>NaN</td>\n",
       "      <td>N8037W</td>\n",
       "      <td>SEA08LA057A</td>\n",
       "      <td>N</td>\n",
       "      <td>...</td>\n",
       "      <td>NaN</td>\n",
       "      <td>NaN</td>\n",
       "      <td>NaN</td>\n",
       "      <td>NaN</td>\n",
       "      <td>NaN</td>\n",
       "      <td>NaN</td>\n",
       "      <td>False</td>\n",
       "      <td>NaN</td>\n",
       "      <td>NaN</td>\n",
       "      <td>705.0</td>\n",
       "    </tr>\n",
       "    <tr>\n",
       "      <th>1</th>\n",
       "      <td>1</td>\n",
       "      <td>350250</td>\n",
       "      <td>Initial climb Midair collision</td>\n",
       "      <td>350</td>\n",
       "      <td>250</td>\n",
       "      <td>2020-09-25 18:05:31</td>\n",
       "      <td>NaN</td>\n",
       "      <td>N15EX</td>\n",
       "      <td>SEA08LA057B</td>\n",
       "      <td>N</td>\n",
       "      <td>...</td>\n",
       "      <td>NaN</td>\n",
       "      <td>NaN</td>\n",
       "      <td>NaN</td>\n",
       "      <td>NaN</td>\n",
       "      <td>NaN</td>\n",
       "      <td>NaN</td>\n",
       "      <td>False</td>\n",
       "      <td>NaN</td>\n",
       "      <td>NaN</td>\n",
       "      <td>8300.0</td>\n",
       "    </tr>\n",
       "    <tr>\n",
       "      <th>2</th>\n",
       "      <td>1</td>\n",
       "      <td>551230</td>\n",
       "      <td>Landing-flare/touchdown Loss of control on ground</td>\n",
       "      <td>551</td>\n",
       "      <td>230</td>\n",
       "      <td>2020-09-25 18:05:31</td>\n",
       "      <td>NaN</td>\n",
       "      <td>N579RM</td>\n",
       "      <td>DFW08CA054</td>\n",
       "      <td>N</td>\n",
       "      <td>...</td>\n",
       "      <td>NaN</td>\n",
       "      <td>NaN</td>\n",
       "      <td>NaN</td>\n",
       "      <td>NaN</td>\n",
       "      <td>NaN</td>\n",
       "      <td>NaN</td>\n",
       "      <td>False</td>\n",
       "      <td>NaN</td>\n",
       "      <td>NaN</td>\n",
       "      <td>1000.0</td>\n",
       "    </tr>\n",
       "    <tr>\n",
       "      <th>3</th>\n",
       "      <td>1</td>\n",
       "      <td>153081</td>\n",
       "      <td>Standing-engine(s) operating AC/prop/rotor con...</td>\n",
       "      <td>153</td>\n",
       "      <td>81</td>\n",
       "      <td>2020-09-25 18:04:02</td>\n",
       "      <td>NaN</td>\n",
       "      <td>N398J</td>\n",
       "      <td>DFW08LA055</td>\n",
       "      <td>N</td>\n",
       "      <td>...</td>\n",
       "      <td>NaN</td>\n",
       "      <td>NaN</td>\n",
       "      <td>NaN</td>\n",
       "      <td>NaN</td>\n",
       "      <td>NaN</td>\n",
       "      <td>NaN</td>\n",
       "      <td>False</td>\n",
       "      <td>NaN</td>\n",
       "      <td>NaN</td>\n",
       "      <td>10571.0</td>\n",
       "    </tr>\n",
       "    <tr>\n",
       "      <th>4</th>\n",
       "      <td>1</td>\n",
       "      <td>551240</td>\n",
       "      <td>Landing-flare/touchdown Loss of control in flight</td>\n",
       "      <td>551</td>\n",
       "      <td>240</td>\n",
       "      <td>2020-09-25 18:06:16</td>\n",
       "      <td>NaN</td>\n",
       "      <td>N24965</td>\n",
       "      <td>DEN08CA047</td>\n",
       "      <td>N</td>\n",
       "      <td>...</td>\n",
       "      <td>NaN</td>\n",
       "      <td>NaN</td>\n",
       "      <td>NaN</td>\n",
       "      <td>NaN</td>\n",
       "      <td>NaN</td>\n",
       "      <td>NaN</td>\n",
       "      <td>False</td>\n",
       "      <td>NaN</td>\n",
       "      <td>NaN</td>\n",
       "      <td>18.0</td>\n",
       "    </tr>\n",
       "  </tbody>\n",
       "</table>\n",
       "<p>5 rows × 143 columns</p>\n",
       "</div>"
      ],
      "text/plain": [
       "   Occurrence_No  Occurrence_Code  \\\n",
       "0              1           550250   \n",
       "1              1           350250   \n",
       "2              1           551230   \n",
       "3              1           153081   \n",
       "4              1           551240   \n",
       "\n",
       "                              Occurrence_Description  phase_no  eventsoe_no  \\\n",
       "0                           Landing Midair collision       550          250   \n",
       "1                     Initial climb Midair collision       350          250   \n",
       "2  Landing-flare/touchdown Loss of control on ground       551          230   \n",
       "3  Standing-engine(s) operating AC/prop/rotor con...       153           81   \n",
       "4  Landing-flare/touchdown Loss of control in flight       551          240   \n",
       "\n",
       "           lchg_date_x  lchg_userid_x regis_no      ntsb_no acft_missing  ...  \\\n",
       "0  2020-09-25 18:05:31            NaN   N8037W  SEA08LA057A            N  ...   \n",
       "1  2020-09-25 18:05:31            NaN    N15EX  SEA08LA057B            N  ...   \n",
       "2  2020-09-25 18:05:31            NaN   N579RM   DFW08CA054            N  ...   \n",
       "3  2020-09-25 18:04:02            NaN    N398J   DFW08LA055            N  ...   \n",
       "4  2020-09-25 18:06:16            NaN   N24965   DEN08CA047            N  ...   \n",
       "\n",
       "  seat_occ_row infl_rest_inst infl_rest_depl child_restraint med_crtf_limit  \\\n",
       "0          NaN            NaN            NaN             NaN            NaN   \n",
       "1          NaN            NaN            NaN             NaN            NaN   \n",
       "2          NaN            NaN            NaN             NaN            NaN   \n",
       "3          NaN            NaN            NaN             NaN            NaN   \n",
       "4          NaN            NaN            NaN             NaN            NaN   \n",
       "\n",
       "  mr_faa_med_certf pilot_flying available_restraint restraint_used  \\\n",
       "0              NaN        False                 NaN            NaN   \n",
       "1              NaN        False                 NaN            NaN   \n",
       "2              NaN        False                 NaN            NaN   \n",
       "3              NaN        False                 NaN            NaN   \n",
       "4              NaN        False                 NaN            NaN   \n",
       "\n",
       "  flight_hours  \n",
       "0        705.0  \n",
       "1       8300.0  \n",
       "2       1000.0  \n",
       "3      10571.0  \n",
       "4         18.0  \n",
       "\n",
       "[5 rows x 143 columns]"
      ]
     },
     "execution_count": 4,
     "metadata": {},
     "output_type": "execute_result"
    }
   ],
   "source": [
    "wingman_df.head()"
   ]
  },
  {
   "cell_type": "code",
   "execution_count": 10,
   "metadata": {},
   "outputs": [
    {
     "data": {
      "text/plain": [
       "['Occurrence_No',\n",
       " 'Occurrence_Code',\n",
       " 'Occurrence_Description',\n",
       " 'phase_no',\n",
       " 'eventsoe_no',\n",
       " 'lchg_date_x',\n",
       " 'lchg_userid_x',\n",
       " 'regis_no',\n",
       " 'ntsb_no',\n",
       " 'acft_missing',\n",
       " 'far_part',\n",
       " 'flt_plan_filed',\n",
       " 'flight_plan_activated',\n",
       " 'damage',\n",
       " 'acft_fire',\n",
       " 'acft_expl',\n",
       " 'acft_make',\n",
       " 'acft_model',\n",
       " 'acft_series',\n",
       " 'acft_serial_no',\n",
       " 'cert_max_gr_wt',\n",
       " 'acft_category',\n",
       " 'acft_reg_cls',\n",
       " 'homebuilt',\n",
       " 'fc_seats',\n",
       " 'cc_seats',\n",
       " 'pax_seats',\n",
       " 'total_seats',\n",
       " 'num_eng',\n",
       " 'fixed_retractable',\n",
       " 'type_last_insp',\n",
       " 'date_last_insp',\n",
       " 'afm_hrs_last_insp',\n",
       " 'afm_hrs',\n",
       " 'elt_install',\n",
       " 'elt_oper',\n",
       " 'elt_aided_loc_ev',\n",
       " 'elt_type',\n",
       " 'owner_acft',\n",
       " 'owner_street',\n",
       " 'owner_city',\n",
       " 'owner_state',\n",
       " 'owner_country',\n",
       " 'owner_zip',\n",
       " 'oper_individual_name',\n",
       " 'oper_name',\n",
       " 'oper_same',\n",
       " 'oper_dba',\n",
       " 'oper_addr_same',\n",
       " 'oper_street',\n",
       " 'oper_city',\n",
       " 'oper_state',\n",
       " 'oper_country',\n",
       " 'oper_zip',\n",
       " 'oper_code',\n",
       " 'certs_held',\n",
       " 'oprtng_cert',\n",
       " 'oper_cert',\n",
       " 'oper_cert_num',\n",
       " 'oper_sched',\n",
       " 'oper_dom_int',\n",
       " 'oper_pax_cargo',\n",
       " 'type_fly',\n",
       " 'second_pilot',\n",
       " 'dprt_pt_same_ev',\n",
       " 'dprt_apt_id',\n",
       " 'dprt_city',\n",
       " 'dprt_state',\n",
       " 'dprt_country',\n",
       " 'dprt_time',\n",
       " 'dprt_timezn',\n",
       " 'dest_same_local',\n",
       " 'dest_apt_id',\n",
       " 'dest_city',\n",
       " 'dest_state',\n",
       " 'dest_country',\n",
       " 'phase_flt_spec',\n",
       " 'report_to_icao',\n",
       " 'evacuation',\n",
       " 'lchg_date_y',\n",
       " 'lchg_userid_y',\n",
       " 'afm_hrs_since',\n",
       " 'rwy_num',\n",
       " 'rwy_len',\n",
       " 'rwy_width',\n",
       " 'site_seeing',\n",
       " 'air_medical',\n",
       " 'med_type_flight',\n",
       " 'acft_year',\n",
       " 'fuel_on_board',\n",
       " 'commercial_space_flight',\n",
       " 'unmanned',\n",
       " 'ifr_equipped_cert',\n",
       " 'elt_mounted_aircraft',\n",
       " 'elt_connected_antenna',\n",
       " 'elt_manufacturer',\n",
       " 'elt_model',\n",
       " 'elt_reason_other',\n",
       " 'eng_type',\n",
       " 'eng_mfgr',\n",
       " 'eng_model',\n",
       " 'power_units',\n",
       " 'hp_or_lbs',\n",
       " 'lchg_userid_x.1',\n",
       " 'lchg_date_x.1',\n",
       " 'carb_fuel_injection',\n",
       " 'propeller_type',\n",
       " 'propeller_make',\n",
       " 'propeller_model',\n",
       " 'eng_time_total',\n",
       " 'eng_time_last_insp',\n",
       " 'eng_time_overhaul',\n",
       " 'crew_category',\n",
       " 'crew_age',\n",
       " 'crew_sex',\n",
       " 'crew_city',\n",
       " 'crew_res_state',\n",
       " 'crew_res_country',\n",
       " 'med_certf',\n",
       " 'med_crtf_vldty',\n",
       " 'date_lst_med',\n",
       " 'crew_rat_endorse',\n",
       " 'crew_inj_level',\n",
       " 'seatbelts_used',\n",
       " 'shldr_harn_used',\n",
       " 'crew_tox_perf',\n",
       " 'seat_occ_pic',\n",
       " 'pc_profession',\n",
       " 'bfr',\n",
       " 'bfr_date',\n",
       " 'ft_as_of',\n",
       " 'lchg_date_y.1',\n",
       " 'lchg_userid_y.1',\n",
       " 'seat_occ_row',\n",
       " 'infl_rest_inst',\n",
       " 'infl_rest_depl',\n",
       " 'child_restraint',\n",
       " 'med_crtf_limit',\n",
       " 'mr_faa_med_certf',\n",
       " 'pilot_flying',\n",
       " 'available_restraint',\n",
       " 'restraint_used',\n",
       " 'flight_hours']"
      ]
     },
     "execution_count": 10,
     "metadata": {},
     "output_type": "execute_result"
    }
   ],
   "source": [
    "wingman_df.columns.tolist()"
   ]
  },
  {
   "attachments": {},
   "cell_type": "markdown",
   "metadata": {},
   "source": [
    "##### a) Drop Choice"
   ]
  },
  {
   "cell_type": "code",
   "execution_count": 11,
   "metadata": {},
   "outputs": [],
   "source": [
    "drop_cols = [\n",
    "    'Occurrence_No',\n",
    "    'Occurrence_Code',\n",
    "    'Occurrence_Description',\n",
    "    'phase_no',\n",
    "    'lchg_date_x',\n",
    "    'lchg_userid_x',\n",
    "    'regis_no',\n",
    "    'ntsb_no',\n",
    "    'acft_missing',\n",
    "    'flight_plan_activated',\n",
    "    'damage',\n",
    "    'acft_fire',\n",
    "    'acft_expl',\n",
    "    'acft_reg_cls',\n",
    "    'date_last_insp',\n",
    "    'elt_aided_loc_ev',\n",
    "    'elt_type',\n",
    "    'owner_acft',\n",
    "    'owner_street',\n",
    "    'owner_city',\n",
    "    'owner_state',\n",
    "    'owner_country',\n",
    "    'owner_zip',\n",
    "    'oper_individual_name',\n",
    "    'oper_name',\n",
    "    'oper_same',\n",
    "    'oper_dba',\n",
    "    'oper_addr_same',\n",
    "    'oper_street',\n",
    "    'oper_city',\n",
    "    'oper_state',\n",
    "    'oper_country',\n",
    "    'oper_zip',\n",
    "    'oper_code',\n",
    "    'oprtng_cert',\n",
    "    'oper_cert',\n",
    "    'dprt_timezn',\n",
    "    'dest_same_local',\n",
    "    'phase_flt_spec',\n",
    "    'report_to_icao',\n",
    "    'evacuation',\n",
    "    'lchg_date_y',\n",
    "    'lchg_userid_y',\n",
    "    'med_type_flight',\n",
    "    'elt_manufacturer',\n",
    "    'elt_model',\n",
    "    'elt_reason_other',\n",
    "    'lchg_userid_x.1',\n",
    "    'lchg_date_x.1',\n",
    "    'date_lst_med',\n",
    "    'lchg_date_y.1',\n",
    "    'lchg_userid_y.1',\n",
    "    'restraint_used',\n",
    "    ]"
   ]
  },
  {
   "cell_type": "code",
   "execution_count": null,
   "metadata": {},
   "outputs": [
    {
     "data": {
      "text/plain": [
       "(25154, 90)"
      ]
     },
     "metadata": {},
     "output_type": "display_data"
    }
   ],
   "source": [
    "wingman_drop_df = wingman_df.drop(columns=drop_cols, axis=1, inplace=False)"
   ]
  },
  {
   "cell_type": "code",
   "execution_count": null,
   "metadata": {},
   "outputs": [],
   "source": [
    "wingman_drop_df.shape"
   ]
  },
  {
   "cell_type": "code",
   "execution_count": null,
   "metadata": {},
   "outputs": [],
   "source": [
    "wingman_drop_df.info()"
   ]
  },
  {
   "cell_type": "code",
   "execution_count": null,
   "metadata": {},
   "outputs": [],
   "source": [
    "wingman_drop_df.head()"
   ]
  },
  {
   "attachments": {},
   "cell_type": "markdown",
   "metadata": {},
   "source": [
    "##### b) Selection Choice"
   ]
  },
  {
   "cell_type": "code",
   "execution_count": null,
   "metadata": {},
   "outputs": [],
   "source": [
    "sel_cols = [\n",
    "    \n",
    "]"
   ]
  },
  {
   "cell_type": "code",
   "execution_count": 13,
   "metadata": {},
   "outputs": [
    {
     "data": {
      "text/plain": [
       "(25154, 90)"
      ]
     },
     "execution_count": 13,
     "metadata": {},
     "output_type": "execute_result"
    }
   ],
   "source": [
    "wingman_sel_df = wingman_df[sel_cols].copy()"
   ]
  },
  {
   "cell_type": "code",
   "execution_count": null,
   "metadata": {},
   "outputs": [],
   "source": [
    "wingman_sel_df.shape"
   ]
  },
  {
   "cell_type": "code",
   "execution_count": null,
   "metadata": {},
   "outputs": [],
   "source": [
    "wingman_sel_df.info()"
   ]
  },
  {
   "cell_type": "code",
   "execution_count": null,
   "metadata": {},
   "outputs": [],
   "source": [
    "wingman_sel_df.head()"
   ]
  }
 ],
 "metadata": {
  "kernelspec": {
   "display_name": "Python 3",
   "language": "python",
   "name": "python3"
  },
  "language_info": {
   "codemirror_mode": {
    "name": "ipython",
    "version": 3
   },
   "file_extension": ".py",
   "mimetype": "text/x-python",
   "name": "python",
   "nbconvert_exporter": "python",
   "pygments_lexer": "ipython3",
   "version": "3.10.6"
  },
  "orig_nbformat": 4
 },
 "nbformat": 4,
 "nbformat_minor": 2
}
