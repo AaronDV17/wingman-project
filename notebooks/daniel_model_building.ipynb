{
  "cells": [
    {
      "cell_type": "markdown",
      "metadata": {
        "id": "GQcQ09z0pgpF"
      },
      "source": [
        "## Imports"
      ]
    },
    {
      "cell_type": "code",
      "execution_count": 37,
      "metadata": {
        "id": "aQ6vVSZUpgpH"
      },
      "outputs": [],
      "source": [
        "import pandas as pd\n",
        "import numpy as np\n",
        "import seaborn as sns\n",
        "import matplotlib.pyplot as plt\n",
        "\n",
        "from sklearn.ensemble import RandomForestClassifier\n",
        "from sklearn.model_selection import train_test_split\n",
        "from sklearn.metrics import accuracy_score, confusion_matrix, classification_report\n",
        "\n",
        "from sklearn.model_selection import RandomizedSearchCV\n",
        "from sklearn.model_selection import GridSearchCV\n",
        "from sklearn.utils import compute_class_weight\n",
        "\n",
        "\n",
        "from preprocessor import *\n",
        "from data import *"
      ]
    },
    {
      "cell_type": "code",
      "execution_count": 12,
      "metadata": {
        "id": "ZOJ8o_wqpgpI"
      },
      "outputs": [],
      "source": [
        "## import data when available\n",
        "data = pd.read_csv('wingman_data_proc_v3.csv')\n",
        "data.set_index('id', inplace=True)"
      ]
    },
    {
      "cell_type": "markdown",
      "metadata": {
        "id": "zzmXP3VNpgpI"
      },
      "source": [
        "## Train test split"
      ]
    },
    {
      "cell_type": "code",
      "execution_count": 45,
      "metadata": {
        "id": "NP5G2c2ypgpI"
      },
      "outputs": [],
      "source": [
        "X = data.drop('category_no', axis=1)\n",
        "y = data['category_no']"
      ]
    },
    {
      "cell_type": "code",
      "source": [
        "def calculate_class_weights(y):\n",
        "    \"\"\"\n",
        "    Calculates the balanced class weights for a multiclass classification problem.\n",
        "    Parameters:\n",
        "    - y: array-like, shape (n_samples,)\n",
        "        The target variable containing class labels.\n",
        "    Returns:\n",
        "    - class_weights: dict\n",
        "        A dictionary containing the class weights for each class label.\n",
        "    \"\"\"\n",
        "    class_weights = compute_class_weight(\n",
        "                                        class_weight = \"balanced\",\n",
        "                                        classes = np.unique(y),\n",
        "                                        y = y\n",
        "                                    )\n",
        "    return dict(zip(np.unique(y), class_weights))\n",
        "\n",
        "class_weights = calculate_class_weights(y)"
      ],
      "metadata": {
        "id": "3qAJqPQ1HklX"
      },
      "execution_count": 46,
      "outputs": []
    },
    {
      "cell_type": "code",
      "execution_count": 47,
      "metadata": {
        "id": "J7dBCpqwpgpI"
      },
      "outputs": [],
      "source": [
        "X_train, X_test, y_train, y_test = train_test_split(X, y, test_size=0.3, random_state=1)"
      ]
    },
    {
      "cell_type": "markdown",
      "metadata": {
        "id": "IF-7nFxbpgpI"
      },
      "source": [
        "## Baseline model"
      ]
    },
    {
      "cell_type": "code",
      "execution_count": 48,
      "metadata": {
        "id": "gKQwz9rEpgpJ"
      },
      "outputs": [],
      "source": [
        "model = RandomForestClassifier(n_estimators=100, random_state=1, n_jobs=-1, class_weight=class_weights)"
      ]
    },
    {
      "cell_type": "code",
      "source": [
        "model.fit(X_train, y_train)"
      ],
      "metadata": {
        "colab": {
          "base_uri": "https://localhost:8080/",
          "height": 127
        },
        "id": "NWTrmdf7uYvE",
        "outputId": "9b186fa1-6811-4423-9cab-cf333c513fb3"
      },
      "execution_count": 49,
      "outputs": [
        {
          "output_type": "execute_result",
          "data": {
            "text/plain": [
              "RandomForestClassifier(class_weight={1: 0.6621606205795117,\n",
              "                                     2: 0.7494996449092904,\n",
              "                                     3: 6.4280177187153935},\n",
              "                       n_jobs=-1, random_state=1)"
            ],
            "text/html": [
              "<style>#sk-container-id-4 {color: black;background-color: white;}#sk-container-id-4 pre{padding: 0;}#sk-container-id-4 div.sk-toggleable {background-color: white;}#sk-container-id-4 label.sk-toggleable__label {cursor: pointer;display: block;width: 100%;margin-bottom: 0;padding: 0.3em;box-sizing: border-box;text-align: center;}#sk-container-id-4 label.sk-toggleable__label-arrow:before {content: \"▸\";float: left;margin-right: 0.25em;color: #696969;}#sk-container-id-4 label.sk-toggleable__label-arrow:hover:before {color: black;}#sk-container-id-4 div.sk-estimator:hover label.sk-toggleable__label-arrow:before {color: black;}#sk-container-id-4 div.sk-toggleable__content {max-height: 0;max-width: 0;overflow: hidden;text-align: left;background-color: #f0f8ff;}#sk-container-id-4 div.sk-toggleable__content pre {margin: 0.2em;color: black;border-radius: 0.25em;background-color: #f0f8ff;}#sk-container-id-4 input.sk-toggleable__control:checked~div.sk-toggleable__content {max-height: 200px;max-width: 100%;overflow: auto;}#sk-container-id-4 input.sk-toggleable__control:checked~label.sk-toggleable__label-arrow:before {content: \"▾\";}#sk-container-id-4 div.sk-estimator input.sk-toggleable__control:checked~label.sk-toggleable__label {background-color: #d4ebff;}#sk-container-id-4 div.sk-label input.sk-toggleable__control:checked~label.sk-toggleable__label {background-color: #d4ebff;}#sk-container-id-4 input.sk-hidden--visually {border: 0;clip: rect(1px 1px 1px 1px);clip: rect(1px, 1px, 1px, 1px);height: 1px;margin: -1px;overflow: hidden;padding: 0;position: absolute;width: 1px;}#sk-container-id-4 div.sk-estimator {font-family: monospace;background-color: #f0f8ff;border: 1px dotted black;border-radius: 0.25em;box-sizing: border-box;margin-bottom: 0.5em;}#sk-container-id-4 div.sk-estimator:hover {background-color: #d4ebff;}#sk-container-id-4 div.sk-parallel-item::after {content: \"\";width: 100%;border-bottom: 1px solid gray;flex-grow: 1;}#sk-container-id-4 div.sk-label:hover label.sk-toggleable__label {background-color: #d4ebff;}#sk-container-id-4 div.sk-serial::before {content: \"\";position: absolute;border-left: 1px solid gray;box-sizing: border-box;top: 0;bottom: 0;left: 50%;z-index: 0;}#sk-container-id-4 div.sk-serial {display: flex;flex-direction: column;align-items: center;background-color: white;padding-right: 0.2em;padding-left: 0.2em;position: relative;}#sk-container-id-4 div.sk-item {position: relative;z-index: 1;}#sk-container-id-4 div.sk-parallel {display: flex;align-items: stretch;justify-content: center;background-color: white;position: relative;}#sk-container-id-4 div.sk-item::before, #sk-container-id-4 div.sk-parallel-item::before {content: \"\";position: absolute;border-left: 1px solid gray;box-sizing: border-box;top: 0;bottom: 0;left: 50%;z-index: -1;}#sk-container-id-4 div.sk-parallel-item {display: flex;flex-direction: column;z-index: 1;position: relative;background-color: white;}#sk-container-id-4 div.sk-parallel-item:first-child::after {align-self: flex-end;width: 50%;}#sk-container-id-4 div.sk-parallel-item:last-child::after {align-self: flex-start;width: 50%;}#sk-container-id-4 div.sk-parallel-item:only-child::after {width: 0;}#sk-container-id-4 div.sk-dashed-wrapped {border: 1px dashed gray;margin: 0 0.4em 0.5em 0.4em;box-sizing: border-box;padding-bottom: 0.4em;background-color: white;}#sk-container-id-4 div.sk-label label {font-family: monospace;font-weight: bold;display: inline-block;line-height: 1.2em;}#sk-container-id-4 div.sk-label-container {text-align: center;}#sk-container-id-4 div.sk-container {/* jupyter's `normalize.less` sets `[hidden] { display: none; }` but bootstrap.min.css set `[hidden] { display: none !important; }` so we also need the `!important` here to be able to override the default hidden behavior on the sphinx rendered scikit-learn.org. See: https://github.com/scikit-learn/scikit-learn/issues/21755 */display: inline-block !important;position: relative;}#sk-container-id-4 div.sk-text-repr-fallback {display: none;}</style><div id=\"sk-container-id-4\" class=\"sk-top-container\"><div class=\"sk-text-repr-fallback\"><pre>RandomForestClassifier(class_weight={1: 0.6621606205795117,\n",
              "                                     2: 0.7494996449092904,\n",
              "                                     3: 6.4280177187153935},\n",
              "                       n_jobs=-1, random_state=1)</pre><b>In a Jupyter environment, please rerun this cell to show the HTML representation or trust the notebook. <br />On GitHub, the HTML representation is unable to render, please try loading this page with nbviewer.org.</b></div><div class=\"sk-container\" hidden><div class=\"sk-item\"><div class=\"sk-estimator sk-toggleable\"><input class=\"sk-toggleable__control sk-hidden--visually\" id=\"sk-estimator-id-8\" type=\"checkbox\" checked><label for=\"sk-estimator-id-8\" class=\"sk-toggleable__label sk-toggleable__label-arrow\">RandomForestClassifier</label><div class=\"sk-toggleable__content\"><pre>RandomForestClassifier(class_weight={1: 0.6621606205795117,\n",
              "                                     2: 0.7494996449092904,\n",
              "                                     3: 6.4280177187153935},\n",
              "                       n_jobs=-1, random_state=1)</pre></div></div></div></div></div>"
            ]
          },
          "metadata": {},
          "execution_count": 49
        }
      ]
    },
    {
      "cell_type": "code",
      "execution_count": 52,
      "metadata": {
        "id": "52teviYepgpJ",
        "colab": {
          "base_uri": "https://localhost:8080/"
        },
        "outputId": "9fe33117-f6ea-4b08-daec-5ebb279ca7ed"
      },
      "outputs": [
        {
          "output_type": "execute_result",
          "data": {
            "text/plain": [
              "0.48722365776629345"
            ]
          },
          "metadata": {},
          "execution_count": 52
        }
      ],
      "source": [
        "## baseline prediction\n",
        "\n",
        "y_pred = model.predict(X_test)\n",
        "\n",
        "accuracy_score(y_test, y_pred)"
      ]
    },
    {
      "cell_type": "code",
      "source": [
        "data['category_no'].value_counts()\n",
        "len(data['category_no'])\n",
        "\n",
        "data['category_no'].value_counts()/len(data['category_no'])"
      ],
      "metadata": {
        "colab": {
          "base_uri": "https://localhost:8080/"
        },
        "id": "f7NFKiP-0Rhc",
        "outputId": "3e037939-c87f-421d-e9c0-4176048ccd4f"
      },
      "execution_count": 51,
      "outputs": [
        {
          "output_type": "execute_result",
          "data": {
            "text/plain": [
              "1    0.503403\n",
              "2    0.444741\n",
              "3    0.051856\n",
              "Name: category_no, dtype: float64"
            ]
          },
          "metadata": {},
          "execution_count": 51
        }
      ]
    },
    {
      "cell_type": "markdown",
      "source": [
        "## Model building"
      ],
      "metadata": {
        "id": "SbD_OC2LtZya"
      }
    },
    {
      "cell_type": "code",
      "source": [
        "model.get_params()"
      ],
      "metadata": {
        "id": "1LbpFs7fs8dm",
        "colab": {
          "base_uri": "https://localhost:8080/"
        },
        "outputId": "927dc47d-a889-4d1a-bcd4-a09381642f9e"
      },
      "execution_count": 53,
      "outputs": [
        {
          "output_type": "execute_result",
          "data": {
            "text/plain": [
              "{'bootstrap': True,\n",
              " 'ccp_alpha': 0.0,\n",
              " 'class_weight': {1: 0.6621606205795117,\n",
              "  2: 0.7494996449092904,\n",
              "  3: 6.4280177187153935},\n",
              " 'criterion': 'gini',\n",
              " 'max_depth': None,\n",
              " 'max_features': 'sqrt',\n",
              " 'max_leaf_nodes': None,\n",
              " 'max_samples': None,\n",
              " 'min_impurity_decrease': 0.0,\n",
              " 'min_samples_leaf': 1,\n",
              " 'min_samples_split': 2,\n",
              " 'min_weight_fraction_leaf': 0.0,\n",
              " 'n_estimators': 100,\n",
              " 'n_jobs': -1,\n",
              " 'oob_score': False,\n",
              " 'random_state': 1,\n",
              " 'verbose': 0,\n",
              " 'warm_start': False}"
            ]
          },
          "metadata": {},
          "execution_count": 53
        }
      ]
    },
    {
      "cell_type": "code",
      "source": [
        "# Number of trees in random forest\n",
        "n_estimators = [int(x) for x in np.linspace(start = 100, stop = 2500, num = 10)]\n",
        "# Number of features to consider at every split\n",
        "max_features = ['log2', 'sqrt']\n",
        "# Maximum number of levels in tree\n",
        "max_depth = [int(x) for x in np.linspace(5, 200, num = 10)]\n",
        "max_depth.append(None)\n",
        "# Minimum number of samples required to split a node\n",
        "min_samples_split = [2, 5, 10, 15, 20, 25, 30]\n",
        "# Minimum number of samples required at each leaf node\n",
        "min_samples_leaf = [1, 2, 4, 6, 8, 10, 15, 20, 25, 30]\n",
        "# Method of selecting samples for training each tree\n",
        "bootstrap = [True, False]\n",
        "# Create the random grid\n",
        "random_grid = {'n_estimators': n_estimators,\n",
        "               'max_features': max_features,\n",
        "               'max_depth': max_depth,\n",
        "               'min_samples_split': min_samples_split,\n",
        "               'min_samples_leaf': min_samples_leaf,\n",
        "               'bootstrap': bootstrap}"
      ],
      "metadata": {
        "id": "BA-DWQy4s4Fv"
      },
      "execution_count": 54,
      "outputs": []
    },
    {
      "cell_type": "code",
      "source": [
        "model_random = RandomizedSearchCV(estimator = model, param_distributions = random_grid, n_iter = 10, cv = 5, random_state=1, n_jobs = 1, verbose=3)\n",
        "\n",
        "model_random.fit(X_train, y_train)"
      ],
      "metadata": {
        "id": "JL-LvWuas5Zp",
        "colab": {
          "base_uri": "https://localhost:8080/",
          "height": 427
        },
        "outputId": "c848bcb8-941c-4a86-d846-65071d6cd65f"
      },
      "execution_count": 55,
      "outputs": [
        {
          "output_type": "stream",
          "name": "stdout",
          "text": [
            "Fitting 5 folds for each of 10 candidates, totalling 50 fits\n",
            "[CV 1/5] END bootstrap=False, max_depth=None, max_features=log2, min_samples_leaf=8, min_samples_split=25, n_estimators=900;, score=0.479 total time=  10.5s\n"
          ]
        },
        {
          "output_type": "error",
          "ename": "KeyboardInterrupt",
          "evalue": "ignored",
          "traceback": [
            "\u001b[0;31m---------------------------------------------------------------------------\u001b[0m",
            "\u001b[0;31mKeyboardInterrupt\u001b[0m                         Traceback (most recent call last)",
            "\u001b[0;32m<ipython-input-55-86426f4f536e>\u001b[0m in \u001b[0;36m<cell line: 3>\u001b[0;34m()\u001b[0m\n\u001b[1;32m      1\u001b[0m \u001b[0mmodel_random\u001b[0m \u001b[0;34m=\u001b[0m \u001b[0mRandomizedSearchCV\u001b[0m\u001b[0;34m(\u001b[0m\u001b[0mestimator\u001b[0m \u001b[0;34m=\u001b[0m \u001b[0mmodel\u001b[0m\u001b[0;34m,\u001b[0m \u001b[0mparam_distributions\u001b[0m \u001b[0;34m=\u001b[0m \u001b[0mrandom_grid\u001b[0m\u001b[0;34m,\u001b[0m \u001b[0mn_iter\u001b[0m \u001b[0;34m=\u001b[0m \u001b[0;36m10\u001b[0m\u001b[0;34m,\u001b[0m \u001b[0mcv\u001b[0m \u001b[0;34m=\u001b[0m \u001b[0;36m5\u001b[0m\u001b[0;34m,\u001b[0m \u001b[0mrandom_state\u001b[0m\u001b[0;34m=\u001b[0m\u001b[0;36m1\u001b[0m\u001b[0;34m,\u001b[0m \u001b[0mn_jobs\u001b[0m \u001b[0;34m=\u001b[0m \u001b[0;36m1\u001b[0m\u001b[0;34m,\u001b[0m \u001b[0mverbose\u001b[0m\u001b[0;34m=\u001b[0m\u001b[0;36m3\u001b[0m\u001b[0;34m)\u001b[0m\u001b[0;34m\u001b[0m\u001b[0;34m\u001b[0m\u001b[0m\n\u001b[1;32m      2\u001b[0m \u001b[0;34m\u001b[0m\u001b[0m\n\u001b[0;32m----> 3\u001b[0;31m \u001b[0mmodel_random\u001b[0m\u001b[0;34m.\u001b[0m\u001b[0mfit\u001b[0m\u001b[0;34m(\u001b[0m\u001b[0mX_train\u001b[0m\u001b[0;34m,\u001b[0m \u001b[0my_train\u001b[0m\u001b[0;34m)\u001b[0m\u001b[0;34m\u001b[0m\u001b[0;34m\u001b[0m\u001b[0m\n\u001b[0m",
            "\u001b[0;32m/usr/local/lib/python3.10/dist-packages/sklearn/model_selection/_search.py\u001b[0m in \u001b[0;36mfit\u001b[0;34m(self, X, y, groups, **fit_params)\u001b[0m\n\u001b[1;32m    872\u001b[0m                 \u001b[0;32mreturn\u001b[0m \u001b[0mresults\u001b[0m\u001b[0;34m\u001b[0m\u001b[0;34m\u001b[0m\u001b[0m\n\u001b[1;32m    873\u001b[0m \u001b[0;34m\u001b[0m\u001b[0m\n\u001b[0;32m--> 874\u001b[0;31m             \u001b[0mself\u001b[0m\u001b[0;34m.\u001b[0m\u001b[0m_run_search\u001b[0m\u001b[0;34m(\u001b[0m\u001b[0mevaluate_candidates\u001b[0m\u001b[0;34m)\u001b[0m\u001b[0;34m\u001b[0m\u001b[0;34m\u001b[0m\u001b[0m\n\u001b[0m\u001b[1;32m    875\u001b[0m \u001b[0;34m\u001b[0m\u001b[0m\n\u001b[1;32m    876\u001b[0m             \u001b[0;31m# multimetric is determined here because in the case of a callable\u001b[0m\u001b[0;34m\u001b[0m\u001b[0;34m\u001b[0m\u001b[0m\n",
            "\u001b[0;32m/usr/local/lib/python3.10/dist-packages/sklearn/model_selection/_search.py\u001b[0m in \u001b[0;36m_run_search\u001b[0;34m(self, evaluate_candidates)\u001b[0m\n\u001b[1;32m   1766\u001b[0m     \u001b[0;32mdef\u001b[0m \u001b[0m_run_search\u001b[0m\u001b[0;34m(\u001b[0m\u001b[0mself\u001b[0m\u001b[0;34m,\u001b[0m \u001b[0mevaluate_candidates\u001b[0m\u001b[0;34m)\u001b[0m\u001b[0;34m:\u001b[0m\u001b[0;34m\u001b[0m\u001b[0;34m\u001b[0m\u001b[0m\n\u001b[1;32m   1767\u001b[0m         \u001b[0;34m\"\"\"Search n_iter candidates from param_distributions\"\"\"\u001b[0m\u001b[0;34m\u001b[0m\u001b[0;34m\u001b[0m\u001b[0m\n\u001b[0;32m-> 1768\u001b[0;31m         evaluate_candidates(\n\u001b[0m\u001b[1;32m   1769\u001b[0m             ParameterSampler(\n\u001b[1;32m   1770\u001b[0m                 \u001b[0mself\u001b[0m\u001b[0;34m.\u001b[0m\u001b[0mparam_distributions\u001b[0m\u001b[0;34m,\u001b[0m \u001b[0mself\u001b[0m\u001b[0;34m.\u001b[0m\u001b[0mn_iter\u001b[0m\u001b[0;34m,\u001b[0m \u001b[0mrandom_state\u001b[0m\u001b[0;34m=\u001b[0m\u001b[0mself\u001b[0m\u001b[0;34m.\u001b[0m\u001b[0mrandom_state\u001b[0m\u001b[0;34m\u001b[0m\u001b[0;34m\u001b[0m\u001b[0m\n",
            "\u001b[0;32m/usr/local/lib/python3.10/dist-packages/sklearn/model_selection/_search.py\u001b[0m in \u001b[0;36mevaluate_candidates\u001b[0;34m(candidate_params, cv, more_results)\u001b[0m\n\u001b[1;32m    819\u001b[0m                     )\n\u001b[1;32m    820\u001b[0m \u001b[0;34m\u001b[0m\u001b[0m\n\u001b[0;32m--> 821\u001b[0;31m                 out = parallel(\n\u001b[0m\u001b[1;32m    822\u001b[0m                     delayed(_fit_and_score)(\n\u001b[1;32m    823\u001b[0m                         \u001b[0mclone\u001b[0m\u001b[0;34m(\u001b[0m\u001b[0mbase_estimator\u001b[0m\u001b[0;34m)\u001b[0m\u001b[0;34m,\u001b[0m\u001b[0;34m\u001b[0m\u001b[0;34m\u001b[0m\u001b[0m\n",
            "\u001b[0;32m/usr/local/lib/python3.10/dist-packages/sklearn/utils/parallel.py\u001b[0m in \u001b[0;36m__call__\u001b[0;34m(self, iterable)\u001b[0m\n\u001b[1;32m     61\u001b[0m             \u001b[0;32mfor\u001b[0m \u001b[0mdelayed_func\u001b[0m\u001b[0;34m,\u001b[0m \u001b[0margs\u001b[0m\u001b[0;34m,\u001b[0m \u001b[0mkwargs\u001b[0m \u001b[0;32min\u001b[0m \u001b[0miterable\u001b[0m\u001b[0;34m\u001b[0m\u001b[0;34m\u001b[0m\u001b[0m\n\u001b[1;32m     62\u001b[0m         )\n\u001b[0;32m---> 63\u001b[0;31m         \u001b[0;32mreturn\u001b[0m \u001b[0msuper\u001b[0m\u001b[0;34m(\u001b[0m\u001b[0;34m)\u001b[0m\u001b[0;34m.\u001b[0m\u001b[0m__call__\u001b[0m\u001b[0;34m(\u001b[0m\u001b[0miterable_with_config\u001b[0m\u001b[0;34m)\u001b[0m\u001b[0;34m\u001b[0m\u001b[0;34m\u001b[0m\u001b[0m\n\u001b[0m\u001b[1;32m     64\u001b[0m \u001b[0;34m\u001b[0m\u001b[0m\n\u001b[1;32m     65\u001b[0m \u001b[0;34m\u001b[0m\u001b[0m\n",
            "\u001b[0;32m/usr/local/lib/python3.10/dist-packages/joblib/parallel.py\u001b[0m in \u001b[0;36m__call__\u001b[0;34m(self, iterable)\u001b[0m\n\u001b[1;32m   1086\u001b[0m                 \u001b[0mself\u001b[0m\u001b[0;34m.\u001b[0m\u001b[0m_iterating\u001b[0m \u001b[0;34m=\u001b[0m \u001b[0mself\u001b[0m\u001b[0;34m.\u001b[0m\u001b[0m_original_iterator\u001b[0m \u001b[0;32mis\u001b[0m \u001b[0;32mnot\u001b[0m \u001b[0;32mNone\u001b[0m\u001b[0;34m\u001b[0m\u001b[0;34m\u001b[0m\u001b[0m\n\u001b[1;32m   1087\u001b[0m \u001b[0;34m\u001b[0m\u001b[0m\n\u001b[0;32m-> 1088\u001b[0;31m             \u001b[0;32mwhile\u001b[0m \u001b[0mself\u001b[0m\u001b[0;34m.\u001b[0m\u001b[0mdispatch_one_batch\u001b[0m\u001b[0;34m(\u001b[0m\u001b[0miterator\u001b[0m\u001b[0;34m)\u001b[0m\u001b[0;34m:\u001b[0m\u001b[0;34m\u001b[0m\u001b[0;34m\u001b[0m\u001b[0m\n\u001b[0m\u001b[1;32m   1089\u001b[0m                 \u001b[0;32mpass\u001b[0m\u001b[0;34m\u001b[0m\u001b[0;34m\u001b[0m\u001b[0m\n\u001b[1;32m   1090\u001b[0m \u001b[0;34m\u001b[0m\u001b[0m\n",
            "\u001b[0;32m/usr/local/lib/python3.10/dist-packages/joblib/parallel.py\u001b[0m in \u001b[0;36mdispatch_one_batch\u001b[0;34m(self, iterator)\u001b[0m\n\u001b[1;32m    899\u001b[0m                 \u001b[0;32mreturn\u001b[0m \u001b[0;32mFalse\u001b[0m\u001b[0;34m\u001b[0m\u001b[0;34m\u001b[0m\u001b[0m\n\u001b[1;32m    900\u001b[0m             \u001b[0;32melse\u001b[0m\u001b[0;34m:\u001b[0m\u001b[0;34m\u001b[0m\u001b[0;34m\u001b[0m\u001b[0m\n\u001b[0;32m--> 901\u001b[0;31m                 \u001b[0mself\u001b[0m\u001b[0;34m.\u001b[0m\u001b[0m_dispatch\u001b[0m\u001b[0;34m(\u001b[0m\u001b[0mtasks\u001b[0m\u001b[0;34m)\u001b[0m\u001b[0;34m\u001b[0m\u001b[0;34m\u001b[0m\u001b[0m\n\u001b[0m\u001b[1;32m    902\u001b[0m                 \u001b[0;32mreturn\u001b[0m \u001b[0;32mTrue\u001b[0m\u001b[0;34m\u001b[0m\u001b[0;34m\u001b[0m\u001b[0m\n\u001b[1;32m    903\u001b[0m \u001b[0;34m\u001b[0m\u001b[0m\n",
            "\u001b[0;32m/usr/local/lib/python3.10/dist-packages/joblib/parallel.py\u001b[0m in \u001b[0;36m_dispatch\u001b[0;34m(self, batch)\u001b[0m\n\u001b[1;32m    817\u001b[0m         \u001b[0;32mwith\u001b[0m \u001b[0mself\u001b[0m\u001b[0;34m.\u001b[0m\u001b[0m_lock\u001b[0m\u001b[0;34m:\u001b[0m\u001b[0;34m\u001b[0m\u001b[0;34m\u001b[0m\u001b[0m\n\u001b[1;32m    818\u001b[0m             \u001b[0mjob_idx\u001b[0m \u001b[0;34m=\u001b[0m \u001b[0mlen\u001b[0m\u001b[0;34m(\u001b[0m\u001b[0mself\u001b[0m\u001b[0;34m.\u001b[0m\u001b[0m_jobs\u001b[0m\u001b[0;34m)\u001b[0m\u001b[0;34m\u001b[0m\u001b[0;34m\u001b[0m\u001b[0m\n\u001b[0;32m--> 819\u001b[0;31m             \u001b[0mjob\u001b[0m \u001b[0;34m=\u001b[0m \u001b[0mself\u001b[0m\u001b[0;34m.\u001b[0m\u001b[0m_backend\u001b[0m\u001b[0;34m.\u001b[0m\u001b[0mapply_async\u001b[0m\u001b[0;34m(\u001b[0m\u001b[0mbatch\u001b[0m\u001b[0;34m,\u001b[0m \u001b[0mcallback\u001b[0m\u001b[0;34m=\u001b[0m\u001b[0mcb\u001b[0m\u001b[0;34m)\u001b[0m\u001b[0;34m\u001b[0m\u001b[0;34m\u001b[0m\u001b[0m\n\u001b[0m\u001b[1;32m    820\u001b[0m             \u001b[0;31m# A job can complete so quickly than its callback is\u001b[0m\u001b[0;34m\u001b[0m\u001b[0;34m\u001b[0m\u001b[0m\n\u001b[1;32m    821\u001b[0m             \u001b[0;31m# called before we get here, causing self._jobs to\u001b[0m\u001b[0;34m\u001b[0m\u001b[0;34m\u001b[0m\u001b[0m\n",
            "\u001b[0;32m/usr/local/lib/python3.10/dist-packages/joblib/_parallel_backends.py\u001b[0m in \u001b[0;36mapply_async\u001b[0;34m(self, func, callback)\u001b[0m\n\u001b[1;32m    206\u001b[0m     \u001b[0;32mdef\u001b[0m \u001b[0mapply_async\u001b[0m\u001b[0;34m(\u001b[0m\u001b[0mself\u001b[0m\u001b[0;34m,\u001b[0m \u001b[0mfunc\u001b[0m\u001b[0;34m,\u001b[0m \u001b[0mcallback\u001b[0m\u001b[0;34m=\u001b[0m\u001b[0;32mNone\u001b[0m\u001b[0;34m)\u001b[0m\u001b[0;34m:\u001b[0m\u001b[0;34m\u001b[0m\u001b[0;34m\u001b[0m\u001b[0m\n\u001b[1;32m    207\u001b[0m         \u001b[0;34m\"\"\"Schedule a func to be run\"\"\"\u001b[0m\u001b[0;34m\u001b[0m\u001b[0;34m\u001b[0m\u001b[0m\n\u001b[0;32m--> 208\u001b[0;31m         \u001b[0mresult\u001b[0m \u001b[0;34m=\u001b[0m \u001b[0mImmediateResult\u001b[0m\u001b[0;34m(\u001b[0m\u001b[0mfunc\u001b[0m\u001b[0;34m)\u001b[0m\u001b[0;34m\u001b[0m\u001b[0;34m\u001b[0m\u001b[0m\n\u001b[0m\u001b[1;32m    209\u001b[0m         \u001b[0;32mif\u001b[0m \u001b[0mcallback\u001b[0m\u001b[0;34m:\u001b[0m\u001b[0;34m\u001b[0m\u001b[0;34m\u001b[0m\u001b[0m\n\u001b[1;32m    210\u001b[0m             \u001b[0mcallback\u001b[0m\u001b[0;34m(\u001b[0m\u001b[0mresult\u001b[0m\u001b[0;34m)\u001b[0m\u001b[0;34m\u001b[0m\u001b[0;34m\u001b[0m\u001b[0m\n",
            "\u001b[0;32m/usr/local/lib/python3.10/dist-packages/joblib/_parallel_backends.py\u001b[0m in \u001b[0;36m__init__\u001b[0;34m(self, batch)\u001b[0m\n\u001b[1;32m    595\u001b[0m         \u001b[0;31m# Don't delay the application, to avoid keeping the input\u001b[0m\u001b[0;34m\u001b[0m\u001b[0;34m\u001b[0m\u001b[0m\n\u001b[1;32m    596\u001b[0m         \u001b[0;31m# arguments in memory\u001b[0m\u001b[0;34m\u001b[0m\u001b[0;34m\u001b[0m\u001b[0m\n\u001b[0;32m--> 597\u001b[0;31m         \u001b[0mself\u001b[0m\u001b[0;34m.\u001b[0m\u001b[0mresults\u001b[0m \u001b[0;34m=\u001b[0m \u001b[0mbatch\u001b[0m\u001b[0;34m(\u001b[0m\u001b[0;34m)\u001b[0m\u001b[0;34m\u001b[0m\u001b[0;34m\u001b[0m\u001b[0m\n\u001b[0m\u001b[1;32m    598\u001b[0m \u001b[0;34m\u001b[0m\u001b[0m\n\u001b[1;32m    599\u001b[0m     \u001b[0;32mdef\u001b[0m \u001b[0mget\u001b[0m\u001b[0;34m(\u001b[0m\u001b[0mself\u001b[0m\u001b[0;34m)\u001b[0m\u001b[0;34m:\u001b[0m\u001b[0;34m\u001b[0m\u001b[0;34m\u001b[0m\u001b[0m\n",
            "\u001b[0;32m/usr/local/lib/python3.10/dist-packages/joblib/parallel.py\u001b[0m in \u001b[0;36m__call__\u001b[0;34m(self)\u001b[0m\n\u001b[1;32m    286\u001b[0m         \u001b[0;31m# change the default number of processes to -1\u001b[0m\u001b[0;34m\u001b[0m\u001b[0;34m\u001b[0m\u001b[0m\n\u001b[1;32m    287\u001b[0m         \u001b[0;32mwith\u001b[0m \u001b[0mparallel_backend\u001b[0m\u001b[0;34m(\u001b[0m\u001b[0mself\u001b[0m\u001b[0;34m.\u001b[0m\u001b[0m_backend\u001b[0m\u001b[0;34m,\u001b[0m \u001b[0mn_jobs\u001b[0m\u001b[0;34m=\u001b[0m\u001b[0mself\u001b[0m\u001b[0;34m.\u001b[0m\u001b[0m_n_jobs\u001b[0m\u001b[0;34m)\u001b[0m\u001b[0;34m:\u001b[0m\u001b[0;34m\u001b[0m\u001b[0;34m\u001b[0m\u001b[0m\n\u001b[0;32m--> 288\u001b[0;31m             return [func(*args, **kwargs)\n\u001b[0m\u001b[1;32m    289\u001b[0m                     for func, args, kwargs in self.items]\n\u001b[1;32m    290\u001b[0m \u001b[0;34m\u001b[0m\u001b[0m\n",
            "\u001b[0;32m/usr/local/lib/python3.10/dist-packages/joblib/parallel.py\u001b[0m in \u001b[0;36m<listcomp>\u001b[0;34m(.0)\u001b[0m\n\u001b[1;32m    286\u001b[0m         \u001b[0;31m# change the default number of processes to -1\u001b[0m\u001b[0;34m\u001b[0m\u001b[0;34m\u001b[0m\u001b[0m\n\u001b[1;32m    287\u001b[0m         \u001b[0;32mwith\u001b[0m \u001b[0mparallel_backend\u001b[0m\u001b[0;34m(\u001b[0m\u001b[0mself\u001b[0m\u001b[0;34m.\u001b[0m\u001b[0m_backend\u001b[0m\u001b[0;34m,\u001b[0m \u001b[0mn_jobs\u001b[0m\u001b[0;34m=\u001b[0m\u001b[0mself\u001b[0m\u001b[0;34m.\u001b[0m\u001b[0m_n_jobs\u001b[0m\u001b[0;34m)\u001b[0m\u001b[0;34m:\u001b[0m\u001b[0;34m\u001b[0m\u001b[0;34m\u001b[0m\u001b[0m\n\u001b[0;32m--> 288\u001b[0;31m             return [func(*args, **kwargs)\n\u001b[0m\u001b[1;32m    289\u001b[0m                     for func, args, kwargs in self.items]\n\u001b[1;32m    290\u001b[0m \u001b[0;34m\u001b[0m\u001b[0m\n",
            "\u001b[0;32m/usr/local/lib/python3.10/dist-packages/sklearn/utils/parallel.py\u001b[0m in \u001b[0;36m__call__\u001b[0;34m(self, *args, **kwargs)\u001b[0m\n\u001b[1;32m    121\u001b[0m             \u001b[0mconfig\u001b[0m \u001b[0;34m=\u001b[0m \u001b[0;34m{\u001b[0m\u001b[0;34m}\u001b[0m\u001b[0;34m\u001b[0m\u001b[0;34m\u001b[0m\u001b[0m\n\u001b[1;32m    122\u001b[0m         \u001b[0;32mwith\u001b[0m \u001b[0mconfig_context\u001b[0m\u001b[0;34m(\u001b[0m\u001b[0;34m**\u001b[0m\u001b[0mconfig\u001b[0m\u001b[0;34m)\u001b[0m\u001b[0;34m:\u001b[0m\u001b[0;34m\u001b[0m\u001b[0;34m\u001b[0m\u001b[0m\n\u001b[0;32m--> 123\u001b[0;31m             \u001b[0;32mreturn\u001b[0m \u001b[0mself\u001b[0m\u001b[0;34m.\u001b[0m\u001b[0mfunction\u001b[0m\u001b[0;34m(\u001b[0m\u001b[0;34m*\u001b[0m\u001b[0margs\u001b[0m\u001b[0;34m,\u001b[0m \u001b[0;34m**\u001b[0m\u001b[0mkwargs\u001b[0m\u001b[0;34m)\u001b[0m\u001b[0;34m\u001b[0m\u001b[0;34m\u001b[0m\u001b[0m\n\u001b[0m",
            "\u001b[0;32m/usr/local/lib/python3.10/dist-packages/sklearn/model_selection/_validation.py\u001b[0m in \u001b[0;36m_fit_and_score\u001b[0;34m(estimator, X, y, scorer, train, test, verbose, parameters, fit_params, return_train_score, return_parameters, return_n_test_samples, return_times, return_estimator, split_progress, candidate_progress, error_score)\u001b[0m\n\u001b[1;32m    684\u001b[0m             \u001b[0mestimator\u001b[0m\u001b[0;34m.\u001b[0m\u001b[0mfit\u001b[0m\u001b[0;34m(\u001b[0m\u001b[0mX_train\u001b[0m\u001b[0;34m,\u001b[0m \u001b[0;34m**\u001b[0m\u001b[0mfit_params\u001b[0m\u001b[0;34m)\u001b[0m\u001b[0;34m\u001b[0m\u001b[0;34m\u001b[0m\u001b[0m\n\u001b[1;32m    685\u001b[0m         \u001b[0;32melse\u001b[0m\u001b[0;34m:\u001b[0m\u001b[0;34m\u001b[0m\u001b[0;34m\u001b[0m\u001b[0m\n\u001b[0;32m--> 686\u001b[0;31m             \u001b[0mestimator\u001b[0m\u001b[0;34m.\u001b[0m\u001b[0mfit\u001b[0m\u001b[0;34m(\u001b[0m\u001b[0mX_train\u001b[0m\u001b[0;34m,\u001b[0m \u001b[0my_train\u001b[0m\u001b[0;34m,\u001b[0m \u001b[0;34m**\u001b[0m\u001b[0mfit_params\u001b[0m\u001b[0;34m)\u001b[0m\u001b[0;34m\u001b[0m\u001b[0;34m\u001b[0m\u001b[0m\n\u001b[0m\u001b[1;32m    687\u001b[0m \u001b[0;34m\u001b[0m\u001b[0m\n\u001b[1;32m    688\u001b[0m     \u001b[0;32mexcept\u001b[0m \u001b[0mException\u001b[0m\u001b[0;34m:\u001b[0m\u001b[0;34m\u001b[0m\u001b[0;34m\u001b[0m\u001b[0m\n",
            "\u001b[0;32m/usr/local/lib/python3.10/dist-packages/sklearn/ensemble/_forest.py\u001b[0m in \u001b[0;36mfit\u001b[0;34m(self, X, y, sample_weight)\u001b[0m\n\u001b[1;32m    471\u001b[0m             \u001b[0;31m# parallel_backend contexts set at a higher level,\u001b[0m\u001b[0;34m\u001b[0m\u001b[0;34m\u001b[0m\u001b[0m\n\u001b[1;32m    472\u001b[0m             \u001b[0;31m# since correctness does not rely on using threads.\u001b[0m\u001b[0;34m\u001b[0m\u001b[0;34m\u001b[0m\u001b[0m\n\u001b[0;32m--> 473\u001b[0;31m             trees = Parallel(\n\u001b[0m\u001b[1;32m    474\u001b[0m                 \u001b[0mn_jobs\u001b[0m\u001b[0;34m=\u001b[0m\u001b[0mself\u001b[0m\u001b[0;34m.\u001b[0m\u001b[0mn_jobs\u001b[0m\u001b[0;34m,\u001b[0m\u001b[0;34m\u001b[0m\u001b[0;34m\u001b[0m\u001b[0m\n\u001b[1;32m    475\u001b[0m                 \u001b[0mverbose\u001b[0m\u001b[0;34m=\u001b[0m\u001b[0mself\u001b[0m\u001b[0;34m.\u001b[0m\u001b[0mverbose\u001b[0m\u001b[0;34m,\u001b[0m\u001b[0;34m\u001b[0m\u001b[0;34m\u001b[0m\u001b[0m\n",
            "\u001b[0;32m/usr/local/lib/python3.10/dist-packages/sklearn/utils/parallel.py\u001b[0m in \u001b[0;36m__call__\u001b[0;34m(self, iterable)\u001b[0m\n\u001b[1;32m     61\u001b[0m             \u001b[0;32mfor\u001b[0m \u001b[0mdelayed_func\u001b[0m\u001b[0;34m,\u001b[0m \u001b[0margs\u001b[0m\u001b[0;34m,\u001b[0m \u001b[0mkwargs\u001b[0m \u001b[0;32min\u001b[0m \u001b[0miterable\u001b[0m\u001b[0;34m\u001b[0m\u001b[0;34m\u001b[0m\u001b[0m\n\u001b[1;32m     62\u001b[0m         )\n\u001b[0;32m---> 63\u001b[0;31m         \u001b[0;32mreturn\u001b[0m \u001b[0msuper\u001b[0m\u001b[0;34m(\u001b[0m\u001b[0;34m)\u001b[0m\u001b[0;34m.\u001b[0m\u001b[0m__call__\u001b[0m\u001b[0;34m(\u001b[0m\u001b[0miterable_with_config\u001b[0m\u001b[0;34m)\u001b[0m\u001b[0;34m\u001b[0m\u001b[0;34m\u001b[0m\u001b[0m\n\u001b[0m\u001b[1;32m     64\u001b[0m \u001b[0;34m\u001b[0m\u001b[0m\n\u001b[1;32m     65\u001b[0m \u001b[0;34m\u001b[0m\u001b[0m\n",
            "\u001b[0;32m/usr/local/lib/python3.10/dist-packages/joblib/parallel.py\u001b[0m in \u001b[0;36m__call__\u001b[0;34m(self, iterable)\u001b[0m\n\u001b[1;32m   1096\u001b[0m \u001b[0;34m\u001b[0m\u001b[0m\n\u001b[1;32m   1097\u001b[0m             \u001b[0;32mwith\u001b[0m \u001b[0mself\u001b[0m\u001b[0;34m.\u001b[0m\u001b[0m_backend\u001b[0m\u001b[0;34m.\u001b[0m\u001b[0mretrieval_context\u001b[0m\u001b[0;34m(\u001b[0m\u001b[0;34m)\u001b[0m\u001b[0;34m:\u001b[0m\u001b[0;34m\u001b[0m\u001b[0;34m\u001b[0m\u001b[0m\n\u001b[0;32m-> 1098\u001b[0;31m                 \u001b[0mself\u001b[0m\u001b[0;34m.\u001b[0m\u001b[0mretrieve\u001b[0m\u001b[0;34m(\u001b[0m\u001b[0;34m)\u001b[0m\u001b[0;34m\u001b[0m\u001b[0;34m\u001b[0m\u001b[0m\n\u001b[0m\u001b[1;32m   1099\u001b[0m             \u001b[0;31m# Make sure that we get a last message telling us we are done\u001b[0m\u001b[0;34m\u001b[0m\u001b[0;34m\u001b[0m\u001b[0m\n\u001b[1;32m   1100\u001b[0m             \u001b[0melapsed_time\u001b[0m \u001b[0;34m=\u001b[0m \u001b[0mtime\u001b[0m\u001b[0;34m.\u001b[0m\u001b[0mtime\u001b[0m\u001b[0;34m(\u001b[0m\u001b[0;34m)\u001b[0m \u001b[0;34m-\u001b[0m \u001b[0mself\u001b[0m\u001b[0;34m.\u001b[0m\u001b[0m_start_time\u001b[0m\u001b[0;34m\u001b[0m\u001b[0;34m\u001b[0m\u001b[0m\n",
            "\u001b[0;32m/usr/local/lib/python3.10/dist-packages/joblib/parallel.py\u001b[0m in \u001b[0;36mretrieve\u001b[0;34m(self)\u001b[0m\n\u001b[1;32m    973\u001b[0m             \u001b[0;32mtry\u001b[0m\u001b[0;34m:\u001b[0m\u001b[0;34m\u001b[0m\u001b[0;34m\u001b[0m\u001b[0m\n\u001b[1;32m    974\u001b[0m                 \u001b[0;32mif\u001b[0m \u001b[0mgetattr\u001b[0m\u001b[0;34m(\u001b[0m\u001b[0mself\u001b[0m\u001b[0;34m.\u001b[0m\u001b[0m_backend\u001b[0m\u001b[0;34m,\u001b[0m \u001b[0;34m'supports_timeout'\u001b[0m\u001b[0;34m,\u001b[0m \u001b[0;32mFalse\u001b[0m\u001b[0;34m)\u001b[0m\u001b[0;34m:\u001b[0m\u001b[0;34m\u001b[0m\u001b[0;34m\u001b[0m\u001b[0m\n\u001b[0;32m--> 975\u001b[0;31m                     \u001b[0mself\u001b[0m\u001b[0;34m.\u001b[0m\u001b[0m_output\u001b[0m\u001b[0;34m.\u001b[0m\u001b[0mextend\u001b[0m\u001b[0;34m(\u001b[0m\u001b[0mjob\u001b[0m\u001b[0;34m.\u001b[0m\u001b[0mget\u001b[0m\u001b[0;34m(\u001b[0m\u001b[0mtimeout\u001b[0m\u001b[0;34m=\u001b[0m\u001b[0mself\u001b[0m\u001b[0;34m.\u001b[0m\u001b[0mtimeout\u001b[0m\u001b[0;34m)\u001b[0m\u001b[0;34m)\u001b[0m\u001b[0;34m\u001b[0m\u001b[0;34m\u001b[0m\u001b[0m\n\u001b[0m\u001b[1;32m    976\u001b[0m                 \u001b[0;32melse\u001b[0m\u001b[0;34m:\u001b[0m\u001b[0;34m\u001b[0m\u001b[0;34m\u001b[0m\u001b[0m\n\u001b[1;32m    977\u001b[0m                     \u001b[0mself\u001b[0m\u001b[0;34m.\u001b[0m\u001b[0m_output\u001b[0m\u001b[0;34m.\u001b[0m\u001b[0mextend\u001b[0m\u001b[0;34m(\u001b[0m\u001b[0mjob\u001b[0m\u001b[0;34m.\u001b[0m\u001b[0mget\u001b[0m\u001b[0;34m(\u001b[0m\u001b[0;34m)\u001b[0m\u001b[0;34m)\u001b[0m\u001b[0;34m\u001b[0m\u001b[0;34m\u001b[0m\u001b[0m\n",
            "\u001b[0;32m/usr/local/lib/python3.10/dist-packages/joblib/_parallel_backends.py\u001b[0m in \u001b[0;36mwrap_future_result\u001b[0;34m(future, timeout)\u001b[0m\n\u001b[1;32m    565\u001b[0m         AsyncResults.get from multiprocessing.\"\"\"\n\u001b[1;32m    566\u001b[0m         \u001b[0;32mtry\u001b[0m\u001b[0;34m:\u001b[0m\u001b[0;34m\u001b[0m\u001b[0;34m\u001b[0m\u001b[0m\n\u001b[0;32m--> 567\u001b[0;31m             \u001b[0;32mreturn\u001b[0m \u001b[0mfuture\u001b[0m\u001b[0;34m.\u001b[0m\u001b[0mresult\u001b[0m\u001b[0;34m(\u001b[0m\u001b[0mtimeout\u001b[0m\u001b[0;34m=\u001b[0m\u001b[0mtimeout\u001b[0m\u001b[0;34m)\u001b[0m\u001b[0;34m\u001b[0m\u001b[0;34m\u001b[0m\u001b[0m\n\u001b[0m\u001b[1;32m    568\u001b[0m         \u001b[0;32mexcept\u001b[0m \u001b[0mCfTimeoutError\u001b[0m \u001b[0;32mas\u001b[0m \u001b[0me\u001b[0m\u001b[0;34m:\u001b[0m\u001b[0;34m\u001b[0m\u001b[0;34m\u001b[0m\u001b[0m\n\u001b[1;32m    569\u001b[0m             \u001b[0;32mraise\u001b[0m \u001b[0mTimeoutError\u001b[0m \u001b[0;32mfrom\u001b[0m \u001b[0me\u001b[0m\u001b[0;34m\u001b[0m\u001b[0;34m\u001b[0m\u001b[0m\n",
            "\u001b[0;32m/usr/lib/python3.10/concurrent/futures/_base.py\u001b[0m in \u001b[0;36mresult\u001b[0;34m(self, timeout)\u001b[0m\n\u001b[1;32m    451\u001b[0m                     \u001b[0;32mreturn\u001b[0m \u001b[0mself\u001b[0m\u001b[0;34m.\u001b[0m\u001b[0m__get_result\u001b[0m\u001b[0;34m(\u001b[0m\u001b[0;34m)\u001b[0m\u001b[0;34m\u001b[0m\u001b[0;34m\u001b[0m\u001b[0m\n\u001b[1;32m    452\u001b[0m \u001b[0;34m\u001b[0m\u001b[0m\n\u001b[0;32m--> 453\u001b[0;31m                 \u001b[0mself\u001b[0m\u001b[0;34m.\u001b[0m\u001b[0m_condition\u001b[0m\u001b[0;34m.\u001b[0m\u001b[0mwait\u001b[0m\u001b[0;34m(\u001b[0m\u001b[0mtimeout\u001b[0m\u001b[0;34m)\u001b[0m\u001b[0;34m\u001b[0m\u001b[0;34m\u001b[0m\u001b[0m\n\u001b[0m\u001b[1;32m    454\u001b[0m \u001b[0;34m\u001b[0m\u001b[0m\n\u001b[1;32m    455\u001b[0m                 \u001b[0;32mif\u001b[0m \u001b[0mself\u001b[0m\u001b[0;34m.\u001b[0m\u001b[0m_state\u001b[0m \u001b[0;32min\u001b[0m \u001b[0;34m[\u001b[0m\u001b[0mCANCELLED\u001b[0m\u001b[0;34m,\u001b[0m \u001b[0mCANCELLED_AND_NOTIFIED\u001b[0m\u001b[0;34m]\u001b[0m\u001b[0;34m:\u001b[0m\u001b[0;34m\u001b[0m\u001b[0;34m\u001b[0m\u001b[0m\n",
            "\u001b[0;32m/usr/lib/python3.10/threading.py\u001b[0m in \u001b[0;36mwait\u001b[0;34m(self, timeout)\u001b[0m\n\u001b[1;32m    318\u001b[0m         \u001b[0;32mtry\u001b[0m\u001b[0;34m:\u001b[0m    \u001b[0;31m# restore state no matter what (e.g., KeyboardInterrupt)\u001b[0m\u001b[0;34m\u001b[0m\u001b[0;34m\u001b[0m\u001b[0m\n\u001b[1;32m    319\u001b[0m             \u001b[0;32mif\u001b[0m \u001b[0mtimeout\u001b[0m \u001b[0;32mis\u001b[0m \u001b[0;32mNone\u001b[0m\u001b[0;34m:\u001b[0m\u001b[0;34m\u001b[0m\u001b[0;34m\u001b[0m\u001b[0m\n\u001b[0;32m--> 320\u001b[0;31m                 \u001b[0mwaiter\u001b[0m\u001b[0;34m.\u001b[0m\u001b[0macquire\u001b[0m\u001b[0;34m(\u001b[0m\u001b[0;34m)\u001b[0m\u001b[0;34m\u001b[0m\u001b[0;34m\u001b[0m\u001b[0m\n\u001b[0m\u001b[1;32m    321\u001b[0m                 \u001b[0mgotit\u001b[0m \u001b[0;34m=\u001b[0m \u001b[0;32mTrue\u001b[0m\u001b[0;34m\u001b[0m\u001b[0;34m\u001b[0m\u001b[0m\n\u001b[1;32m    322\u001b[0m             \u001b[0;32melse\u001b[0m\u001b[0;34m:\u001b[0m\u001b[0;34m\u001b[0m\u001b[0;34m\u001b[0m\u001b[0m\n",
            "\u001b[0;31mKeyboardInterrupt\u001b[0m: "
          ]
        }
      ]
    },
    {
      "cell_type": "code",
      "source": [
        "model_random.best_params_"
      ],
      "metadata": {
        "colab": {
          "base_uri": "https://localhost:8080/"
        },
        "id": "qqJFicCkMJEv",
        "outputId": "4c0b35ab-cb24-4339-ec59-3ef5574f7310"
      },
      "execution_count": 23,
      "outputs": [
        {
          "output_type": "execute_result",
          "data": {
            "text/plain": [
              "{'n_estimators': 900,\n",
              " 'min_samples_split': 25,\n",
              " 'min_samples_leaf': 8,\n",
              " 'max_features': 'log2',\n",
              " 'max_depth': None,\n",
              " 'bootstrap': False}"
            ]
          },
          "metadata": {},
          "execution_count": 23
        }
      ]
    },
    {
      "cell_type": "code",
      "source": [
        "model_random.best_score_"
      ],
      "metadata": {
        "colab": {
          "base_uri": "https://localhost:8080/"
        },
        "id": "uXmxcU4vDpcK",
        "outputId": "0fddf89b-e1d3-4d22-aee0-7e0d4d13ad49"
      },
      "execution_count": 24,
      "outputs": [
        {
          "output_type": "execute_result",
          "data": {
            "text/plain": [
              "0.5189490017977103"
            ]
          },
          "metadata": {},
          "execution_count": 24
        }
      ]
    },
    {
      "cell_type": "code",
      "source": [
        "# Create the parameter grid based on the results of random search\n",
        "param_grid = {\n",
        "    'bootstrap': [False],\n",
        "    'max_depth': [None],\n",
        "    'max_features': ['log2'],\n",
        "    'min_samples_leaf': [7, 7.5, 8, 8.5],\n",
        "    'min_samples_split': [23,24,25,26],\n",
        "    'n_estimators': [850, 900, 925, 950]\n",
        "}\n",
        "\n",
        "# Instantiate the grid search model\n",
        "grid_search = GridSearchCV(estimator = model, param_grid = param_grid,\n",
        "                          cv = 3, verbose = 3)"
      ],
      "metadata": {
        "id": "7BmXQE1Bs506"
      },
      "execution_count": 29,
      "outputs": []
    },
    {
      "cell_type": "code",
      "source": [
        "grid_search.fit(X_train, y_train)"
      ],
      "metadata": {
        "id": "wIZyLYwus6dg",
        "colab": {
          "base_uri": "https://localhost:8080/",
          "height": 1000
        },
        "outputId": "c6ac8e94-5d97-4815-d363-e9c91c7b029f"
      },
      "execution_count": 30,
      "outputs": [
        {
          "output_type": "stream",
          "name": "stdout",
          "text": [
            "Fitting 3 folds for each of 64 candidates, totalling 192 fits\n",
            "[CV 1/3] END bootstrap=False, max_depth=None, max_features=log2, min_samples_leaf=7, min_samples_split=23, n_estimators=850;, score=0.514 total time=   7.6s\n",
            "[CV 2/3] END bootstrap=False, max_depth=None, max_features=log2, min_samples_leaf=7, min_samples_split=23, n_estimators=850;, score=0.506 total time=   6.4s\n",
            "[CV 3/3] END bootstrap=False, max_depth=None, max_features=log2, min_samples_leaf=7, min_samples_split=23, n_estimators=850;, score=0.508 total time=   6.9s\n",
            "[CV 1/3] END bootstrap=False, max_depth=None, max_features=log2, min_samples_leaf=7, min_samples_split=23, n_estimators=900;, score=0.515 total time=   7.0s\n",
            "[CV 2/3] END bootstrap=False, max_depth=None, max_features=log2, min_samples_leaf=7, min_samples_split=23, n_estimators=900;, score=0.505 total time=   7.0s\n",
            "[CV 3/3] END bootstrap=False, max_depth=None, max_features=log2, min_samples_leaf=7, min_samples_split=23, n_estimators=900;, score=0.508 total time=   7.3s\n",
            "[CV 1/3] END bootstrap=False, max_depth=None, max_features=log2, min_samples_leaf=7, min_samples_split=23, n_estimators=925;, score=0.513 total time=   6.8s\n",
            "[CV 2/3] END bootstrap=False, max_depth=None, max_features=log2, min_samples_leaf=7, min_samples_split=23, n_estimators=925;, score=0.505 total time=   8.1s\n",
            "[CV 3/3] END bootstrap=False, max_depth=None, max_features=log2, min_samples_leaf=7, min_samples_split=23, n_estimators=925;, score=0.508 total time=   6.4s\n",
            "[CV 1/3] END bootstrap=False, max_depth=None, max_features=log2, min_samples_leaf=7, min_samples_split=23, n_estimators=950;, score=0.515 total time=   8.3s\n",
            "[CV 2/3] END bootstrap=False, max_depth=None, max_features=log2, min_samples_leaf=7, min_samples_split=23, n_estimators=950;, score=0.505 total time=   6.7s\n",
            "[CV 3/3] END bootstrap=False, max_depth=None, max_features=log2, min_samples_leaf=7, min_samples_split=23, n_estimators=950;, score=0.509 total time=   8.1s\n",
            "[CV 1/3] END bootstrap=False, max_depth=None, max_features=log2, min_samples_leaf=7, min_samples_split=24, n_estimators=850;, score=0.520 total time=   6.0s\n",
            "[CV 2/3] END bootstrap=False, max_depth=None, max_features=log2, min_samples_leaf=7, min_samples_split=24, n_estimators=850;, score=0.503 total time=   7.5s\n",
            "[CV 3/3] END bootstrap=False, max_depth=None, max_features=log2, min_samples_leaf=7, min_samples_split=24, n_estimators=850;, score=0.508 total time=   5.9s\n",
            "[CV 1/3] END bootstrap=False, max_depth=None, max_features=log2, min_samples_leaf=7, min_samples_split=24, n_estimators=900;, score=0.519 total time=   8.1s\n",
            "[CV 2/3] END bootstrap=False, max_depth=None, max_features=log2, min_samples_leaf=7, min_samples_split=24, n_estimators=900;, score=0.502 total time=   7.0s\n",
            "[CV 3/3] END bootstrap=False, max_depth=None, max_features=log2, min_samples_leaf=7, min_samples_split=24, n_estimators=900;, score=0.509 total time=   7.0s\n",
            "[CV 1/3] END bootstrap=False, max_depth=None, max_features=log2, min_samples_leaf=7, min_samples_split=24, n_estimators=925;, score=0.518 total time=   8.0s\n",
            "[CV 2/3] END bootstrap=False, max_depth=None, max_features=log2, min_samples_leaf=7, min_samples_split=24, n_estimators=925;, score=0.502 total time=   6.5s\n",
            "[CV 3/3] END bootstrap=False, max_depth=None, max_features=log2, min_samples_leaf=7, min_samples_split=24, n_estimators=925;, score=0.509 total time=   8.1s\n",
            "[CV 1/3] END bootstrap=False, max_depth=None, max_features=log2, min_samples_leaf=7, min_samples_split=24, n_estimators=950;, score=0.519 total time=   6.7s\n",
            "[CV 2/3] END bootstrap=False, max_depth=None, max_features=log2, min_samples_leaf=7, min_samples_split=24, n_estimators=950;, score=0.504 total time=   8.2s\n",
            "[CV 3/3] END bootstrap=False, max_depth=None, max_features=log2, min_samples_leaf=7, min_samples_split=24, n_estimators=950;, score=0.512 total time=   6.5s\n",
            "[CV 1/3] END bootstrap=False, max_depth=None, max_features=log2, min_samples_leaf=7, min_samples_split=25, n_estimators=850;, score=0.522 total time=   7.6s\n",
            "[CV 2/3] END bootstrap=False, max_depth=None, max_features=log2, min_samples_leaf=7, min_samples_split=25, n_estimators=850;, score=0.504 total time=   5.9s\n",
            "[CV 3/3] END bootstrap=False, max_depth=None, max_features=log2, min_samples_leaf=7, min_samples_split=25, n_estimators=850;, score=0.511 total time=   7.4s\n",
            "[CV 1/3] END bootstrap=False, max_depth=None, max_features=log2, min_samples_leaf=7, min_samples_split=25, n_estimators=900;, score=0.522 total time=   6.3s\n",
            "[CV 2/3] END bootstrap=False, max_depth=None, max_features=log2, min_samples_leaf=7, min_samples_split=25, n_estimators=900;, score=0.505 total time=   7.8s\n",
            "[CV 3/3] END bootstrap=False, max_depth=None, max_features=log2, min_samples_leaf=7, min_samples_split=25, n_estimators=900;, score=0.511 total time=   6.1s\n",
            "[CV 1/3] END bootstrap=False, max_depth=None, max_features=log2, min_samples_leaf=7, min_samples_split=25, n_estimators=925;, score=0.521 total time=   8.1s\n",
            "[CV 2/3] END bootstrap=False, max_depth=None, max_features=log2, min_samples_leaf=7, min_samples_split=25, n_estimators=925;, score=0.505 total time=   7.0s\n",
            "[CV 3/3] END bootstrap=False, max_depth=None, max_features=log2, min_samples_leaf=7, min_samples_split=25, n_estimators=925;, score=0.510 total time=   7.1s\n",
            "[CV 1/3] END bootstrap=False, max_depth=None, max_features=log2, min_samples_leaf=7, min_samples_split=25, n_estimators=950;, score=0.520 total time=   8.1s\n",
            "[CV 2/3] END bootstrap=False, max_depth=None, max_features=log2, min_samples_leaf=7, min_samples_split=25, n_estimators=950;, score=0.504 total time=   6.5s\n",
            "[CV 3/3] END bootstrap=False, max_depth=None, max_features=log2, min_samples_leaf=7, min_samples_split=25, n_estimators=950;, score=0.509 total time=   8.3s\n",
            "[CV 1/3] END bootstrap=False, max_depth=None, max_features=log2, min_samples_leaf=7, min_samples_split=26, n_estimators=850;, score=0.519 total time=   5.9s\n",
            "[CV 2/3] END bootstrap=False, max_depth=None, max_features=log2, min_samples_leaf=7, min_samples_split=26, n_estimators=850;, score=0.503 total time=   7.5s\n",
            "[CV 3/3] END bootstrap=False, max_depth=None, max_features=log2, min_samples_leaf=7, min_samples_split=26, n_estimators=850;, score=0.509 total time=   5.8s\n",
            "[CV 1/3] END bootstrap=False, max_depth=None, max_features=log2, min_samples_leaf=7, min_samples_split=26, n_estimators=900;, score=0.518 total time=   7.9s\n",
            "[CV 2/3] END bootstrap=False, max_depth=None, max_features=log2, min_samples_leaf=7, min_samples_split=26, n_estimators=900;, score=0.505 total time=   6.2s\n",
            "[CV 3/3] END bootstrap=False, max_depth=None, max_features=log2, min_samples_leaf=7, min_samples_split=26, n_estimators=900;, score=0.507 total time=   7.8s\n",
            "[CV 1/3] END bootstrap=False, max_depth=None, max_features=log2, min_samples_leaf=7, min_samples_split=26, n_estimators=925;, score=0.518 total time=   6.4s\n",
            "[CV 2/3] END bootstrap=False, max_depth=None, max_features=log2, min_samples_leaf=7, min_samples_split=26, n_estimators=925;, score=0.501 total time=   8.0s\n",
            "[CV 3/3] END bootstrap=False, max_depth=None, max_features=log2, min_samples_leaf=7, min_samples_split=26, n_estimators=925;, score=0.509 total time=   6.3s\n",
            "[CV 1/3] END bootstrap=False, max_depth=None, max_features=log2, min_samples_leaf=7, min_samples_split=26, n_estimators=950;, score=0.519 total time=   8.2s\n",
            "[CV 2/3] END bootstrap=False, max_depth=None, max_features=log2, min_samples_leaf=7, min_samples_split=26, n_estimators=950;, score=0.504 total time=   7.2s\n",
            "[CV 3/3] END bootstrap=False, max_depth=None, max_features=log2, min_samples_leaf=7, min_samples_split=26, n_estimators=950;, score=0.507 total time=   7.3s\n",
            "[CV 1/3] END bootstrap=False, max_depth=None, max_features=log2, min_samples_leaf=7.5, min_samples_split=23, n_estimators=850;, score=nan total time=   0.0s\n",
            "[CV 2/3] END bootstrap=False, max_depth=None, max_features=log2, min_samples_leaf=7.5, min_samples_split=23, n_estimators=850;, score=nan total time=   0.0s\n",
            "[CV 3/3] END bootstrap=False, max_depth=None, max_features=log2, min_samples_leaf=7.5, min_samples_split=23, n_estimators=850;, score=nan total time=   0.0s\n",
            "[CV 1/3] END bootstrap=False, max_depth=None, max_features=log2, min_samples_leaf=7.5, min_samples_split=23, n_estimators=900;, score=nan total time=   0.0s\n",
            "[CV 2/3] END bootstrap=False, max_depth=None, max_features=log2, min_samples_leaf=7.5, min_samples_split=23, n_estimators=900;, score=nan total time=   0.0s\n",
            "[CV 3/3] END bootstrap=False, max_depth=None, max_features=log2, min_samples_leaf=7.5, min_samples_split=23, n_estimators=900;, score=nan total time=   0.0s\n",
            "[CV 1/3] END bootstrap=False, max_depth=None, max_features=log2, min_samples_leaf=7.5, min_samples_split=23, n_estimators=925;, score=nan total time=   0.0s\n",
            "[CV 2/3] END bootstrap=False, max_depth=None, max_features=log2, min_samples_leaf=7.5, min_samples_split=23, n_estimators=925;, score=nan total time=   0.0s\n",
            "[CV 3/3] END bootstrap=False, max_depth=None, max_features=log2, min_samples_leaf=7.5, min_samples_split=23, n_estimators=925;, score=nan total time=   0.0s\n",
            "[CV 1/3] END bootstrap=False, max_depth=None, max_features=log2, min_samples_leaf=7.5, min_samples_split=23, n_estimators=950;, score=nan total time=   0.0s\n",
            "[CV 2/3] END bootstrap=False, max_depth=None, max_features=log2, min_samples_leaf=7.5, min_samples_split=23, n_estimators=950;, score=nan total time=   0.0s\n",
            "[CV 3/3] END bootstrap=False, max_depth=None, max_features=log2, min_samples_leaf=7.5, min_samples_split=23, n_estimators=950;, score=nan total time=   0.0s\n",
            "[CV 1/3] END bootstrap=False, max_depth=None, max_features=log2, min_samples_leaf=7.5, min_samples_split=24, n_estimators=850;, score=nan total time=   0.0s\n",
            "[CV 2/3] END bootstrap=False, max_depth=None, max_features=log2, min_samples_leaf=7.5, min_samples_split=24, n_estimators=850;, score=nan total time=   0.0s\n",
            "[CV 3/3] END bootstrap=False, max_depth=None, max_features=log2, min_samples_leaf=7.5, min_samples_split=24, n_estimators=850;, score=nan total time=   0.0s\n",
            "[CV 1/3] END bootstrap=False, max_depth=None, max_features=log2, min_samples_leaf=7.5, min_samples_split=24, n_estimators=900;, score=nan total time=   0.0s\n",
            "[CV 2/3] END bootstrap=False, max_depth=None, max_features=log2, min_samples_leaf=7.5, min_samples_split=24, n_estimators=900;, score=nan total time=   0.0s\n",
            "[CV 3/3] END bootstrap=False, max_depth=None, max_features=log2, min_samples_leaf=7.5, min_samples_split=24, n_estimators=900;, score=nan total time=   0.0s\n",
            "[CV 1/3] END bootstrap=False, max_depth=None, max_features=log2, min_samples_leaf=7.5, min_samples_split=24, n_estimators=925;, score=nan total time=   0.0s\n",
            "[CV 2/3] END bootstrap=False, max_depth=None, max_features=log2, min_samples_leaf=7.5, min_samples_split=24, n_estimators=925;, score=nan total time=   0.0s\n",
            "[CV 3/3] END bootstrap=False, max_depth=None, max_features=log2, min_samples_leaf=7.5, min_samples_split=24, n_estimators=925;, score=nan total time=   0.0s\n",
            "[CV 1/3] END bootstrap=False, max_depth=None, max_features=log2, min_samples_leaf=7.5, min_samples_split=24, n_estimators=950;, score=nan total time=   0.0s\n",
            "[CV 2/3] END bootstrap=False, max_depth=None, max_features=log2, min_samples_leaf=7.5, min_samples_split=24, n_estimators=950;, score=nan total time=   0.0s\n",
            "[CV 3/3] END bootstrap=False, max_depth=None, max_features=log2, min_samples_leaf=7.5, min_samples_split=24, n_estimators=950;, score=nan total time=   0.0s\n",
            "[CV 1/3] END bootstrap=False, max_depth=None, max_features=log2, min_samples_leaf=7.5, min_samples_split=25, n_estimators=850;, score=nan total time=   0.0s\n",
            "[CV 2/3] END bootstrap=False, max_depth=None, max_features=log2, min_samples_leaf=7.5, min_samples_split=25, n_estimators=850;, score=nan total time=   0.0s\n",
            "[CV 3/3] END bootstrap=False, max_depth=None, max_features=log2, min_samples_leaf=7.5, min_samples_split=25, n_estimators=850;, score=nan total time=   0.0s\n",
            "[CV 1/3] END bootstrap=False, max_depth=None, max_features=log2, min_samples_leaf=7.5, min_samples_split=25, n_estimators=900;, score=nan total time=   0.0s\n",
            "[CV 2/3] END bootstrap=False, max_depth=None, max_features=log2, min_samples_leaf=7.5, min_samples_split=25, n_estimators=900;, score=nan total time=   0.0s\n",
            "[CV 3/3] END bootstrap=False, max_depth=None, max_features=log2, min_samples_leaf=7.5, min_samples_split=25, n_estimators=900;, score=nan total time=   0.0s\n",
            "[CV 1/3] END bootstrap=False, max_depth=None, max_features=log2, min_samples_leaf=7.5, min_samples_split=25, n_estimators=925;, score=nan total time=   0.0s\n",
            "[CV 2/3] END bootstrap=False, max_depth=None, max_features=log2, min_samples_leaf=7.5, min_samples_split=25, n_estimators=925;, score=nan total time=   0.0s\n",
            "[CV 3/3] END bootstrap=False, max_depth=None, max_features=log2, min_samples_leaf=7.5, min_samples_split=25, n_estimators=925;, score=nan total time=   0.0s\n",
            "[CV 1/3] END bootstrap=False, max_depth=None, max_features=log2, min_samples_leaf=7.5, min_samples_split=25, n_estimators=950;, score=nan total time=   0.0s\n",
            "[CV 2/3] END bootstrap=False, max_depth=None, max_features=log2, min_samples_leaf=7.5, min_samples_split=25, n_estimators=950;, score=nan total time=   0.0s\n",
            "[CV 3/3] END bootstrap=False, max_depth=None, max_features=log2, min_samples_leaf=7.5, min_samples_split=25, n_estimators=950;, score=nan total time=   0.0s\n",
            "[CV 1/3] END bootstrap=False, max_depth=None, max_features=log2, min_samples_leaf=7.5, min_samples_split=26, n_estimators=850;, score=nan total time=   0.0s\n",
            "[CV 2/3] END bootstrap=False, max_depth=None, max_features=log2, min_samples_leaf=7.5, min_samples_split=26, n_estimators=850;, score=nan total time=   0.0s\n",
            "[CV 3/3] END bootstrap=False, max_depth=None, max_features=log2, min_samples_leaf=7.5, min_samples_split=26, n_estimators=850;, score=nan total time=   0.0s\n",
            "[CV 1/3] END bootstrap=False, max_depth=None, max_features=log2, min_samples_leaf=7.5, min_samples_split=26, n_estimators=900;, score=nan total time=   0.0s\n",
            "[CV 2/3] END bootstrap=False, max_depth=None, max_features=log2, min_samples_leaf=7.5, min_samples_split=26, n_estimators=900;, score=nan total time=   0.0s\n",
            "[CV 3/3] END bootstrap=False, max_depth=None, max_features=log2, min_samples_leaf=7.5, min_samples_split=26, n_estimators=900;, score=nan total time=   0.0s\n",
            "[CV 1/3] END bootstrap=False, max_depth=None, max_features=log2, min_samples_leaf=7.5, min_samples_split=26, n_estimators=925;, score=nan total time=   0.0s\n",
            "[CV 2/3] END bootstrap=False, max_depth=None, max_features=log2, min_samples_leaf=7.5, min_samples_split=26, n_estimators=925;, score=nan total time=   0.0s\n",
            "[CV 3/3] END bootstrap=False, max_depth=None, max_features=log2, min_samples_leaf=7.5, min_samples_split=26, n_estimators=925;, score=nan total time=   0.0s\n",
            "[CV 1/3] END bootstrap=False, max_depth=None, max_features=log2, min_samples_leaf=7.5, min_samples_split=26, n_estimators=950;, score=nan total time=   0.0s\n",
            "[CV 2/3] END bootstrap=False, max_depth=None, max_features=log2, min_samples_leaf=7.5, min_samples_split=26, n_estimators=950;, score=nan total time=   0.0s\n",
            "[CV 3/3] END bootstrap=False, max_depth=None, max_features=log2, min_samples_leaf=7.5, min_samples_split=26, n_estimators=950;, score=nan total time=   0.0s\n",
            "[CV 1/3] END bootstrap=False, max_depth=None, max_features=log2, min_samples_leaf=8, min_samples_split=23, n_estimators=850;, score=0.518 total time=   7.0s\n",
            "[CV 2/3] END bootstrap=False, max_depth=None, max_features=log2, min_samples_leaf=8, min_samples_split=23, n_estimators=850;, score=0.508 total time=   6.0s\n",
            "[CV 3/3] END bootstrap=False, max_depth=None, max_features=log2, min_samples_leaf=8, min_samples_split=23, n_estimators=850;, score=0.514 total time=   6.7s\n",
            "[CV 1/3] END bootstrap=False, max_depth=None, max_features=log2, min_samples_leaf=8, min_samples_split=23, n_estimators=900;, score=0.521 total time=   6.7s\n",
            "[CV 2/3] END bootstrap=False, max_depth=None, max_features=log2, min_samples_leaf=8, min_samples_split=23, n_estimators=900;, score=0.507 total time=   7.4s\n",
            "[CV 3/3] END bootstrap=False, max_depth=None, max_features=log2, min_samples_leaf=8, min_samples_split=23, n_estimators=900;, score=0.515 total time=   6.3s\n",
            "[CV 1/3] END bootstrap=False, max_depth=None, max_features=log2, min_samples_leaf=8, min_samples_split=23, n_estimators=925;, score=0.519 total time=   7.8s\n",
            "[CV 2/3] END bootstrap=False, max_depth=None, max_features=log2, min_samples_leaf=8, min_samples_split=23, n_estimators=925;, score=0.505 total time=   6.2s\n",
            "[CV 3/3] END bootstrap=False, max_depth=None, max_features=log2, min_samples_leaf=8, min_samples_split=23, n_estimators=925;, score=0.516 total time=   8.0s\n",
            "[CV 1/3] END bootstrap=False, max_depth=None, max_features=log2, min_samples_leaf=8, min_samples_split=23, n_estimators=950;, score=0.519 total time=   6.5s\n",
            "[CV 2/3] END bootstrap=False, max_depth=None, max_features=log2, min_samples_leaf=8, min_samples_split=23, n_estimators=950;, score=0.506 total time=   8.0s\n",
            "[CV 3/3] END bootstrap=False, max_depth=None, max_features=log2, min_samples_leaf=8, min_samples_split=23, n_estimators=950;, score=0.514 total time=   6.4s\n",
            "[CV 1/3] END bootstrap=False, max_depth=None, max_features=log2, min_samples_leaf=8, min_samples_split=24, n_estimators=850;, score=0.517 total time=   7.5s\n",
            "[CV 2/3] END bootstrap=False, max_depth=None, max_features=log2, min_samples_leaf=8, min_samples_split=24, n_estimators=850;, score=0.506 total time=   5.8s\n",
            "[CV 3/3] END bootstrap=False, max_depth=None, max_features=log2, min_samples_leaf=8, min_samples_split=24, n_estimators=850;, score=0.506 total time=   7.5s\n",
            "[CV 1/3] END bootstrap=False, max_depth=None, max_features=log2, min_samples_leaf=8, min_samples_split=24, n_estimators=900;, score=0.519 total time=   6.2s\n",
            "[CV 2/3] END bootstrap=False, max_depth=None, max_features=log2, min_samples_leaf=8, min_samples_split=24, n_estimators=900;, score=0.507 total time=   8.1s\n",
            "[CV 3/3] END bootstrap=False, max_depth=None, max_features=log2, min_samples_leaf=8, min_samples_split=24, n_estimators=900;, score=0.504 total time=   6.5s\n",
            "[CV 1/3] END bootstrap=False, max_depth=None, max_features=log2, min_samples_leaf=8, min_samples_split=24, n_estimators=925;, score=0.519 total time=   8.2s\n",
            "[CV 2/3] END bootstrap=False, max_depth=None, max_features=log2, min_samples_leaf=8, min_samples_split=24, n_estimators=925;, score=0.506 total time=   6.8s\n",
            "[CV 3/3] END bootstrap=False, max_depth=None, max_features=log2, min_samples_leaf=8, min_samples_split=24, n_estimators=925;, score=0.505 total time=   7.1s\n",
            "[CV 1/3] END bootstrap=False, max_depth=None, max_features=log2, min_samples_leaf=8, min_samples_split=24, n_estimators=950;, score=0.519 total time=   7.6s\n",
            "[CV 2/3] END bootstrap=False, max_depth=None, max_features=log2, min_samples_leaf=8, min_samples_split=24, n_estimators=950;, score=0.507 total time=   6.7s\n",
            "[CV 3/3] END bootstrap=False, max_depth=None, max_features=log2, min_samples_leaf=8, min_samples_split=24, n_estimators=950;, score=0.506 total time=   8.0s\n",
            "[CV 1/3] END bootstrap=False, max_depth=None, max_features=log2, min_samples_leaf=8, min_samples_split=25, n_estimators=850;, score=0.522 total time=   5.8s\n",
            "[CV 2/3] END bootstrap=False, max_depth=None, max_features=log2, min_samples_leaf=8, min_samples_split=25, n_estimators=850;, score=0.504 total time=   9.8s\n",
            "[CV 3/3] END bootstrap=False, max_depth=None, max_features=log2, min_samples_leaf=8, min_samples_split=25, n_estimators=850;, score=0.510 total time=  15.1s\n",
            "[CV 1/3] END bootstrap=False, max_depth=None, max_features=log2, min_samples_leaf=8, min_samples_split=25, n_estimators=900;, score=0.521 total time=  15.8s\n",
            "[CV 2/3] END bootstrap=False, max_depth=None, max_features=log2, min_samples_leaf=8, min_samples_split=25, n_estimators=900;, score=0.504 total time=   8.5s\n",
            "[CV 3/3] END bootstrap=False, max_depth=None, max_features=log2, min_samples_leaf=8, min_samples_split=25, n_estimators=900;, score=0.513 total time=   6.0s\n",
            "[CV 1/3] END bootstrap=False, max_depth=None, max_features=log2, min_samples_leaf=8, min_samples_split=25, n_estimators=925;, score=0.519 total time=   7.9s\n",
            "[CV 2/3] END bootstrap=False, max_depth=None, max_features=log2, min_samples_leaf=8, min_samples_split=25, n_estimators=925;, score=0.505 total time=   6.2s\n",
            "[CV 3/3] END bootstrap=False, max_depth=None, max_features=log2, min_samples_leaf=8, min_samples_split=25, n_estimators=925;, score=0.513 total time=   7.9s\n",
            "[CV 1/3] END bootstrap=False, max_depth=None, max_features=log2, min_samples_leaf=8, min_samples_split=25, n_estimators=950;, score=0.519 total time=   6.6s\n",
            "[CV 2/3] END bootstrap=False, max_depth=None, max_features=log2, min_samples_leaf=8, min_samples_split=25, n_estimators=950;, score=0.505 total time=   8.2s\n",
            "[CV 3/3] END bootstrap=False, max_depth=None, max_features=log2, min_samples_leaf=8, min_samples_split=25, n_estimators=950;, score=0.510 total time=   6.6s\n",
            "[CV 1/3] END bootstrap=False, max_depth=None, max_features=log2, min_samples_leaf=8, min_samples_split=26, n_estimators=850;, score=0.520 total time=   7.2s\n",
            "[CV 2/3] END bootstrap=False, max_depth=None, max_features=log2, min_samples_leaf=8, min_samples_split=26, n_estimators=850;, score=0.505 total time=   6.0s\n",
            "[CV 3/3] END bootstrap=False, max_depth=None, max_features=log2, min_samples_leaf=8, min_samples_split=26, n_estimators=850;, score=0.513 total time=   7.2s\n",
            "[CV 1/3] END bootstrap=False, max_depth=None, max_features=log2, min_samples_leaf=8, min_samples_split=26, n_estimators=900;, score=0.517 total time=   6.5s\n",
            "[CV 2/3] END bootstrap=False, max_depth=None, max_features=log2, min_samples_leaf=8, min_samples_split=26, n_estimators=900;, score=0.505 total time=   7.5s\n",
            "[CV 3/3] END bootstrap=False, max_depth=None, max_features=log2, min_samples_leaf=8, min_samples_split=26, n_estimators=900;, score=0.511 total time=   8.3s\n",
            "[CV 1/3] END bootstrap=False, max_depth=None, max_features=log2, min_samples_leaf=8, min_samples_split=26, n_estimators=925;, score=0.516 total time=   6.3s\n",
            "[CV 2/3] END bootstrap=False, max_depth=None, max_features=log2, min_samples_leaf=8, min_samples_split=26, n_estimators=925;, score=0.506 total time=   7.9s\n",
            "[CV 3/3] END bootstrap=False, max_depth=None, max_features=log2, min_samples_leaf=8, min_samples_split=26, n_estimators=925;, score=0.509 total time=   6.4s\n",
            "[CV 1/3] END bootstrap=False, max_depth=None, max_features=log2, min_samples_leaf=8, min_samples_split=26, n_estimators=950;, score=0.518 total time=   8.2s\n",
            "[CV 2/3] END bootstrap=False, max_depth=None, max_features=log2, min_samples_leaf=8, min_samples_split=26, n_estimators=950;, score=0.507 total time=   6.5s\n",
            "[CV 3/3] END bootstrap=False, max_depth=None, max_features=log2, min_samples_leaf=8, min_samples_split=26, n_estimators=950;, score=0.510 total time=   8.0s\n",
            "[CV 1/3] END bootstrap=False, max_depth=None, max_features=log2, min_samples_leaf=8.5, min_samples_split=23, n_estimators=850;, score=nan total time=   0.0s\n",
            "[CV 2/3] END bootstrap=False, max_depth=None, max_features=log2, min_samples_leaf=8.5, min_samples_split=23, n_estimators=850;, score=nan total time=   0.0s\n",
            "[CV 3/3] END bootstrap=False, max_depth=None, max_features=log2, min_samples_leaf=8.5, min_samples_split=23, n_estimators=850;, score=nan total time=   0.0s\n",
            "[CV 1/3] END bootstrap=False, max_depth=None, max_features=log2, min_samples_leaf=8.5, min_samples_split=23, n_estimators=900;, score=nan total time=   0.0s\n",
            "[CV 2/3] END bootstrap=False, max_depth=None, max_features=log2, min_samples_leaf=8.5, min_samples_split=23, n_estimators=900;, score=nan total time=   0.0s\n",
            "[CV 3/3] END bootstrap=False, max_depth=None, max_features=log2, min_samples_leaf=8.5, min_samples_split=23, n_estimators=900;, score=nan total time=   0.0s\n",
            "[CV 1/3] END bootstrap=False, max_depth=None, max_features=log2, min_samples_leaf=8.5, min_samples_split=23, n_estimators=925;, score=nan total time=   0.0s\n",
            "[CV 2/3] END bootstrap=False, max_depth=None, max_features=log2, min_samples_leaf=8.5, min_samples_split=23, n_estimators=925;, score=nan total time=   0.0s\n",
            "[CV 3/3] END bootstrap=False, max_depth=None, max_features=log2, min_samples_leaf=8.5, min_samples_split=23, n_estimators=925;, score=nan total time=   0.0s\n",
            "[CV 1/3] END bootstrap=False, max_depth=None, max_features=log2, min_samples_leaf=8.5, min_samples_split=23, n_estimators=950;, score=nan total time=   0.0s\n",
            "[CV 2/3] END bootstrap=False, max_depth=None, max_features=log2, min_samples_leaf=8.5, min_samples_split=23, n_estimators=950;, score=nan total time=   0.0s\n",
            "[CV 3/3] END bootstrap=False, max_depth=None, max_features=log2, min_samples_leaf=8.5, min_samples_split=23, n_estimators=950;, score=nan total time=   0.0s\n",
            "[CV 1/3] END bootstrap=False, max_depth=None, max_features=log2, min_samples_leaf=8.5, min_samples_split=24, n_estimators=850;, score=nan total time=   0.0s\n",
            "[CV 2/3] END bootstrap=False, max_depth=None, max_features=log2, min_samples_leaf=8.5, min_samples_split=24, n_estimators=850;, score=nan total time=   0.0s\n",
            "[CV 3/3] END bootstrap=False, max_depth=None, max_features=log2, min_samples_leaf=8.5, min_samples_split=24, n_estimators=850;, score=nan total time=   0.0s\n",
            "[CV 1/3] END bootstrap=False, max_depth=None, max_features=log2, min_samples_leaf=8.5, min_samples_split=24, n_estimators=900;, score=nan total time=   0.0s\n",
            "[CV 2/3] END bootstrap=False, max_depth=None, max_features=log2, min_samples_leaf=8.5, min_samples_split=24, n_estimators=900;, score=nan total time=   0.0s\n",
            "[CV 3/3] END bootstrap=False, max_depth=None, max_features=log2, min_samples_leaf=8.5, min_samples_split=24, n_estimators=900;, score=nan total time=   0.0s\n",
            "[CV 1/3] END bootstrap=False, max_depth=None, max_features=log2, min_samples_leaf=8.5, min_samples_split=24, n_estimators=925;, score=nan total time=   0.0s\n",
            "[CV 2/3] END bootstrap=False, max_depth=None, max_features=log2, min_samples_leaf=8.5, min_samples_split=24, n_estimators=925;, score=nan total time=   0.0s\n",
            "[CV 3/3] END bootstrap=False, max_depth=None, max_features=log2, min_samples_leaf=8.5, min_samples_split=24, n_estimators=925;, score=nan total time=   0.0s\n",
            "[CV 1/3] END bootstrap=False, max_depth=None, max_features=log2, min_samples_leaf=8.5, min_samples_split=24, n_estimators=950;, score=nan total time=   0.0s\n",
            "[CV 2/3] END bootstrap=False, max_depth=None, max_features=log2, min_samples_leaf=8.5, min_samples_split=24, n_estimators=950;, score=nan total time=   0.0s\n",
            "[CV 3/3] END bootstrap=False, max_depth=None, max_features=log2, min_samples_leaf=8.5, min_samples_split=24, n_estimators=950;, score=nan total time=   0.0s\n",
            "[CV 1/3] END bootstrap=False, max_depth=None, max_features=log2, min_samples_leaf=8.5, min_samples_split=25, n_estimators=850;, score=nan total time=   0.0s\n",
            "[CV 2/3] END bootstrap=False, max_depth=None, max_features=log2, min_samples_leaf=8.5, min_samples_split=25, n_estimators=850;, score=nan total time=   0.0s\n",
            "[CV 3/3] END bootstrap=False, max_depth=None, max_features=log2, min_samples_leaf=8.5, min_samples_split=25, n_estimators=850;, score=nan total time=   0.0s\n",
            "[CV 1/3] END bootstrap=False, max_depth=None, max_features=log2, min_samples_leaf=8.5, min_samples_split=25, n_estimators=900;, score=nan total time=   0.0s\n",
            "[CV 2/3] END bootstrap=False, max_depth=None, max_features=log2, min_samples_leaf=8.5, min_samples_split=25, n_estimators=900;, score=nan total time=   0.0s\n",
            "[CV 3/3] END bootstrap=False, max_depth=None, max_features=log2, min_samples_leaf=8.5, min_samples_split=25, n_estimators=900;, score=nan total time=   0.0s\n",
            "[CV 1/3] END bootstrap=False, max_depth=None, max_features=log2, min_samples_leaf=8.5, min_samples_split=25, n_estimators=925;, score=nan total time=   0.0s\n",
            "[CV 2/3] END bootstrap=False, max_depth=None, max_features=log2, min_samples_leaf=8.5, min_samples_split=25, n_estimators=925;, score=nan total time=   0.0s\n",
            "[CV 3/3] END bootstrap=False, max_depth=None, max_features=log2, min_samples_leaf=8.5, min_samples_split=25, n_estimators=925;, score=nan total time=   0.0s\n",
            "[CV 1/3] END bootstrap=False, max_depth=None, max_features=log2, min_samples_leaf=8.5, min_samples_split=25, n_estimators=950;, score=nan total time=   0.0s\n",
            "[CV 2/3] END bootstrap=False, max_depth=None, max_features=log2, min_samples_leaf=8.5, min_samples_split=25, n_estimators=950;, score=nan total time=   0.0s\n",
            "[CV 3/3] END bootstrap=False, max_depth=None, max_features=log2, min_samples_leaf=8.5, min_samples_split=25, n_estimators=950;, score=nan total time=   0.0s\n",
            "[CV 1/3] END bootstrap=False, max_depth=None, max_features=log2, min_samples_leaf=8.5, min_samples_split=26, n_estimators=850;, score=nan total time=   0.0s\n",
            "[CV 2/3] END bootstrap=False, max_depth=None, max_features=log2, min_samples_leaf=8.5, min_samples_split=26, n_estimators=850;, score=nan total time=   0.0s\n",
            "[CV 3/3] END bootstrap=False, max_depth=None, max_features=log2, min_samples_leaf=8.5, min_samples_split=26, n_estimators=850;, score=nan total time=   0.0s\n",
            "[CV 1/3] END bootstrap=False, max_depth=None, max_features=log2, min_samples_leaf=8.5, min_samples_split=26, n_estimators=900;, score=nan total time=   0.0s\n",
            "[CV 2/3] END bootstrap=False, max_depth=None, max_features=log2, min_samples_leaf=8.5, min_samples_split=26, n_estimators=900;, score=nan total time=   0.0s\n",
            "[CV 3/3] END bootstrap=False, max_depth=None, max_features=log2, min_samples_leaf=8.5, min_samples_split=26, n_estimators=900;, score=nan total time=   0.0s\n",
            "[CV 1/3] END bootstrap=False, max_depth=None, max_features=log2, min_samples_leaf=8.5, min_samples_split=26, n_estimators=925;, score=nan total time=   0.0s\n",
            "[CV 2/3] END bootstrap=False, max_depth=None, max_features=log2, min_samples_leaf=8.5, min_samples_split=26, n_estimators=925;, score=nan total time=   0.0s\n",
            "[CV 3/3] END bootstrap=False, max_depth=None, max_features=log2, min_samples_leaf=8.5, min_samples_split=26, n_estimators=925;, score=nan total time=   0.0s\n",
            "[CV 1/3] END bootstrap=False, max_depth=None, max_features=log2, min_samples_leaf=8.5, min_samples_split=26, n_estimators=950;, score=nan total time=   0.0s\n",
            "[CV 2/3] END bootstrap=False, max_depth=None, max_features=log2, min_samples_leaf=8.5, min_samples_split=26, n_estimators=950;, score=nan total time=   0.0s\n",
            "[CV 3/3] END bootstrap=False, max_depth=None, max_features=log2, min_samples_leaf=8.5, min_samples_split=26, n_estimators=950;, score=nan total time=   0.0s\n"
          ]
        },
        {
          "output_type": "stream",
          "name": "stderr",
          "text": [
            "/usr/local/lib/python3.10/dist-packages/sklearn/model_selection/_validation.py:378: FitFailedWarning: \n",
            "96 fits failed out of a total of 192.\n",
            "The score on these train-test partitions for these parameters will be set to nan.\n",
            "If these failures are not expected, you can try to debug them by setting error_score='raise'.\n",
            "\n",
            "Below are more details about the failures:\n",
            "--------------------------------------------------------------------------------\n",
            "48 fits failed with the following error:\n",
            "Traceback (most recent call last):\n",
            "  File \"/usr/local/lib/python3.10/dist-packages/sklearn/model_selection/_validation.py\", line 686, in _fit_and_score\n",
            "    estimator.fit(X_train, y_train, **fit_params)\n",
            "  File \"/usr/local/lib/python3.10/dist-packages/sklearn/ensemble/_forest.py\", line 340, in fit\n",
            "    self._validate_params()\n",
            "  File \"/usr/local/lib/python3.10/dist-packages/sklearn/base.py\", line 600, in _validate_params\n",
            "    validate_parameter_constraints(\n",
            "  File \"/usr/local/lib/python3.10/dist-packages/sklearn/utils/_param_validation.py\", line 97, in validate_parameter_constraints\n",
            "    raise InvalidParameterError(\n",
            "sklearn.utils._param_validation.InvalidParameterError: The 'min_samples_leaf' parameter of RandomForestClassifier must be an int in the range [1, inf) or a float in the range (0.0, 1.0). Got 7.5 instead.\n",
            "\n",
            "--------------------------------------------------------------------------------\n",
            "48 fits failed with the following error:\n",
            "Traceback (most recent call last):\n",
            "  File \"/usr/local/lib/python3.10/dist-packages/sklearn/model_selection/_validation.py\", line 686, in _fit_and_score\n",
            "    estimator.fit(X_train, y_train, **fit_params)\n",
            "  File \"/usr/local/lib/python3.10/dist-packages/sklearn/ensemble/_forest.py\", line 340, in fit\n",
            "    self._validate_params()\n",
            "  File \"/usr/local/lib/python3.10/dist-packages/sklearn/base.py\", line 600, in _validate_params\n",
            "    validate_parameter_constraints(\n",
            "  File \"/usr/local/lib/python3.10/dist-packages/sklearn/utils/_param_validation.py\", line 97, in validate_parameter_constraints\n",
            "    raise InvalidParameterError(\n",
            "sklearn.utils._param_validation.InvalidParameterError: The 'min_samples_leaf' parameter of RandomForestClassifier must be an int in the range [1, inf) or a float in the range (0.0, 1.0). Got 8.5 instead.\n",
            "\n",
            "  warnings.warn(some_fits_failed_message, FitFailedWarning)\n",
            "/usr/local/lib/python3.10/dist-packages/sklearn/model_selection/_search.py:952: UserWarning: One or more of the test scores are non-finite: [0.50947564 0.5093525  0.50861422 0.50959877 0.51045996 0.51009096\n",
            " 0.50947573 0.51132174 0.51242912 0.51255207 0.51181366 0.51119833\n",
            " 0.51033701 0.50984459 0.50935263 0.50984459        nan        nan\n",
            "        nan        nan        nan        nan        nan        nan\n",
            "        nan        nan        nan        nan        nan        nan\n",
            "        nan        nan 0.51329081 0.51415218 0.51329094 0.51292162\n",
            " 0.50947532 0.51021342 0.50984432 0.51058278 0.5119368  0.51242926\n",
            " 0.51218316 0.51144456 0.51242926 0.51107551 0.51058315 0.51144456\n",
            "        nan        nan        nan        nan        nan        nan\n",
            "        nan        nan        nan        nan        nan        nan\n",
            "        nan        nan        nan        nan]\n",
            "  warnings.warn(\n"
          ]
        },
        {
          "output_type": "execute_result",
          "data": {
            "text/plain": [
              "GridSearchCV(cv=3, estimator=RandomForestClassifier(n_jobs=-1, random_state=1),\n",
              "             param_grid={'bootstrap': [False], 'max_depth': [None],\n",
              "                         'max_features': ['log2'],\n",
              "                         'min_samples_leaf': [7, 7.5, 8, 8.5],\n",
              "                         'min_samples_split': [23, 24, 25, 26],\n",
              "                         'n_estimators': [850, 900, 925, 950]},\n",
              "             verbose=3)"
            ],
            "text/html": [
              "<style>#sk-container-id-3 {color: black;background-color: white;}#sk-container-id-3 pre{padding: 0;}#sk-container-id-3 div.sk-toggleable {background-color: white;}#sk-container-id-3 label.sk-toggleable__label {cursor: pointer;display: block;width: 100%;margin-bottom: 0;padding: 0.3em;box-sizing: border-box;text-align: center;}#sk-container-id-3 label.sk-toggleable__label-arrow:before {content: \"▸\";float: left;margin-right: 0.25em;color: #696969;}#sk-container-id-3 label.sk-toggleable__label-arrow:hover:before {color: black;}#sk-container-id-3 div.sk-estimator:hover label.sk-toggleable__label-arrow:before {color: black;}#sk-container-id-3 div.sk-toggleable__content {max-height: 0;max-width: 0;overflow: hidden;text-align: left;background-color: #f0f8ff;}#sk-container-id-3 div.sk-toggleable__content pre {margin: 0.2em;color: black;border-radius: 0.25em;background-color: #f0f8ff;}#sk-container-id-3 input.sk-toggleable__control:checked~div.sk-toggleable__content {max-height: 200px;max-width: 100%;overflow: auto;}#sk-container-id-3 input.sk-toggleable__control:checked~label.sk-toggleable__label-arrow:before {content: \"▾\";}#sk-container-id-3 div.sk-estimator input.sk-toggleable__control:checked~label.sk-toggleable__label {background-color: #d4ebff;}#sk-container-id-3 div.sk-label input.sk-toggleable__control:checked~label.sk-toggleable__label {background-color: #d4ebff;}#sk-container-id-3 input.sk-hidden--visually {border: 0;clip: rect(1px 1px 1px 1px);clip: rect(1px, 1px, 1px, 1px);height: 1px;margin: -1px;overflow: hidden;padding: 0;position: absolute;width: 1px;}#sk-container-id-3 div.sk-estimator {font-family: monospace;background-color: #f0f8ff;border: 1px dotted black;border-radius: 0.25em;box-sizing: border-box;margin-bottom: 0.5em;}#sk-container-id-3 div.sk-estimator:hover {background-color: #d4ebff;}#sk-container-id-3 div.sk-parallel-item::after {content: \"\";width: 100%;border-bottom: 1px solid gray;flex-grow: 1;}#sk-container-id-3 div.sk-label:hover label.sk-toggleable__label {background-color: #d4ebff;}#sk-container-id-3 div.sk-serial::before {content: \"\";position: absolute;border-left: 1px solid gray;box-sizing: border-box;top: 0;bottom: 0;left: 50%;z-index: 0;}#sk-container-id-3 div.sk-serial {display: flex;flex-direction: column;align-items: center;background-color: white;padding-right: 0.2em;padding-left: 0.2em;position: relative;}#sk-container-id-3 div.sk-item {position: relative;z-index: 1;}#sk-container-id-3 div.sk-parallel {display: flex;align-items: stretch;justify-content: center;background-color: white;position: relative;}#sk-container-id-3 div.sk-item::before, #sk-container-id-3 div.sk-parallel-item::before {content: \"\";position: absolute;border-left: 1px solid gray;box-sizing: border-box;top: 0;bottom: 0;left: 50%;z-index: -1;}#sk-container-id-3 div.sk-parallel-item {display: flex;flex-direction: column;z-index: 1;position: relative;background-color: white;}#sk-container-id-3 div.sk-parallel-item:first-child::after {align-self: flex-end;width: 50%;}#sk-container-id-3 div.sk-parallel-item:last-child::after {align-self: flex-start;width: 50%;}#sk-container-id-3 div.sk-parallel-item:only-child::after {width: 0;}#sk-container-id-3 div.sk-dashed-wrapped {border: 1px dashed gray;margin: 0 0.4em 0.5em 0.4em;box-sizing: border-box;padding-bottom: 0.4em;background-color: white;}#sk-container-id-3 div.sk-label label {font-family: monospace;font-weight: bold;display: inline-block;line-height: 1.2em;}#sk-container-id-3 div.sk-label-container {text-align: center;}#sk-container-id-3 div.sk-container {/* jupyter's `normalize.less` sets `[hidden] { display: none; }` but bootstrap.min.css set `[hidden] { display: none !important; }` so we also need the `!important` here to be able to override the default hidden behavior on the sphinx rendered scikit-learn.org. See: https://github.com/scikit-learn/scikit-learn/issues/21755 */display: inline-block !important;position: relative;}#sk-container-id-3 div.sk-text-repr-fallback {display: none;}</style><div id=\"sk-container-id-3\" class=\"sk-top-container\"><div class=\"sk-text-repr-fallback\"><pre>GridSearchCV(cv=3, estimator=RandomForestClassifier(n_jobs=-1, random_state=1),\n",
              "             param_grid={&#x27;bootstrap&#x27;: [False], &#x27;max_depth&#x27;: [None],\n",
              "                         &#x27;max_features&#x27;: [&#x27;log2&#x27;],\n",
              "                         &#x27;min_samples_leaf&#x27;: [7, 7.5, 8, 8.5],\n",
              "                         &#x27;min_samples_split&#x27;: [23, 24, 25, 26],\n",
              "                         &#x27;n_estimators&#x27;: [850, 900, 925, 950]},\n",
              "             verbose=3)</pre><b>In a Jupyter environment, please rerun this cell to show the HTML representation or trust the notebook. <br />On GitHub, the HTML representation is unable to render, please try loading this page with nbviewer.org.</b></div><div class=\"sk-container\" hidden><div class=\"sk-item sk-dashed-wrapped\"><div class=\"sk-label-container\"><div class=\"sk-label sk-toggleable\"><input class=\"sk-toggleable__control sk-hidden--visually\" id=\"sk-estimator-id-5\" type=\"checkbox\" ><label for=\"sk-estimator-id-5\" class=\"sk-toggleable__label sk-toggleable__label-arrow\">GridSearchCV</label><div class=\"sk-toggleable__content\"><pre>GridSearchCV(cv=3, estimator=RandomForestClassifier(n_jobs=-1, random_state=1),\n",
              "             param_grid={&#x27;bootstrap&#x27;: [False], &#x27;max_depth&#x27;: [None],\n",
              "                         &#x27;max_features&#x27;: [&#x27;log2&#x27;],\n",
              "                         &#x27;min_samples_leaf&#x27;: [7, 7.5, 8, 8.5],\n",
              "                         &#x27;min_samples_split&#x27;: [23, 24, 25, 26],\n",
              "                         &#x27;n_estimators&#x27;: [850, 900, 925, 950]},\n",
              "             verbose=3)</pre></div></div></div><div class=\"sk-parallel\"><div class=\"sk-parallel-item\"><div class=\"sk-item\"><div class=\"sk-label-container\"><div class=\"sk-label sk-toggleable\"><input class=\"sk-toggleable__control sk-hidden--visually\" id=\"sk-estimator-id-6\" type=\"checkbox\" ><label for=\"sk-estimator-id-6\" class=\"sk-toggleable__label sk-toggleable__label-arrow\">estimator: RandomForestClassifier</label><div class=\"sk-toggleable__content\"><pre>RandomForestClassifier(n_jobs=-1, random_state=1)</pre></div></div></div><div class=\"sk-serial\"><div class=\"sk-item\"><div class=\"sk-estimator sk-toggleable\"><input class=\"sk-toggleable__control sk-hidden--visually\" id=\"sk-estimator-id-7\" type=\"checkbox\" ><label for=\"sk-estimator-id-7\" class=\"sk-toggleable__label sk-toggleable__label-arrow\">RandomForestClassifier</label><div class=\"sk-toggleable__content\"><pre>RandomForestClassifier(n_jobs=-1, random_state=1)</pre></div></div></div></div></div></div></div></div></div></div>"
            ]
          },
          "metadata": {},
          "execution_count": 30
        }
      ]
    },
    {
      "cell_type": "code",
      "source": [
        "grid_search.best_params_\n",
        "grid_search.best_score_"
      ],
      "metadata": {
        "colab": {
          "base_uri": "https://localhost:8080/"
        },
        "id": "7jVlnqyGHEbd",
        "outputId": "c43221a2-2b6f-4526-f89b-ef226dffc3bf"
      },
      "execution_count": 32,
      "outputs": [
        {
          "output_type": "execute_result",
          "data": {
            "text/plain": [
              "0.5141521805154109"
            ]
          },
          "metadata": {},
          "execution_count": 32
        }
      ]
    },
    {
      "cell_type": "code",
      "source": [
        "feat_importances = pd.Series(model.feature_importances_, index=X.columns)"
      ],
      "metadata": {
        "id": "SgCDtngEs6yw"
      },
      "execution_count": 75,
      "outputs": []
    },
    {
      "cell_type": "code",
      "source": [
        "feat_importances.nlargest(15).plot(kind='barh')\n",
        "plt.title(\"Top 15 important features\")\n",
        "plt.show()"
      ],
      "metadata": {
        "colab": {
          "base_uri": "https://localhost:8080/",
          "height": 452
        },
        "id": "JeH7rxdlJQ-S",
        "outputId": "b59cf7db-fc4a-4a88-bf5a-954c7a0f4b0d"
      },
      "execution_count": 76,
      "outputs": [
        {
          "output_type": "display_data",
          "data": {
            "text/plain": [
              "<Figure size 640x480 with 1 Axes>"
            ],
            "image/png": "[encoded data removed]"
          },
          "metadata": {}
        }
      ]
    },
    {
      "cell_type": "code",
      "source": [
        "feat_importances.nlargest(20)"
      ],
      "metadata": {
        "colab": {
          "base_uri": "https://localhost:8080/"
        },
        "id": "j2SQQUsEI7-3",
        "outputId": "cc72dd41-6430-4f0c-a1ac-1d1ba3907967"
      },
      "execution_count": 80,
      "outputs": [
        {
          "output_type": "execute_result",
          "data": {
            "text/plain": [
              "flight_hours_mean               0.125146\n",
              "afm_hrs                         0.112192\n",
              "dprt_time                       0.106696\n",
              "cert_max_gr_wt                  0.098032\n",
              "power_units                     0.083192\n",
              "total_seats                     0.036075\n",
              "pc_profession                   0.016171\n",
              "type_last_insp_ANNL             0.016016\n",
              "fixed_retractable_RETR          0.015887\n",
              "acft_make_infrequent_sklearn    0.015722\n",
              "eng_mfgr_LYCOMING               0.015352\n",
              "carb_fuel_injection_CARB        0.014692\n",
              "eng_mfgr_CONTINENTAL            0.014351\n",
              "acft_make_CESSNA                0.014124\n",
              "_PERS                           0.013717\n",
              "dest_apt_id                     0.013168\n",
              "carb_fuel_injection_FINJ        0.013123\n",
              "second_pilot                    0.012706\n",
              "acft_make_PIPER                 0.011719\n",
              "type_last_insp_100H             0.010755\n",
              "dtype: float64"
            ]
          },
          "metadata": {},
          "execution_count": 80
        }
      ]
    }
  ],
  "metadata": {
    "language_info": {
      "name": "python"
    },
    "orig_nbformat": 4,
    "colab": {
      "provenance": []
    },
    "kernelspec": {
      "name": "python3",
      "display_name": "Python 3"
    }
  },
  "nbformat": 4,
  "nbformat_minor": 0
}