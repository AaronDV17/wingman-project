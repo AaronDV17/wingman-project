{
 "cells": [
  {
   "cell_type": "code",
   "execution_count": 82,
   "metadata": {},
   "outputs": [],
   "source": [
    "import pandas as pd\n",
    "import numpy as np"
   ]
  },
  {
   "cell_type": "code",
   "execution_count": 83,
   "metadata": {},
   "outputs": [],
   "source": [
    "df = pd.read_csv('../raw_data/Events_Sequence.csv')"
   ]
  },
  {
   "attachments": {},
   "cell_type": "markdown",
   "metadata": {},
   "source": [
    "## 1. Initial Table Info:"
   ]
  },
  {
   "cell_type": "code",
   "execution_count": 84,
   "metadata": {},
   "outputs": [
    {
     "data": {
      "text/plain": [
       "(55838, 10)"
      ]
     },
     "execution_count": 84,
     "metadata": {},
     "output_type": "execute_result"
    }
   ],
   "source": [
    "df.shape"
   ]
  },
  {
   "cell_type": "code",
   "execution_count": 85,
   "metadata": {},
   "outputs": [
    {
     "name": "stdout",
     "output_type": "stream",
     "text": [
      "<class 'pandas.core.frame.DataFrame'>\n",
      "RangeIndex: 55838 entries, 0 to 55837\n",
      "Data columns (total 10 columns):\n",
      " #   Column                  Non-Null Count  Dtype  \n",
      "---  ------                  --------------  -----  \n",
      " 0   ev_id                   55838 non-null  object \n",
      " 1   Aircraft_Key            55838 non-null  int64  \n",
      " 2   Occurrence_No           55838 non-null  int64  \n",
      " 3   Occurrence_Code         55838 non-null  int64  \n",
      " 4   Occurrence_Description  55838 non-null  object \n",
      " 5   phase_no                55838 non-null  int64  \n",
      " 6   eventsoe_no             55838 non-null  int64  \n",
      " 7   Defining_ev             55838 non-null  bool   \n",
      " 8   lchg_date               55838 non-null  object \n",
      " 9   lchg_userid             0 non-null      float64\n",
      "dtypes: bool(1), float64(1), int64(5), object(3)\n",
      "memory usage: 3.9+ MB\n"
     ]
    }
   ],
   "source": [
    "df.info()"
   ]
  },
  {
   "cell_type": "code",
   "execution_count": 86,
   "metadata": {},
   "outputs": [
    {
     "data": {
      "text/html": [
       "<div>\n",
       "<style scoped>\n",
       "    .dataframe tbody tr th:only-of-type {\n",
       "        vertical-align: middle;\n",
       "    }\n",
       "\n",
       "    .dataframe tbody tr th {\n",
       "        vertical-align: top;\n",
       "    }\n",
       "\n",
       "    .dataframe thead th {\n",
       "        text-align: right;\n",
       "    }\n",
       "</style>\n",
       "<table border=\"1\" class=\"dataframe\">\n",
       "  <thead>\n",
       "    <tr style=\"text-align: right;\">\n",
       "      <th></th>\n",
       "      <th>ev_id</th>\n",
       "      <th>Aircraft_Key</th>\n",
       "      <th>Occurrence_No</th>\n",
       "      <th>Occurrence_Code</th>\n",
       "      <th>Occurrence_Description</th>\n",
       "      <th>phase_no</th>\n",
       "      <th>eventsoe_no</th>\n",
       "      <th>Defining_ev</th>\n",
       "      <th>lchg_date</th>\n",
       "      <th>lchg_userid</th>\n",
       "    </tr>\n",
       "  </thead>\n",
       "  <tbody>\n",
       "    <tr>\n",
       "      <th>0</th>\n",
       "      <td>20080107X00026</td>\n",
       "      <td>1</td>\n",
       "      <td>1</td>\n",
       "      <td>550250</td>\n",
       "      <td>Landing Midair collision</td>\n",
       "      <td>550</td>\n",
       "      <td>250</td>\n",
       "      <td>True</td>\n",
       "      <td>2020-09-25 18:05:31</td>\n",
       "      <td>NaN</td>\n",
       "    </tr>\n",
       "    <tr>\n",
       "      <th>1</th>\n",
       "      <td>20080107X00026</td>\n",
       "      <td>2</td>\n",
       "      <td>1</td>\n",
       "      <td>350250</td>\n",
       "      <td>Initial climb Midair collision</td>\n",
       "      <td>350</td>\n",
       "      <td>250</td>\n",
       "      <td>True</td>\n",
       "      <td>2020-09-25 18:05:31</td>\n",
       "      <td>NaN</td>\n",
       "    </tr>\n",
       "    <tr>\n",
       "      <th>2</th>\n",
       "      <td>20080109X00036</td>\n",
       "      <td>1</td>\n",
       "      <td>1</td>\n",
       "      <td>551230</td>\n",
       "      <td>Landing-flare/touchdown Loss of control on ground</td>\n",
       "      <td>551</td>\n",
       "      <td>230</td>\n",
       "      <td>True</td>\n",
       "      <td>2020-09-25 18:05:31</td>\n",
       "      <td>NaN</td>\n",
       "    </tr>\n",
       "    <tr>\n",
       "      <th>3</th>\n",
       "      <td>20080109X00036</td>\n",
       "      <td>1</td>\n",
       "      <td>2</td>\n",
       "      <td>550300</td>\n",
       "      <td>Landing Runway excursion</td>\n",
       "      <td>550</td>\n",
       "      <td>300</td>\n",
       "      <td>False</td>\n",
       "      <td>2020-09-25 18:05:31</td>\n",
       "      <td>NaN</td>\n",
       "    </tr>\n",
       "    <tr>\n",
       "      <th>4</th>\n",
       "      <td>20080107X00027</td>\n",
       "      <td>1</td>\n",
       "      <td>1</td>\n",
       "      <td>153081</td>\n",
       "      <td>Standing-engine(s) operating AC/prop/rotor con...</td>\n",
       "      <td>153</td>\n",
       "      <td>81</td>\n",
       "      <td>True</td>\n",
       "      <td>2020-09-25 18:04:02</td>\n",
       "      <td>NaN</td>\n",
       "    </tr>\n",
       "  </tbody>\n",
       "</table>\n",
       "</div>"
      ],
      "text/plain": [
       "            ev_id  Aircraft_Key  Occurrence_No  Occurrence_Code  \\\n",
       "0  20080107X00026             1              1           550250   \n",
       "1  20080107X00026             2              1           350250   \n",
       "2  20080109X00036             1              1           551230   \n",
       "3  20080109X00036             1              2           550300   \n",
       "4  20080107X00027             1              1           153081   \n",
       "\n",
       "                              Occurrence_Description  phase_no  eventsoe_no  \\\n",
       "0                           Landing Midair collision       550          250   \n",
       "1                     Initial climb Midair collision       350          250   \n",
       "2  Landing-flare/touchdown Loss of control on ground       551          230   \n",
       "3                           Landing Runway excursion       550          300   \n",
       "4  Standing-engine(s) operating AC/prop/rotor con...       153           81   \n",
       "\n",
       "   Defining_ev            lchg_date  lchg_userid  \n",
       "0         True  2020-09-25 18:05:31          NaN  \n",
       "1         True  2020-09-25 18:05:31          NaN  \n",
       "2         True  2020-09-25 18:05:31          NaN  \n",
       "3        False  2020-09-25 18:05:31          NaN  \n",
       "4         True  2020-09-25 18:04:02          NaN  "
      ]
     },
     "execution_count": 86,
     "metadata": {},
     "output_type": "execute_result"
    }
   ],
   "source": [
    "df.head()"
   ]
  },
  {
   "cell_type": "code",
   "execution_count": 87,
   "metadata": {},
   "outputs": [
    {
     "data": {
      "text/plain": [
       "False    30684\n",
       "True     25154\n",
       "Name: Defining_ev, dtype: int64"
      ]
     },
     "execution_count": 87,
     "metadata": {},
     "output_type": "execute_result"
    }
   ],
   "source": [
    "df['Defining_ev'].value_counts()"
   ]
  },
  {
   "attachments": {},
   "cell_type": "markdown",
   "metadata": {},
   "source": [
    "## 2. Table Edits:"
   ]
  },
  {
   "cell_type": "code",
   "execution_count": 89,
   "metadata": {},
   "outputs": [],
   "source": [
    "mask = df['Defining_ev'] == True"
   ]
  },
  {
   "cell_type": "code",
   "execution_count": 90,
   "metadata": {},
   "outputs": [],
   "source": [
    "target_df = df[mask]"
   ]
  },
  {
   "cell_type": "code",
   "execution_count": 91,
   "metadata": {},
   "outputs": [
    {
     "name": "stderr",
     "output_type": "stream",
     "text": [
      "/tmp/ipykernel_16309/2427114049.py:1: SettingWithCopyWarning: \n",
      "A value is trying to be set on a copy of a slice from a DataFrame\n",
      "\n",
      "See the caveats in the documentation: https://pandas.pydata.org/pandas-docs/stable/user_guide/indexing.html#returning-a-view-versus-a-copy\n",
      "  target_df.drop(['Occurrence_No', 'Occurrence_Code', 'Occurrence_Description', 'Defining_ev', 'lchg_date', 'lchg_userid'], axis=1, inplace=True)\n"
     ]
    }
   ],
   "source": [
    "target_df.drop(['Occurrence_No', 'Occurrence_Code', 'Occurrence_Description', 'Defining_ev', 'lchg_date', 'lchg_userid'], axis=1, inplace=True)"
   ]
  },
  {
   "cell_type": "code",
   "execution_count": 92,
   "metadata": {},
   "outputs": [
    {
     "name": "stderr",
     "output_type": "stream",
     "text": [
      "/tmp/ipykernel_16309/2994624934.py:1: SettingWithCopyWarning: \n",
      "A value is trying to be set on a copy of a slice from a DataFrame.\n",
      "Try using .loc[row_indexer,col_indexer] = value instead\n",
      "\n",
      "See the caveats in the documentation: https://pandas.pydata.org/pandas-docs/stable/user_guide/indexing.html#returning-a-view-versus-a-copy\n",
      "  target_df['id'] = (df['ev_id'].astype(str) + df['Aircraft_Key'].astype(str)).astype('object')\n"
     ]
    }
   ],
   "source": [
    "target_df['id'] = (df['ev_id'].astype(str) + df['Aircraft_Key'].astype(str)).astype('object')"
   ]
  },
  {
   "cell_type": "code",
   "execution_count": 93,
   "metadata": {},
   "outputs": [
    {
     "name": "stderr",
     "output_type": "stream",
     "text": [
      "/tmp/ipykernel_16309/64742750.py:1: SettingWithCopyWarning: \n",
      "A value is trying to be set on a copy of a slice from a DataFrame\n",
      "\n",
      "See the caveats in the documentation: https://pandas.pydata.org/pandas-docs/stable/user_guide/indexing.html#returning-a-view-versus-a-copy\n",
      "  target_df.drop(['ev_id', 'Aircraft_Key'], axis=1, inplace=True)\n"
     ]
    }
   ],
   "source": [
    "target_df.drop(['ev_id', 'Aircraft_Key'], axis=1, inplace=True)"
   ]
  },
  {
   "cell_type": "code",
   "execution_count": 94,
   "metadata": {},
   "outputs": [],
   "source": [
    "new_column_order = ['id', 'phase_no', 'eventsoe_no']\n",
    "target_df = target_df[new_column_order]"
   ]
  },
  {
   "attachments": {},
   "cell_type": "markdown",
   "metadata": {},
   "source": [
    "## 3. Target Table Info:"
   ]
  },
  {
   "cell_type": "code",
   "execution_count": 95,
   "metadata": {},
   "outputs": [
    {
     "data": {
      "text/plain": [
       "(25154, 3)"
      ]
     },
     "execution_count": 95,
     "metadata": {},
     "output_type": "execute_result"
    }
   ],
   "source": [
    "target_df.shape"
   ]
  },
  {
   "cell_type": "code",
   "execution_count": 96,
   "metadata": {},
   "outputs": [
    {
     "name": "stdout",
     "output_type": "stream",
     "text": [
      "<class 'pandas.core.frame.DataFrame'>\n",
      "Int64Index: 25154 entries, 0 to 55837\n",
      "Data columns (total 3 columns):\n",
      " #   Column       Non-Null Count  Dtype \n",
      "---  ------       --------------  ----- \n",
      " 0   id           25154 non-null  object\n",
      " 1   phase_no     25154 non-null  int64 \n",
      " 2   eventsoe_no  25154 non-null  int64 \n",
      "dtypes: int64(2), object(1)\n",
      "memory usage: 786.1+ KB\n"
     ]
    }
   ],
   "source": [
    "target_df.info()"
   ]
  },
  {
   "cell_type": "code",
   "execution_count": 97,
   "metadata": {},
   "outputs": [
    {
     "data": {
      "text/html": [
       "<div>\n",
       "<style scoped>\n",
       "    .dataframe tbody tr th:only-of-type {\n",
       "        vertical-align: middle;\n",
       "    }\n",
       "\n",
       "    .dataframe tbody tr th {\n",
       "        vertical-align: top;\n",
       "    }\n",
       "\n",
       "    .dataframe thead th {\n",
       "        text-align: right;\n",
       "    }\n",
       "</style>\n",
       "<table border=\"1\" class=\"dataframe\">\n",
       "  <thead>\n",
       "    <tr style=\"text-align: right;\">\n",
       "      <th></th>\n",
       "      <th>id</th>\n",
       "      <th>phase_no</th>\n",
       "      <th>eventsoe_no</th>\n",
       "    </tr>\n",
       "  </thead>\n",
       "  <tbody>\n",
       "    <tr>\n",
       "      <th>0</th>\n",
       "      <td>20080107X000261</td>\n",
       "      <td>550</td>\n",
       "      <td>250</td>\n",
       "    </tr>\n",
       "    <tr>\n",
       "      <th>1</th>\n",
       "      <td>20080107X000262</td>\n",
       "      <td>350</td>\n",
       "      <td>250</td>\n",
       "    </tr>\n",
       "    <tr>\n",
       "      <th>2</th>\n",
       "      <td>20080109X000361</td>\n",
       "      <td>551</td>\n",
       "      <td>230</td>\n",
       "    </tr>\n",
       "    <tr>\n",
       "      <th>4</th>\n",
       "      <td>20080107X000271</td>\n",
       "      <td>153</td>\n",
       "      <td>81</td>\n",
       "    </tr>\n",
       "    <tr>\n",
       "      <th>5</th>\n",
       "      <td>20080115X000511</td>\n",
       "      <td>551</td>\n",
       "      <td>240</td>\n",
       "    </tr>\n",
       "  </tbody>\n",
       "</table>\n",
       "</div>"
      ],
      "text/plain": [
       "                id  phase_no  eventsoe_no\n",
       "0  20080107X000261       550          250\n",
       "1  20080107X000262       350          250\n",
       "2  20080109X000361       551          230\n",
       "4  20080107X000271       153           81\n",
       "5  20080115X000511       551          240"
      ]
     },
     "execution_count": 97,
     "metadata": {},
     "output_type": "execute_result"
    }
   ],
   "source": [
    "target_df.head()"
   ]
  },
  {
   "cell_type": "code",
   "execution_count": 98,
   "metadata": {},
   "outputs": [
    {
     "data": {
      "text/plain": [
       "240    3243\n",
       "230    3157\n",
       "341    2475\n",
       "342    1219\n",
       "92     1055\n",
       "       ... \n",
       "335       5\n",
       "170       4\n",
       "441       3\n",
       "450       1\n",
       "130       1\n",
       "Name: eventsoe_no, Length: 91, dtype: int64"
      ]
     },
     "execution_count": 98,
     "metadata": {},
     "output_type": "execute_result"
    }
   ],
   "source": [
    "target_df['eventsoe_no'].value_counts()"
   ]
  },
  {
   "attachments": {},
   "cell_type": "markdown",
   "metadata": {},
   "source": [
    "## 4. Export Target Table:"
   ]
  },
  {
   "cell_type": "code",
   "execution_count": 99,
   "metadata": {},
   "outputs": [],
   "source": [
    "# Write to CSV\n",
    "\n",
    "import os\n",
    " \n",
    "output_directory = r\"/home/aaron/code/AaronDV17/wingman-project/trimmed_data\"\n",
    "\n",
    "output_file = os.path.join(output_directory, \"Events_Sequence_fin.csv\")\n",
    "\n",
    "pd.DataFrame.to_csv(target_df, output_file, index=False)"
   ]
  }
 ],
 "metadata": {
  "kernelspec": {
   "display_name": "Python 3",
   "language": "python",
   "name": "python3"
  },
  "language_info": {
   "codemirror_mode": {
    "name": "ipython",
    "version": 3
   },
   "file_extension": ".py",
   "mimetype": "text/x-python",
   "name": "python",
   "nbconvert_exporter": "python",
   "pygments_lexer": "ipython3",
   "version": "3.10.6"
  },
  "orig_nbformat": 4
 },
 "nbformat": 4,
 "nbformat_minor": 2
}
