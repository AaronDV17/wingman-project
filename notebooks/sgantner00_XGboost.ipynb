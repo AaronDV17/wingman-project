{
 "cells": [
  {
   "attachments": {},
   "cell_type": "markdown",
   "metadata": {},
   "source": [
    "## Imports"
   ]
  },
  {
   "cell_type": "code",
   "execution_count": 2,
   "metadata": {},
   "outputs": [],
   "source": [
    "import pandas as pd\n",
    "import numpy as np\n",
    "import seaborn as sns\n",
    "import matplotlib.pyplot as plt\n",
    "\n",
    "from sklearn.ensemble import RandomForestClassifier\n",
    "from sklearn.model_selection import train_test_split\n",
    "from sklearn.metrics import accuracy_score, confusion_matrix, classification_report\n",
    "\n",
    "from sklearn.model_selection import RandomizedSearchCV\n",
    "from sklearn.model_selection import GridSearchCV\n",
    "from sklearn.utils import compute_class_weight\n",
    "\n",
    "\n",
    "from preprocessor import *\n",
    "from data import *"
   ]
  },
  {
   "cell_type": "code",
   "execution_count": 3,
   "metadata": {},
   "outputs": [],
   "source": [
    "## import data when available\n",
    "data = pd.read_csv('data/wingman_data_proc_v5.csv')\n",
    "data.set_index('id', inplace=True)"
   ]
  },
  {
   "cell_type": "code",
   "execution_count": 4,
   "metadata": {},
   "outputs": [
    {
     "data": {
      "text/plain": [
       "(5871, 58)"
      ]
     },
     "execution_count": 4,
     "metadata": {},
     "output_type": "execute_result"
    }
   ],
   "source": [
    "data.shape"
   ]
  },
  {
   "cell_type": "code",
   "execution_count": 5,
   "metadata": {},
   "outputs": [],
   "source": [
    "X = data.drop('subcategory_no', axis=1)\n",
    "y = data['subcategory_no']"
   ]
  },
  {
   "attachments": {},
   "cell_type": "markdown",
   "metadata": {},
   "source": [
    "## Train test split"
   ]
  },
  {
   "cell_type": "code",
   "execution_count": 6,
   "metadata": {},
   "outputs": [
    {
     "name": "stdout",
     "output_type": "stream",
     "text": [
      "Original Array: id\n",
      "20080115X000511    6\n",
      "20080116X000631    3\n",
      "20080122X000871    5\n",
      "20080220X002121    6\n",
      "20080207X001531    4\n",
      "                  ..\n",
      "20190107X337411    2\n",
      "20190121X128521    7\n",
      "20190108X549451    4\n",
      "20190112X112141    6\n",
      "20190111X427051    6\n",
      "Name: subcategory_no, Length: 5871, dtype: int64\n",
      "Mapped Array: [5 2 4 ... 3 5 5]\n"
     ]
    }
   ],
   "source": [
    "# mapping y values\n",
    "value_map = {1: 0, 2: 1, 3: 2, 4: 3, 5: 4, 6: 5, 7: 6}\n",
    "\n",
    "# Map new values onto the array using NumPy's 'vectorize' function\n",
    "y_mapped = np.vectorize(value_map.get)(y)\n",
    "\n",
    "print(\"Original Array:\", y)\n",
    "print(\"Mapped Array:\", y_mapped)\n"
   ]
  },
  {
   "cell_type": "code",
   "execution_count": 7,
   "metadata": {},
   "outputs": [],
   "source": [
    "X_train, X_test, y_train, y_test = train_test_split(X, y_mapped, test_size=0.3, random_state=1)"
   ]
  },
  {
   "attachments": {},
   "cell_type": "markdown",
   "metadata": {},
   "source": [
    "## SMOTE"
   ]
  },
  {
   "cell_type": "code",
   "execution_count": 11,
   "metadata": {},
   "outputs": [],
   "source": [
    "from imblearn.over_sampling import SMOTE\n",
    "\n",
    "# Assuming your dataset is stored in X and y variables\n",
    "# X should contain the features, and y should contain the corresponding labels\n",
    "\n",
    "# Instantiate the SMOTE object\n",
    "smote = SMOTE(random_state=42)\n",
    "\n",
    "# Apply SMOTE to the dataset\n",
    "X_smote, y_smote = smote.fit_resample(X_train, y_train)"
   ]
  },
  {
   "cell_type": "code",
   "execution_count": 10,
   "metadata": {},
   "outputs": [],
   "source": [
    "def calculate_class_weights(y):\n",
    "    \"\"\"\n",
    "    Calculates the balanced class weights for a multiclass classification problem.\n",
    "    Parameters:\n",
    "    - y: array-like, shape (n_samples,)\n",
    "        The target variable containing class labels.\n",
    "    Returns:\n",
    "    - class_weights: dict\n",
    "        A dictionary containing the class weights for each class label.\n",
    "    \"\"\"\n",
    "    class_weights = compute_class_weight(\n",
    "                                        class_weight = \"balanced\",\n",
    "                                        classes = np.unique(y),\n",
    "                                        y = y\n",
    "                                    )\n",
    "    return dict(zip(np.unique(y), class_weights))\n",
    "\n",
    "class_weights = calculate_class_weights(y)"
   ]
  },
  {
   "attachments": {},
   "cell_type": "markdown",
   "metadata": {},
   "source": [
    "## Baseline model"
   ]
  },
  {
   "cell_type": "code",
   "execution_count": 11,
   "metadata": {},
   "outputs": [
    {
     "data": {
      "text/html": [
       "<style>#sk-container-id-1 {color: black;background-color: white;}#sk-container-id-1 pre{padding: 0;}#sk-container-id-1 div.sk-toggleable {background-color: white;}#sk-container-id-1 label.sk-toggleable__label {cursor: pointer;display: block;width: 100%;margin-bottom: 0;padding: 0.3em;box-sizing: border-box;text-align: center;}#sk-container-id-1 label.sk-toggleable__label-arrow:before {content: \"▸\";float: left;margin-right: 0.25em;color: #696969;}#sk-container-id-1 label.sk-toggleable__label-arrow:hover:before {color: black;}#sk-container-id-1 div.sk-estimator:hover label.sk-toggleable__label-arrow:before {color: black;}#sk-container-id-1 div.sk-toggleable__content {max-height: 0;max-width: 0;overflow: hidden;text-align: left;background-color: #f0f8ff;}#sk-container-id-1 div.sk-toggleable__content pre {margin: 0.2em;color: black;border-radius: 0.25em;background-color: #f0f8ff;}#sk-container-id-1 input.sk-toggleable__control:checked~div.sk-toggleable__content {max-height: 200px;max-width: 100%;overflow: auto;}#sk-container-id-1 input.sk-toggleable__control:checked~label.sk-toggleable__label-arrow:before {content: \"▾\";}#sk-container-id-1 div.sk-estimator input.sk-toggleable__control:checked~label.sk-toggleable__label {background-color: #d4ebff;}#sk-container-id-1 div.sk-label input.sk-toggleable__control:checked~label.sk-toggleable__label {background-color: #d4ebff;}#sk-container-id-1 input.sk-hidden--visually {border: 0;clip: rect(1px 1px 1px 1px);clip: rect(1px, 1px, 1px, 1px);height: 1px;margin: -1px;overflow: hidden;padding: 0;position: absolute;width: 1px;}#sk-container-id-1 div.sk-estimator {font-family: monospace;background-color: #f0f8ff;border: 1px dotted black;border-radius: 0.25em;box-sizing: border-box;margin-bottom: 0.5em;}#sk-container-id-1 div.sk-estimator:hover {background-color: #d4ebff;}#sk-container-id-1 div.sk-parallel-item::after {content: \"\";width: 100%;border-bottom: 1px solid gray;flex-grow: 1;}#sk-container-id-1 div.sk-label:hover label.sk-toggleable__label {background-color: #d4ebff;}#sk-container-id-1 div.sk-serial::before {content: \"\";position: absolute;border-left: 1px solid gray;box-sizing: border-box;top: 0;bottom: 0;left: 50%;z-index: 0;}#sk-container-id-1 div.sk-serial {display: flex;flex-direction: column;align-items: center;background-color: white;padding-right: 0.2em;padding-left: 0.2em;position: relative;}#sk-container-id-1 div.sk-item {position: relative;z-index: 1;}#sk-container-id-1 div.sk-parallel {display: flex;align-items: stretch;justify-content: center;background-color: white;position: relative;}#sk-container-id-1 div.sk-item::before, #sk-container-id-1 div.sk-parallel-item::before {content: \"\";position: absolute;border-left: 1px solid gray;box-sizing: border-box;top: 0;bottom: 0;left: 50%;z-index: -1;}#sk-container-id-1 div.sk-parallel-item {display: flex;flex-direction: column;z-index: 1;position: relative;background-color: white;}#sk-container-id-1 div.sk-parallel-item:first-child::after {align-self: flex-end;width: 50%;}#sk-container-id-1 div.sk-parallel-item:last-child::after {align-self: flex-start;width: 50%;}#sk-container-id-1 div.sk-parallel-item:only-child::after {width: 0;}#sk-container-id-1 div.sk-dashed-wrapped {border: 1px dashed gray;margin: 0 0.4em 0.5em 0.4em;box-sizing: border-box;padding-bottom: 0.4em;background-color: white;}#sk-container-id-1 div.sk-label label {font-family: monospace;font-weight: bold;display: inline-block;line-height: 1.2em;}#sk-container-id-1 div.sk-label-container {text-align: center;}#sk-container-id-1 div.sk-container {/* jupyter's `normalize.less` sets `[hidden] { display: none; }` but bootstrap.min.css set `[hidden] { display: none !important; }` so we also need the `!important` here to be able to override the default hidden behavior on the sphinx rendered scikit-learn.org. See: https://github.com/scikit-learn/scikit-learn/issues/21755 */display: inline-block !important;position: relative;}#sk-container-id-1 div.sk-text-repr-fallback {display: none;}</style><div id=\"sk-container-id-1\" class=\"sk-top-container\"><div class=\"sk-text-repr-fallback\"><pre>RandomForestClassifier(class_weight={1: 22.071428571428573,\n",
       "                                     2: 0.9146284467985668,\n",
       "                                     3: 5.824404761904762, 4: 4.765422077922078,\n",
       "                                     5: 0.8847197106690777,\n",
       "                                     6: 0.26702142174921545,\n",
       "                                     7: 1.654268808114962},\n",
       "                       n_jobs=-1, random_state=1)</pre><b>In a Jupyter environment, please rerun this cell to show the HTML representation or trust the notebook. <br />On GitHub, the HTML representation is unable to render, please try loading this page with nbviewer.org.</b></div><div class=\"sk-container\" hidden><div class=\"sk-item\"><div class=\"sk-estimator sk-toggleable\"><input class=\"sk-toggleable__control sk-hidden--visually\" id=\"sk-estimator-id-1\" type=\"checkbox\" checked><label for=\"sk-estimator-id-1\" class=\"sk-toggleable__label sk-toggleable__label-arrow\">RandomForestClassifier</label><div class=\"sk-toggleable__content\"><pre>RandomForestClassifier(class_weight={1: 22.071428571428573,\n",
       "                                     2: 0.9146284467985668,\n",
       "                                     3: 5.824404761904762, 4: 4.765422077922078,\n",
       "                                     5: 0.8847197106690777,\n",
       "                                     6: 0.26702142174921545,\n",
       "                                     7: 1.654268808114962},\n",
       "                       n_jobs=-1, random_state=1)</pre></div></div></div></div></div>"
      ],
      "text/plain": [
       "RandomForestClassifier(class_weight={1: 22.071428571428573,\n",
       "                                     2: 0.9146284467985668,\n",
       "                                     3: 5.824404761904762, 4: 4.765422077922078,\n",
       "                                     5: 0.8847197106690777,\n",
       "                                     6: 0.26702142174921545,\n",
       "                                     7: 1.654268808114962},\n",
       "                       n_jobs=-1, random_state=1)"
      ]
     },
     "execution_count": 11,
     "metadata": {},
     "output_type": "execute_result"
    }
   ],
   "source": [
    "baseline_model = RandomForestClassifier(n_estimators=100, \n",
    "                                        random_state=1, n_jobs=-1, \n",
    "                                        class_weight=class_weights)\n",
    "\n",
    "baseline_model.fit(X_train, y_train)"
   ]
  },
  {
   "cell_type": "code",
   "execution_count": 12,
   "metadata": {},
   "outputs": [
    {
     "data": {
      "text/plain": [
       "0.5391600454029511"
      ]
     },
     "execution_count": 12,
     "metadata": {},
     "output_type": "execute_result"
    }
   ],
   "source": [
    "y_pred = baseline_model.predict(X_test)\n",
    "\n",
    "accuracy_score(y_test, y_pred)"
   ]
  },
  {
   "attachments": {},
   "cell_type": "markdown",
   "metadata": {},
   "source": [
    "## Model building"
   ]
  },
  {
   "attachments": {},
   "cell_type": "markdown",
   "metadata": {},
   "source": [
    "### Grid seach 1"
   ]
  },
  {
   "cell_type": "code",
   "execution_count": 14,
   "metadata": {},
   "outputs": [],
   "source": [
    "# Number of trees in random forest\n",
    "n_estimators = [int(x) for x in np.linspace(start = 100, stop = 2500, num = 10)]\n",
    "# Number of features to consider at every split\n",
    "max_features = ['log2', 'sqrt']\n",
    "# Maximum number of levels in tree\n",
    "max_depth = [int(x) for x in np.linspace(5, 200, num = 10)]\n",
    "max_depth.append(None)\n",
    "# Minimum number of samples required to split a node\n",
    "min_samples_split = [2, 5, 10, 15, 20, 25, 30]\n",
    "# Minimum number of samples required at each leaf node\n",
    "min_samples_leaf = [1, 2, 4, 6, 8, 10, 15, 20, 25, 30]\n",
    "# Method of selecting samples for training each tree\n",
    "bootstrap = [True, False]\n",
    "# Create the random grid\n",
    "random_grid = {'n_estimators': n_estimators,\n",
    "               'max_features': max_features,\n",
    "               'max_depth': max_depth,\n",
    "               'min_samples_split': min_samples_split,\n",
    "               'min_samples_leaf': min_samples_leaf,\n",
    "               'bootstrap': bootstrap}"
   ]
  },
  {
   "cell_type": "code",
   "execution_count": 15,
   "metadata": {},
   "outputs": [
    {
     "name": "stdout",
     "output_type": "stream",
     "text": [
      "Fitting 5 folds for each of 10 candidates, totalling 50 fits\n",
      "[CV 1/5] END bootstrap=True, max_depth=178, max_features=sqrt, min_samples_leaf=6, min_samples_split=30, n_estimators=633;, score=0.534 total time=   5.6s\n",
      "[CV 2/5] END bootstrap=True, max_depth=178, max_features=sqrt, min_samples_leaf=6, min_samples_split=30, n_estimators=633;, score=0.535 total time=   5.7s\n",
      "[CV 2/5] END bootstrap=False, max_depth=None, max_features=log2, min_samples_leaf=8, min_samples_split=25, n_estimators=900;, score=0.533 total time=   7.9s\n",
      "[CV 4/5] END bootstrap=False, max_depth=None, max_features=log2, min_samples_leaf=8, min_samples_split=25, n_estimators=900;, score=0.529 total time=   7.9s\n",
      "[CV 3/5] END bootstrap=False, max_depth=None, max_features=log2, min_samples_leaf=8, min_samples_split=25, n_estimators=900;, score=0.528 total time=   7.9s\n",
      "[CV 1/5] END bootstrap=False, max_depth=None, max_features=log2, min_samples_leaf=8, min_samples_split=25, n_estimators=900;, score=0.532 total time=   7.9s\n",
      "[CV 5/5] END bootstrap=False, max_depth=None, max_features=log2, min_samples_leaf=8, min_samples_split=25, n_estimators=900;, score=0.527 total time=   8.1s\n",
      "[CV 2/5] END bootstrap=True, max_depth=5, max_features=log2, min_samples_leaf=6, min_samples_split=10, n_estimators=1433;, score=0.530 total time=   8.4s\n",
      "[CV 3/5] END bootstrap=True, max_depth=5, max_features=log2, min_samples_leaf=6, min_samples_split=10, n_estimators=1433;, score=0.530 total time=   8.4s\n",
      "[CV 4/5] END bootstrap=True, max_depth=5, max_features=log2, min_samples_leaf=6, min_samples_split=10, n_estimators=1433;, score=0.530 total time=   8.4s\n",
      "[CV 1/5] END bootstrap=True, max_depth=5, max_features=log2, min_samples_leaf=6, min_samples_split=10, n_estimators=1433;, score=0.530 total time=   8.3s\n",
      "[CV 5/5] END bootstrap=True, max_depth=5, max_features=log2, min_samples_leaf=6, min_samples_split=10, n_estimators=1433;, score=0.531 total time=   8.5s\n",
      "[CV 3/5] END bootstrap=True, max_depth=178, max_features=sqrt, min_samples_leaf=6, min_samples_split=30, n_estimators=633;, score=0.532 total time=   5.7s\n",
      "[CV 4/5] END bootstrap=True, max_depth=178, max_features=sqrt, min_samples_leaf=6, min_samples_split=30, n_estimators=633;, score=0.535 total time=   5.7s\n",
      "[CV 2/5] END bootstrap=True, max_depth=70, max_features=sqrt, min_samples_leaf=8, min_samples_split=5, n_estimators=633;, score=0.533 total time=   5.9s\n",
      "[CV 1/5] END bootstrap=True, max_depth=70, max_features=sqrt, min_samples_leaf=8, min_samples_split=5, n_estimators=633;, score=0.534 total time=   5.9s\n",
      "[CV 5/5] END bootstrap=True, max_depth=178, max_features=sqrt, min_samples_leaf=6, min_samples_split=30, n_estimators=633;, score=0.527 total time=   6.0s\n",
      "[CV 3/5] END bootstrap=True, max_depth=70, max_features=sqrt, min_samples_leaf=8, min_samples_split=5, n_estimators=633;, score=0.532 total time=   5.9s\n",
      "[CV 4/5] END bootstrap=True, max_depth=70, max_features=sqrt, min_samples_leaf=8, min_samples_split=5, n_estimators=633;, score=0.535 total time=   5.9s\n",
      "[CV 5/5] END bootstrap=True, max_depth=70, max_features=sqrt, min_samples_leaf=8, min_samples_split=5, n_estimators=633;, score=0.531 total time=   6.1s\n",
      "[CV 1/5] END bootstrap=True, max_depth=113, max_features=sqrt, min_samples_leaf=2, min_samples_split=20, n_estimators=900;, score=0.532 total time=   9.7s\n",
      "[CV 1/5] END bootstrap=True, max_depth=156, max_features=sqrt, min_samples_leaf=15, min_samples_split=15, n_estimators=1433;, score=0.530 total time=  12.7s\n",
      "[CV 2/5] END bootstrap=True, max_depth=113, max_features=sqrt, min_samples_leaf=2, min_samples_split=20, n_estimators=900;, score=0.541 total time=   9.9s\n",
      "[CV 2/5] END bootstrap=True, max_depth=156, max_features=sqrt, min_samples_leaf=15, min_samples_split=15, n_estimators=1433;, score=0.532 total time=  13.4s\n",
      "[CV 3/5] END bootstrap=True, max_depth=156, max_features=sqrt, min_samples_leaf=15, min_samples_split=15, n_estimators=1433;, score=0.528 total time=  13.6s\n",
      "[CV 4/5] END bootstrap=True, max_depth=156, max_features=sqrt, min_samples_leaf=15, min_samples_split=15, n_estimators=1433;, score=0.529 total time=  13.6s\n",
      "[CV 5/5] END bootstrap=True, max_depth=156, max_features=sqrt, min_samples_leaf=15, min_samples_split=15, n_estimators=1433;, score=0.529 total time=  13.8s\n",
      "[CV 1/5] END bootstrap=False, max_depth=26, max_features=log2, min_samples_leaf=15, min_samples_split=30, n_estimators=2500;, score=0.532 total time=  23.7s\n",
      "[CV 2/5] END bootstrap=False, max_depth=26, max_features=log2, min_samples_leaf=15, min_samples_split=30, n_estimators=2500;, score=0.530 total time=  23.7s\n",
      "[CV 4/5] END bootstrap=False, max_depth=26, max_features=log2, min_samples_leaf=15, min_samples_split=30, n_estimators=2500;, score=0.530 total time=  23.9s\n",
      "[CV 3/5] END bootstrap=False, max_depth=26, max_features=log2, min_samples_leaf=15, min_samples_split=30, n_estimators=2500;, score=0.529 total time=  23.9s\n",
      "[CV 1/5] END bootstrap=False, max_depth=91, max_features=log2, min_samples_leaf=15, min_samples_split=10, n_estimators=100;, score=0.533 total time=   1.1s\n",
      "[CV 2/5] END bootstrap=False, max_depth=91, max_features=log2, min_samples_leaf=15, min_samples_split=10, n_estimators=100;, score=0.533 total time=   1.1s\n",
      "[CV 3/5] END bootstrap=False, max_depth=91, max_features=log2, min_samples_leaf=15, min_samples_split=10, n_estimators=100;, score=0.529 total time=   1.1s\n",
      "[CV 4/5] END bootstrap=False, max_depth=91, max_features=log2, min_samples_leaf=15, min_samples_split=10, n_estimators=100;, score=0.529 total time=   1.2s\n",
      "[CV 5/5] END bootstrap=False, max_depth=91, max_features=log2, min_samples_leaf=15, min_samples_split=10, n_estimators=100;, score=0.529 total time=   1.1s\n",
      "[CV 5/5] END bootstrap=False, max_depth=26, max_features=log2, min_samples_leaf=15, min_samples_split=30, n_estimators=2500;, score=0.530 total time=  24.8s\n",
      "[CV 3/5] END bootstrap=True, max_depth=113, max_features=sqrt, min_samples_leaf=2, min_samples_split=20, n_estimators=900;, score=0.533 total time=  12.6s\n",
      "[CV 4/5] END bootstrap=True, max_depth=113, max_features=sqrt, min_samples_leaf=2, min_samples_split=20, n_estimators=900;, score=0.536 total time=  12.5s\n",
      "[CV 5/5] END bootstrap=True, max_depth=113, max_features=sqrt, min_samples_leaf=2, min_samples_split=20, n_estimators=900;, score=0.523 total time=  12.4s\n",
      "[CV 1/5] END bootstrap=True, max_depth=5, max_features=log2, min_samples_leaf=4, min_samples_split=2, n_estimators=1166;, score=0.530 total time=   7.0s\n",
      "[CV 2/5] END bootstrap=True, max_depth=5, max_features=log2, min_samples_leaf=4, min_samples_split=2, n_estimators=1166;, score=0.530 total time=   6.6s\n",
      "[CV 3/5] END bootstrap=True, max_depth=5, max_features=log2, min_samples_leaf=4, min_samples_split=2, n_estimators=1166;, score=0.530 total time=   6.5s\n",
      "[CV 4/5] END bootstrap=True, max_depth=5, max_features=log2, min_samples_leaf=4, min_samples_split=2, n_estimators=1166;, score=0.530 total time=   5.8s\n",
      "[CV 5/5] END bootstrap=True, max_depth=5, max_features=log2, min_samples_leaf=4, min_samples_split=2, n_estimators=1166;, score=0.531 total time=   5.7s\n",
      "[CV 1/5] END bootstrap=False, max_depth=48, max_features=sqrt, min_samples_leaf=10, min_samples_split=10, n_estimators=2500;, score=0.533 total time=  23.0s\n",
      "[CV 2/5] END bootstrap=False, max_depth=48, max_features=sqrt, min_samples_leaf=10, min_samples_split=10, n_estimators=2500;, score=0.538 total time=  22.8s\n",
      "[CV 3/5] END bootstrap=False, max_depth=48, max_features=sqrt, min_samples_leaf=10, min_samples_split=10, n_estimators=2500;, score=0.534 total time=  22.8s\n",
      "[CV 4/5] END bootstrap=False, max_depth=48, max_features=sqrt, min_samples_leaf=10, min_samples_split=10, n_estimators=2500;, score=0.539 total time=  22.8s\n",
      "[CV 5/5] END bootstrap=False, max_depth=48, max_features=sqrt, min_samples_leaf=10, min_samples_split=10, n_estimators=2500;, score=0.526 total time=  20.3s\n"
     ]
    },
    {
     "data": {
      "text/html": [
       "<style>#sk-container-id-2 {color: black;background-color: white;}#sk-container-id-2 pre{padding: 0;}#sk-container-id-2 div.sk-toggleable {background-color: white;}#sk-container-id-2 label.sk-toggleable__label {cursor: pointer;display: block;width: 100%;margin-bottom: 0;padding: 0.3em;box-sizing: border-box;text-align: center;}#sk-container-id-2 label.sk-toggleable__label-arrow:before {content: \"▸\";float: left;margin-right: 0.25em;color: #696969;}#sk-container-id-2 label.sk-toggleable__label-arrow:hover:before {color: black;}#sk-container-id-2 div.sk-estimator:hover label.sk-toggleable__label-arrow:before {color: black;}#sk-container-id-2 div.sk-toggleable__content {max-height: 0;max-width: 0;overflow: hidden;text-align: left;background-color: #f0f8ff;}#sk-container-id-2 div.sk-toggleable__content pre {margin: 0.2em;color: black;border-radius: 0.25em;background-color: #f0f8ff;}#sk-container-id-2 input.sk-toggleable__control:checked~div.sk-toggleable__content {max-height: 200px;max-width: 100%;overflow: auto;}#sk-container-id-2 input.sk-toggleable__control:checked~label.sk-toggleable__label-arrow:before {content: \"▾\";}#sk-container-id-2 div.sk-estimator input.sk-toggleable__control:checked~label.sk-toggleable__label {background-color: #d4ebff;}#sk-container-id-2 div.sk-label input.sk-toggleable__control:checked~label.sk-toggleable__label {background-color: #d4ebff;}#sk-container-id-2 input.sk-hidden--visually {border: 0;clip: rect(1px 1px 1px 1px);clip: rect(1px, 1px, 1px, 1px);height: 1px;margin: -1px;overflow: hidden;padding: 0;position: absolute;width: 1px;}#sk-container-id-2 div.sk-estimator {font-family: monospace;background-color: #f0f8ff;border: 1px dotted black;border-radius: 0.25em;box-sizing: border-box;margin-bottom: 0.5em;}#sk-container-id-2 div.sk-estimator:hover {background-color: #d4ebff;}#sk-container-id-2 div.sk-parallel-item::after {content: \"\";width: 100%;border-bottom: 1px solid gray;flex-grow: 1;}#sk-container-id-2 div.sk-label:hover label.sk-toggleable__label {background-color: #d4ebff;}#sk-container-id-2 div.sk-serial::before {content: \"\";position: absolute;border-left: 1px solid gray;box-sizing: border-box;top: 0;bottom: 0;left: 50%;z-index: 0;}#sk-container-id-2 div.sk-serial {display: flex;flex-direction: column;align-items: center;background-color: white;padding-right: 0.2em;padding-left: 0.2em;position: relative;}#sk-container-id-2 div.sk-item {position: relative;z-index: 1;}#sk-container-id-2 div.sk-parallel {display: flex;align-items: stretch;justify-content: center;background-color: white;position: relative;}#sk-container-id-2 div.sk-item::before, #sk-container-id-2 div.sk-parallel-item::before {content: \"\";position: absolute;border-left: 1px solid gray;box-sizing: border-box;top: 0;bottom: 0;left: 50%;z-index: -1;}#sk-container-id-2 div.sk-parallel-item {display: flex;flex-direction: column;z-index: 1;position: relative;background-color: white;}#sk-container-id-2 div.sk-parallel-item:first-child::after {align-self: flex-end;width: 50%;}#sk-container-id-2 div.sk-parallel-item:last-child::after {align-self: flex-start;width: 50%;}#sk-container-id-2 div.sk-parallel-item:only-child::after {width: 0;}#sk-container-id-2 div.sk-dashed-wrapped {border: 1px dashed gray;margin: 0 0.4em 0.5em 0.4em;box-sizing: border-box;padding-bottom: 0.4em;background-color: white;}#sk-container-id-2 div.sk-label label {font-family: monospace;font-weight: bold;display: inline-block;line-height: 1.2em;}#sk-container-id-2 div.sk-label-container {text-align: center;}#sk-container-id-2 div.sk-container {/* jupyter's `normalize.less` sets `[hidden] { display: none; }` but bootstrap.min.css set `[hidden] { display: none !important; }` so we also need the `!important` here to be able to override the default hidden behavior on the sphinx rendered scikit-learn.org. See: https://github.com/scikit-learn/scikit-learn/issues/21755 */display: inline-block !important;position: relative;}#sk-container-id-2 div.sk-text-repr-fallback {display: none;}</style><div id=\"sk-container-id-2\" class=\"sk-top-container\"><div class=\"sk-text-repr-fallback\"><pre>RandomizedSearchCV(cv=5, estimator=RandomForestClassifier(), n_jobs=-1,\n",
       "                   param_distributions={&#x27;bootstrap&#x27;: [True, False],\n",
       "                                        &#x27;max_depth&#x27;: [5, 26, 48, 70, 91, 113,\n",
       "                                                      135, 156, 178, 200,\n",
       "                                                      None],\n",
       "                                        &#x27;max_features&#x27;: [&#x27;log2&#x27;, &#x27;sqrt&#x27;],\n",
       "                                        &#x27;min_samples_leaf&#x27;: [1, 2, 4, 6, 8, 10,\n",
       "                                                             15, 20, 25, 30],\n",
       "                                        &#x27;min_samples_split&#x27;: [2, 5, 10, 15, 20,\n",
       "                                                              25, 30],\n",
       "                                        &#x27;n_estimators&#x27;: [100, 366, 633, 900,\n",
       "                                                         1166, 1433, 1700, 1966,\n",
       "                                                         2233, 2500]},\n",
       "                   random_state=1, verbose=3)</pre><b>In a Jupyter environment, please rerun this cell to show the HTML representation or trust the notebook. <br />On GitHub, the HTML representation is unable to render, please try loading this page with nbviewer.org.</b></div><div class=\"sk-container\" hidden><div class=\"sk-item sk-dashed-wrapped\"><div class=\"sk-label-container\"><div class=\"sk-label sk-toggleable\"><input class=\"sk-toggleable__control sk-hidden--visually\" id=\"sk-estimator-id-2\" type=\"checkbox\" ><label for=\"sk-estimator-id-2\" class=\"sk-toggleable__label sk-toggleable__label-arrow\">RandomizedSearchCV</label><div class=\"sk-toggleable__content\"><pre>RandomizedSearchCV(cv=5, estimator=RandomForestClassifier(), n_jobs=-1,\n",
       "                   param_distributions={&#x27;bootstrap&#x27;: [True, False],\n",
       "                                        &#x27;max_depth&#x27;: [5, 26, 48, 70, 91, 113,\n",
       "                                                      135, 156, 178, 200,\n",
       "                                                      None],\n",
       "                                        &#x27;max_features&#x27;: [&#x27;log2&#x27;, &#x27;sqrt&#x27;],\n",
       "                                        &#x27;min_samples_leaf&#x27;: [1, 2, 4, 6, 8, 10,\n",
       "                                                             15, 20, 25, 30],\n",
       "                                        &#x27;min_samples_split&#x27;: [2, 5, 10, 15, 20,\n",
       "                                                              25, 30],\n",
       "                                        &#x27;n_estimators&#x27;: [100, 366, 633, 900,\n",
       "                                                         1166, 1433, 1700, 1966,\n",
       "                                                         2233, 2500]},\n",
       "                   random_state=1, verbose=3)</pre></div></div></div><div class=\"sk-parallel\"><div class=\"sk-parallel-item\"><div class=\"sk-item\"><div class=\"sk-label-container\"><div class=\"sk-label sk-toggleable\"><input class=\"sk-toggleable__control sk-hidden--visually\" id=\"sk-estimator-id-3\" type=\"checkbox\" ><label for=\"sk-estimator-id-3\" class=\"sk-toggleable__label sk-toggleable__label-arrow\">estimator: RandomForestClassifier</label><div class=\"sk-toggleable__content\"><pre>RandomForestClassifier()</pre></div></div></div><div class=\"sk-serial\"><div class=\"sk-item\"><div class=\"sk-estimator sk-toggleable\"><input class=\"sk-toggleable__control sk-hidden--visually\" id=\"sk-estimator-id-4\" type=\"checkbox\" ><label for=\"sk-estimator-id-4\" class=\"sk-toggleable__label sk-toggleable__label-arrow\">RandomForestClassifier</label><div class=\"sk-toggleable__content\"><pre>RandomForestClassifier()</pre></div></div></div></div></div></div></div></div></div></div>"
      ],
      "text/plain": [
       "RandomizedSearchCV(cv=5, estimator=RandomForestClassifier(), n_jobs=-1,\n",
       "                   param_distributions={'bootstrap': [True, False],\n",
       "                                        'max_depth': [5, 26, 48, 70, 91, 113,\n",
       "                                                      135, 156, 178, 200,\n",
       "                                                      None],\n",
       "                                        'max_features': ['log2', 'sqrt'],\n",
       "                                        'min_samples_leaf': [1, 2, 4, 6, 8, 10,\n",
       "                                                             15, 20, 25, 30],\n",
       "                                        'min_samples_split': [2, 5, 10, 15, 20,\n",
       "                                                              25, 30],\n",
       "                                        'n_estimators': [100, 366, 633, 900,\n",
       "                                                         1166, 1433, 1700, 1966,\n",
       "                                                         2233, 2500]},\n",
       "                   random_state=1, verbose=3)"
      ]
     },
     "execution_count": 15,
     "metadata": {},
     "output_type": "execute_result"
    }
   ],
   "source": [
    "model_random = RandomizedSearchCV(estimator = RandomForestClassifier(), \n",
    "                                  param_distributions = random_grid, \n",
    "                                  n_iter = 10, cv = 5, random_state=1, \n",
    "                                  n_jobs = -1, verbose=3)\n",
    "\n",
    "model_random.fit(X_train, y_train)"
   ]
  },
  {
   "cell_type": "code",
   "execution_count": 16,
   "metadata": {},
   "outputs": [
    {
     "data": {
      "text/plain": [
       "{'n_estimators': 2500,\n",
       " 'min_samples_split': 10,\n",
       " 'min_samples_leaf': 10,\n",
       " 'max_features': 'sqrt',\n",
       " 'max_depth': 48,\n",
       " 'bootstrap': False}"
      ]
     },
     "execution_count": 16,
     "metadata": {},
     "output_type": "execute_result"
    }
   ],
   "source": [
    "model_random.best_params_"
   ]
  },
  {
   "cell_type": "code",
   "execution_count": 17,
   "metadata": {},
   "outputs": [
    {
     "data": {
      "text/plain": [
       "0.5339479775124396"
      ]
     },
     "execution_count": 17,
     "metadata": {},
     "output_type": "execute_result"
    }
   ],
   "source": [
    "model_random.best_score_"
   ]
  },
  {
   "cell_type": "code",
   "execution_count": 25,
   "metadata": {},
   "outputs": [],
   "source": [
    "param_grid = {'n_estimators': [2000, 2500, 3000],\n",
    " 'min_samples_split': [9, 10, 11],\n",
    " 'min_samples_leaf': [9, 9.5, 10, 10.5, 11],\n",
    " 'max_features': ['sqrt'],\n",
    " 'max_depth':[47, 48, 49],\n",
    " 'bootstrap': [False]}\n",
    "\n",
    "grid_search = GridSearchCV(estimator = RandomForestClassifier(), \n",
    "                           param_grid = param_grid,\n",
    "                           cv = 3, n_jobs=-1,\n",
    "                           verbose = 3)"
   ]
  },
  {
   "cell_type": "code",
   "execution_count": 26,
   "metadata": {},
   "outputs": [
    {
     "name": "stdout",
     "output_type": "stream",
     "text": [
      "Fitting 3 folds for each of 135 candidates, totalling 405 fits\n"
     ]
    },
    {
     "name": "stdout",
     "output_type": "stream",
     "text": [
      "[CV 2/3] END bootstrap=False, max_depth=47, max_features=sqrt, min_samples_leaf=9, min_samples_split=10, n_estimators=2000;, score=0.534 total time=  20.2s\n",
      "[CV 1/3] END bootstrap=False, max_depth=47, max_features=sqrt, min_samples_leaf=9, min_samples_split=10, n_estimators=2000;, score=0.531 total time=  20.2s\n",
      "[CV 1/3] END bootstrap=False, max_depth=47, max_features=sqrt, min_samples_leaf=9, min_samples_split=9, n_estimators=2000;, score=0.532 total time=  20.2s\n",
      "[CV 2/3] END bootstrap=False, max_depth=47, max_features=sqrt, min_samples_leaf=9, min_samples_split=9, n_estimators=2000;, score=0.533 total time=  20.3s\n",
      "[CV 3/3] END bootstrap=False, max_depth=47, max_features=sqrt, min_samples_leaf=9, min_samples_split=10, n_estimators=2000;, score=0.533 total time=  20.6s\n",
      "[CV 3/3] END bootstrap=False, max_depth=47, max_features=sqrt, min_samples_leaf=9, min_samples_split=9, n_estimators=2000;, score=0.533 total time=  20.6s\n",
      "[CV 1/3] END bootstrap=False, max_depth=47, max_features=sqrt, min_samples_leaf=9, min_samples_split=9, n_estimators=2500;, score=0.531 total time=  25.4s\n",
      "[CV 2/3] END bootstrap=False, max_depth=47, max_features=sqrt, min_samples_leaf=9, min_samples_split=9, n_estimators=2500;, score=0.534 total time=  25.5s\n",
      "[CV 3/3] END bootstrap=False, max_depth=47, max_features=sqrt, min_samples_leaf=9, min_samples_split=9, n_estimators=2500;, score=0.533 total time=  25.9s\n",
      "[CV 1/3] END bootstrap=False, max_depth=47, max_features=sqrt, min_samples_leaf=9, min_samples_split=9, n_estimators=3000;, score=0.532 total time=  31.0s\n",
      "[CV 2/3] END bootstrap=False, max_depth=47, max_features=sqrt, min_samples_leaf=9, min_samples_split=9, n_estimators=3000;, score=0.534 total time=  31.1s\n",
      "[CV 3/3] END bootstrap=False, max_depth=47, max_features=sqrt, min_samples_leaf=9, min_samples_split=9, n_estimators=3000;, score=0.534 total time=  31.7s\n",
      "[CV 1/3] END bootstrap=False, max_depth=47, max_features=sqrt, min_samples_leaf=9, min_samples_split=11, n_estimators=2000;, score=0.532 total time=  19.1s\n",
      "[CV 2/3] END bootstrap=False, max_depth=47, max_features=sqrt, min_samples_leaf=9, min_samples_split=10, n_estimators=2500;, score=0.534 total time=  24.4s\n",
      "[CV 2/3] END bootstrap=False, max_depth=47, max_features=sqrt, min_samples_leaf=9, min_samples_split=11, n_estimators=2000;, score=0.535 total time=  19.1s\n",
      "[CV 1/3] END bootstrap=False, max_depth=47, max_features=sqrt, min_samples_leaf=9, min_samples_split=10, n_estimators=2500;, score=0.533 total time=  24.5s\n",
      "[CV 1/3] END bootstrap=False, max_depth=47, max_features=sqrt, min_samples_leaf=9.5, min_samples_split=9, n_estimators=2000;, score=nan total time=   0.0s\n",
      "[CV 2/3] END bootstrap=False, max_depth=47, max_features=sqrt, min_samples_leaf=9.5, min_samples_split=9, n_estimators=2000;, score=nan total time=   0.0s\n",
      "[CV 3/3] END bootstrap=False, max_depth=47, max_features=sqrt, min_samples_leaf=9.5, min_samples_split=9, n_estimators=2000;, score=nan total time=   0.0s\n",
      "[CV 1/3] END bootstrap=False, max_depth=47, max_features=sqrt, min_samples_leaf=9.5, min_samples_split=9, n_estimators=2500;, score=nan total time=   0.0s\n",
      "[CV 2/3] END bootstrap=False, max_depth=47, max_features=sqrt, min_samples_leaf=9.5, min_samples_split=9, n_estimators=2500;, score=nan total time=   0.0s\n",
      "[CV 3/3] END bootstrap=False, max_depth=47, max_features=sqrt, min_samples_leaf=9.5, min_samples_split=9, n_estimators=2500;, score=nan total time=   0.0s\n",
      "[CV 1/3] END bootstrap=False, max_depth=47, max_features=sqrt, min_samples_leaf=9.5, min_samples_split=9, n_estimators=3000;, score=nan total time=   0.0s\n",
      "[CV 2/3] END bootstrap=False, max_depth=47, max_features=sqrt, min_samples_leaf=9.5, min_samples_split=9, n_estimators=3000;, score=nan total time=   0.0s\n",
      "[CV 3/3] END bootstrap=False, max_depth=47, max_features=sqrt, min_samples_leaf=9.5, min_samples_split=9, n_estimators=3000;, score=nan total time=   0.0s\n",
      "[CV 1/3] END bootstrap=False, max_depth=47, max_features=sqrt, min_samples_leaf=9.5, min_samples_split=10, n_estimators=2000;, score=nan total time=   0.0s\n",
      "[CV 2/3] END bootstrap=False, max_depth=47, max_features=sqrt, min_samples_leaf=9.5, min_samples_split=10, n_estimators=2000;, score=nan total time=   0.0s\n",
      "[CV 3/3] END bootstrap=False, max_depth=47, max_features=sqrt, min_samples_leaf=9, min_samples_split=10, n_estimators=2500;, score=0.535 total time=  24.8s\n",
      "[CV 3/3] END bootstrap=False, max_depth=47, max_features=sqrt, min_samples_leaf=9.5, min_samples_split=10, n_estimators=2000;, score=nan total time=   0.0s\n",
      "[CV 1/3] END bootstrap=False, max_depth=47, max_features=sqrt, min_samples_leaf=9.5, min_samples_split=10, n_estimators=2500;, score=nan total time=   0.0s\n",
      "[CV 2/3] END bootstrap=False, max_depth=47, max_features=sqrt, min_samples_leaf=9.5, min_samples_split=10, n_estimators=2500;, score=nan total time=   0.0s\n",
      "[CV 3/3] END bootstrap=False, max_depth=47, max_features=sqrt, min_samples_leaf=9.5, min_samples_split=10, n_estimators=2500;, score=nan total time=   0.0s\n",
      "[CV 1/3] END bootstrap=False, max_depth=47, max_features=sqrt, min_samples_leaf=9.5, min_samples_split=10, n_estimators=3000;, score=nan total time=   0.0s\n",
      "[CV 2/3] END bootstrap=False, max_depth=47, max_features=sqrt, min_samples_leaf=9.5, min_samples_split=10, n_estimators=3000;, score=nan total time=   0.0s\n",
      "[CV 3/3] END bootstrap=False, max_depth=47, max_features=sqrt, min_samples_leaf=9.5, min_samples_split=10, n_estimators=3000;, score=nan total time=   0.0s\n",
      "[CV 1/3] END bootstrap=False, max_depth=47, max_features=sqrt, min_samples_leaf=9.5, min_samples_split=11, n_estimators=2000;, score=nan total time=   0.0s\n",
      "[CV 2/3] END bootstrap=False, max_depth=47, max_features=sqrt, min_samples_leaf=9.5, min_samples_split=11, n_estimators=2000;, score=nan total time=   0.0s\n",
      "[CV 3/3] END bootstrap=False, max_depth=47, max_features=sqrt, min_samples_leaf=9.5, min_samples_split=11, n_estimators=2000;, score=nan total time=   0.0s\n",
      "[CV 1/3] END bootstrap=False, max_depth=47, max_features=sqrt, min_samples_leaf=9.5, min_samples_split=11, n_estimators=2500;, score=nan total time=   0.0s\n",
      "[CV 2/3] END bootstrap=False, max_depth=47, max_features=sqrt, min_samples_leaf=9.5, min_samples_split=11, n_estimators=2500;, score=nan total time=   0.0s\n",
      "[CV 3/3] END bootstrap=False, max_depth=47, max_features=sqrt, min_samples_leaf=9.5, min_samples_split=11, n_estimators=2500;, score=nan total time=   0.0s\n",
      "[CV 1/3] END bootstrap=False, max_depth=47, max_features=sqrt, min_samples_leaf=9.5, min_samples_split=11, n_estimators=3000;, score=nan total time=   0.0s\n",
      "[CV 2/3] END bootstrap=False, max_depth=47, max_features=sqrt, min_samples_leaf=9.5, min_samples_split=11, n_estimators=3000;, score=nan total time=   0.0s\n",
      "[CV 3/3] END bootstrap=False, max_depth=47, max_features=sqrt, min_samples_leaf=9, min_samples_split=11, n_estimators=2000;, score=0.535 total time=  19.5s\n",
      "[CV 3/3] END bootstrap=False, max_depth=47, max_features=sqrt, min_samples_leaf=9.5, min_samples_split=11, n_estimators=3000;, score=nan total time=   0.0s\n",
      "[CV 1/3] END bootstrap=False, max_depth=47, max_features=sqrt, min_samples_leaf=9, min_samples_split=10, n_estimators=3000;, score=0.532 total time=  29.1s\n",
      "[CV 2/3] END bootstrap=False, max_depth=47, max_features=sqrt, min_samples_leaf=9, min_samples_split=10, n_estimators=3000;, score=0.533 total time=  29.1s\n",
      "[CV 3/3] END bootstrap=False, max_depth=47, max_features=sqrt, min_samples_leaf=9, min_samples_split=10, n_estimators=3000;, score=0.534 total time=  29.4s\n",
      "[CV 1/3] END bootstrap=False, max_depth=47, max_features=sqrt, min_samples_leaf=9, min_samples_split=11, n_estimators=2500;, score=0.533 total time=  22.7s\n",
      "[CV 2/3] END bootstrap=False, max_depth=47, max_features=sqrt, min_samples_leaf=9, min_samples_split=11, n_estimators=2500;, score=0.534 total time=  22.9s\n",
      "[CV 3/3] END bootstrap=False, max_depth=47, max_features=sqrt, min_samples_leaf=9, min_samples_split=11, n_estimators=2500;, score=0.534 total time=  23.1s\n",
      "[CV 1/3] END bootstrap=False, max_depth=47, max_features=sqrt, min_samples_leaf=10, min_samples_split=9, n_estimators=2000;, score=0.532 total time=  17.5s\n",
      "[CV 2/3] END bootstrap=False, max_depth=47, max_features=sqrt, min_samples_leaf=10, min_samples_split=9, n_estimators=2000;, score=0.534 total time=  17.7s\n",
      "[CV 3/3] END bootstrap=False, max_depth=47, max_features=sqrt, min_samples_leaf=10, min_samples_split=9, n_estimators=2000;, score=0.535 total time=  18.0s\n",
      "[CV 1/3] END bootstrap=False, max_depth=47, max_features=sqrt, min_samples_leaf=10, min_samples_split=9, n_estimators=2500;, score=0.532 total time=  22.2s\n",
      "[CV 1/3] END bootstrap=False, max_depth=47, max_features=sqrt, min_samples_leaf=9, min_samples_split=11, n_estimators=3000;, score=0.532 total time=  27.3s\n",
      "[CV 2/3] END bootstrap=False, max_depth=47, max_features=sqrt, min_samples_leaf=10, min_samples_split=9, n_estimators=2500;, score=0.534 total time=  22.1s\n",
      "[CV 2/3] END bootstrap=False, max_depth=47, max_features=sqrt, min_samples_leaf=9, min_samples_split=11, n_estimators=3000;, score=0.532 total time=  27.4s\n",
      "[CV 3/3] END bootstrap=False, max_depth=47, max_features=sqrt, min_samples_leaf=9, min_samples_split=11, n_estimators=3000;, score=0.533 total time=  27.7s\n",
      "[CV 3/3] END bootstrap=False, max_depth=47, max_features=sqrt, min_samples_leaf=10, min_samples_split=9, n_estimators=2500;, score=0.535 total time=  22.5s\n",
      "[CV 1/3] END bootstrap=False, max_depth=47, max_features=sqrt, min_samples_leaf=10, min_samples_split=9, n_estimators=3000;, score=0.531 total time=  26.5s\n",
      "[CV 2/3] END bootstrap=False, max_depth=47, max_features=sqrt, min_samples_leaf=10, min_samples_split=9, n_estimators=3000;, score=0.533 total time=  26.5s\n",
      "[CV 1/3] END bootstrap=False, max_depth=47, max_features=sqrt, min_samples_leaf=10, min_samples_split=10, n_estimators=2000;, score=0.534 total time=  17.9s\n",
      "[CV 2/3] END bootstrap=False, max_depth=47, max_features=sqrt, min_samples_leaf=10, min_samples_split=10, n_estimators=2000;, score=0.533 total time=  17.9s\n",
      "[CV 3/3] END bootstrap=False, max_depth=47, max_features=sqrt, min_samples_leaf=10, min_samples_split=10, n_estimators=2000;, score=0.535 total time=  18.2s\n",
      "[CV 3/3] END bootstrap=False, max_depth=47, max_features=sqrt, min_samples_leaf=10, min_samples_split=9, n_estimators=3000;, score=0.535 total time=  27.1s\n",
      "[CV 1/3] END bootstrap=False, max_depth=47, max_features=sqrt, min_samples_leaf=10, min_samples_split=10, n_estimators=2500;, score=0.532 total time=  22.1s\n",
      "[CV 2/3] END bootstrap=False, max_depth=47, max_features=sqrt, min_samples_leaf=10, min_samples_split=10, n_estimators=2500;, score=0.532 total time=  22.0s\n",
      "[CV 3/3] END bootstrap=False, max_depth=47, max_features=sqrt, min_samples_leaf=10, min_samples_split=10, n_estimators=2500;, score=0.534 total time=  22.3s\n",
      "[CV 1/3] END bootstrap=False, max_depth=47, max_features=sqrt, min_samples_leaf=10, min_samples_split=11, n_estimators=2000;, score=0.531 total time=  17.6s\n",
      "[CV 1/3] END bootstrap=False, max_depth=47, max_features=sqrt, min_samples_leaf=10.5, min_samples_split=9, n_estimators=2000;, score=nan total time=   0.0s\n",
      "[CV 2/3] END bootstrap=False, max_depth=47, max_features=sqrt, min_samples_leaf=10.5, min_samples_split=9, n_estimators=2000;, score=nan total time=   0.0s\n",
      "[CV 3/3] END bootstrap=False, max_depth=47, max_features=sqrt, min_samples_leaf=10.5, min_samples_split=9, n_estimators=2000;, score=nan total time=   0.0s\n",
      "[CV 1/3] END bootstrap=False, max_depth=47, max_features=sqrt, min_samples_leaf=10.5, min_samples_split=9, n_estimators=2500;, score=nan total time=   0.0s\n",
      "[CV 2/3] END bootstrap=False, max_depth=47, max_features=sqrt, min_samples_leaf=10.5, min_samples_split=9, n_estimators=2500;, score=nan total time=   0.0s\n",
      "[CV 3/3] END bootstrap=False, max_depth=47, max_features=sqrt, min_samples_leaf=10.5, min_samples_split=9, n_estimators=2500;, score=nan total time=   0.0s\n",
      "[CV 1/3] END bootstrap=False, max_depth=47, max_features=sqrt, min_samples_leaf=10.5, min_samples_split=9, n_estimators=3000;, score=nan total time=   0.0s\n",
      "[CV 2/3] END bootstrap=False, max_depth=47, max_features=sqrt, min_samples_leaf=10.5, min_samples_split=9, n_estimators=3000;, score=nan total time=   0.0s\n",
      "[CV 3/3] END bootstrap=False, max_depth=47, max_features=sqrt, min_samples_leaf=10.5, min_samples_split=9, n_estimators=3000;, score=nan total time=   0.0s\n",
      "[CV 1/3] END bootstrap=False, max_depth=47, max_features=sqrt, min_samples_leaf=10.5, min_samples_split=10, n_estimators=2000;, score=nan total time=   0.0s\n",
      "[CV 2/3] END bootstrap=False, max_depth=47, max_features=sqrt, min_samples_leaf=10.5, min_samples_split=10, n_estimators=2000;, score=nan total time=   0.0s\n",
      "[CV 3/3] END bootstrap=False, max_depth=47, max_features=sqrt, min_samples_leaf=10.5, min_samples_split=10, n_estimators=2000;, score=nan total time=   0.0s\n",
      "[CV 1/3] END bootstrap=False, max_depth=47, max_features=sqrt, min_samples_leaf=10.5, min_samples_split=10, n_estimators=2500;, score=nan total time=   0.0s\n",
      "[CV 2/3] END bootstrap=False, max_depth=47, max_features=sqrt, min_samples_leaf=10.5, min_samples_split=10, n_estimators=2500;, score=nan total time=   0.0s\n",
      "[CV 3/3] END bootstrap=False, max_depth=47, max_features=sqrt, min_samples_leaf=10.5, min_samples_split=10, n_estimators=2500;, score=nan total time=   0.0s\n",
      "[CV 1/3] END bootstrap=False, max_depth=47, max_features=sqrt, min_samples_leaf=10.5, min_samples_split=10, n_estimators=3000;, score=nan total time=   0.0s\n",
      "[CV 2/3] END bootstrap=False, max_depth=47, max_features=sqrt, min_samples_leaf=10.5, min_samples_split=10, n_estimators=3000;, score=nan total time=   0.0s\n",
      "[CV 2/3] END bootstrap=False, max_depth=47, max_features=sqrt, min_samples_leaf=10, min_samples_split=11, n_estimators=2000;, score=0.534 total time=  17.7s\n",
      "[CV 3/3] END bootstrap=False, max_depth=47, max_features=sqrt, min_samples_leaf=10.5, min_samples_split=10, n_estimators=3000;, score=nan total time=   0.0s\n",
      "[CV 1/3] END bootstrap=False, max_depth=47, max_features=sqrt, min_samples_leaf=10.5, min_samples_split=11, n_estimators=2000;, score=nan total time=   0.0s\n",
      "[CV 2/3] END bootstrap=False, max_depth=47, max_features=sqrt, min_samples_leaf=10.5, min_samples_split=11, n_estimators=2000;, score=nan total time=   0.0s\n",
      "[CV 3/3] END bootstrap=False, max_depth=47, max_features=sqrt, min_samples_leaf=10.5, min_samples_split=11, n_estimators=2000;, score=nan total time=   0.0s\n",
      "[CV 1/3] END bootstrap=False, max_depth=47, max_features=sqrt, min_samples_leaf=10.5, min_samples_split=11, n_estimators=2500;, score=nan total time=   0.0s\n",
      "[CV 2/3] END bootstrap=False, max_depth=47, max_features=sqrt, min_samples_leaf=10.5, min_samples_split=11, n_estimators=2500;, score=nan total time=   0.0s\n",
      "[CV 3/3] END bootstrap=False, max_depth=47, max_features=sqrt, min_samples_leaf=10.5, min_samples_split=11, n_estimators=2500;, score=nan total time=   0.0s\n",
      "[CV 1/3] END bootstrap=False, max_depth=47, max_features=sqrt, min_samples_leaf=10.5, min_samples_split=11, n_estimators=3000;, score=nan total time=   0.0s\n",
      "[CV 2/3] END bootstrap=False, max_depth=47, max_features=sqrt, min_samples_leaf=10.5, min_samples_split=11, n_estimators=3000;, score=nan total time=   0.0s\n",
      "[CV 3/3] END bootstrap=False, max_depth=47, max_features=sqrt, min_samples_leaf=10.5, min_samples_split=11, n_estimators=3000;, score=nan total time=   0.0s\n",
      "[CV 1/3] END bootstrap=False, max_depth=47, max_features=sqrt, min_samples_leaf=10, min_samples_split=10, n_estimators=3000;, score=0.531 total time=  26.5s\n",
      "[CV 3/3] END bootstrap=False, max_depth=47, max_features=sqrt, min_samples_leaf=10, min_samples_split=11, n_estimators=2000;, score=0.535 total time=  17.9s\n",
      "[CV 2/3] END bootstrap=False, max_depth=47, max_features=sqrt, min_samples_leaf=10, min_samples_split=10, n_estimators=3000;, score=0.534 total time=  26.6s\n",
      "[CV 3/3] END bootstrap=False, max_depth=47, max_features=sqrt, min_samples_leaf=10, min_samples_split=10, n_estimators=3000;, score=0.536 total time=  26.8s\n",
      "[CV 1/3] END bootstrap=False, max_depth=47, max_features=sqrt, min_samples_leaf=10, min_samples_split=11, n_estimators=2500;, score=0.531 total time=  22.0s\n",
      "[CV 2/3] END bootstrap=False, max_depth=47, max_features=sqrt, min_samples_leaf=10, min_samples_split=11, n_estimators=2500;, score=0.533 total time=  22.0s\n",
      "[CV 3/3] END bootstrap=False, max_depth=47, max_features=sqrt, min_samples_leaf=10, min_samples_split=11, n_estimators=2500;, score=0.535 total time=  22.5s\n",
      "[CV 1/3] END bootstrap=False, max_depth=47, max_features=sqrt, min_samples_leaf=11, min_samples_split=9, n_estimators=2000;, score=0.532 total time=  17.2s\n",
      "[CV 2/3] END bootstrap=False, max_depth=47, max_features=sqrt, min_samples_leaf=11, min_samples_split=9, n_estimators=2000;, score=0.534 total time=  17.2s\n",
      "[CV 3/3] END bootstrap=False, max_depth=47, max_features=sqrt, min_samples_leaf=11, min_samples_split=9, n_estimators=2000;, score=0.536 total time=  17.5s\n",
      "[CV 1/3] END bootstrap=False, max_depth=47, max_features=sqrt, min_samples_leaf=11, min_samples_split=9, n_estimators=2500;, score=0.531 total time=  21.5s\n",
      "[CV 2/3] END bootstrap=False, max_depth=47, max_features=sqrt, min_samples_leaf=10, min_samples_split=11, n_estimators=3000;, score=0.534 total time=  26.4s\n",
      "[CV 1/3] END bootstrap=False, max_depth=47, max_features=sqrt, min_samples_leaf=10, min_samples_split=11, n_estimators=3000;, score=0.532 total time=  26.5s\n",
      "[CV 2/3] END bootstrap=False, max_depth=47, max_features=sqrt, min_samples_leaf=11, min_samples_split=9, n_estimators=2500;, score=0.533 total time=  21.5s\n",
      "[CV 3/3] END bootstrap=False, max_depth=47, max_features=sqrt, min_samples_leaf=10, min_samples_split=11, n_estimators=3000;, score=0.536 total time=  26.9s\n",
      "[CV 3/3] END bootstrap=False, max_depth=47, max_features=sqrt, min_samples_leaf=11, min_samples_split=9, n_estimators=2500;, score=0.537 total time=  21.8s\n",
      "[CV 1/3] END bootstrap=False, max_depth=47, max_features=sqrt, min_samples_leaf=11, min_samples_split=9, n_estimators=3000;, score=0.531 total time=  25.8s\n",
      "[CV 2/3] END bootstrap=False, max_depth=47, max_features=sqrt, min_samples_leaf=11, min_samples_split=9, n_estimators=3000;, score=0.534 total time=  26.0s\n",
      "[CV 3/3] END bootstrap=False, max_depth=47, max_features=sqrt, min_samples_leaf=11, min_samples_split=9, n_estimators=3000;, score=0.535 total time=  26.2s\n",
      "[CV 2/3] END bootstrap=False, max_depth=47, max_features=sqrt, min_samples_leaf=11, min_samples_split=10, n_estimators=2000;, score=0.534 total time=  17.3s\n",
      "[CV 1/3] END bootstrap=False, max_depth=47, max_features=sqrt, min_samples_leaf=11, min_samples_split=10, n_estimators=2000;, score=0.532 total time=  17.4s\n",
      "[CV 3/3] END bootstrap=False, max_depth=47, max_features=sqrt, min_samples_leaf=11, min_samples_split=10, n_estimators=2000;, score=0.535 total time=  17.6s\n",
      "[CV 2/3] END bootstrap=False, max_depth=47, max_features=sqrt, min_samples_leaf=11, min_samples_split=10, n_estimators=2500;, score=0.533 total time=  21.7s\n",
      "[CV 1/3] END bootstrap=False, max_depth=47, max_features=sqrt, min_samples_leaf=11, min_samples_split=10, n_estimators=2500;, score=0.531 total time=  21.8s\n",
      "[CV 3/3] END bootstrap=False, max_depth=47, max_features=sqrt, min_samples_leaf=11, min_samples_split=10, n_estimators=2500;, score=0.535 total time=  22.2s\n",
      "[CV 1/3] END bootstrap=False, max_depth=47, max_features=sqrt, min_samples_leaf=11, min_samples_split=11, n_estimators=2000;, score=0.533 total time=  17.5s\n",
      "[CV 1/3] END bootstrap=False, max_depth=47, max_features=sqrt, min_samples_leaf=11, min_samples_split=10, n_estimators=3000;, score=0.531 total time=  26.2s\n",
      "[CV 2/3] END bootstrap=False, max_depth=47, max_features=sqrt, min_samples_leaf=11, min_samples_split=11, n_estimators=2000;, score=0.534 total time=  17.4s\n",
      "[CV 2/3] END bootstrap=False, max_depth=47, max_features=sqrt, min_samples_leaf=11, min_samples_split=10, n_estimators=3000;, score=0.534 total time=  26.1s\n",
      "[CV 3/3] END bootstrap=False, max_depth=47, max_features=sqrt, min_samples_leaf=11, min_samples_split=11, n_estimators=2000;, score=0.536 total time=  17.9s\n",
      "[CV 3/3] END bootstrap=False, max_depth=47, max_features=sqrt, min_samples_leaf=11, min_samples_split=10, n_estimators=3000;, score=0.535 total time=  27.6s\n",
      "[CV 1/3] END bootstrap=False, max_depth=47, max_features=sqrt, min_samples_leaf=11, min_samples_split=11, n_estimators=2500;, score=0.533 total time=  21.7s\n",
      "[CV 2/3] END bootstrap=False, max_depth=47, max_features=sqrt, min_samples_leaf=11, min_samples_split=11, n_estimators=2500;, score=0.535 total time=  21.7s\n",
      "[CV 3/3] END bootstrap=False, max_depth=47, max_features=sqrt, min_samples_leaf=11, min_samples_split=11, n_estimators=2500;, score=0.535 total time=  22.0s\n",
      "[CV 1/3] END bootstrap=False, max_depth=48, max_features=sqrt, min_samples_leaf=9, min_samples_split=9, n_estimators=2000;, score=0.533 total time=  18.1s\n",
      "[CV 2/3] END bootstrap=False, max_depth=48, max_features=sqrt, min_samples_leaf=9, min_samples_split=9, n_estimators=2000;, score=0.534 total time=  18.1s\n",
      "[CV 3/3] END bootstrap=False, max_depth=48, max_features=sqrt, min_samples_leaf=9, min_samples_split=9, n_estimators=2000;, score=0.534 total time=  18.3s\n",
      "[CV 2/3] END bootstrap=False, max_depth=47, max_features=sqrt, min_samples_leaf=11, min_samples_split=11, n_estimators=3000;, score=0.534 total time=  26.2s\n",
      "[CV 1/3] END bootstrap=False, max_depth=47, max_features=sqrt, min_samples_leaf=11, min_samples_split=11, n_estimators=3000;, score=0.531 total time=  26.3s\n",
      "[CV 3/3] END bootstrap=False, max_depth=47, max_features=sqrt, min_samples_leaf=11, min_samples_split=11, n_estimators=3000;, score=0.534 total time=  26.7s\n",
      "[CV 1/3] END bootstrap=False, max_depth=48, max_features=sqrt, min_samples_leaf=9, min_samples_split=9, n_estimators=2500;, score=0.534 total time=  22.7s\n",
      "[CV 2/3] END bootstrap=False, max_depth=48, max_features=sqrt, min_samples_leaf=9, min_samples_split=9, n_estimators=2500;, score=0.533 total time=  22.7s\n",
      "[CV 3/3] END bootstrap=False, max_depth=48, max_features=sqrt, min_samples_leaf=9, min_samples_split=9, n_estimators=2500;, score=0.534 total time=  22.8s\n",
      "[CV 1/3] END bootstrap=False, max_depth=48, max_features=sqrt, min_samples_leaf=9, min_samples_split=9, n_estimators=3000;, score=0.531 total time=  26.9s\n",
      "[CV 2/3] END bootstrap=False, max_depth=48, max_features=sqrt, min_samples_leaf=9, min_samples_split=9, n_estimators=3000;, score=0.534 total time=  27.2s\n",
      "[CV 1/3] END bootstrap=False, max_depth=48, max_features=sqrt, min_samples_leaf=9, min_samples_split=10, n_estimators=2000;, score=0.533 total time=  17.9s\n",
      "[CV 2/3] END bootstrap=False, max_depth=48, max_features=sqrt, min_samples_leaf=9, min_samples_split=10, n_estimators=2000;, score=0.533 total time=  17.9s\n",
      "[CV 3/3] END bootstrap=False, max_depth=48, max_features=sqrt, min_samples_leaf=9, min_samples_split=9, n_estimators=3000;, score=0.532 total time=  27.5s\n",
      "[CV 3/3] END bootstrap=False, max_depth=48, max_features=sqrt, min_samples_leaf=9, min_samples_split=10, n_estimators=2000;, score=0.534 total time=  18.2s\n",
      "[CV 1/3] END bootstrap=False, max_depth=48, max_features=sqrt, min_samples_leaf=9, min_samples_split=10, n_estimators=2500;, score=0.533 total time=  22.5s\n",
      "[CV 2/3] END bootstrap=False, max_depth=48, max_features=sqrt, min_samples_leaf=9, min_samples_split=10, n_estimators=2500;, score=0.534 total time=  22.5s\n",
      "[CV 3/3] END bootstrap=False, max_depth=48, max_features=sqrt, min_samples_leaf=9, min_samples_split=10, n_estimators=2500;, score=0.535 total time=  22.9s\n",
      "[CV 1/3] END bootstrap=False, max_depth=48, max_features=sqrt, min_samples_leaf=9, min_samples_split=10, n_estimators=3000;, score=0.534 total time=  27.0s\n",
      "[CV 1/3] END bootstrap=False, max_depth=48, max_features=sqrt, min_samples_leaf=9.5, min_samples_split=9, n_estimators=2000;, score=nan total time=   0.0s\n",
      "[CV 2/3] END bootstrap=False, max_depth=48, max_features=sqrt, min_samples_leaf=9.5, min_samples_split=9, n_estimators=2000;, score=nan total time=   0.0s\n",
      "[CV 3/3] END bootstrap=False, max_depth=48, max_features=sqrt, min_samples_leaf=9.5, min_samples_split=9, n_estimators=2000;, score=nan total time=   0.0s\n",
      "[CV 1/3] END bootstrap=False, max_depth=48, max_features=sqrt, min_samples_leaf=9.5, min_samples_split=9, n_estimators=2500;, score=nan total time=   0.0s\n",
      "[CV 2/3] END bootstrap=False, max_depth=48, max_features=sqrt, min_samples_leaf=9.5, min_samples_split=9, n_estimators=2500;, score=nan total time=   0.0s\n",
      "[CV 3/3] END bootstrap=False, max_depth=48, max_features=sqrt, min_samples_leaf=9.5, min_samples_split=9, n_estimators=2500;, score=nan total time=   0.0s\n",
      "[CV 1/3] END bootstrap=False, max_depth=48, max_features=sqrt, min_samples_leaf=9.5, min_samples_split=9, n_estimators=3000;, score=nan total time=   0.0s\n",
      "[CV 2/3] END bootstrap=False, max_depth=48, max_features=sqrt, min_samples_leaf=9.5, min_samples_split=9, n_estimators=3000;, score=nan total time=   0.0s\n",
      "[CV 3/3] END bootstrap=False, max_depth=48, max_features=sqrt, min_samples_leaf=9.5, min_samples_split=9, n_estimators=3000;, score=nan total time=   0.0s\n",
      "[CV 1/3] END bootstrap=False, max_depth=48, max_features=sqrt, min_samples_leaf=9.5, min_samples_split=10, n_estimators=2000;, score=nan total time=   0.0s\n",
      "[CV 2/3] END bootstrap=False, max_depth=48, max_features=sqrt, min_samples_leaf=9.5, min_samples_split=10, n_estimators=2000;, score=nan total time=   0.0s\n",
      "[CV 3/3] END bootstrap=False, max_depth=48, max_features=sqrt, min_samples_leaf=9.5, min_samples_split=10, n_estimators=2000;, score=nan total time=   0.0s\n",
      "[CV 1/3] END bootstrap=False, max_depth=48, max_features=sqrt, min_samples_leaf=9.5, min_samples_split=10, n_estimators=2500;, score=nan total time=   0.0s\n",
      "[CV 2/3] END bootstrap=False, max_depth=48, max_features=sqrt, min_samples_leaf=9.5, min_samples_split=10, n_estimators=2500;, score=nan total time=   0.0s\n",
      "[CV 3/3] END bootstrap=False, max_depth=48, max_features=sqrt, min_samples_leaf=9.5, min_samples_split=10, n_estimators=2500;, score=nan total time=   0.0s\n",
      "[CV 1/3] END bootstrap=False, max_depth=48, max_features=sqrt, min_samples_leaf=9.5, min_samples_split=10, n_estimators=3000;, score=nan total time=   0.0s\n",
      "[CV 2/3] END bootstrap=False, max_depth=48, max_features=sqrt, min_samples_leaf=9.5, min_samples_split=10, n_estimators=3000;, score=nan total time=   0.0s\n",
      "[CV 3/3] END bootstrap=False, max_depth=48, max_features=sqrt, min_samples_leaf=9.5, min_samples_split=10, n_estimators=3000;, score=nan total time=   0.0s\n",
      "[CV 1/3] END bootstrap=False, max_depth=48, max_features=sqrt, min_samples_leaf=9.5, min_samples_split=11, n_estimators=2000;, score=nan total time=   0.0s\n",
      "[CV 2/3] END bootstrap=False, max_depth=48, max_features=sqrt, min_samples_leaf=9.5, min_samples_split=11, n_estimators=2000;, score=nan total time=   0.0s\n",
      "[CV 3/3] END bootstrap=False, max_depth=48, max_features=sqrt, min_samples_leaf=9.5, min_samples_split=11, n_estimators=2000;, score=nan total time=   0.0s\n",
      "[CV 1/3] END bootstrap=False, max_depth=48, max_features=sqrt, min_samples_leaf=9.5, min_samples_split=11, n_estimators=2500;, score=nan total time=   0.0s\n",
      "[CV 2/3] END bootstrap=False, max_depth=48, max_features=sqrt, min_samples_leaf=9.5, min_samples_split=11, n_estimators=2500;, score=nan total time=   0.0s\n",
      "[CV 3/3] END bootstrap=False, max_depth=48, max_features=sqrt, min_samples_leaf=9.5, min_samples_split=11, n_estimators=2500;, score=nan total time=   0.0s\n",
      "[CV 1/3] END bootstrap=False, max_depth=48, max_features=sqrt, min_samples_leaf=9.5, min_samples_split=11, n_estimators=3000;, score=nan total time=   0.0s\n",
      "[CV 2/3] END bootstrap=False, max_depth=48, max_features=sqrt, min_samples_leaf=9.5, min_samples_split=11, n_estimators=3000;, score=nan total time=   0.0s\n",
      "[CV 3/3] END bootstrap=False, max_depth=48, max_features=sqrt, min_samples_leaf=9.5, min_samples_split=11, n_estimators=3000;, score=nan total time=   0.0s\n",
      "[CV 2/3] END bootstrap=False, max_depth=48, max_features=sqrt, min_samples_leaf=9, min_samples_split=10, n_estimators=3000;, score=0.533 total time=  26.9s\n",
      "[CV 3/3] END bootstrap=False, max_depth=48, max_features=sqrt, min_samples_leaf=9, min_samples_split=10, n_estimators=3000;, score=0.535 total time=  27.4s\n",
      "[CV 1/3] END bootstrap=False, max_depth=48, max_features=sqrt, min_samples_leaf=9, min_samples_split=11, n_estimators=2000;, score=0.533 total time=  18.2s\n",
      "[CV 2/3] END bootstrap=False, max_depth=48, max_features=sqrt, min_samples_leaf=9, min_samples_split=11, n_estimators=2000;, score=0.533 total time=  18.2s\n",
      "[CV 3/3] END bootstrap=False, max_depth=48, max_features=sqrt, min_samples_leaf=9, min_samples_split=11, n_estimators=2000;, score=0.533 total time=  18.5s\n",
      "[CV 1/3] END bootstrap=False, max_depth=48, max_features=sqrt, min_samples_leaf=9, min_samples_split=11, n_estimators=2500;, score=0.531 total time=  22.7s\n",
      "[CV 2/3] END bootstrap=False, max_depth=48, max_features=sqrt, min_samples_leaf=9, min_samples_split=11, n_estimators=2500;, score=0.533 total time=  22.7s\n",
      "[CV 3/3] END bootstrap=False, max_depth=48, max_features=sqrt, min_samples_leaf=9, min_samples_split=11, n_estimators=2500;, score=0.533 total time=  23.1s\n",
      "[CV 1/3] END bootstrap=False, max_depth=48, max_features=sqrt, min_samples_leaf=10, min_samples_split=9, n_estimators=2000;, score=0.532 total time=  17.9s\n",
      "[CV 2/3] END bootstrap=False, max_depth=48, max_features=sqrt, min_samples_leaf=10, min_samples_split=9, n_estimators=2000;, score=0.534 total time=  17.9s\n",
      "[CV 3/3] END bootstrap=False, max_depth=48, max_features=sqrt, min_samples_leaf=10, min_samples_split=9, n_estimators=2000;, score=0.535 total time=  18.2s\n",
      "[CV 2/3] END bootstrap=False, max_depth=48, max_features=sqrt, min_samples_leaf=9, min_samples_split=11, n_estimators=3000;, score=0.535 total time=  27.2s\n",
      "[CV 1/3] END bootstrap=False, max_depth=48, max_features=sqrt, min_samples_leaf=9, min_samples_split=11, n_estimators=3000;, score=0.531 total time=  27.4s\n",
      "[CV 3/3] END bootstrap=False, max_depth=48, max_features=sqrt, min_samples_leaf=9, min_samples_split=11, n_estimators=3000;, score=0.535 total time=  27.7s\n",
      "[CV 1/3] END bootstrap=False, max_depth=48, max_features=sqrt, min_samples_leaf=10, min_samples_split=9, n_estimators=2500;, score=0.532 total time=  22.3s\n",
      "[CV 2/3] END bootstrap=False, max_depth=48, max_features=sqrt, min_samples_leaf=10, min_samples_split=9, n_estimators=2500;, score=0.533 total time=  22.3s\n",
      "[CV 3/3] END bootstrap=False, max_depth=48, max_features=sqrt, min_samples_leaf=10, min_samples_split=9, n_estimators=2500;, score=0.535 total time=  22.7s\n",
      "[CV 1/3] END bootstrap=False, max_depth=48, max_features=sqrt, min_samples_leaf=10, min_samples_split=9, n_estimators=3000;, score=0.532 total time=  26.7s\n",
      "[CV 2/3] END bootstrap=False, max_depth=48, max_features=sqrt, min_samples_leaf=10, min_samples_split=9, n_estimators=3000;, score=0.534 total time=  26.5s\n",
      "[CV 1/3] END bootstrap=False, max_depth=48, max_features=sqrt, min_samples_leaf=10, min_samples_split=10, n_estimators=2000;, score=0.530 total time=  17.6s\n",
      "[CV 3/3] END bootstrap=False, max_depth=48, max_features=sqrt, min_samples_leaf=10, min_samples_split=9, n_estimators=3000;, score=0.537 total time=  26.9s\n",
      "[CV 2/3] END bootstrap=False, max_depth=48, max_features=sqrt, min_samples_leaf=10, min_samples_split=10, n_estimators=2000;, score=0.534 total time=  17.5s\n",
      "[CV 3/3] END bootstrap=False, max_depth=48, max_features=sqrt, min_samples_leaf=10, min_samples_split=10, n_estimators=2000;, score=0.536 total time=  18.1s\n",
      "[CV 1/3] END bootstrap=False, max_depth=48, max_features=sqrt, min_samples_leaf=10, min_samples_split=10, n_estimators=2500;, score=0.531 total time=  22.1s\n",
      "[CV 2/3] END bootstrap=False, max_depth=48, max_features=sqrt, min_samples_leaf=10, min_samples_split=10, n_estimators=2500;, score=0.533 total time=  22.1s\n",
      "[CV 3/3] END bootstrap=False, max_depth=48, max_features=sqrt, min_samples_leaf=10, min_samples_split=10, n_estimators=2500;, score=0.535 total time=  22.5s\n",
      "[CV 1/3] END bootstrap=False, max_depth=48, max_features=sqrt, min_samples_leaf=10, min_samples_split=10, n_estimators=3000;, score=0.533 total time=  26.7s\n",
      "[CV 1/3] END bootstrap=False, max_depth=48, max_features=sqrt, min_samples_leaf=10.5, min_samples_split=9, n_estimators=2000;, score=nan total time=   0.0s\n",
      "[CV 2/3] END bootstrap=False, max_depth=48, max_features=sqrt, min_samples_leaf=10.5, min_samples_split=9, n_estimators=2000;, score=nan total time=   0.0s\n",
      "[CV 3/3] END bootstrap=False, max_depth=48, max_features=sqrt, min_samples_leaf=10.5, min_samples_split=9, n_estimators=2000;, score=nan total time=   0.0s\n",
      "[CV 1/3] END bootstrap=False, max_depth=48, max_features=sqrt, min_samples_leaf=10.5, min_samples_split=9, n_estimators=2500;, score=nan total time=   0.0s\n",
      "[CV 2/3] END bootstrap=False, max_depth=48, max_features=sqrt, min_samples_leaf=10.5, min_samples_split=9, n_estimators=2500;, score=nan total time=   0.0s\n",
      "[CV 3/3] END bootstrap=False, max_depth=48, max_features=sqrt, min_samples_leaf=10.5, min_samples_split=9, n_estimators=2500;, score=nan total time=   0.0s\n",
      "[CV 1/3] END bootstrap=False, max_depth=48, max_features=sqrt, min_samples_leaf=10.5, min_samples_split=9, n_estimators=3000;, score=nan total time=   0.0s\n",
      "[CV 2/3] END bootstrap=False, max_depth=48, max_features=sqrt, min_samples_leaf=10.5, min_samples_split=9, n_estimators=3000;, score=nan total time=   0.0s\n",
      "[CV 3/3] END bootstrap=False, max_depth=48, max_features=sqrt, min_samples_leaf=10.5, min_samples_split=9, n_estimators=3000;, score=nan total time=   0.0s\n",
      "[CV 2/3] END bootstrap=False, max_depth=48, max_features=sqrt, min_samples_leaf=10, min_samples_split=10, n_estimators=3000;, score=0.534 total time=  26.6s\n",
      "[CV 1/3] END bootstrap=False, max_depth=48, max_features=sqrt, min_samples_leaf=10.5, min_samples_split=10, n_estimators=2000;, score=nan total time=   0.0s\n",
      "[CV 2/3] END bootstrap=False, max_depth=48, max_features=sqrt, min_samples_leaf=10.5, min_samples_split=10, n_estimators=2000;, score=nan total time=   0.0s\n",
      "[CV 3/3] END bootstrap=False, max_depth=48, max_features=sqrt, min_samples_leaf=10.5, min_samples_split=10, n_estimators=2000;, score=nan total time=   0.0s\n",
      "[CV 1/3] END bootstrap=False, max_depth=48, max_features=sqrt, min_samples_leaf=10.5, min_samples_split=10, n_estimators=2500;, score=nan total time=   0.0s\n",
      "[CV 2/3] END bootstrap=False, max_depth=48, max_features=sqrt, min_samples_leaf=10.5, min_samples_split=10, n_estimators=2500;, score=nan total time=   0.0s\n",
      "[CV 3/3] END bootstrap=False, max_depth=48, max_features=sqrt, min_samples_leaf=10.5, min_samples_split=10, n_estimators=2500;, score=nan total time=   0.0s\n",
      "[CV 1/3] END bootstrap=False, max_depth=48, max_features=sqrt, min_samples_leaf=10.5, min_samples_split=10, n_estimators=3000;, score=nan total time=   0.0s\n",
      "[CV 2/3] END bootstrap=False, max_depth=48, max_features=sqrt, min_samples_leaf=10.5, min_samples_split=10, n_estimators=3000;, score=nan total time=   0.0s\n",
      "[CV 3/3] END bootstrap=False, max_depth=48, max_features=sqrt, min_samples_leaf=10.5, min_samples_split=10, n_estimators=3000;, score=nan total time=   0.0s\n",
      "[CV 1/3] END bootstrap=False, max_depth=48, max_features=sqrt, min_samples_leaf=10.5, min_samples_split=11, n_estimators=2000;, score=nan total time=   0.0s\n",
      "[CV 2/3] END bootstrap=False, max_depth=48, max_features=sqrt, min_samples_leaf=10.5, min_samples_split=11, n_estimators=2000;, score=nan total time=   0.0s\n",
      "[CV 3/3] END bootstrap=False, max_depth=48, max_features=sqrt, min_samples_leaf=10.5, min_samples_split=11, n_estimators=2000;, score=nan total time=   0.0s\n",
      "[CV 1/3] END bootstrap=False, max_depth=48, max_features=sqrt, min_samples_leaf=10.5, min_samples_split=11, n_estimators=2500;, score=nan total time=   0.0s\n",
      "[CV 2/3] END bootstrap=False, max_depth=48, max_features=sqrt, min_samples_leaf=10.5, min_samples_split=11, n_estimators=2500;, score=nan total time=   0.0s\n",
      "[CV 3/3] END bootstrap=False, max_depth=48, max_features=sqrt, min_samples_leaf=10.5, min_samples_split=11, n_estimators=2500;, score=nan total time=   0.0s\n",
      "[CV 1/3] END bootstrap=False, max_depth=48, max_features=sqrt, min_samples_leaf=10.5, min_samples_split=11, n_estimators=3000;, score=nan total time=   0.0s\n",
      "[CV 2/3] END bootstrap=False, max_depth=48, max_features=sqrt, min_samples_leaf=10.5, min_samples_split=11, n_estimators=3000;, score=nan total time=   0.0s\n",
      "[CV 3/3] END bootstrap=False, max_depth=48, max_features=sqrt, min_samples_leaf=10.5, min_samples_split=11, n_estimators=3000;, score=nan total time=   0.0s\n",
      "[CV 1/3] END bootstrap=False, max_depth=48, max_features=sqrt, min_samples_leaf=10, min_samples_split=11, n_estimators=2000;, score=0.531 total time=  17.8s\n",
      "[CV 2/3] END bootstrap=False, max_depth=48, max_features=sqrt, min_samples_leaf=10, min_samples_split=11, n_estimators=2000;, score=0.534 total time=  17.8s\n",
      "[CV 3/3] END bootstrap=False, max_depth=48, max_features=sqrt, min_samples_leaf=10, min_samples_split=10, n_estimators=3000;, score=0.535 total time=  27.1s\n",
      "[CV 3/3] END bootstrap=False, max_depth=48, max_features=sqrt, min_samples_leaf=10, min_samples_split=11, n_estimators=2000;, score=0.535 total time=  18.1s\n",
      "[CV 1/3] END bootstrap=False, max_depth=48, max_features=sqrt, min_samples_leaf=10, min_samples_split=11, n_estimators=2500;, score=0.531 total time=  22.5s\n",
      "[CV 2/3] END bootstrap=False, max_depth=48, max_features=sqrt, min_samples_leaf=10, min_samples_split=11, n_estimators=2500;, score=0.534 total time=  22.6s\n",
      "[CV 3/3] END bootstrap=False, max_depth=48, max_features=sqrt, min_samples_leaf=10, min_samples_split=11, n_estimators=2500;, score=0.536 total time=  22.8s\n",
      "[CV 1/3] END bootstrap=False, max_depth=48, max_features=sqrt, min_samples_leaf=10, min_samples_split=11, n_estimators=3000;, score=0.531 total time=  27.1s\n",
      "[CV 1/3] END bootstrap=False, max_depth=48, max_features=sqrt, min_samples_leaf=11, min_samples_split=9, n_estimators=2000;, score=0.531 total time=  18.0s\n",
      "[CV 2/3] END bootstrap=False, max_depth=48, max_features=sqrt, min_samples_leaf=10, min_samples_split=11, n_estimators=3000;, score=0.533 total time=  27.2s\n",
      "[CV 2/3] END bootstrap=False, max_depth=48, max_features=sqrt, min_samples_leaf=11, min_samples_split=9, n_estimators=2000;, score=0.534 total time=  18.0s\n",
      "[CV 3/3] END bootstrap=False, max_depth=48, max_features=sqrt, min_samples_leaf=11, min_samples_split=9, n_estimators=2000;, score=0.535 total time=  18.6s\n",
      "[CV 3/3] END bootstrap=False, max_depth=48, max_features=sqrt, min_samples_leaf=10, min_samples_split=11, n_estimators=3000;, score=0.535 total time=  28.0s\n",
      "[CV 1/3] END bootstrap=False, max_depth=48, max_features=sqrt, min_samples_leaf=11, min_samples_split=9, n_estimators=2500;, score=0.531 total time=  22.6s\n",
      "[CV 2/3] END bootstrap=False, max_depth=48, max_features=sqrt, min_samples_leaf=11, min_samples_split=9, n_estimators=2500;, score=0.533 total time=  22.6s\n",
      "[CV 3/3] END bootstrap=False, max_depth=48, max_features=sqrt, min_samples_leaf=11, min_samples_split=9, n_estimators=2500;, score=0.536 total time=  23.3s\n",
      "[CV 1/3] END bootstrap=False, max_depth=48, max_features=sqrt, min_samples_leaf=11, min_samples_split=9, n_estimators=3000;, score=0.532 total time=  26.7s\n",
      "[CV 2/3] END bootstrap=False, max_depth=48, max_features=sqrt, min_samples_leaf=11, min_samples_split=9, n_estimators=3000;, score=0.534 total time=  26.6s\n",
      "[CV 1/3] END bootstrap=False, max_depth=48, max_features=sqrt, min_samples_leaf=11, min_samples_split=10, n_estimators=2000;, score=0.532 total time=  18.0s\n",
      "[CV 3/3] END bootstrap=False, max_depth=48, max_features=sqrt, min_samples_leaf=11, min_samples_split=9, n_estimators=3000;, score=0.536 total time=  27.2s\n",
      "[CV 2/3] END bootstrap=False, max_depth=48, max_features=sqrt, min_samples_leaf=11, min_samples_split=10, n_estimators=2000;, score=0.534 total time=  18.0s\n",
      "[CV 3/3] END bootstrap=False, max_depth=48, max_features=sqrt, min_samples_leaf=11, min_samples_split=10, n_estimators=2000;, score=0.536 total time=  18.3s\n",
      "[CV 1/3] END bootstrap=False, max_depth=48, max_features=sqrt, min_samples_leaf=11, min_samples_split=10, n_estimators=2500;, score=0.532 total time=  22.8s\n",
      "[CV 2/3] END bootstrap=False, max_depth=48, max_features=sqrt, min_samples_leaf=11, min_samples_split=10, n_estimators=2500;, score=0.534 total time=  23.1s\n",
      "[CV 3/3] END bootstrap=False, max_depth=48, max_features=sqrt, min_samples_leaf=11, min_samples_split=10, n_estimators=2500;, score=0.536 total time=  23.3s\n",
      "[CV 1/3] END bootstrap=False, max_depth=48, max_features=sqrt, min_samples_leaf=11, min_samples_split=10, n_estimators=3000;, score=0.531 total time=  29.1s\n",
      "[CV 2/3] END bootstrap=False, max_depth=48, max_features=sqrt, min_samples_leaf=11, min_samples_split=10, n_estimators=3000;, score=0.532 total time=  29.1s\n",
      "[CV 1/3] END bootstrap=False, max_depth=48, max_features=sqrt, min_samples_leaf=11, min_samples_split=11, n_estimators=2000;, score=0.531 total time=  20.3s\n",
      "[CV 2/3] END bootstrap=False, max_depth=48, max_features=sqrt, min_samples_leaf=11, min_samples_split=11, n_estimators=2000;, score=0.533 total time=  20.4s\n",
      "[CV 3/3] END bootstrap=False, max_depth=48, max_features=sqrt, min_samples_leaf=11, min_samples_split=10, n_estimators=3000;, score=0.535 total time=  29.3s\n",
      "[CV 3/3] END bootstrap=False, max_depth=48, max_features=sqrt, min_samples_leaf=11, min_samples_split=11, n_estimators=2000;, score=0.537 total time=  20.5s\n",
      "[CV 1/3] END bootstrap=False, max_depth=48, max_features=sqrt, min_samples_leaf=11, min_samples_split=11, n_estimators=2500;, score=0.532 total time=  24.5s\n",
      "[CV 2/3] END bootstrap=False, max_depth=48, max_features=sqrt, min_samples_leaf=11, min_samples_split=11, n_estimators=2500;, score=0.534 total time=  24.6s\n",
      "[CV 3/3] END bootstrap=False, max_depth=48, max_features=sqrt, min_samples_leaf=11, min_samples_split=11, n_estimators=2500;, score=0.535 total time=  24.9s\n"
     ]
    },
    {
     "ename": "KeyboardInterrupt",
     "evalue": "",
     "output_type": "error",
     "traceback": [
      "\u001b[0;31m---------------------------------------------------------------------------\u001b[0m",
      "\u001b[0;31mKeyboardInterrupt\u001b[0m                         Traceback (most recent call last)",
      "Cell \u001b[0;32mIn[26], line 1\u001b[0m\n\u001b[0;32m----> 1\u001b[0m grid_search\u001b[39m.\u001b[39;49mfit(X_train, y_train)\n",
      "File \u001b[0;32m~/.pyenv/versions/3.10.6/envs/wingman/lib/python3.10/site-packages/sklearn/model_selection/_search.py:874\u001b[0m, in \u001b[0;36mBaseSearchCV.fit\u001b[0;34m(self, X, y, groups, **fit_params)\u001b[0m\n\u001b[1;32m    868\u001b[0m     results \u001b[39m=\u001b[39m \u001b[39mself\u001b[39m\u001b[39m.\u001b[39m_format_results(\n\u001b[1;32m    869\u001b[0m         all_candidate_params, n_splits, all_out, all_more_results\n\u001b[1;32m    870\u001b[0m     )\n\u001b[1;32m    872\u001b[0m     \u001b[39mreturn\u001b[39;00m results\n\u001b[0;32m--> 874\u001b[0m \u001b[39mself\u001b[39;49m\u001b[39m.\u001b[39;49m_run_search(evaluate_candidates)\n\u001b[1;32m    876\u001b[0m \u001b[39m# multimetric is determined here because in the case of a callable\u001b[39;00m\n\u001b[1;32m    877\u001b[0m \u001b[39m# self.scoring the return type is only known after calling\u001b[39;00m\n\u001b[1;32m    878\u001b[0m first_test_score \u001b[39m=\u001b[39m all_out[\u001b[39m0\u001b[39m][\u001b[39m\"\u001b[39m\u001b[39mtest_scores\u001b[39m\u001b[39m\"\u001b[39m]\n",
      "File \u001b[0;32m~/.pyenv/versions/3.10.6/envs/wingman/lib/python3.10/site-packages/sklearn/model_selection/_search.py:1388\u001b[0m, in \u001b[0;36mGridSearchCV._run_search\u001b[0;34m(self, evaluate_candidates)\u001b[0m\n\u001b[1;32m   1386\u001b[0m \u001b[39mdef\u001b[39;00m \u001b[39m_run_search\u001b[39m(\u001b[39mself\u001b[39m, evaluate_candidates):\n\u001b[1;32m   1387\u001b[0m \u001b[39m    \u001b[39m\u001b[39m\"\"\"Search all candidates in param_grid\"\"\"\u001b[39;00m\n\u001b[0;32m-> 1388\u001b[0m     evaluate_candidates(ParameterGrid(\u001b[39mself\u001b[39;49m\u001b[39m.\u001b[39;49mparam_grid))\n",
      "File \u001b[0;32m~/.pyenv/versions/3.10.6/envs/wingman/lib/python3.10/site-packages/sklearn/model_selection/_search.py:821\u001b[0m, in \u001b[0;36mBaseSearchCV.fit.<locals>.evaluate_candidates\u001b[0;34m(candidate_params, cv, more_results)\u001b[0m\n\u001b[1;32m    813\u001b[0m \u001b[39mif\u001b[39;00m \u001b[39mself\u001b[39m\u001b[39m.\u001b[39mverbose \u001b[39m>\u001b[39m \u001b[39m0\u001b[39m:\n\u001b[1;32m    814\u001b[0m     \u001b[39mprint\u001b[39m(\n\u001b[1;32m    815\u001b[0m         \u001b[39m\"\u001b[39m\u001b[39mFitting \u001b[39m\u001b[39m{0}\u001b[39;00m\u001b[39m folds for each of \u001b[39m\u001b[39m{1}\u001b[39;00m\u001b[39m candidates,\u001b[39m\u001b[39m\"\u001b[39m\n\u001b[1;32m    816\u001b[0m         \u001b[39m\"\u001b[39m\u001b[39m totalling \u001b[39m\u001b[39m{2}\u001b[39;00m\u001b[39m fits\u001b[39m\u001b[39m\"\u001b[39m\u001b[39m.\u001b[39mformat(\n\u001b[1;32m    817\u001b[0m             n_splits, n_candidates, n_candidates \u001b[39m*\u001b[39m n_splits\n\u001b[1;32m    818\u001b[0m         )\n\u001b[1;32m    819\u001b[0m     )\n\u001b[0;32m--> 821\u001b[0m out \u001b[39m=\u001b[39m parallel(\n\u001b[1;32m    822\u001b[0m     delayed(_fit_and_score)(\n\u001b[1;32m    823\u001b[0m         clone(base_estimator),\n\u001b[1;32m    824\u001b[0m         X,\n\u001b[1;32m    825\u001b[0m         y,\n\u001b[1;32m    826\u001b[0m         train\u001b[39m=\u001b[39;49mtrain,\n\u001b[1;32m    827\u001b[0m         test\u001b[39m=\u001b[39;49mtest,\n\u001b[1;32m    828\u001b[0m         parameters\u001b[39m=\u001b[39;49mparameters,\n\u001b[1;32m    829\u001b[0m         split_progress\u001b[39m=\u001b[39;49m(split_idx, n_splits),\n\u001b[1;32m    830\u001b[0m         candidate_progress\u001b[39m=\u001b[39;49m(cand_idx, n_candidates),\n\u001b[1;32m    831\u001b[0m         \u001b[39m*\u001b[39;49m\u001b[39m*\u001b[39;49mfit_and_score_kwargs,\n\u001b[1;32m    832\u001b[0m     )\n\u001b[1;32m    833\u001b[0m     \u001b[39mfor\u001b[39;49;00m (cand_idx, parameters), (split_idx, (train, test)) \u001b[39min\u001b[39;49;00m product(\n\u001b[1;32m    834\u001b[0m         \u001b[39menumerate\u001b[39;49m(candidate_params), \u001b[39menumerate\u001b[39;49m(cv\u001b[39m.\u001b[39;49msplit(X, y, groups))\n\u001b[1;32m    835\u001b[0m     )\n\u001b[1;32m    836\u001b[0m )\n\u001b[1;32m    838\u001b[0m \u001b[39mif\u001b[39;00m \u001b[39mlen\u001b[39m(out) \u001b[39m<\u001b[39m \u001b[39m1\u001b[39m:\n\u001b[1;32m    839\u001b[0m     \u001b[39mraise\u001b[39;00m \u001b[39mValueError\u001b[39;00m(\n\u001b[1;32m    840\u001b[0m         \u001b[39m\"\u001b[39m\u001b[39mNo fits were performed. \u001b[39m\u001b[39m\"\u001b[39m\n\u001b[1;32m    841\u001b[0m         \u001b[39m\"\u001b[39m\u001b[39mWas the CV iterator empty? \u001b[39m\u001b[39m\"\u001b[39m\n\u001b[1;32m    842\u001b[0m         \u001b[39m\"\u001b[39m\u001b[39mWere there no candidates?\u001b[39m\u001b[39m\"\u001b[39m\n\u001b[1;32m    843\u001b[0m     )\n",
      "File \u001b[0;32m~/.pyenv/versions/3.10.6/envs/wingman/lib/python3.10/site-packages/sklearn/utils/parallel.py:63\u001b[0m, in \u001b[0;36mParallel.__call__\u001b[0;34m(self, iterable)\u001b[0m\n\u001b[1;32m     58\u001b[0m config \u001b[39m=\u001b[39m get_config()\n\u001b[1;32m     59\u001b[0m iterable_with_config \u001b[39m=\u001b[39m (\n\u001b[1;32m     60\u001b[0m     (_with_config(delayed_func, config), args, kwargs)\n\u001b[1;32m     61\u001b[0m     \u001b[39mfor\u001b[39;00m delayed_func, args, kwargs \u001b[39min\u001b[39;00m iterable\n\u001b[1;32m     62\u001b[0m )\n\u001b[0;32m---> 63\u001b[0m \u001b[39mreturn\u001b[39;00m \u001b[39msuper\u001b[39;49m()\u001b[39m.\u001b[39;49m\u001b[39m__call__\u001b[39;49m(iterable_with_config)\n",
      "File \u001b[0;32m~/.pyenv/versions/3.10.6/envs/wingman/lib/python3.10/site-packages/joblib/parallel.py:1098\u001b[0m, in \u001b[0;36mParallel.__call__\u001b[0;34m(self, iterable)\u001b[0m\n\u001b[1;32m   1095\u001b[0m     \u001b[39mself\u001b[39m\u001b[39m.\u001b[39m_iterating \u001b[39m=\u001b[39m \u001b[39mFalse\u001b[39;00m\n\u001b[1;32m   1097\u001b[0m \u001b[39mwith\u001b[39;00m \u001b[39mself\u001b[39m\u001b[39m.\u001b[39m_backend\u001b[39m.\u001b[39mretrieval_context():\n\u001b[0;32m-> 1098\u001b[0m     \u001b[39mself\u001b[39;49m\u001b[39m.\u001b[39;49mretrieve()\n\u001b[1;32m   1099\u001b[0m \u001b[39m# Make sure that we get a last message telling us we are done\u001b[39;00m\n\u001b[1;32m   1100\u001b[0m elapsed_time \u001b[39m=\u001b[39m time\u001b[39m.\u001b[39mtime() \u001b[39m-\u001b[39m \u001b[39mself\u001b[39m\u001b[39m.\u001b[39m_start_time\n",
      "File \u001b[0;32m~/.pyenv/versions/3.10.6/envs/wingman/lib/python3.10/site-packages/joblib/parallel.py:975\u001b[0m, in \u001b[0;36mParallel.retrieve\u001b[0;34m(self)\u001b[0m\n\u001b[1;32m    973\u001b[0m \u001b[39mtry\u001b[39;00m:\n\u001b[1;32m    974\u001b[0m     \u001b[39mif\u001b[39;00m \u001b[39mgetattr\u001b[39m(\u001b[39mself\u001b[39m\u001b[39m.\u001b[39m_backend, \u001b[39m'\u001b[39m\u001b[39msupports_timeout\u001b[39m\u001b[39m'\u001b[39m, \u001b[39mFalse\u001b[39;00m):\n\u001b[0;32m--> 975\u001b[0m         \u001b[39mself\u001b[39m\u001b[39m.\u001b[39m_output\u001b[39m.\u001b[39mextend(job\u001b[39m.\u001b[39;49mget(timeout\u001b[39m=\u001b[39;49m\u001b[39mself\u001b[39;49m\u001b[39m.\u001b[39;49mtimeout))\n\u001b[1;32m    976\u001b[0m     \u001b[39melse\u001b[39;00m:\n\u001b[1;32m    977\u001b[0m         \u001b[39mself\u001b[39m\u001b[39m.\u001b[39m_output\u001b[39m.\u001b[39mextend(job\u001b[39m.\u001b[39mget())\n",
      "File \u001b[0;32m~/.pyenv/versions/3.10.6/envs/wingman/lib/python3.10/site-packages/joblib/_parallel_backends.py:567\u001b[0m, in \u001b[0;36mLokyBackend.wrap_future_result\u001b[0;34m(future, timeout)\u001b[0m\n\u001b[1;32m    564\u001b[0m \u001b[39m\u001b[39m\u001b[39m\"\"\"Wrapper for Future.result to implement the same behaviour as\u001b[39;00m\n\u001b[1;32m    565\u001b[0m \u001b[39mAsyncResults.get from multiprocessing.\"\"\"\u001b[39;00m\n\u001b[1;32m    566\u001b[0m \u001b[39mtry\u001b[39;00m:\n\u001b[0;32m--> 567\u001b[0m     \u001b[39mreturn\u001b[39;00m future\u001b[39m.\u001b[39;49mresult(timeout\u001b[39m=\u001b[39;49mtimeout)\n\u001b[1;32m    568\u001b[0m \u001b[39mexcept\u001b[39;00m CfTimeoutError \u001b[39mas\u001b[39;00m e:\n\u001b[1;32m    569\u001b[0m     \u001b[39mraise\u001b[39;00m \u001b[39mTimeoutError\u001b[39;00m \u001b[39mfrom\u001b[39;00m \u001b[39me\u001b[39;00m\n",
      "File \u001b[0;32m~/.pyenv/versions/3.10.6/lib/python3.10/concurrent/futures/_base.py:453\u001b[0m, in \u001b[0;36mFuture.result\u001b[0;34m(self, timeout)\u001b[0m\n\u001b[1;32m    450\u001b[0m \u001b[39melif\u001b[39;00m \u001b[39mself\u001b[39m\u001b[39m.\u001b[39m_state \u001b[39m==\u001b[39m FINISHED:\n\u001b[1;32m    451\u001b[0m     \u001b[39mreturn\u001b[39;00m \u001b[39mself\u001b[39m\u001b[39m.\u001b[39m__get_result()\n\u001b[0;32m--> 453\u001b[0m \u001b[39mself\u001b[39;49m\u001b[39m.\u001b[39;49m_condition\u001b[39m.\u001b[39;49mwait(timeout)\n\u001b[1;32m    455\u001b[0m \u001b[39mif\u001b[39;00m \u001b[39mself\u001b[39m\u001b[39m.\u001b[39m_state \u001b[39min\u001b[39;00m [CANCELLED, CANCELLED_AND_NOTIFIED]:\n\u001b[1;32m    456\u001b[0m     \u001b[39mraise\u001b[39;00m CancelledError()\n",
      "File \u001b[0;32m~/.pyenv/versions/3.10.6/lib/python3.10/threading.py:320\u001b[0m, in \u001b[0;36mCondition.wait\u001b[0;34m(self, timeout)\u001b[0m\n\u001b[1;32m    318\u001b[0m \u001b[39mtry\u001b[39;00m:    \u001b[39m# restore state no matter what (e.g., KeyboardInterrupt)\u001b[39;00m\n\u001b[1;32m    319\u001b[0m     \u001b[39mif\u001b[39;00m timeout \u001b[39mis\u001b[39;00m \u001b[39mNone\u001b[39;00m:\n\u001b[0;32m--> 320\u001b[0m         waiter\u001b[39m.\u001b[39;49macquire()\n\u001b[1;32m    321\u001b[0m         gotit \u001b[39m=\u001b[39m \u001b[39mTrue\u001b[39;00m\n\u001b[1;32m    322\u001b[0m     \u001b[39melse\u001b[39;00m:\n",
      "\u001b[0;31mKeyboardInterrupt\u001b[0m: "
     ]
    }
   ],
   "source": [
    "grid_search.fit(X_train, y_train)"
   ]
  },
  {
   "attachments": {},
   "cell_type": "markdown",
   "metadata": {},
   "source": [
    "## XGBoost"
   ]
  },
  {
   "cell_type": "code",
   "execution_count": 9,
   "metadata": {},
   "outputs": [],
   "source": [
    "import xgboost as xgb\n",
    "from xgboost import XGBClassifier"
   ]
  },
  {
   "cell_type": "code",
   "execution_count": 13,
   "metadata": {},
   "outputs": [
    {
     "data": {
      "text/plain": [
       "0.4982973893303065"
      ]
     },
     "execution_count": 13,
     "metadata": {},
     "output_type": "execute_result"
    }
   ],
   "source": [
    "xgb = XGBClassifier(random_state=42, n_jobs=-1, objective='multi:softmax').fit(X_smote, y_smote)\n",
    "\n",
    "y_pred = xgb.predict(X_test)\n",
    "\n",
    "accuracy_score(y_test, y_pred)"
   ]
  },
  {
   "cell_type": "code",
   "execution_count": 14,
   "metadata": {},
   "outputs": [],
   "source": [
    "from sklearn.model_selection import GridSearchCV\n",
    "from xgboost import XGBClassifier\n",
    "\n",
    "# Assuming your dataset is stored in X_train and y_train variables\n",
    "# X_train should contain the training features, and y_train should contain the corresponding labels\n",
    "\n",
    "# Instantiate the XGBClassifier\n",
    "xgb = XGBClassifier(random_state=42)\n",
    "\n",
    "# Define the parameter grid for the grid search\n",
    "param_grid = {\n",
    "    'n_estimators': [100, 200, 300],  # Number of trees in the forest\n",
    "    'max_depth': [3, 4, 5],           # Maximum depth of each tree\n",
    "    'learning_rate': [0.1, 0.01, 0.001]  # Learning rate\n",
    "}\n",
    "\n",
    "# Instantiate the GridSearchCV object\n",
    "grid_search = GridSearchCV(xgb, param_grid, cv=3, scoring='accuracy')\n",
    "\n",
    "# Perform grid search on the training data\n",
    "grid_search.fit(X_smote, y_smote)\n",
    "\n",
    "# Print the best hyperparameters found\n",
    "print(\"Best Hyperparameters: \", grid_search.best_params_)\n",
    "\n",
    "# Print the best accuracy score found during the grid search\n",
    "print(\"Best Accuracy Score: \", grid_search.best_score_)"
   ]
  }
 ],
 "metadata": {
  "kernelspec": {
   "display_name": "wingman",
   "language": "python",
   "name": "python3"
  },
  "language_info": {
   "codemirror_mode": {
    "name": "ipython",
    "version": 3
   },
   "file_extension": ".py",
   "mimetype": "text/x-python",
   "name": "python",
   "nbconvert_exporter": "python",
   "pygments_lexer": "ipython3",
   "version": "3.10.6"
  },
  "orig_nbformat": 4
 },
 "nbformat": 4,
 "nbformat_minor": 2
}
