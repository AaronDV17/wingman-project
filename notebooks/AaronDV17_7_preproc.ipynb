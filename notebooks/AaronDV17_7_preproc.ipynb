{
 "cells": [
  {
   "attachments": {},
   "cell_type": "markdown",
   "metadata": {},
   "source": [
    "## Imports"
   ]
  },
  {
   "cell_type": "code",
   "execution_count": 1,
   "metadata": {},
   "outputs": [],
   "source": [
    "# IMPORTS\n",
    "import pandas as pd\n",
    "import numpy as np\n",
    "\n",
    "from sklearn.preprocessing import OrdinalEncoder, OneHotEncoder"
   ]
  },
  {
   "attachments": {},
   "cell_type": "markdown",
   "metadata": {},
   "source": [
    "## Load Data"
   ]
  },
  {
   "cell_type": "code",
   "execution_count": 11,
   "metadata": {},
   "outputs": [],
   "source": [
    "wingman_df = pd.read_csv('../raw_data/trimmed_data/wingman_data_cleaned.csv')"
   ]
  },
  {
   "attachments": {},
   "cell_type": "markdown",
   "metadata": {},
   "source": [
    "## Testing encoders before integrating into preprocessor.py"
   ]
  },
  {
   "cell_type": "code",
   "execution_count": 12,
   "metadata": {},
   "outputs": [],
   "source": [
    "mask = wingman_df['hp_or_lbs'] == 'HP'\n",
    "\n",
    "wingman_df = wingman_df[mask]\n",
    "\n",
    "wingman_df.drop(columns=['hp_or_lbs'], axis=1, inplace=True)\n",
    "\n",
    "wingman_df['power_units'].fillna(wingman_df['power_units'].median(), inplace=True)"
   ]
  },
  {
   "cell_type": "code",
   "execution_count": 57,
   "metadata": {},
   "outputs": [],
   "source": [
    "temp = wingman_df.copy()\n",
    "\n",
    "# Set the index for temp as 'id'\n",
    "temp.set_index('id', inplace=True)"
   ]
  },
  {
   "attachments": {},
   "cell_type": "markdown",
   "metadata": {},
   "source": [
    "### temp DF Info Monitor"
   ]
  },
  {
   "cell_type": "code",
   "execution_count": 58,
   "metadata": {},
   "outputs": [
    {
     "data": {
      "text/plain": [
       "(16722, 29)"
      ]
     },
     "execution_count": 58,
     "metadata": {},
     "output_type": "execute_result"
    }
   ],
   "source": [
    "temp.shape"
   ]
  },
  {
   "cell_type": "code",
   "execution_count": 15,
   "metadata": {},
   "outputs": [
    {
     "data": {
      "text/plain": [
       "id                     16722\n",
       "eventsoe_no               85\n",
       "far_part                  13\n",
       "acft_make               3002\n",
       "acft_model              3840\n",
       "fixed_retractable          2\n",
       "acft_category              8\n",
       "homebuilt                  2\n",
       "flight_hours_mean       6793\n",
       "crew_category              5\n",
       "power_units              421\n",
       "dprt_time               1095\n",
       "cert_max_gr_wt          1413\n",
       "afm_hrs                 9621\n",
       "total_seats              141\n",
       "num_eng                    6\n",
       "type_last_insp             6\n",
       "second_pilot               2\n",
       "site_seeing                2\n",
       "air_medical                2\n",
       "crew_sex                   2\n",
       "certs_held                 2\n",
       "dprt_apt_id             5423\n",
       "dest_apt_id             5049\n",
       "flt_plan_filed             7\n",
       "pc_profession              3\n",
       "eng_type                  11\n",
       "carb_fuel_injection        3\n",
       "type_fly                  24\n",
       "eng_mfgr                 662\n",
       "dtype: int64"
      ]
     },
     "execution_count": 15,
     "metadata": {},
     "output_type": "execute_result"
    }
   ],
   "source": [
    "temp.nunique()"
   ]
  },
  {
   "cell_type": "code",
   "execution_count": 16,
   "metadata": {},
   "outputs": [
    {
     "name": "stdout",
     "output_type": "stream",
     "text": [
      "<class 'pandas.core.frame.DataFrame'>\n",
      "Int64Index: 16722 entries, 0 to 18806\n",
      "Data columns (total 30 columns):\n",
      " #   Column               Non-Null Count  Dtype  \n",
      "---  ------               --------------  -----  \n",
      " 0   id                   16722 non-null  object \n",
      " 1   eventsoe_no          16722 non-null  int64  \n",
      " 2   far_part             16722 non-null  object \n",
      " 3   acft_make            16722 non-null  object \n",
      " 4   acft_model           16722 non-null  object \n",
      " 5   fixed_retractable    16722 non-null  object \n",
      " 6   acft_category        16722 non-null  object \n",
      " 7   homebuilt            16722 non-null  object \n",
      " 8   flight_hours_mean    16722 non-null  float64\n",
      " 9   crew_category        16722 non-null  object \n",
      " 10  power_units          16722 non-null  float64\n",
      " 11  dprt_time            16722 non-null  int64  \n",
      " 12  cert_max_gr_wt       16722 non-null  float64\n",
      " 13  afm_hrs              16722 non-null  float64\n",
      " 14  total_seats          16722 non-null  int64  \n",
      " 15  num_eng              16722 non-null  int64  \n",
      " 16  type_last_insp       16722 non-null  object \n",
      " 17  second_pilot         16722 non-null  object \n",
      " 18  site_seeing          16722 non-null  object \n",
      " 19  air_medical          16722 non-null  object \n",
      " 20  crew_sex             16722 non-null  object \n",
      " 21  certs_held           16722 non-null  object \n",
      " 22  dprt_apt_id          16722 non-null  object \n",
      " 23  dest_apt_id          16722 non-null  object \n",
      " 24  flt_plan_filed       16722 non-null  object \n",
      " 25  pc_profession        16722 non-null  object \n",
      " 26  eng_type             16722 non-null  object \n",
      " 27  carb_fuel_injection  16722 non-null  object \n",
      " 28  type_fly             16722 non-null  object \n",
      " 29  eng_mfgr             16722 non-null  object \n",
      "dtypes: float64(4), int64(4), object(22)\n",
      "memory usage: 4.0+ MB\n"
     ]
    }
   ],
   "source": [
    "temp.info()"
   ]
  },
  {
   "cell_type": "code",
   "execution_count": 17,
   "metadata": {},
   "outputs": [
    {
     "data": {
      "text/plain": [
       "id                   False    16722.0\n",
       "eventsoe_no          False    16722.0\n",
       "far_part             False    16722.0\n",
       "acft_make            False    16722.0\n",
       "acft_model           False    16722.0\n",
       "fixed_retractable    False    16722.0\n",
       "acft_category        False    16722.0\n",
       "homebuilt            True     16722.0\n",
       "flight_hours_mean    False    16722.0\n",
       "crew_category        False    16722.0\n",
       "power_units          False    16722.0\n",
       "dprt_time            False    16722.0\n",
       "cert_max_gr_wt       False    16722.0\n",
       "afm_hrs              False    16722.0\n",
       "total_seats          False    16722.0\n",
       "num_eng              False    16722.0\n",
       "type_last_insp       False    16722.0\n",
       "second_pilot         True     16722.0\n",
       "site_seeing          True     16722.0\n",
       "air_medical          True     16722.0\n",
       "crew_sex             False    16722.0\n",
       "certs_held           True     16722.0\n",
       "dprt_apt_id          False    16722.0\n",
       "dest_apt_id          False    16722.0\n",
       "flt_plan_filed       False    16722.0\n",
       "pc_profession        False    16722.0\n",
       "eng_type             False    16722.0\n",
       "carb_fuel_injection  False    16722.0\n",
       "type_fly             False    16722.0\n",
       "eng_mfgr             False    16722.0\n",
       "dtype: float64"
      ]
     },
     "execution_count": 17,
     "metadata": {},
     "output_type": "execute_result"
    }
   ],
   "source": [
    "temp.apply(lambda x: x.isin(['Y', 'N']).value_counts()).T.stack()"
   ]
  },
  {
   "attachments": {},
   "cell_type": "markdown",
   "metadata": {},
   "source": [
    "### Testing"
   ]
  },
  {
   "attachments": {},
   "cell_type": "markdown",
   "metadata": {},
   "source": [
    "##### transform_yes_no"
   ]
  },
  {
   "attachments": {},
   "cell_type": "markdown",
   "metadata": {},
   "source": [
    "##### transform_gender"
   ]
  },
  {
   "attachments": {},
   "cell_type": "markdown",
   "metadata": {},
   "source": [
    "##### transform_type_insp"
   ]
  },
  {
   "attachments": {},
   "cell_type": "markdown",
   "metadata": {},
   "source": [
    "##### transform_type_fly"
   ]
  },
  {
   "attachments": {},
   "cell_type": "markdown",
   "metadata": {},
   "source": [
    "##### transform_eng_mfgr"
   ]
  },
  {
   "attachments": {},
   "cell_type": "markdown",
   "metadata": {},
   "source": [
    "##### transform_far_part"
   ]
  },
  {
   "cell_type": "code",
   "execution_count": 56,
   "metadata": {},
   "outputs": [
    {
     "data": {
      "text/html": [
       "<div>\n",
       "<style scoped>\n",
       "    .dataframe tbody tr th:only-of-type {\n",
       "        vertical-align: middle;\n",
       "    }\n",
       "\n",
       "    .dataframe tbody tr th {\n",
       "        vertical-align: top;\n",
       "    }\n",
       "\n",
       "    .dataframe thead th {\n",
       "        text-align: right;\n",
       "    }\n",
       "</style>\n",
       "<table border=\"1\" class=\"dataframe\">\n",
       "  <thead>\n",
       "    <tr style=\"text-align: right;\">\n",
       "      <th></th>\n",
       "      <th>far_part_091</th>\n",
       "      <th>far_part_135</th>\n",
       "      <th>far_part_137</th>\n",
       "      <th>far_part_infrequent_sklearn</th>\n",
       "    </tr>\n",
       "    <tr>\n",
       "      <th>id</th>\n",
       "      <th></th>\n",
       "      <th></th>\n",
       "      <th></th>\n",
       "      <th></th>\n",
       "    </tr>\n",
       "  </thead>\n",
       "  <tbody>\n",
       "    <tr>\n",
       "      <th>20080107X000261</th>\n",
       "      <td>1.0</td>\n",
       "      <td>0.0</td>\n",
       "      <td>0.0</td>\n",
       "      <td>0.0</td>\n",
       "    </tr>\n",
       "    <tr>\n",
       "      <th>20080107X000262</th>\n",
       "      <td>1.0</td>\n",
       "      <td>0.0</td>\n",
       "      <td>0.0</td>\n",
       "      <td>0.0</td>\n",
       "    </tr>\n",
       "    <tr>\n",
       "      <th>20080109X000361</th>\n",
       "      <td>1.0</td>\n",
       "      <td>0.0</td>\n",
       "      <td>0.0</td>\n",
       "      <td>0.0</td>\n",
       "    </tr>\n",
       "    <tr>\n",
       "      <th>20080107X000271</th>\n",
       "      <td>1.0</td>\n",
       "      <td>0.0</td>\n",
       "      <td>0.0</td>\n",
       "      <td>0.0</td>\n",
       "    </tr>\n",
       "    <tr>\n",
       "      <th>20080115X000511</th>\n",
       "      <td>1.0</td>\n",
       "      <td>0.0</td>\n",
       "      <td>0.0</td>\n",
       "      <td>0.0</td>\n",
       "    </tr>\n",
       "    <tr>\n",
       "      <th>...</th>\n",
       "      <td>...</td>\n",
       "      <td>...</td>\n",
       "      <td>...</td>\n",
       "      <td>...</td>\n",
       "    </tr>\n",
       "    <tr>\n",
       "      <th>202303131068811</th>\n",
       "      <td>1.0</td>\n",
       "      <td>0.0</td>\n",
       "      <td>0.0</td>\n",
       "      <td>0.0</td>\n",
       "    </tr>\n",
       "    <tr>\n",
       "      <th>202303131068821</th>\n",
       "      <td>1.0</td>\n",
       "      <td>0.0</td>\n",
       "      <td>0.0</td>\n",
       "      <td>0.0</td>\n",
       "    </tr>\n",
       "    <tr>\n",
       "      <th>202303131068841</th>\n",
       "      <td>1.0</td>\n",
       "      <td>0.0</td>\n",
       "      <td>0.0</td>\n",
       "      <td>0.0</td>\n",
       "    </tr>\n",
       "    <tr>\n",
       "      <th>202303131068851</th>\n",
       "      <td>1.0</td>\n",
       "      <td>0.0</td>\n",
       "      <td>0.0</td>\n",
       "      <td>0.0</td>\n",
       "    </tr>\n",
       "    <tr>\n",
       "      <th>202303241069471</th>\n",
       "      <td>1.0</td>\n",
       "      <td>0.0</td>\n",
       "      <td>0.0</td>\n",
       "      <td>0.0</td>\n",
       "    </tr>\n",
       "  </tbody>\n",
       "</table>\n",
       "<p>16722 rows × 4 columns</p>\n",
       "</div>"
      ],
      "text/plain": [
       "                 far_part_091  far_part_135  far_part_137  \\\n",
       "id                                                          \n",
       "20080107X000261           1.0           0.0           0.0   \n",
       "20080107X000262           1.0           0.0           0.0   \n",
       "20080109X000361           1.0           0.0           0.0   \n",
       "20080107X000271           1.0           0.0           0.0   \n",
       "20080115X000511           1.0           0.0           0.0   \n",
       "...                       ...           ...           ...   \n",
       "202303131068811           1.0           0.0           0.0   \n",
       "202303131068821           1.0           0.0           0.0   \n",
       "202303131068841           1.0           0.0           0.0   \n",
       "202303131068851           1.0           0.0           0.0   \n",
       "202303241069471           1.0           0.0           0.0   \n",
       "\n",
       "                 far_part_infrequent_sklearn  \n",
       "id                                            \n",
       "20080107X000261                          0.0  \n",
       "20080107X000262                          0.0  \n",
       "20080109X000361                          0.0  \n",
       "20080107X000271                          0.0  \n",
       "20080115X000511                          0.0  \n",
       "...                                      ...  \n",
       "202303131068811                          0.0  \n",
       "202303131068821                          0.0  \n",
       "202303131068841                          0.0  \n",
       "202303131068851                          0.0  \n",
       "202303241069471                          0.0  \n",
       "\n",
       "[16722 rows x 4 columns]"
      ]
     },
     "execution_count": 56,
     "metadata": {},
     "output_type": "execute_result"
    }
   ],
   "source": [
    "def transform_far_part(X: pd.DataFrame) -> pd.DataFrame:\n",
    "    \"\"\"Transforms far_part using OHE.\"\"\"\n",
    "\n",
    "    ohe_far_part = OneHotEncoder(sparse_output=False, min_frequency=300).fit(X)\n",
    "    far_part_encoded = ohe_far_part.transform(X)\n",
    "    \n",
    "    far_part_encoded_df = pd.DataFrame(far_part_encoded, columns=ohe_far_part.get_feature_names_out())\n",
    "    far_part_encoded_df.index = X.index\n",
    "    \n",
    "    return far_part_encoded_df\n",
    "\n",
    "t = transform_far_part(temp[['far_part']])\n",
    "t"
   ]
  },
  {
   "attachments": {},
   "cell_type": "markdown",
   "metadata": {},
   "source": [
    "##### transform_acft_make"
   ]
  },
  {
   "attachments": {},
   "cell_type": "markdown",
   "metadata": {},
   "source": [
    "##### transform_fixed_retractable"
   ]
  },
  {
   "attachments": {},
   "cell_type": "markdown",
   "metadata": {},
   "source": [
    "##### transform_acft_category"
   ]
  },
  {
   "attachments": {},
   "cell_type": "markdown",
   "metadata": {},
   "source": [
    "##### transform_homebuilt"
   ]
  },
  {
   "attachments": {},
   "cell_type": "markdown",
   "metadata": {},
   "source": [
    "##### transform_crew_category"
   ]
  },
  {
   "cell_type": "code",
   "execution_count": 55,
   "metadata": {},
   "outputs": [
    {
     "data": {
      "text/html": [
       "<div>\n",
       "<style scoped>\n",
       "    .dataframe tbody tr th:only-of-type {\n",
       "        vertical-align: middle;\n",
       "    }\n",
       "\n",
       "    .dataframe tbody tr th {\n",
       "        vertical-align: top;\n",
       "    }\n",
       "\n",
       "    .dataframe thead th {\n",
       "        text-align: right;\n",
       "    }\n",
       "</style>\n",
       "<table border=\"1\" class=\"dataframe\">\n",
       "  <thead>\n",
       "    <tr style=\"text-align: right;\">\n",
       "      <th></th>\n",
       "      <th>crew_category_DSTU</th>\n",
       "      <th>crew_category_FLTI</th>\n",
       "      <th>crew_category_PLT</th>\n",
       "    </tr>\n",
       "    <tr>\n",
       "      <th>id</th>\n",
       "      <th></th>\n",
       "      <th></th>\n",
       "      <th></th>\n",
       "    </tr>\n",
       "  </thead>\n",
       "  <tbody>\n",
       "    <tr>\n",
       "      <th>20080107X000261</th>\n",
       "      <td>0.0</td>\n",
       "      <td>0.0</td>\n",
       "      <td>1.0</td>\n",
       "    </tr>\n",
       "    <tr>\n",
       "      <th>20080107X000262</th>\n",
       "      <td>0.0</td>\n",
       "      <td>0.0</td>\n",
       "      <td>1.0</td>\n",
       "    </tr>\n",
       "    <tr>\n",
       "      <th>20080109X000361</th>\n",
       "      <td>0.0</td>\n",
       "      <td>0.0</td>\n",
       "      <td>1.0</td>\n",
       "    </tr>\n",
       "    <tr>\n",
       "      <th>20080107X000271</th>\n",
       "      <td>0.0</td>\n",
       "      <td>0.0</td>\n",
       "      <td>1.0</td>\n",
       "    </tr>\n",
       "    <tr>\n",
       "      <th>20080115X000511</th>\n",
       "      <td>1.0</td>\n",
       "      <td>0.0</td>\n",
       "      <td>0.0</td>\n",
       "    </tr>\n",
       "    <tr>\n",
       "      <th>...</th>\n",
       "      <td>...</td>\n",
       "      <td>...</td>\n",
       "      <td>...</td>\n",
       "    </tr>\n",
       "    <tr>\n",
       "      <th>202303131068811</th>\n",
       "      <td>0.0</td>\n",
       "      <td>0.0</td>\n",
       "      <td>1.0</td>\n",
       "    </tr>\n",
       "    <tr>\n",
       "      <th>202303131068821</th>\n",
       "      <td>0.0</td>\n",
       "      <td>0.0</td>\n",
       "      <td>1.0</td>\n",
       "    </tr>\n",
       "    <tr>\n",
       "      <th>202303131068841</th>\n",
       "      <td>0.0</td>\n",
       "      <td>0.0</td>\n",
       "      <td>1.0</td>\n",
       "    </tr>\n",
       "    <tr>\n",
       "      <th>202303131068851</th>\n",
       "      <td>0.0</td>\n",
       "      <td>0.0</td>\n",
       "      <td>1.0</td>\n",
       "    </tr>\n",
       "    <tr>\n",
       "      <th>202303241069471</th>\n",
       "      <td>0.0</td>\n",
       "      <td>0.0</td>\n",
       "      <td>1.0</td>\n",
       "    </tr>\n",
       "  </tbody>\n",
       "</table>\n",
       "<p>16722 rows × 3 columns</p>\n",
       "</div>"
      ],
      "text/plain": [
       "                 crew_category_DSTU  crew_category_FLTI  crew_category_PLT\n",
       "id                                                                        \n",
       "20080107X000261                 0.0                 0.0                1.0\n",
       "20080107X000262                 0.0                 0.0                1.0\n",
       "20080109X000361                 0.0                 0.0                1.0\n",
       "20080107X000271                 0.0                 0.0                1.0\n",
       "20080115X000511                 1.0                 0.0                0.0\n",
       "...                             ...                 ...                ...\n",
       "202303131068811                 0.0                 0.0                1.0\n",
       "202303131068821                 0.0                 0.0                1.0\n",
       "202303131068841                 0.0                 0.0                1.0\n",
       "202303131068851                 0.0                 0.0                1.0\n",
       "202303241069471                 0.0                 0.0                1.0\n",
       "\n",
       "[16722 rows x 3 columns]"
      ]
     },
     "execution_count": 55,
     "metadata": {},
     "output_type": "execute_result"
    }
   ],
   "source": [
    "def transform_crew_category(X: pd.DataFrame) -> pd.DataFrame:\n",
    "    \"\"\"Transforms crew_category using Custom functions and OHE.\"\"\"\n",
    "\n",
    "    X = X.replace({'KPLT':'PLT', 'CPLT':'PLT'})\n",
    "    \n",
    "    ohe_crew_cat = OneHotEncoder(sparse_output=False).fit(X)\n",
    "    crew_cat_enc = ohe_crew_cat.transform(X)\n",
    "    \n",
    "    crew_cat_enc_df = pd.DataFrame(crew_cat_enc, columns=ohe_crew_cat.get_feature_names_out())\n",
    "    crew_cat_enc_df.index = X.index\n",
    "    \n",
    "    return crew_cat_enc_df\n",
    "\n",
    "t = transform_crew_category(temp[['crew_category']])\n",
    "t"
   ]
  },
  {
   "attachments": {},
   "cell_type": "markdown",
   "metadata": {},
   "source": [
    "##### transform_eng_type"
   ]
  },
  {
   "attachments": {},
   "cell_type": "markdown",
   "metadata": {},
   "source": [
    "##### transform_carb_fuel_injection"
   ]
  },
  {
   "attachments": {},
   "cell_type": "markdown",
   "metadata": {},
   "source": [
    "##### transform_dprt_dest_apt_id"
   ]
  },
  {
   "attachments": {},
   "cell_type": "markdown",
   "metadata": {},
   "source": [
    "##### transform_flt_plan_filed"
   ]
  },
  {
   "attachments": {},
   "cell_type": "markdown",
   "metadata": {},
   "source": [
    "##### transform_pc_professional"
   ]
  }
 ],
 "metadata": {
  "kernelspec": {
   "display_name": "Python 3",
   "language": "python",
   "name": "python3"
  },
  "language_info": {
   "codemirror_mode": {
    "name": "ipython",
    "version": 3
   },
   "file_extension": ".py",
   "mimetype": "text/x-python",
   "name": "python",
   "nbconvert_exporter": "python",
   "pygments_lexer": "ipython3",
   "version": "3.10.6"
  },
  "orig_nbformat": 4
 },
 "nbformat": 4,
 "nbformat_minor": 2
}
