{
 "cells": [
  {
   "cell_type": "code",
   "execution_count": 41,
   "metadata": {},
   "outputs": [],
   "source": [
    "# Imports\n",
    "\n",
    "import pyodbc as odbc\n",
    "\n",
    "import pandas as pd\n",
    "import numpy as np\n",
    "\n",
    "import matplotlib.pyplot as plt\n",
    "import seaborn as sns"
   ]
  },
  {
   "attachments": {},
   "cell_type": "markdown",
   "metadata": {},
   "source": [
    "# Data Retrieval"
   ]
  },
  {
   "attachments": {},
   "cell_type": "markdown",
   "metadata": {},
   "source": [
    "##### Database Linking"
   ]
  },
  {
   "cell_type": "code",
   "execution_count": 42,
   "metadata": {},
   "outputs": [],
   "source": [
    "def create_conn_cursor(db_path):\n",
    "    \n",
    "    connection_str = (\n",
    "        r'DRIVER={Microsoft Access Driver (*.mdb, *.accdb)};'\n",
    "        f'DBQ={db_path};'\n",
    "    )\n",
    "    \n",
    "    connection = odbc.connect(connection_str)\n",
    "    \n",
    "    return connection.cursor()\n"
   ]
  },
  {
   "cell_type": "code",
   "execution_count": 43,
   "metadata": {},
   "outputs": [],
   "source": [
    "databases = {\n",
    "    \n",
    "    '08_23': {\n",
    "        'path': r'C:\\Users\\Aaron\\Desktop\\Pitch\\data\\mdb\\avall.mdb',\n",
    "        'cursor': None\n",
    "    },\n",
    "    \n",
    "    '82_08': {\n",
    "        'path': r'C:\\Users\\Aaron\\Desktop\\Pitch\\data\\mdb\\Pre2008.mdb',\n",
    "        'cursor': None\n",
    "    }\n",
    "    \n",
    "}\n",
    "\n",
    "\n",
    "for db in databases:\n",
    "    databases[db]['cursor'] = create_conn_cursor(databases[db]['path'])\n",
    "  "
   ]
  },
  {
   "attachments": {},
   "cell_type": "markdown",
   "metadata": {},
   "source": [
    "##### Create dataframes for each table in each database, store under 'split_dfs' dictionary"
   ]
  },
  {
   "cell_type": "code",
   "execution_count": null,
   "metadata": {},
   "outputs": [
    {
     "name": "stdout",
     "output_type": "stream",
     "text": [
      "0823 DB: ['aircraft', 'Country', 'ct_iaids', 'ct_seqevt', 'dt_aircraft', 'dt_events', 'dt_Flight_Crew', 'eADMSPUB_DataDictionary', 'engines', 'events', 'Events_Sequence', 'Findings', 'Flight_Crew', 'flight_time', 'injury', 'narratives', 'NTSB_Admin', 'Occurrences', 'seq_of_events', 'states'] \n",
      " 8208 DB: ['aircraft', 'Country', 'ct_iaids', 'ct_seqevt', 'dt_aircraft', 'dt_events', 'dt_Flight_Crew', 'eADMSPUB_DataDictionary', 'engines', 'events', 'Events_Sequence', 'Findings', 'Flight_Crew', 'flight_time', 'injury', 'narratives', 'NTSB_Admin', 'Occurrences', 'seq_of_events', 'states']\n"
     ]
    }
   ],
   "source": [
    "tables = {db: [] for db in databases}\n",
    "\n",
    "for db in databases:\n",
    "    for table_info in databases[db]['cursor'].tables(tableType='TABLE'):\n",
    "        tables[db].append(table_info.table_name)\n",
    "\n",
    "print(f\"0823 DB: {tables['08_23']}\", '\\n', f\"8208 DB: {tables['82_08']}\")"
   ]
  },
  {
   "cell_type": "code",
   "execution_count": 45,
   "metadata": {},
   "outputs": [
    {
     "name": "stderr",
     "output_type": "stream",
     "text": [
      "C:\\Users\\Aaron\\AppData\\Local\\Temp\\ipykernel_9192\\2355066816.py:8: UserWarning: pandas only supports SQLAlchemy connectable (engine/connection) or database string URI or sqlite3 DBAPI2 connection. Other DBAPI2 objects are not tested. Please consider using SQLAlchemy.\n",
      "  df = pd.read_sql(query, databases[db_key]['cursor'].connection)\n",
      "C:\\Users\\Aaron\\AppData\\Local\\Temp\\ipykernel_9192\\2355066816.py:8: UserWarning: pandas only supports SQLAlchemy connectable (engine/connection) or database string URI or sqlite3 DBAPI2 connection. Other DBAPI2 objects are not tested. Please consider using SQLAlchemy.\n",
      "  df = pd.read_sql(query, databases[db_key]['cursor'].connection)\n",
      "C:\\Users\\Aaron\\AppData\\Local\\Temp\\ipykernel_9192\\2355066816.py:8: UserWarning: pandas only supports SQLAlchemy connectable (engine/connection) or database string URI or sqlite3 DBAPI2 connection. Other DBAPI2 objects are not tested. Please consider using SQLAlchemy.\n",
      "  df = pd.read_sql(query, databases[db_key]['cursor'].connection)\n"
     ]
    }
   ],
   "source": [
    "split_dfs = {}\n",
    "\n",
    "for db_key in tables:\n",
    "    for table_name in tables[db_key]:\n",
    "        \n",
    "        query = f\"SELECT * FROM {table_name}\"\n",
    "        \n",
    "        df = pd.read_sql(query, databases[db_key]['cursor'].connection)\n",
    "\n",
    "        split_dfs[f\"{db_key}_{table_name}\"] = df"
   ]
  },
  {
   "attachments": {},
   "cell_type": "markdown",
   "metadata": {},
   "source": [
    "# EDA"
   ]
  },
  {
   "attachments": {},
   "cell_type": "markdown",
   "metadata": {},
   "source": [
    "### DF Shapes & Differences"
   ]
  },
  {
   "attachments": {},
   "cell_type": "markdown",
   "metadata": {},
   "source": [
    "##### Shapes"
   ]
  },
  {
   "cell_type": "code",
   "execution_count": 46,
   "metadata": {},
   "outputs": [
    {
     "data": {
      "text/plain": [
       "{'08_23_aircraft': (26064, 93),\n",
       " '08_23_Country': (259, 2),\n",
       " '08_23_ct_iaids': (955, 11),\n",
       " '08_23_ct_seqevt': (2224, 2),\n",
       " '08_23_dt_aircraft': (216669, 6),\n",
       " '08_23_dt_events': (87948, 5),\n",
       " '08_23_dt_Flight_Crew': (146004, 7),\n",
       " '08_23_eADMSPUB_DataDictionary': (4574, 13),\n",
       " '08_23_engines': (23669, 17),\n",
       " '08_23_events': (25653, 73),\n",
       " '08_23_Events_Sequence': (55838, 10),\n",
       " '08_23_Findings': (60864, 13),\n",
       " '08_23_Flight_Crew': (26270, 33),\n",
       " '08_23_flight_time': (327193, 8),\n",
       " '08_23_injury': (77221, 7),\n",
       " '08_23_narratives': (24605, 8),\n",
       " '08_23_NTSB_Admin': (25655, 5),\n",
       " '08_23_Occurrences': (0, 8),\n",
       " '08_23_seq_of_events': (0, 11),\n",
       " '08_23_states': (51, 3),\n",
       " '82_08_aircraft': (63913, 93),\n",
       " '82_08_Country': (257, 2),\n",
       " '82_08_ct_iaids': (955, 11),\n",
       " '82_08_ct_seqevt': (2224, 2),\n",
       " '82_08_dt_aircraft': (487123, 6),\n",
       " '82_08_dt_events': (254360, 5),\n",
       " '82_08_dt_Flight_Crew': (366463, 7),\n",
       " '82_08_eADMSPUB_DataDictionary': (4574, 13),\n",
       " '82_08_engines': (63874, 17),\n",
       " '82_08_events': (63001, 71),\n",
       " '82_08_Events_Sequence': (16, 10),\n",
       " '82_08_Findings': (10, 13),\n",
       " '82_08_Flight_Crew': (66047, 33),\n",
       " '82_08_flight_time': (887597, 8),\n",
       " '82_08_injury': (350758, 7),\n",
       " '82_08_narratives': (63912, 8),\n",
       " '82_08_NTSB_Admin': (63001, 5),\n",
       " '82_08_Occurrences': (137989, 8),\n",
       " '82_08_seq_of_events': (264329, 11),\n",
       " '82_08_states': (51, 3)}"
      ]
     },
     "execution_count": 46,
     "metadata": {},
     "output_type": "execute_result"
    }
   ],
   "source": [
    "df_shapes = {}\n",
    "\n",
    "for df_key in split_dfs:\n",
    "    df_shapes[df_key] = split_dfs[df_key].shape\n",
    "    \n",
    "df_shapes"
   ]
  },
  {
   "attachments": {},
   "cell_type": "markdown",
   "metadata": {},
   "source": [
    "Tabulated Form:"
   ]
  },
  {
   "attachments": {},
   "cell_type": "markdown",
   "metadata": {},
   "source": [
    "|           Table          |   0823    |   8208   |\n",
    "|-------------------------|-----------|----------|\n",
    "|        aircraft         |   (26064, 93)  |  (63913, 93) |\n",
    "|         Country         |   (259, 2) |   (257, 2) |\n",
    "|       ct_iaids          |   (955, 11) |  (955, 11) |\n",
    "|      ct_seqevt          |   (2224, 2) |  (2224, 2) |\n",
    "|     dt_aircraft         |  (216669, 6) | (487123, 6) |\n",
    "|       dt_events         |  (87948, 5) | (254360, 5) |\n",
    "|    dt_Flight_Crew       |  (146004, 7) | (366463, 7) |\n",
    "|  eADMSPUB_DataDictionary|   (4574, 13) | (4574, 13) |\n",
    "|        engines          |  (23669, 17) | (63874, 17) |\n",
    "|         events          |  (25653, 73) | (63001, 71) |\n",
    "|    Events_Sequence      |   (55838, 10) |   (16, 10) |\n",
    "|        Findings         |   (60864, 13) |   (10, 13) |\n",
    "|       Flight_Crew       |  (26270, 33) | (66047, 33) |\n",
    "|      flight_time        |  (327193, 8) | (887597, 8) |\n",
    "|        injury           |   (77221, 7) | (350758, 7) |\n",
    "|      narratives         |   (24605, 8) |  (63912, 8) |\n",
    "|     NTSB_Admin          |   (25655, 5) |  (63001, 5) |\n",
    "|      Occurrences        |    (0, 8)   | (137989, 8) |\n",
    "|    seq_of_events        |    (0, 11)  | (264329, 11) |\n",
    "|        states           |    (51, 3)  |   (51, 3)   |"
   ]
  },
  {
   "attachments": {},
   "cell_type": "markdown",
   "metadata": {},
   "source": [
    "##### Differences:"
   ]
  },
  {
   "cell_type": "code",
   "execution_count": 47,
   "metadata": {},
   "outputs": [
    {
     "data": {
      "text/plain": [
       "{'08_23_events': {'dec_latitude', 'dec_longitude'}}"
      ]
     },
     "execution_count": 47,
     "metadata": {},
     "output_type": "execute_result"
    }
   ],
   "source": [
    "def df_differences(df1, df2):\n",
    "    \n",
    "    diff_columns = set(df1.columns) ^ set(df2.columns)\n",
    "    \n",
    "    return diff_columns\n",
    "\n",
    "differences = {}\n",
    "\n",
    "for df_key in split_dfs:\n",
    "    if '08_23' in df_key:\n",
    "        differences[df_key] = df_differences(split_dfs[df_key], split_dfs[df_key.replace('08_23', '82_08')])\n",
    "        \n",
    "differences = {k: v for k, v in differences.items() if len(v) > 0}\n",
    "\n",
    "differences"
   ]
  },
  {
   "attachments": {},
   "cell_type": "markdown",
   "metadata": {},
   "source": [
    "### Visualisations:"
   ]
  },
  {
   "cell_type": "code",
   "execution_count": 48,
   "metadata": {},
   "outputs": [
    {
     "data": {
      "image/png": "[encoded data removed]",
      "text/plain": [
       "<Figure size 2000x1000 with 1 Axes>"
      ]
     },
     "metadata": {},
     "output_type": "display_data"
    }
   ],
   "source": [
    "# No. of incidents/accidents per year (combined dfs)\n",
    "\n",
    "events_combined = pd.concat([split_dfs['08_23_events'], split_dfs['82_08_events']])\n",
    "\n",
    "plt.figure(figsize=(20, 10))\n",
    "\n",
    "plt.bar(events_combined['ev_year'].value_counts().index, events_combined['ev_year'].value_counts().values)\n",
    "\n",
    "plt.xlim(1980, 2025)\n",
    "\n",
    "plt.title('Number of Events by Year')\n",
    "plt.xlabel('Year')\n",
    "plt.ylabel('Number of Events');"
   ]
  },
  {
   "attachments": {},
   "cell_type": "markdown",
   "metadata": {},
   "source": [
    "### Target Variable:"
   ]
  },
  {
   "attachments": {},
   "cell_type": "markdown",
   "metadata": {},
   "source": [
    "##### 2008 - 2023"
   ]
  },
  {
   "cell_type": "code",
   "execution_count": 49,
   "metadata": {},
   "outputs": [
    {
     "data": {
      "text/plain": [
       "Index(['ev_id', 'Aircraft_Key', 'Occurrence_No', 'Occurrence_Code',\n",
       "       'Occurrence_Description', 'phase_no', 'eventsoe_no', 'Defining_ev',\n",
       "       'lchg_date', 'lchg_userid'],\n",
       "      dtype='object')"
      ]
     },
     "execution_count": 49,
     "metadata": {},
     "output_type": "execute_result"
    }
   ],
   "source": [
    "split_dfs['08_23_Events_Sequence'].columns"
   ]
  },
  {
   "cell_type": "code",
   "execution_count": 50,
   "metadata": {},
   "outputs": [
    {
     "data": {
      "text/html": [
       "<div>\n",
       "<style scoped>\n",
       "    .dataframe tbody tr th:only-of-type {\n",
       "        vertical-align: middle;\n",
       "    }\n",
       "\n",
       "    .dataframe tbody tr th {\n",
       "        vertical-align: top;\n",
       "    }\n",
       "\n",
       "    .dataframe thead th {\n",
       "        text-align: right;\n",
       "    }\n",
       "</style>\n",
       "<table border=\"1\" class=\"dataframe\">\n",
       "  <thead>\n",
       "    <tr style=\"text-align: right;\">\n",
       "      <th></th>\n",
       "      <th>ev_id</th>\n",
       "      <th>Aircraft_Key</th>\n",
       "      <th>Occurrence_No</th>\n",
       "      <th>Occurrence_Code</th>\n",
       "      <th>Occurrence_Description</th>\n",
       "      <th>phase_no</th>\n",
       "      <th>eventsoe_no</th>\n",
       "      <th>Defining_ev</th>\n",
       "      <th>lchg_date</th>\n",
       "      <th>lchg_userid</th>\n",
       "    </tr>\n",
       "  </thead>\n",
       "  <tbody>\n",
       "    <tr>\n",
       "      <th>0</th>\n",
       "      <td>20080107X00026</td>\n",
       "      <td>1</td>\n",
       "      <td>1</td>\n",
       "      <td>550250</td>\n",
       "      <td>Landing Midair collision</td>\n",
       "      <td>550</td>\n",
       "      <td>250</td>\n",
       "      <td>True</td>\n",
       "      <td>2020-09-25 18:05:31</td>\n",
       "      <td>None</td>\n",
       "    </tr>\n",
       "    <tr>\n",
       "      <th>1</th>\n",
       "      <td>20080107X00026</td>\n",
       "      <td>2</td>\n",
       "      <td>1</td>\n",
       "      <td>350250</td>\n",
       "      <td>Initial climb Midair collision</td>\n",
       "      <td>350</td>\n",
       "      <td>250</td>\n",
       "      <td>True</td>\n",
       "      <td>2020-09-25 18:05:31</td>\n",
       "      <td>None</td>\n",
       "    </tr>\n",
       "    <tr>\n",
       "      <th>2</th>\n",
       "      <td>20080109X00036</td>\n",
       "      <td>1</td>\n",
       "      <td>1</td>\n",
       "      <td>551230</td>\n",
       "      <td>Landing-flare/touchdown Loss of control on ground</td>\n",
       "      <td>551</td>\n",
       "      <td>230</td>\n",
       "      <td>True</td>\n",
       "      <td>2020-09-25 18:05:31</td>\n",
       "      <td>None</td>\n",
       "    </tr>\n",
       "    <tr>\n",
       "      <th>3</th>\n",
       "      <td>20080109X00036</td>\n",
       "      <td>1</td>\n",
       "      <td>2</td>\n",
       "      <td>550300</td>\n",
       "      <td>Landing Runway excursion</td>\n",
       "      <td>550</td>\n",
       "      <td>300</td>\n",
       "      <td>False</td>\n",
       "      <td>2020-09-25 18:05:31</td>\n",
       "      <td>None</td>\n",
       "    </tr>\n",
       "    <tr>\n",
       "      <th>4</th>\n",
       "      <td>20080107X00027</td>\n",
       "      <td>1</td>\n",
       "      <td>1</td>\n",
       "      <td>153081</td>\n",
       "      <td>Standing-engine(s) operating AC/prop/rotor con...</td>\n",
       "      <td>153</td>\n",
       "      <td>081</td>\n",
       "      <td>True</td>\n",
       "      <td>2020-09-25 18:04:02</td>\n",
       "      <td>None</td>\n",
       "    </tr>\n",
       "  </tbody>\n",
       "</table>\n",
       "</div>"
      ],
      "text/plain": [
       "            ev_id  Aircraft_Key  Occurrence_No Occurrence_Code  \\\n",
       "0  20080107X00026             1              1          550250   \n",
       "1  20080107X00026             2              1          350250   \n",
       "2  20080109X00036             1              1          551230   \n",
       "3  20080109X00036             1              2          550300   \n",
       "4  20080107X00027             1              1          153081   \n",
       "\n",
       "                              Occurrence_Description phase_no eventsoe_no  \\\n",
       "0                           Landing Midair collision      550         250   \n",
       "1                     Initial climb Midair collision      350         250   \n",
       "2  Landing-flare/touchdown Loss of control on ground      551         230   \n",
       "3                           Landing Runway excursion      550         300   \n",
       "4  Standing-engine(s) operating AC/prop/rotor con...      153         081   \n",
       "\n",
       "   Defining_ev           lchg_date lchg_userid  \n",
       "0         True 2020-09-25 18:05:31        None  \n",
       "1         True 2020-09-25 18:05:31        None  \n",
       "2         True 2020-09-25 18:05:31        None  \n",
       "3        False 2020-09-25 18:05:31        None  \n",
       "4         True 2020-09-25 18:04:02        None  "
      ]
     },
     "execution_count": 50,
     "metadata": {},
     "output_type": "execute_result"
    }
   ],
   "source": [
    "split_dfs['08_23_Events_Sequence'].head()"
   ]
  },
  {
   "cell_type": "code",
   "execution_count": null,
   "metadata": {},
   "outputs": [
    {
     "data": {
      "text/plain": [
       "count     55838\n",
       "unique       96\n",
       "top         470\n",
       "freq       9621\n",
       "Name: eventsoe_no, dtype: object"
      ]
     },
     "metadata": {},
     "output_type": "display_data"
    }
   ],
   "source": [
    "split_dfs['08_23_Events_Sequence']['eventsoe_no'].describe()"
   ]
  },
  {
   "cell_type": "code",
   "execution_count": null,
   "metadata": {},
   "outputs": [],
   "source": [
    "mask = split_dfs['08_23_Events_Sequence']['Defining_ev'] == True"
   ]
  },
  {
   "cell_type": "code",
   "execution_count": 62,
   "metadata": {},
   "outputs": [
    {
     "data": {
      "text/plain": [
       "count     25154\n",
       "unique       91\n",
       "top         240\n",
       "freq       3243\n",
       "Name: eventsoe_no, dtype: object"
      ]
     },
     "execution_count": 62,
     "metadata": {},
     "output_type": "execute_result"
    }
   ],
   "source": [
    "split_dfs['08_23_Events_Sequence']['eventsoe_no'][mask].describe()"
   ]
  },
  {
   "cell_type": "code",
   "execution_count": 63,
   "metadata": {},
   "outputs": [
    {
     "data": {
      "image/png": "[encoded data removed]",
      "text/plain": [
       "<Figure size 2000x1000 with 1 Axes>"
      ]
     },
     "metadata": {},
     "output_type": "display_data"
    }
   ],
   "source": [
    "plt.figure(figsize=(20, 10))\n",
    "\n",
    "plt.bar(split_dfs['08_23_Events_Sequence']['eventsoe_no'][mask].value_counts().index, split_dfs['08_23_Events_Sequence']['eventsoe_no'][mask].value_counts().values)\n",
    "\n",
    "plt.title('Number of Defining Events by Event Code')\n",
    "plt.xlabel('Event Code')\n",
    "plt.ylabel('Number of Events');"
   ]
  },
  {
   "attachments": {},
   "cell_type": "markdown",
   "metadata": {},
   "source": [
    "##### 1982 - 2008"
   ]
  },
  {
   "cell_type": "code",
   "execution_count": 64,
   "metadata": {},
   "outputs": [
    {
     "data": {
      "text/plain": [
       "Index(['ev_id', 'Aircraft_Key', 'Occurrence_No', 'Occurrence_Code',\n",
       "       'Phase_of_Flight', 'Altitude', 'lchg_date', 'lchg_userid'],\n",
       "      dtype='object')"
      ]
     },
     "execution_count": 64,
     "metadata": {},
     "output_type": "execute_result"
    }
   ],
   "source": [
    "split_dfs['82_08_Occurrences'].columns"
   ]
  },
  {
   "cell_type": "code",
   "execution_count": 65,
   "metadata": {},
   "outputs": [
    {
     "data": {
      "text/html": [
       "<div>\n",
       "<style scoped>\n",
       "    .dataframe tbody tr th:only-of-type {\n",
       "        vertical-align: middle;\n",
       "    }\n",
       "\n",
       "    .dataframe tbody tr th {\n",
       "        vertical-align: top;\n",
       "    }\n",
       "\n",
       "    .dataframe thead th {\n",
       "        text-align: right;\n",
       "    }\n",
       "</style>\n",
       "<table border=\"1\" class=\"dataframe\">\n",
       "  <thead>\n",
       "    <tr style=\"text-align: right;\">\n",
       "      <th></th>\n",
       "      <th>ev_id</th>\n",
       "      <th>Aircraft_Key</th>\n",
       "      <th>Occurrence_No</th>\n",
       "      <th>Occurrence_Code</th>\n",
       "      <th>Phase_of_Flight</th>\n",
       "      <th>Altitude</th>\n",
       "      <th>lchg_date</th>\n",
       "      <th>lchg_userid</th>\n",
       "    </tr>\n",
       "  </thead>\n",
       "  <tbody>\n",
       "    <tr>\n",
       "      <th>0</th>\n",
       "      <td>20001204X00000</td>\n",
       "      <td>1</td>\n",
       "      <td>1</td>\n",
       "      <td>350</td>\n",
       "      <td>560</td>\n",
       "      <td>0</td>\n",
       "      <td>2000-12-12 11:18:24</td>\n",
       "      <td>dbo</td>\n",
       "    </tr>\n",
       "    <tr>\n",
       "      <th>1</th>\n",
       "      <td>20001204X00000</td>\n",
       "      <td>1</td>\n",
       "      <td>2</td>\n",
       "      <td>180</td>\n",
       "      <td>552</td>\n",
       "      <td>0</td>\n",
       "      <td>2000-12-12 11:18:24</td>\n",
       "      <td>dbo</td>\n",
       "    </tr>\n",
       "    <tr>\n",
       "      <th>2</th>\n",
       "      <td>20001204X00000</td>\n",
       "      <td>1</td>\n",
       "      <td>3</td>\n",
       "      <td>320</td>\n",
       "      <td>574</td>\n",
       "      <td>0</td>\n",
       "      <td>2000-12-12 11:18:24</td>\n",
       "      <td>dbo</td>\n",
       "    </tr>\n",
       "    <tr>\n",
       "      <th>3</th>\n",
       "      <td>20001204X00001</td>\n",
       "      <td>1</td>\n",
       "      <td>1</td>\n",
       "      <td>130</td>\n",
       "      <td>572</td>\n",
       "      <td>0</td>\n",
       "      <td>2000-12-12 11:18:25</td>\n",
       "      <td>dbo</td>\n",
       "    </tr>\n",
       "    <tr>\n",
       "      <th>4</th>\n",
       "      <td>20001204X00001</td>\n",
       "      <td>1</td>\n",
       "      <td>2</td>\n",
       "      <td>171</td>\n",
       "      <td>513</td>\n",
       "      <td>0</td>\n",
       "      <td>2000-12-12 11:18:25</td>\n",
       "      <td>dbo</td>\n",
       "    </tr>\n",
       "  </tbody>\n",
       "</table>\n",
       "</div>"
      ],
      "text/plain": [
       "            ev_id  Aircraft_Key  Occurrence_No  Occurrence_Code  \\\n",
       "0  20001204X00000             1              1              350   \n",
       "1  20001204X00000             1              2              180   \n",
       "2  20001204X00000             1              3              320   \n",
       "3  20001204X00001             1              1              130   \n",
       "4  20001204X00001             1              2              171   \n",
       "\n",
       "   Phase_of_Flight  Altitude           lchg_date         lchg_userid  \n",
       "0              560         0 2000-12-12 11:18:24  dbo                 \n",
       "1              552         0 2000-12-12 11:18:24  dbo                 \n",
       "2              574         0 2000-12-12 11:18:24  dbo                 \n",
       "3              572         0 2000-12-12 11:18:25  dbo                 \n",
       "4              513         0 2000-12-12 11:18:25  dbo                 "
      ]
     },
     "execution_count": 65,
     "metadata": {},
     "output_type": "execute_result"
    }
   ],
   "source": [
    "split_dfs['82_08_Occurrences'].head()"
   ]
  },
  {
   "cell_type": "code",
   "execution_count": 71,
   "metadata": {},
   "outputs": [
    {
     "data": {
      "text/plain": [
       "Occurrence_Code\n",
       "230    22931\n",
       "180    15301\n",
       "250    12494\n",
       "220    10903\n",
       "260     8083\n",
       "320     7479\n",
       "300     6788\n",
       "310     6752\n",
       "353     6146\n",
       "200     5178\n",
       "350     4778\n",
       "130     4581\n",
       "240     3606\n",
       "351     3003\n",
       "340     2222\n",
       "192     1838\n",
       "191     1708\n",
       "352     1460\n",
       "190     1332\n",
       "354     1235\n",
       "430     1138\n",
       "171     1040\n",
       "380     1020\n",
       "390      982\n",
       "270      883\n",
       "160      755\n",
       "150      625\n",
       "290      436\n",
       "194      381\n",
       "100      360\n",
       "232      321\n",
       "271      278\n",
       "330      255\n",
       "196      230\n",
       "370      208\n",
       "280      186\n",
       "110      164\n",
       "170      134\n",
       "410      123\n",
       "420      119\n",
       "131       85\n",
       "400       71\n",
       "132       58\n",
       "195       51\n",
       "360       48\n",
       "198       40\n",
       "140       32\n",
       "172       31\n",
       "0         22\n",
       "231       19\n",
       "193       18\n",
       "120       18\n",
       "210       15\n",
       "355       14\n",
       "197       11\n",
       "Name: count, dtype: int64"
      ]
     },
     "execution_count": 71,
     "metadata": {},
     "output_type": "execute_result"
    }
   ],
   "source": [
    "split_dfs['82_08_Occurrences']['Occurrence_Code'].value_counts()"
   ]
  },
  {
   "cell_type": "code",
   "execution_count": 72,
   "metadata": {},
   "outputs": [
    {
     "data": {
      "text/plain": [
       "55"
      ]
     },
     "execution_count": 72,
     "metadata": {},
     "output_type": "execute_result"
    }
   ],
   "source": [
    "len(split_dfs['82_08_Occurrences']['Occurrence_Code'].value_counts().index)"
   ]
  },
  {
   "cell_type": "code",
   "execution_count": 83,
   "metadata": {},
   "outputs": [
    {
     "name": "stdout",
     "output_type": "stream",
     "text": [
      "<class 'pandas.core.series.Series'>\n",
      "RangeIndex: 137989 entries, 0 to 137988\n",
      "Series name: Occurrence_Code\n",
      "Non-Null Count   Dtype\n",
      "--------------   -----\n",
      "137989 non-null  int64\n",
      "dtypes: int64(1)\n",
      "memory usage: 1.1 MB\n"
     ]
    }
   ],
   "source": [
    "split_dfs['82_08_Occurrences']['Occurrence_Code'].info()"
   ]
  },
  {
   "cell_type": "code",
   "execution_count": 74,
   "metadata": {},
   "outputs": [
    {
     "data": {
      "image/png": "[encoded data removed]",
      "text/plain": [
       "<Figure size 2000x1000 with 1 Axes>"
      ]
     },
     "metadata": {},
     "output_type": "display_data"
    }
   ],
   "source": [
    "plt.figure(figsize=(20, 10))\n",
    "\n",
    "plt.bar(split_dfs['82_08_Occurrences']['Occurrence_Code'].value_counts().index, split_dfs['82_08_Occurrences']['Occurrence_Code'].value_counts().values)\n",
    "\n",
    "plt.title('Number of Occurrence by Occurrence Code')\n",
    "plt.xlabel('Occurrence Code')\n",
    "plt.ylabel('Number of Events');"
   ]
  },
  {
   "attachments": {},
   "cell_type": "markdown",
   "metadata": {},
   "source": [
    "# CSV Conversion"
   ]
  },
  {
   "cell_type": "code",
   "execution_count": 76,
   "metadata": {},
   "outputs": [
    {
     "data": {
      "text/plain": [
       "dict_keys(['aircraft', 'Country', 'ct_iaids', 'ct_seqevt', 'dt_aircraft', 'dt_events', 'dt_Flight_Crew', 'eADMSPUB_DataDictionary', 'engines', 'events', 'Events_Sequence', 'Findings', 'Flight_Crew', 'flight_time', 'injury', 'narratives', 'NTSB_Admin', 'Occurrences', 'seq_of_events', 'states'])"
      ]
     },
     "execution_count": 76,
     "metadata": {},
     "output_type": "execute_result"
    }
   ],
   "source": [
    "dfs = {}\n",
    "\n",
    "for df in split_dfs:\n",
    "    if '08_23' in df: \n",
    "        dfs[f\"{df.strip('08_23_')}\"] = split_dfs[df]\n",
    "        \n",
    "dfs.keys()"
   ]
  },
  {
   "cell_type": "code",
   "execution_count": 77,
   "metadata": {},
   "outputs": [
    {
     "data": {
      "text/plain": [
       "20"
      ]
     },
     "execution_count": 77,
     "metadata": {},
     "output_type": "execute_result"
    }
   ],
   "source": [
    "len(dfs)"
   ]
  },
  {
   "cell_type": "code",
   "execution_count": 78,
   "metadata": {},
   "outputs": [
    {
     "data": {
      "text/plain": [
       "{'aircraft': (26064, 93),\n",
       " 'Country': (259, 2),\n",
       " 'ct_iaids': (955, 11),\n",
       " 'ct_seqevt': (2224, 2),\n",
       " 'dt_aircraft': (216669, 6),\n",
       " 'dt_events': (87948, 5),\n",
       " 'dt_Flight_Crew': (146004, 7),\n",
       " 'eADMSPUB_DataDictionary': (4574, 13),\n",
       " 'engines': (23669, 17),\n",
       " 'events': (25653, 73),\n",
       " 'Events_Sequence': (55838, 10),\n",
       " 'Findings': (60864, 13),\n",
       " 'Flight_Crew': (26270, 33),\n",
       " 'flight_time': (327193, 8),\n",
       " 'injury': (77221, 7),\n",
       " 'narratives': (24605, 8),\n",
       " 'NTSB_Admin': (25655, 5),\n",
       " 'Occurrences': (0, 8),\n",
       " 'seq_of_events': (0, 11),\n",
       " 'states': (51, 3)}"
      ]
     },
     "execution_count": 78,
     "metadata": {},
     "output_type": "execute_result"
    }
   ],
   "source": [
    "df_shapes = {}\n",
    "\n",
    "for df in dfs:\n",
    "    df_shapes[df] = dfs[df].shape\n",
    "    \n",
    "df_shapes"
   ]
  },
  {
   "cell_type": "code",
   "execution_count": 81,
   "metadata": {},
   "outputs": [],
   "source": [
    "# Write to CSV\n",
    "\n",
    "import os\n",
    " \n",
    "output_directory = r\"C:\\Users\\Aaron\\Desktop\\Pitch\\data\\csv\\raw_data\"\n",
    "\n",
    "for df in dfs:\n",
    "    output_file = os.path.join(output_directory, f\"{df}.csv\")\n",
    "    pd.DataFrame.to_csv(dfs[df], output_file, index=False)"
   ]
  }
 ],
 "metadata": {
  "kernelspec": {
   "display_name": "Python 3",
   "language": "python",
   "name": "python3"
  },
  "language_info": {
   "codemirror_mode": {
    "name": "ipython",
    "version": 3
   },
   "file_extension": ".py",
   "mimetype": "text/x-python",
   "name": "python",
   "nbconvert_exporter": "python",
   "pygments_lexer": "ipython3",
   "version": "3.11.3"
  },
  "orig_nbformat": 4
 },
 "nbformat": 4,
 "nbformat_minor": 2
}
