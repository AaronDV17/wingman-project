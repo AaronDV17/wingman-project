{
 "cells": [
  {
   "attachments": {},
   "cell_type": "markdown",
   "metadata": {},
   "source": [
    "## Imports"
   ]
  },
  {
   "cell_type": "code",
   "execution_count": 116,
   "metadata": {},
   "outputs": [],
   "source": [
    "import pandas as pd\n",
    "import numpy as np\n",
    "\n",
    "import seaborn as sns\n",
    "import matplotlib.pyplot as plt\n",
    "\n",
    "from sklearn.ensemble import RandomForestClassifier\n",
    "from sklearn.svm import SVC\n",
    "from sklearn.tree import DecisionTreeClassifier\n",
    "\n",
    "from tensorflow.keras import models, layers\n",
    "from keras.models import Sequential\n",
    "from keras.layers import Dense\n",
    "from keras.layers import Conv2D\n",
    "from tensorflow import keras\n",
    "from keras.callbacks import EarlyStopping\n",
    "\n",
    "from tensorflow.keras.utils import to_categorical\n",
    "from sklearn.preprocessing import StandardScaler\n",
    "\n",
    "from sklearn.model_selection import train_test_split\n",
    "from sklearn.metrics import accuracy_score, confusion_matrix, classification_report\n",
    "\n",
    "from sklearn.utils import compute_class_weight\n",
    "from sklearn.model_selection import RandomizedSearchCV\n",
    "\n",
    "import sys\n",
    "\n",
    "sys.path.insert(0, '../../ml_logic')\n",
    "\n",
    "from preprocessor import *\n",
    "from data import *"
   ]
  },
  {
   "attachments": {},
   "cell_type": "markdown",
   "metadata": {},
   "source": [
    "## Data Load, Clean & Preprocess"
   ]
  },
  {
   "cell_type": "code",
   "execution_count": 121,
   "metadata": {},
   "outputs": [],
   "source": [
    "# Import data from CSV\n",
    "wingman_data = pd.read_csv(\"../../raw_data/trimmed_data/wingman_data_v6.csv\")"
   ]
  },
  {
   "cell_type": "code",
   "execution_count": 122,
   "metadata": {},
   "outputs": [],
   "source": [
    "target_columns_v1 = ['phase_no', 'eventsoe_no']\n",
    "target_columns_v2 = ['category_no', 'subcategory_no', 'section_no', 'subsection_no', 'modifier_no']\n",
    "target_columns_v3 = ['category_no']\n",
    "target_columns_v4 = ['eventsoe_no']\n",
    "target_columns_v5 = ['subcategory_no']\n",
    "target_columns_v6 = ['subcategory_no']"
   ]
  },
  {
   "cell_type": "code",
   "execution_count": 124,
   "metadata": {},
   "outputs": [
    {
     "name": "stderr",
     "output_type": "stream",
     "text": [
      "/home/aaron/code/AaronDV17/wingman-project/notebooks/AaronDV17/../../ml_logic/encoders.py:47: SettingWithCopyWarning: \n",
      "A value is trying to be set on a copy of a slice from a DataFrame.\n",
      "Try using .loc[row_indexer,col_indexer] = value instead\n",
      "\n",
      "See the caveats in the documentation: https://pandas.pydata.org/pandas-docs/stable/user_guide/indexing.html#returning-a-view-versus-a-copy\n",
      "  wingman_data_enc[''] = np.where(wingman_data_enc['type_fly'].isin(top_9_categories), wingman_data_enc['type_fly'], 'Other')\n",
      "/home/aaron/code/AaronDV17/wingman-project/notebooks/AaronDV17/../../ml_logic/encoders.py:71: SettingWithCopyWarning: \n",
      "A value is trying to be set on a copy of a slice from a DataFrame.\n",
      "Try using .loc[row_indexer,col_indexer] = value instead\n",
      "\n",
      "See the caveats in the documentation: https://pandas.pydata.org/pandas-docs/stable/user_guide/indexing.html#returning-a-view-versus-a-copy\n",
      "  eng_mfgr['eng_mfgr'] = eng_mfgr['eng_mfgr'].str.upper()\n",
      "/home/aaron/code/AaronDV17/wingman-project/notebooks/AaronDV17/../../ml_logic/encoders.py:72: SettingWithCopyWarning: \n",
      "A value is trying to be set on a copy of a slice from a DataFrame.\n",
      "Try using .loc[row_indexer,col_indexer] = value instead\n",
      "\n",
      "See the caveats in the documentation: https://pandas.pydata.org/pandas-docs/stable/user_guide/indexing.html#returning-a-view-versus-a-copy\n",
      "  eng_mfgr['eng_mfgr'] = eng_mfgr['eng_mfgr'].str.strip()\n",
      "/home/aaron/code/AaronDV17/wingman-project/notebooks/AaronDV17/../../ml_logic/encoders.py:73: SettingWithCopyWarning: \n",
      "A value is trying to be set on a copy of a slice from a DataFrame.\n",
      "Try using .loc[row_indexer,col_indexer] = value instead\n",
      "\n",
      "See the caveats in the documentation: https://pandas.pydata.org/pandas-docs/stable/user_guide/indexing.html#returning-a-view-versus-a-copy\n",
      "  eng_mfgr['eng_mfgr'] = eng_mfgr['eng_mfgr'].astype(\"category\")\n",
      "/home/aaron/code/AaronDV17/wingman-project/notebooks/AaronDV17/../../ml_logic/encoders.py:78: SettingWithCopyWarning: \n",
      "A value is trying to be set on a copy of a slice from a DataFrame.\n",
      "Try using .loc[row_indexer,col_indexer] = value instead\n",
      "\n",
      "See the caveats in the documentation: https://pandas.pydata.org/pandas-docs/stable/user_guide/indexing.html#returning-a-view-versus-a-copy\n",
      "  eng_mfgr['eng_mfgr'] = eng_mfgr['eng_mfgr'].replace(mapping)\n",
      "/home/aaron/code/AaronDV17/wingman-project/notebooks/AaronDV17/../../ml_logic/encoders.py:79: SettingWithCopyWarning: \n",
      "A value is trying to be set on a copy of a slice from a DataFrame.\n",
      "Try using .loc[row_indexer,col_indexer] = value instead\n",
      "\n",
      "See the caveats in the documentation: https://pandas.pydata.org/pandas-docs/stable/user_guide/indexing.html#returning-a-view-versus-a-copy\n",
      "  eng_mfgr['eng_mfgr'] = eng_mfgr['eng_mfgr'].cat.remove_unused_categories()\n",
      "/home/aaron/code/AaronDV17/wingman-project/notebooks/AaronDV17/../../ml_logic/encoders.py:144: SettingWithCopyWarning: \n",
      "A value is trying to be set on a copy of a slice from a DataFrame.\n",
      "Try using .loc[row_indexer,col_indexer] = value instead\n",
      "\n",
      "See the caveats in the documentation: https://pandas.pydata.org/pandas-docs/stable/user_guide/indexing.html#returning-a-view-versus-a-copy\n",
      "  X[['acft_make']] = X[['acft_make']].replace(list, name)\n",
      "/home/aaron/code/AaronDV17/wingman-project/notebooks/AaronDV17/../../ml_logic/encoders.py:144: SettingWithCopyWarning: \n",
      "A value is trying to be set on a copy of a slice from a DataFrame.\n",
      "Try using .loc[row_indexer,col_indexer] = value instead\n",
      "\n",
      "See the caveats in the documentation: https://pandas.pydata.org/pandas-docs/stable/user_guide/indexing.html#returning-a-view-versus-a-copy\n",
      "  X[['acft_make']] = X[['acft_make']].replace(list, name)\n",
      "/home/aaron/code/AaronDV17/wingman-project/notebooks/AaronDV17/../../ml_logic/encoders.py:144: SettingWithCopyWarning: \n",
      "A value is trying to be set on a copy of a slice from a DataFrame.\n",
      "Try using .loc[row_indexer,col_indexer] = value instead\n",
      "\n",
      "See the caveats in the documentation: https://pandas.pydata.org/pandas-docs/stable/user_guide/indexing.html#returning-a-view-versus-a-copy\n",
      "  X[['acft_make']] = X[['acft_make']].replace(list, name)\n",
      "/home/aaron/code/AaronDV17/wingman-project/notebooks/AaronDV17/../../ml_logic/encoders.py:144: SettingWithCopyWarning: \n",
      "A value is trying to be set on a copy of a slice from a DataFrame.\n",
      "Try using .loc[row_indexer,col_indexer] = value instead\n",
      "\n",
      "See the caveats in the documentation: https://pandas.pydata.org/pandas-docs/stable/user_guide/indexing.html#returning-a-view-versus-a-copy\n",
      "  X[['acft_make']] = X[['acft_make']].replace(list, name)\n",
      "/home/aaron/code/AaronDV17/wingman-project/notebooks/AaronDV17/../../ml_logic/encoders.py:144: SettingWithCopyWarning: \n",
      "A value is trying to be set on a copy of a slice from a DataFrame.\n",
      "Try using .loc[row_indexer,col_indexer] = value instead\n",
      "\n",
      "See the caveats in the documentation: https://pandas.pydata.org/pandas-docs/stable/user_guide/indexing.html#returning-a-view-versus-a-copy\n",
      "  X[['acft_make']] = X[['acft_make']].replace(list, name)\n",
      "/home/aaron/code/AaronDV17/wingman-project/notebooks/AaronDV17/../../ml_logic/encoders.py:144: SettingWithCopyWarning: \n",
      "A value is trying to be set on a copy of a slice from a DataFrame.\n",
      "Try using .loc[row_indexer,col_indexer] = value instead\n",
      "\n",
      "See the caveats in the documentation: https://pandas.pydata.org/pandas-docs/stable/user_guide/indexing.html#returning-a-view-versus-a-copy\n",
      "  X[['acft_make']] = X[['acft_make']].replace(list, name)\n",
      "/home/aaron/code/AaronDV17/wingman-project/notebooks/AaronDV17/../../ml_logic/encoders.py:144: SettingWithCopyWarning: \n",
      "A value is trying to be set on a copy of a slice from a DataFrame.\n",
      "Try using .loc[row_indexer,col_indexer] = value instead\n",
      "\n",
      "See the caveats in the documentation: https://pandas.pydata.org/pandas-docs/stable/user_guide/indexing.html#returning-a-view-versus-a-copy\n",
      "  X[['acft_make']] = X[['acft_make']].replace(list, name)\n",
      "/home/aaron/code/AaronDV17/wingman-project/notebooks/AaronDV17/../../ml_logic/encoders.py:144: SettingWithCopyWarning: \n",
      "A value is trying to be set on a copy of a slice from a DataFrame.\n",
      "Try using .loc[row_indexer,col_indexer] = value instead\n",
      "\n",
      "See the caveats in the documentation: https://pandas.pydata.org/pandas-docs/stable/user_guide/indexing.html#returning-a-view-versus-a-copy\n",
      "  X[['acft_make']] = X[['acft_make']].replace(list, name)\n",
      "/home/aaron/code/AaronDV17/wingman-project/notebooks/AaronDV17/../../ml_logic/encoders.py:144: SettingWithCopyWarning: \n",
      "A value is trying to be set on a copy of a slice from a DataFrame.\n",
      "Try using .loc[row_indexer,col_indexer] = value instead\n",
      "\n",
      "See the caveats in the documentation: https://pandas.pydata.org/pandas-docs/stable/user_guide/indexing.html#returning-a-view-versus-a-copy\n",
      "  X[['acft_make']] = X[['acft_make']].replace(list, name)\n",
      "/home/aaron/code/AaronDV17/wingman-project/notebooks/AaronDV17/../../ml_logic/encoders.py:144: SettingWithCopyWarning: \n",
      "A value is trying to be set on a copy of a slice from a DataFrame.\n",
      "Try using .loc[row_indexer,col_indexer] = value instead\n",
      "\n",
      "See the caveats in the documentation: https://pandas.pydata.org/pandas-docs/stable/user_guide/indexing.html#returning-a-view-versus-a-copy\n",
      "  X[['acft_make']] = X[['acft_make']].replace(list, name)\n",
      "/home/aaron/code/AaronDV17/wingman-project/notebooks/AaronDV17/../../ml_logic/encoders.py:144: SettingWithCopyWarning: \n",
      "A value is trying to be set on a copy of a slice from a DataFrame.\n",
      "Try using .loc[row_indexer,col_indexer] = value instead\n",
      "\n",
      "See the caveats in the documentation: https://pandas.pydata.org/pandas-docs/stable/user_guide/indexing.html#returning-a-view-versus-a-copy\n",
      "  X[['acft_make']] = X[['acft_make']].replace(list, name)\n",
      "/home/aaron/code/AaronDV17/wingman-project/notebooks/AaronDV17/../../ml_logic/encoders.py:239: SettingWithCopyWarning: \n",
      "A value is trying to be set on a copy of a slice from a DataFrame.\n",
      "Try using .loc[row_indexer,col_indexer] = value instead\n",
      "\n",
      "See the caveats in the documentation: https://pandas.pydata.org/pandas-docs/stable/user_guide/indexing.html#returning-a-view-versus-a-copy\n",
      "  X[field] = X[field].apply(lambda x: 0 if x in ['NONE', 'PVT'] else 1)\n",
      "/home/aaron/code/AaronDV17/wingman-project/notebooks/AaronDV17/../../ml_logic/encoders.py:239: SettingWithCopyWarning: \n",
      "A value is trying to be set on a copy of a slice from a DataFrame.\n",
      "Try using .loc[row_indexer,col_indexer] = value instead\n",
      "\n",
      "See the caveats in the documentation: https://pandas.pydata.org/pandas-docs/stable/user_guide/indexing.html#returning-a-view-versus-a-copy\n",
      "  X[field] = X[field].apply(lambda x: 0 if x in ['NONE', 'PVT'] else 1)\n",
      "/home/aaron/code/AaronDV17/wingman-project/notebooks/AaronDV17/../../ml_logic/encoders.py:255: SettingWithCopyWarning: \n",
      "A value is trying to be set on a copy of a slice from a DataFrame\n",
      "\n",
      "See the caveats in the documentation: https://pandas.pydata.org/pandas-docs/stable/user_guide/indexing.html#returning-a-view-versus-a-copy\n",
      "  X.replace('UNK', 'NONE', inplace=True)\n",
      "/home/aaron/code/AaronDV17/wingman-project/notebooks/AaronDV17/../../ml_logic/encoders.py:256: SettingWithCopyWarning: \n",
      "A value is trying to be set on a copy of a slice from a DataFrame\n",
      "\n",
      "See the caveats in the documentation: https://pandas.pydata.org/pandas-docs/stable/user_guide/indexing.html#returning-a-view-versus-a-copy\n",
      "  X.replace('VFIF', 'IFR', inplace=True)\n",
      "/home/aaron/code/AaronDV17/wingman-project/notebooks/AaronDV17/../../ml_logic/encoders.py:257: SettingWithCopyWarning: \n",
      "A value is trying to be set on a copy of a slice from a DataFrame\n",
      "\n",
      "See the caveats in the documentation: https://pandas.pydata.org/pandas-docs/stable/user_guide/indexing.html#returning-a-view-versus-a-copy\n",
      "  X.replace(['CVFR', 'MVFR'], 'VFR', inplace=True)\n",
      "/home/aaron/code/AaronDV17/wingman-project/notebooks/AaronDV17/../../ml_logic/encoders.py:247: SettingWithCopyWarning: \n",
      "A value is trying to be set on a copy of a slice from a DataFrame.\n",
      "Try using .loc[row_indexer,col_indexer] = value instead\n",
      "\n",
      "See the caveats in the documentation: https://pandas.pydata.org/pandas-docs/stable/user_guide/indexing.html#returning-a-view-versus-a-copy\n",
      "  X['pc_profession'] = X['pc_profession'].replace('UNK', 'No')\n",
      "/home/aaron/code/AaronDV17/wingman-project/notebooks/AaronDV17/../../ml_logic/encoders.py:248: SettingWithCopyWarning: \n",
      "A value is trying to be set on a copy of a slice from a DataFrame.\n",
      "Try using .loc[row_indexer,col_indexer] = value instead\n",
      "\n",
      "See the caveats in the documentation: https://pandas.pydata.org/pandas-docs/stable/user_guide/indexing.html#returning-a-view-versus-a-copy\n",
      "  X['pc_profession'] = X['pc_profession'].replace(['Yes', 'No'], [1, 0])\n"
     ]
    }
   ],
   "source": [
    "# Clean\n",
    "wingman_data_clean = clean_data(wingman_data)\n",
    "\n",
    "# wingman_data_clean = wingman_data_clean[[\n",
    "#     'flight_hours_mean',\n",
    "#     'afm_hrs',\n",
    "#     'dprt_time',\n",
    "#     'cert_max_gr_wt',\n",
    "#     'power_units',\n",
    "#     'total_seats',\n",
    "#     'fixed_retractable',\n",
    "#     'pc_profession',\n",
    "#     'type_last_insp',\n",
    "#     'carb_fuel_injection',\n",
    "#     'second_pilot',\n",
    "#     'dest_apt_id',\n",
    "#     'eng_mfgr',\n",
    "#     'flt_plan_filed',\n",
    "#     'acft_make',\n",
    "#     'subcategory_no',\n",
    "#     ]]\n",
    "\n",
    "# Preprocess\n",
    "wingman_data_proc = preprocess_features(wingman_data_clean, target_columns_v6)"
   ]
  },
  {
   "cell_type": "code",
   "execution_count": 125,
   "metadata": {},
   "outputs": [],
   "source": [
    "X = wingman_data_proc.drop(columns=[\"subcategory_no\"])\n",
    "y = wingman_data_proc[\"subcategory_no\"]"
   ]
  },
  {
   "attachments": {},
   "cell_type": "markdown",
   "metadata": {},
   "source": [
    "## Model (DTC)"
   ]
  },
  {
   "attachments": {},
   "cell_type": "markdown",
   "metadata": {},
   "source": [
    "### Train test split"
   ]
  },
  {
   "cell_type": "code",
   "execution_count": 126,
   "metadata": {},
   "outputs": [],
   "source": [
    "X_train, X_test, y_train, y_test = train_test_split(X, y, test_size=0.25, random_state=1)"
   ]
  },
  {
   "attachments": {},
   "cell_type": "markdown",
   "metadata": {},
   "source": [
    "### Process"
   ]
  },
  {
   "cell_type": "code",
   "execution_count": 127,
   "metadata": {},
   "outputs": [
    {
     "name": "stdout",
     "output_type": "stream",
     "text": [
      "Most Frequent Class Accuracy: 52.94%\n"
     ]
    }
   ],
   "source": [
    "# Most Frequent Class Accuracy\n",
    "\n",
    "freq = max(y.value_counts()/len(y))\n",
    "print(\"Most Frequent Class Accuracy: %.2f%%\" % (freq * 100.0))"
   ]
  },
  {
   "cell_type": "code",
   "execution_count": 128,
   "metadata": {},
   "outputs": [
    {
     "name": "stdout",
     "output_type": "stream",
     "text": [
      "Baseline Accuracy: 42.91%\n"
     ]
    }
   ],
   "source": [
    "# Baseline Accuracy\n",
    "\n",
    "dtc = DecisionTreeClassifier().fit(X_train, y_train)\n",
    "\n",
    "y_pred = dtc.predict(X_test)\n",
    "\n",
    "accuracy = accuracy_score(y_test, y_pred)\n",
    "print(\"Baseline Accuracy: %.2f%%\" % (accuracy * 100.0))"
   ]
  },
  {
   "attachments": {},
   "cell_type": "markdown",
   "metadata": {},
   "source": [
    "### Performance Analysis"
   ]
  },
  {
   "cell_type": "code",
   "execution_count": 129,
   "metadata": {},
   "outputs": [
    {
     "data": {
      "image/png": "[encoded data removed]",
      "text/plain": [
       "<Figure size 640x480 with 2 Axes>"
      ]
     },
     "metadata": {},
     "output_type": "display_data"
    }
   ],
   "source": [
    "# Confusion Matrix\n",
    "\n",
    "cf_matrix = confusion_matrix(y_test, y_pred)\n",
    "\n",
    "sns.heatmap(cf_matrix, annot=True, fmt='d', cmap='Blues');"
   ]
  },
  {
   "cell_type": "code",
   "execution_count": 130,
   "metadata": {},
   "outputs": [
    {
     "name": "stdout",
     "output_type": "stream",
     "text": [
      "              precision    recall  f1-score   support\n",
      "\n",
      "           1       0.00      0.00      0.00        15\n",
      "           2       0.20      0.18      0.19       163\n",
      "           3       0.15      0.20      0.17        10\n",
      "           4       0.36      0.35      0.36       424\n",
      "           5       0.00      0.00      0.00         5\n",
      "           6       0.55      0.55      0.55       681\n",
      "\n",
      "    accuracy                           0.43      1298\n",
      "   macro avg       0.21      0.21      0.21      1298\n",
      "weighted avg       0.43      0.43      0.43      1298\n",
      "\n"
     ]
    }
   ],
   "source": [
    "# Classification Report\n",
    "\n",
    "print(classification_report(y_test, y_pred))"
   ]
  },
  {
   "cell_type": "code",
   "execution_count": 131,
   "metadata": {},
   "outputs": [
    {
     "data": {
      "text/plain": [
       "flight_hours_mean                   0.126083\n",
       "afm_hrs                             0.110839\n",
       "dprt_time                           0.109497\n",
       "cert_max_gr_wt                      0.099290\n",
       "power_units                         0.084806\n",
       "total_seats                         0.042020\n",
       "pc_profession                       0.017509\n",
       "type_last_insp_ANNL                 0.016572\n",
       "eng_mfgr_LYCOMING                   0.016253\n",
       "fixed_retractable_RETR              0.015093\n",
       "eng_mfgr_CONTINENTAL                0.015048\n",
       "second_pilot                        0.014954\n",
       "dest_apt_id                         0.014791\n",
       "acft_make_CESSNA                    0.014311\n",
       "_PERS                               0.014227\n",
       "carb_fuel_injection_FINJ            0.014206\n",
       "carb_fuel_injection_CARB            0.014007\n",
       "acft_make_infrequent_sklearn        0.013251\n",
       "eng_mfgr_infrequent_sklearn         0.012328\n",
       "dprt_apt_id                         0.012283\n",
       "acft_make_PIPER                     0.011988\n",
       "type_last_insp_100H                 0.011819\n",
       "flt_plan_filed_NONE                 0.011746\n",
       "carb_fuel_injection_UNK             0.011420\n",
       "_INST                               0.010564\n",
       "type_last_insp_COND                 0.008861\n",
       "homebuilt                           0.008860\n",
       "flt_plan_filed_VFR                  0.008776\n",
       "crew_category_PLT                   0.008385\n",
       "type_last_insp_UNK                  0.007134\n",
       "flt_plan_filed_IFR                  0.006795\n",
       "crew_category_FLTI                  0.006766\n",
       "acft_category_infrequent_sklearn    0.006595\n",
       "num_eng                             0.006592\n",
       "far_part_091                        0.006362\n",
       "acft_category_AIR                   0.006145\n",
       "crew_sex                            0.005598\n",
       "acft_make_BEECH                     0.005546\n",
       "far_part_infrequent_sklearn         0.005529\n",
       "eng_mfgr_ROTAX                      0.005435\n",
       "_Other                              0.004812\n",
       "crew_category_DSTU                  0.004676\n",
       "eng_type_REC                        0.004344\n",
       "eng_type_infrequent_sklearn         0.004285\n",
       "_AAPL                               0.004055\n",
       "eng_mfgr_P&W                        0.004001\n",
       "_BUS                                0.003976\n",
       "type_last_insp_COAW                 0.003756\n",
       "acft_make_ROBINSON                  0.003708\n",
       "_UNK                                0.003472\n",
       "_POSI                               0.003425\n",
       "type_last_insp_AAIP                 0.002967\n",
       "certs_held                          0.002577\n",
       "_OWRK                               0.002466\n",
       "eng_mfgr_ROLLS ROYCE                0.002449\n",
       "_AOBV                               0.002307\n",
       "_FLTS                               0.001792\n",
       "site_seeing                         0.001473\n",
       "air_medical                         0.001175\n",
       "dtype: float64"
      ]
     },
     "execution_count": 131,
     "metadata": {},
     "output_type": "execute_result"
    }
   ],
   "source": [
    "# Feature Importance\n",
    "\n",
    "feature_imp = pd.Series(rfc.feature_importances_, index = X.columns).sort_values(ascending = False)\n",
    "feature_imp"
   ]
  },
  {
   "cell_type": "code",
   "execution_count": 132,
   "metadata": {},
   "outputs": [
    {
     "data": {
      "text/plain": [
       "['flight_hours_mean',\n",
       " 'afm_hrs',\n",
       " 'dprt_time',\n",
       " 'cert_max_gr_wt',\n",
       " 'power_units',\n",
       " 'total_seats',\n",
       " 'pc_profession',\n",
       " 'type_last_insp_ANNL',\n",
       " 'eng_mfgr_LYCOMING',\n",
       " 'fixed_retractable_RETR',\n",
       " 'eng_mfgr_CONTINENTAL',\n",
       " 'second_pilot',\n",
       " 'dest_apt_id',\n",
       " 'acft_make_CESSNA',\n",
       " '_PERS',\n",
       " 'carb_fuel_injection_FINJ',\n",
       " 'carb_fuel_injection_CARB']"
      ]
     },
     "execution_count": 132,
     "metadata": {},
     "output_type": "execute_result"
    }
   ],
   "source": [
    "# Calculate cumulative sum of feature importance\n",
    "cumulative_imp = feature_imp.cumsum()\n",
    "\n",
    "# Identify the cut-off index\n",
    "cut_off_index = next(x[0] for x in enumerate(cumulative_imp) if x[1] > 0.75)\n",
    "\n",
    "# Select the important features\n",
    "important_features = feature_imp.iloc[:cut_off_index]\n",
    "list(important_features.index)"
   ]
  },
  {
   "attachments": {},
   "cell_type": "markdown",
   "metadata": {},
   "source": [
    "## Model (RFC)"
   ]
  },
  {
   "attachments": {},
   "cell_type": "markdown",
   "metadata": {},
   "source": [
    "### Train test split"
   ]
  },
  {
   "cell_type": "code",
   "execution_count": 133,
   "metadata": {},
   "outputs": [],
   "source": [
    "X_train, X_test, y_train, y_test = train_test_split(X, y, test_size=0.25, random_state=1)"
   ]
  },
  {
   "attachments": {},
   "cell_type": "markdown",
   "metadata": {},
   "source": [
    "### Process"
   ]
  },
  {
   "cell_type": "code",
   "execution_count": 134,
   "metadata": {},
   "outputs": [
    {
     "name": "stdout",
     "output_type": "stream",
     "text": [
      "Most Frequent Class Accuracy: 52.94%\n"
     ]
    }
   ],
   "source": [
    "# Most Frequent Class Accuracy\n",
    "\n",
    "freq = max(y.value_counts()/len(y))\n",
    "print(\"Most Frequent Class Accuracy: %.2f%%\" % (freq * 100.0))"
   ]
  },
  {
   "cell_type": "code",
   "execution_count": 135,
   "metadata": {},
   "outputs": [
    {
     "name": "stdout",
     "output_type": "stream",
     "text": [
      "Baseline Accuracy: 50.92%\n"
     ]
    }
   ],
   "source": [
    "# Baseline Accuracy\n",
    "\n",
    "rfc = RandomForestClassifier().fit(X_train, y_train)\n",
    "\n",
    "y_pred = rfc.predict(X_test)\n",
    "\n",
    "accuracy = accuracy_score(y_test, y_pred)\n",
    "print(\"Baseline Accuracy: %.2f%%\" % (accuracy * 100.0))"
   ]
  },
  {
   "attachments": {},
   "cell_type": "markdown",
   "metadata": {},
   "source": [
    "### Performance Analysis"
   ]
  },
  {
   "cell_type": "code",
   "execution_count": 136,
   "metadata": {},
   "outputs": [
    {
     "data": {
      "image/png": "[encoded data removed]",
      "text/plain": [
       "<Figure size 640x480 with 2 Axes>"
      ]
     },
     "metadata": {},
     "output_type": "display_data"
    }
   ],
   "source": [
    "# Confusion Matrix\n",
    "\n",
    "cf_matrix = confusion_matrix(y_test, y_pred)\n",
    "\n",
    "sns.heatmap(cf_matrix, annot=True, fmt='d', cmap='Blues');"
   ]
  },
  {
   "cell_type": "code",
   "execution_count": 137,
   "metadata": {},
   "outputs": [
    {
     "name": "stdout",
     "output_type": "stream",
     "text": [
      "              precision    recall  f1-score   support\n",
      "\n",
      "           1       0.00      0.00      0.00        15\n",
      "           2       0.30      0.02      0.03       163\n",
      "           3       0.00      0.00      0.00        10\n",
      "           4       0.38      0.18      0.24       424\n",
      "           5       0.00      0.00      0.00         5\n",
      "           6       0.53      0.85      0.66       681\n",
      "\n",
      "    accuracy                           0.51      1298\n",
      "   macro avg       0.20      0.18      0.16      1298\n",
      "weighted avg       0.44      0.51      0.43      1298\n",
      "\n"
     ]
    },
    {
     "name": "stderr",
     "output_type": "stream",
     "text": [
      "/home/aaron/.pyenv/versions/lewagon/lib/python3.10/site-packages/sklearn/metrics/_classification.py:1344: UndefinedMetricWarning: Precision and F-score are ill-defined and being set to 0.0 in labels with no predicted samples. Use `zero_division` parameter to control this behavior.\n",
      "  _warn_prf(average, modifier, msg_start, len(result))\n",
      "/home/aaron/.pyenv/versions/lewagon/lib/python3.10/site-packages/sklearn/metrics/_classification.py:1344: UndefinedMetricWarning: Precision and F-score are ill-defined and being set to 0.0 in labels with no predicted samples. Use `zero_division` parameter to control this behavior.\n",
      "  _warn_prf(average, modifier, msg_start, len(result))\n",
      "/home/aaron/.pyenv/versions/lewagon/lib/python3.10/site-packages/sklearn/metrics/_classification.py:1344: UndefinedMetricWarning: Precision and F-score are ill-defined and being set to 0.0 in labels with no predicted samples. Use `zero_division` parameter to control this behavior.\n",
      "  _warn_prf(average, modifier, msg_start, len(result))\n"
     ]
    }
   ],
   "source": [
    "# Classification Report\n",
    "\n",
    "print(classification_report(y_test, y_pred))"
   ]
  },
  {
   "cell_type": "code",
   "execution_count": 138,
   "metadata": {},
   "outputs": [
    {
     "data": {
      "text/plain": [
       "flight_hours_mean                   0.123729\n",
       "afm_hrs                             0.113753\n",
       "dprt_time                           0.112189\n",
       "cert_max_gr_wt                      0.098560\n",
       "power_units                         0.082788\n",
       "total_seats                         0.042590\n",
       "pc_profession                       0.017686\n",
       "eng_mfgr_LYCOMING                   0.017012\n",
       "type_last_insp_ANNL                 0.015833\n",
       "dest_apt_id                         0.015126\n",
       "fixed_retractable_RETR              0.015003\n",
       "carb_fuel_injection_FINJ            0.014939\n",
       "eng_mfgr_CONTINENTAL                0.014705\n",
       "carb_fuel_injection_CARB            0.014618\n",
       "_PERS                               0.013960\n",
       "second_pilot                        0.013854\n",
       "acft_make_infrequent_sklearn        0.013725\n",
       "acft_make_CESSNA                    0.012817\n",
       "eng_mfgr_infrequent_sklearn         0.012302\n",
       "dprt_apt_id                         0.012143\n",
       "type_last_insp_100H                 0.012023\n",
       "carb_fuel_injection_UNK             0.011874\n",
       "acft_make_PIPER                     0.011850\n",
       "_INST                               0.011000\n",
       "flt_plan_filed_NONE                 0.010590\n",
       "crew_category_PLT                   0.009629\n",
       "flt_plan_filed_VFR                  0.008937\n",
       "type_last_insp_COND                 0.008557\n",
       "homebuilt                           0.007822\n",
       "crew_category_FLTI                  0.007057\n",
       "type_last_insp_UNK                  0.006851\n",
       "flt_plan_filed_IFR                  0.006817\n",
       "acft_category_AIR                   0.006485\n",
       "num_eng                             0.006253\n",
       "acft_category_infrequent_sklearn    0.006140\n",
       "far_part_091                        0.006080\n",
       "acft_make_BEECH                     0.006056\n",
       "far_part_infrequent_sklearn         0.005793\n",
       "crew_sex                            0.005664\n",
       "eng_mfgr_ROTAX                      0.005456\n",
       "_Other                              0.005247\n",
       "crew_category_DSTU                  0.005097\n",
       "_BUS                                0.004451\n",
       "eng_type_REC                        0.004201\n",
       "_AAPL                               0.004073\n",
       "eng_mfgr_P&W                        0.004016\n",
       "eng_type_infrequent_sklearn         0.004010\n",
       "type_last_insp_COAW                 0.003873\n",
       "acft_make_ROBINSON                  0.003503\n",
       "_POSI                               0.003274\n",
       "_UNK                                0.003211\n",
       "type_last_insp_AAIP                 0.003139\n",
       "certs_held                          0.002747\n",
       "_OWRK                               0.002530\n",
       "_AOBV                               0.002218\n",
       "eng_mfgr_ROLLS ROYCE                0.002126\n",
       "_FLTS                               0.001614\n",
       "site_seeing                         0.001478\n",
       "air_medical                         0.000927\n",
       "dtype: float64"
      ]
     },
     "execution_count": 138,
     "metadata": {},
     "output_type": "execute_result"
    }
   ],
   "source": [
    "# Feature Importance\n",
    "\n",
    "feature_imp = pd.Series(rfc.feature_importances_, index = X.columns).sort_values(ascending = False)\n",
    "feature_imp"
   ]
  },
  {
   "cell_type": "code",
   "execution_count": 139,
   "metadata": {},
   "outputs": [
    {
     "data": {
      "text/plain": [
       "['flight_hours_mean',\n",
       " 'afm_hrs',\n",
       " 'dprt_time',\n",
       " 'cert_max_gr_wt',\n",
       " 'power_units',\n",
       " 'total_seats',\n",
       " 'pc_profession',\n",
       " 'eng_mfgr_LYCOMING',\n",
       " 'type_last_insp_ANNL',\n",
       " 'dest_apt_id',\n",
       " 'fixed_retractable_RETR',\n",
       " 'carb_fuel_injection_FINJ',\n",
       " 'eng_mfgr_CONTINENTAL',\n",
       " 'carb_fuel_injection_CARB',\n",
       " '_PERS',\n",
       " 'second_pilot',\n",
       " 'acft_make_infrequent_sklearn']"
      ]
     },
     "execution_count": 139,
     "metadata": {},
     "output_type": "execute_result"
    }
   ],
   "source": [
    "# Calculate cumulative sum of feature importance\n",
    "cumulative_imp = feature_imp.cumsum()\n",
    "\n",
    "# Identify the cut-off index\n",
    "cut_off_index = next(x[0] for x in enumerate(cumulative_imp) if x[1] > 0.75)\n",
    "\n",
    "# Select the important features\n",
    "important_features = feature_imp.iloc[:cut_off_index]\n",
    "list(important_features.index)"
   ]
  },
  {
   "attachments": {},
   "cell_type": "markdown",
   "metadata": {},
   "source": [
    "## Model (SVC)"
   ]
  },
  {
   "attachments": {},
   "cell_type": "markdown",
   "metadata": {},
   "source": [
    "### Train test split"
   ]
  },
  {
   "cell_type": "code",
   "execution_count": 140,
   "metadata": {},
   "outputs": [],
   "source": [
    "X_train, X_test, y_train, y_test = train_test_split(X, y, test_size=0.25, random_state=1)"
   ]
  },
  {
   "attachments": {},
   "cell_type": "markdown",
   "metadata": {},
   "source": [
    "### Process"
   ]
  },
  {
   "cell_type": "code",
   "execution_count": 141,
   "metadata": {},
   "outputs": [
    {
     "name": "stdout",
     "output_type": "stream",
     "text": [
      "Most Frequent Class Accuracy: 52.94%\n"
     ]
    }
   ],
   "source": [
    "# Most Frequent Class Accuracy\n",
    "\n",
    "freq = max(y.value_counts()/len(y))\n",
    "print(\"Most Frequent Class Accuracy: %.2f%%\" % (freq * 100.0))"
   ]
  },
  {
   "cell_type": "code",
   "execution_count": 142,
   "metadata": {},
   "outputs": [
    {
     "name": "stdout",
     "output_type": "stream",
     "text": [
      "Baseline Accuracy: 52.31%\n"
     ]
    }
   ],
   "source": [
    "# Baseline Accuracy\n",
    "\n",
    "svc = SVC().fit(X_train, y_train)\n",
    "\n",
    "y_pred = svc.predict(X_test)\n",
    "\n",
    "accuracy = accuracy_score(y_test, y_pred)\n",
    "print(\"Baseline Accuracy: %.2f%%\" % (accuracy * 100.0))"
   ]
  },
  {
   "attachments": {},
   "cell_type": "markdown",
   "metadata": {},
   "source": [
    "### Performance Analysis"
   ]
  },
  {
   "cell_type": "code",
   "execution_count": 143,
   "metadata": {},
   "outputs": [
    {
     "data": {
      "image/png": "[encoded data removed]",
      "text/plain": [
       "<Figure size 640x480 with 2 Axes>"
      ]
     },
     "metadata": {},
     "output_type": "display_data"
    }
   ],
   "source": [
    "# Confusion Matrix\n",
    "\n",
    "cf_matrix = confusion_matrix(y_test, y_pred)\n",
    "\n",
    "sns.heatmap(cf_matrix, annot=True, fmt='d', cmap='Blues');"
   ]
  },
  {
   "cell_type": "code",
   "execution_count": 144,
   "metadata": {},
   "outputs": [
    {
     "name": "stdout",
     "output_type": "stream",
     "text": [
      "              precision    recall  f1-score   support\n",
      "\n",
      "           1       0.00      0.00      0.00        15\n",
      "           2       0.00      0.00      0.00       163\n",
      "           3       0.00      0.00      0.00        10\n",
      "           4       0.20      0.00      0.00       424\n",
      "           5       0.00      0.00      0.00         5\n",
      "           6       0.52      1.00      0.69       681\n",
      "\n",
      "    accuracy                           0.52      1298\n",
      "   macro avg       0.12      0.17      0.12      1298\n",
      "weighted avg       0.34      0.52      0.36      1298\n",
      "\n"
     ]
    },
    {
     "name": "stderr",
     "output_type": "stream",
     "text": [
      "/home/aaron/.pyenv/versions/lewagon/lib/python3.10/site-packages/sklearn/metrics/_classification.py:1344: UndefinedMetricWarning: Precision and F-score are ill-defined and being set to 0.0 in labels with no predicted samples. Use `zero_division` parameter to control this behavior.\n",
      "  _warn_prf(average, modifier, msg_start, len(result))\n",
      "/home/aaron/.pyenv/versions/lewagon/lib/python3.10/site-packages/sklearn/metrics/_classification.py:1344: UndefinedMetricWarning: Precision and F-score are ill-defined and being set to 0.0 in labels with no predicted samples. Use `zero_division` parameter to control this behavior.\n",
      "  _warn_prf(average, modifier, msg_start, len(result))\n",
      "/home/aaron/.pyenv/versions/lewagon/lib/python3.10/site-packages/sklearn/metrics/_classification.py:1344: UndefinedMetricWarning: Precision and F-score are ill-defined and being set to 0.0 in labels with no predicted samples. Use `zero_division` parameter to control this behavior.\n",
      "  _warn_prf(average, modifier, msg_start, len(result))\n"
     ]
    }
   ],
   "source": [
    "# Classification Report\n",
    "\n",
    "print(classification_report(y_test, y_pred))"
   ]
  },
  {
   "attachments": {},
   "cell_type": "markdown",
   "metadata": {},
   "source": [
    "## Model (DTC)"
   ]
  },
  {
   "attachments": {},
   "cell_type": "markdown",
   "metadata": {},
   "source": [
    "### Train test split"
   ]
  },
  {
   "cell_type": "code",
   "execution_count": 146,
   "metadata": {},
   "outputs": [],
   "source": [
    "X_train, X_test, y_train, y_test = train_test_split(X, y, test_size=0.25, random_state=1)"
   ]
  },
  {
   "attachments": {},
   "cell_type": "markdown",
   "metadata": {},
   "source": [
    "### Process"
   ]
  },
  {
   "cell_type": "code",
   "execution_count": 147,
   "metadata": {},
   "outputs": [
    {
     "name": "stdout",
     "output_type": "stream",
     "text": [
      "Most Frequent Class Accuracy: 52.94%\n"
     ]
    }
   ],
   "source": [
    "# Most Frequent Class Accuracy\n",
    "\n",
    "freq = max(y.value_counts()/len(y))\n",
    "print(\"Most Frequent Class Accuracy: %.2f%%\" % (freq * 100.0))"
   ]
  },
  {
   "cell_type": "code",
   "execution_count": 148,
   "metadata": {},
   "outputs": [
    {
     "name": "stdout",
     "output_type": "stream",
     "text": [
      "Baseline Accuracy: 43.07%\n"
     ]
    }
   ],
   "source": [
    "# Baseline Accuracy\n",
    "\n",
    "dtc = DecisionTreeClassifier().fit(X_train, y_train)\n",
    "\n",
    "y_pred = dtc.predict(X_test)\n",
    "\n",
    "accuracy = accuracy_score(y_test, y_pred)\n",
    "print(\"Baseline Accuracy: %.2f%%\" % (accuracy * 100.0))"
   ]
  },
  {
   "attachments": {},
   "cell_type": "markdown",
   "metadata": {},
   "source": [
    "### Performance Analysis"
   ]
  },
  {
   "cell_type": "code",
   "execution_count": 149,
   "metadata": {},
   "outputs": [
    {
     "data": {
      "image/png": "[encoded data removed]",
      "text/plain": [
       "<Figure size 640x480 with 2 Axes>"
      ]
     },
     "metadata": {},
     "output_type": "display_data"
    }
   ],
   "source": [
    "# Confusion Matrix\n",
    "\n",
    "cf_matrix = confusion_matrix(y_test, y_pred)\n",
    "\n",
    "sns.heatmap(cf_matrix, annot=True, fmt='d', cmap='Blues');"
   ]
  },
  {
   "cell_type": "code",
   "execution_count": 150,
   "metadata": {},
   "outputs": [
    {
     "name": "stdout",
     "output_type": "stream",
     "text": [
      "              precision    recall  f1-score   support\n",
      "\n",
      "           1       0.00      0.00      0.00        15\n",
      "           2       0.21      0.20      0.20       163\n",
      "           3       0.12      0.20      0.15        10\n",
      "           4       0.36      0.34      0.35       424\n",
      "           5       0.00      0.00      0.00         5\n",
      "           6       0.55      0.56      0.55       681\n",
      "\n",
      "    accuracy                           0.43      1298\n",
      "   macro avg       0.21      0.22      0.21      1298\n",
      "weighted avg       0.43      0.43      0.43      1298\n",
      "\n"
     ]
    }
   ],
   "source": [
    "# Classification Report\n",
    "\n",
    "print(classification_report(y_test, y_pred))"
   ]
  },
  {
   "cell_type": "code",
   "execution_count": 151,
   "metadata": {},
   "outputs": [
    {
     "data": {
      "text/plain": [
       "flight_hours_mean                   0.123729\n",
       "afm_hrs                             0.113753\n",
       "dprt_time                           0.112189\n",
       "cert_max_gr_wt                      0.098560\n",
       "power_units                         0.082788\n",
       "total_seats                         0.042590\n",
       "pc_profession                       0.017686\n",
       "eng_mfgr_LYCOMING                   0.017012\n",
       "type_last_insp_ANNL                 0.015833\n",
       "dest_apt_id                         0.015126\n",
       "fixed_retractable_RETR              0.015003\n",
       "carb_fuel_injection_FINJ            0.014939\n",
       "eng_mfgr_CONTINENTAL                0.014705\n",
       "carb_fuel_injection_CARB            0.014618\n",
       "_PERS                               0.013960\n",
       "second_pilot                        0.013854\n",
       "acft_make_infrequent_sklearn        0.013725\n",
       "acft_make_CESSNA                    0.012817\n",
       "eng_mfgr_infrequent_sklearn         0.012302\n",
       "dprt_apt_id                         0.012143\n",
       "type_last_insp_100H                 0.012023\n",
       "carb_fuel_injection_UNK             0.011874\n",
       "acft_make_PIPER                     0.011850\n",
       "_INST                               0.011000\n",
       "flt_plan_filed_NONE                 0.010590\n",
       "crew_category_PLT                   0.009629\n",
       "flt_plan_filed_VFR                  0.008937\n",
       "type_last_insp_COND                 0.008557\n",
       "homebuilt                           0.007822\n",
       "crew_category_FLTI                  0.007057\n",
       "type_last_insp_UNK                  0.006851\n",
       "flt_plan_filed_IFR                  0.006817\n",
       "acft_category_AIR                   0.006485\n",
       "num_eng                             0.006253\n",
       "acft_category_infrequent_sklearn    0.006140\n",
       "far_part_091                        0.006080\n",
       "acft_make_BEECH                     0.006056\n",
       "far_part_infrequent_sklearn         0.005793\n",
       "crew_sex                            0.005664\n",
       "eng_mfgr_ROTAX                      0.005456\n",
       "_Other                              0.005247\n",
       "crew_category_DSTU                  0.005097\n",
       "_BUS                                0.004451\n",
       "eng_type_REC                        0.004201\n",
       "_AAPL                               0.004073\n",
       "eng_mfgr_P&W                        0.004016\n",
       "eng_type_infrequent_sklearn         0.004010\n",
       "type_last_insp_COAW                 0.003873\n",
       "acft_make_ROBINSON                  0.003503\n",
       "_POSI                               0.003274\n",
       "_UNK                                0.003211\n",
       "type_last_insp_AAIP                 0.003139\n",
       "certs_held                          0.002747\n",
       "_OWRK                               0.002530\n",
       "_AOBV                               0.002218\n",
       "eng_mfgr_ROLLS ROYCE                0.002126\n",
       "_FLTS                               0.001614\n",
       "site_seeing                         0.001478\n",
       "air_medical                         0.000927\n",
       "dtype: float64"
      ]
     },
     "execution_count": 151,
     "metadata": {},
     "output_type": "execute_result"
    }
   ],
   "source": [
    "# Feature Importance\n",
    "\n",
    "feature_imp = pd.Series(rfc.feature_importances_, index = X.columns).sort_values(ascending = False)\n",
    "feature_imp"
   ]
  },
  {
   "cell_type": "code",
   "execution_count": 152,
   "metadata": {},
   "outputs": [
    {
     "data": {
      "text/plain": [
       "['flight_hours_mean',\n",
       " 'afm_hrs',\n",
       " 'dprt_time',\n",
       " 'cert_max_gr_wt',\n",
       " 'power_units',\n",
       " 'total_seats',\n",
       " 'pc_profession',\n",
       " 'eng_mfgr_LYCOMING',\n",
       " 'type_last_insp_ANNL',\n",
       " 'dest_apt_id',\n",
       " 'fixed_retractable_RETR',\n",
       " 'carb_fuel_injection_FINJ',\n",
       " 'eng_mfgr_CONTINENTAL',\n",
       " 'carb_fuel_injection_CARB',\n",
       " '_PERS',\n",
       " 'second_pilot',\n",
       " 'acft_make_infrequent_sklearn']"
      ]
     },
     "execution_count": 152,
     "metadata": {},
     "output_type": "execute_result"
    }
   ],
   "source": [
    "# Calculate cumulative sum of feature importance\n",
    "cumulative_imp = feature_imp.cumsum()\n",
    "\n",
    "# Identify the cut-off index\n",
    "cut_off_index = next(x[0] for x in enumerate(cumulative_imp) if x[1] > 0.75)\n",
    "\n",
    "# Select the important features\n",
    "important_features = feature_imp.iloc[:cut_off_index]\n",
    "list(important_features.index)"
   ]
  },
  {
   "attachments": {},
   "cell_type": "markdown",
   "metadata": {},
   "source": [
    "## Model (DNN)"
   ]
  },
  {
   "attachments": {},
   "cell_type": "markdown",
   "metadata": {},
   "source": [
    "### Train test split"
   ]
  },
  {
   "cell_type": "code",
   "execution_count": 105,
   "metadata": {},
   "outputs": [],
   "source": [
    "y_cat = to_categorical(y)"
   ]
  },
  {
   "cell_type": "code",
   "execution_count": 106,
   "metadata": {},
   "outputs": [],
   "source": [
    "X_train, X_test, y_train, y_test = train_test_split(X, y_cat, test_size=0.25, random_state=1)"
   ]
  },
  {
   "cell_type": "code",
   "execution_count": 107,
   "metadata": {},
   "outputs": [
    {
     "data": {
      "text/plain": [
       "((3891, 59), (1298, 59), (3891, 7), (1298, 7))"
      ]
     },
     "execution_count": 107,
     "metadata": {},
     "output_type": "execute_result"
    }
   ],
   "source": [
    "X_train.shape, X_test.shape, y_train.shape, y_test.shape"
   ]
  },
  {
   "attachments": {},
   "cell_type": "markdown",
   "metadata": {},
   "source": [
    "### Process"
   ]
  },
  {
   "cell_type": "code",
   "execution_count": 108,
   "metadata": {},
   "outputs": [
    {
     "name": "stdout",
     "output_type": "stream",
     "text": [
      "Most Frequent Class Accuracy: 52.94%\n"
     ]
    }
   ],
   "source": [
    "# Most Frequent Class Accuracy\n",
    "\n",
    "freq = max(y.value_counts()/len(y))\n",
    "print(\"Most Frequent Class Accuracy: %.2f%%\" % (freq * 100.0))"
   ]
  },
  {
   "cell_type": "code",
   "execution_count": 109,
   "metadata": {},
   "outputs": [],
   "source": [
    "s_scaler = StandardScaler()\n",
    "s_scaler.fit(X_train)\n",
    "\n",
    "X_train = s_scaler.transform(X_train)\n",
    "X_test = s_scaler.transform(X_test)"
   ]
  },
  {
   "cell_type": "code",
   "execution_count": 110,
   "metadata": {},
   "outputs": [
    {
     "name": "stdout",
     "output_type": "stream",
     "text": [
      "Model: \"sequential_5\"\n",
      "_________________________________________________________________\n",
      " Layer (type)                Output Shape              Param #   \n",
      "=================================================================\n",
      " dense_13 (Dense)            (None, 256)               15360     \n",
      "                                                                 \n",
      " dense_14 (Dense)            (None, 256)               65792     \n",
      "                                                                 \n",
      " dropout_2 (Dropout)         (None, 256)               0         \n",
      "                                                                 \n",
      " dense_15 (Dense)            (None, 256)               65792     \n",
      "                                                                 \n",
      " dropout_3 (Dropout)         (None, 256)               0         \n",
      "                                                                 \n",
      " dense_16 (Dense)            (None, 7)                 1799      \n",
      "                                                                 \n",
      "=================================================================\n",
      "Total params: 148,743\n",
      "Trainable params: 148,743\n",
      "Non-trainable params: 0\n",
      "_________________________________________________________________\n"
     ]
    }
   ],
   "source": [
    "def initialize_model():\n",
    "    \n",
    "    model = keras.Sequential(\n",
    "        [\n",
    "            keras.layers.Dense(256, activation=\"relu\", input_dim=X_train.shape[1]),\n",
    "            keras.layers.Dense(256, activation=\"relu\"),\n",
    "            keras.layers.Dropout(0.3),\n",
    "            keras.layers.Dense(256, activation=\"relu\"),\n",
    "            keras.layers.Dropout(0.3),\n",
    "            keras.layers.Dense(y_train.shape[1], activation='softmax'),\n",
    "        ]\n",
    "    )\n",
    "    \n",
    "    model.compile(loss='categorical_crossentropy',\n",
    "                  optimizer='adam', \n",
    "                  metrics=['accuracy']) \n",
    "    \n",
    "    return model \n",
    "\n",
    "dnn = initialize_model()\n",
    "\n",
    "dnn.summary()"
   ]
  },
  {
   "cell_type": "code",
   "execution_count": 114,
   "metadata": {},
   "outputs": [
    {
     "name": "stdout",
     "output_type": "stream",
     "text": [
      "41/41 [==============================] - 3s 24ms/step - loss: 5.0070 - accuracy: 0.4515\n",
      "Baseline Accuracy: 45.15%\n"
     ]
    }
   ],
   "source": [
    "# Baseline Accuracy\n",
    "\n",
    "es = EarlyStopping(patience=10, monitor='accuracy')\n",
    "\n",
    "history = dnn.fit(X_train, y_train, \n",
    "                    epochs=100,\n",
    "                    callbacks=[es], \n",
    "                    batch_size=16, \n",
    "                    verbose=0)\n",
    "\n",
    "accuracy = dnn.evaluate(X_test, y_test, verbose=1)[1]\n",
    "print(\"Baseline Accuracy: %.2f%%\" % (accuracy * 100.0))"
   ]
  },
  {
   "attachments": {},
   "cell_type": "markdown",
   "metadata": {},
   "source": [
    "### Performance Analysis"
   ]
  },
  {
   "cell_type": "code",
   "execution_count": 115,
   "metadata": {},
   "outputs": [
    {
     "data": {
      "image/png": "[encoded data removed]",
      "text/plain": [
       "<Figure size 640x480 with 1 Axes>"
      ]
     },
     "metadata": {},
     "output_type": "display_data"
    }
   ],
   "source": [
    "def plot_history(history):\n",
    "    plt.plot(history.history['loss'])\n",
    "    plt.title('Model loss')\n",
    "    plt.ylabel('Loss')\n",
    "    plt.xlabel('Epoch')\n",
    "    plt.show()\n",
    "\n",
    "plot_history(history)"
   ]
  }
 ],
 "metadata": {
  "kernelspec": {
   "display_name": "Python 3",
   "language": "python",
   "name": "python3"
  },
  "language_info": {
   "codemirror_mode": {
    "name": "ipython",
    "version": 3
   },
   "file_extension": ".py",
   "mimetype": "text/x-python",
   "name": "python",
   "nbconvert_exporter": "python",
   "pygments_lexer": "ipython3",
   "version": "3.10.6"
  },
  "orig_nbformat": 4
 },
 "nbformat": 4,
 "nbformat_minor": 2
}
