{
 "cells": [
  {
   "attachments": {},
   "cell_type": "markdown",
   "metadata": {},
   "source": [
    "# Table Merges"
   ]
  },
  {
   "attachments": {},
   "cell_type": "markdown",
   "metadata": {},
   "source": [
    "## Imports"
   ]
  },
  {
   "cell_type": "code",
   "execution_count": 1,
   "metadata": {},
   "outputs": [],
   "source": [
    "# IMPORTS\n",
    "import pandas as pd\n",
    "import numpy as np\n",
    "import seaborn as sns\n",
    "import matplotlib.pyplot as plt"
   ]
  },
  {
   "attachments": {},
   "cell_type": "markdown",
   "metadata": {},
   "source": [
    "## Load Data"
   ]
  },
  {
   "cell_type": "code",
   "execution_count": 2,
   "metadata": {},
   "outputs": [
    {
     "name": "stderr",
     "output_type": "stream",
     "text": [
      "/tmp/ipykernel_27513/2276705612.py:3: DtypeWarning: Columns (0,59) have mixed types. Specify dtype option on import or set low_memory=False.\n",
      "  aircraft_df = pd.read_csv('../raw_data/csv/aircraft.csv')\n",
      "/tmp/ipykernel_27513/2276705612.py:4: DtypeWarning: Columns (0,31,51) have mixed types. Specify dtype option on import or set low_memory=False.\n",
      "  events_df = pd.read_csv('../raw_data/csv/events.csv')\n"
     ]
    }
   ],
   "source": [
    "# DATA\n",
    "## ADV - Changed to own rel. paths\n",
    "aircraft_df = pd.read_csv('../raw_data/csv/aircraft.csv')\n",
    "events_df = pd.read_csv('../raw_data/csv/events.csv')\n",
    "flight_crew_df = pd.read_csv('../raw_data/csv/Flight_Crew.csv')\n",
    "flight_time_df = pd.read_csv('../raw_data/csv/flight_time.csv')\n",
    "engines_df = pd.read_csv('../raw_data/trimmed_data/engines_fin.csv')\n",
    "events_sequence_df = pd.read_csv('../raw_data/trimmed_data/Events_Sequence_fin.csv')"
   ]
  },
  {
   "attachments": {},
   "cell_type": "markdown",
   "metadata": {},
   "source": [
    "## Flight time"
   ]
  },
  {
   "cell_type": "code",
   "execution_count": 3,
   "metadata": {},
   "outputs": [
    {
     "data": {
      "text/html": [
       "<div>\n",
       "<style scoped>\n",
       "    .dataframe tbody tr th:only-of-type {\n",
       "        vertical-align: middle;\n",
       "    }\n",
       "\n",
       "    .dataframe tbody tr th {\n",
       "        vertical-align: top;\n",
       "    }\n",
       "\n",
       "    .dataframe thead th {\n",
       "        text-align: right;\n",
       "    }\n",
       "</style>\n",
       "<table border=\"1\" class=\"dataframe\">\n",
       "  <thead>\n",
       "    <tr style=\"text-align: right;\">\n",
       "      <th></th>\n",
       "      <th>crew_no</th>\n",
       "      <th>flight_type</th>\n",
       "      <th>flight_craft</th>\n",
       "      <th>flight_hours</th>\n",
       "      <th>lchg_date</th>\n",
       "      <th>lchg_userid</th>\n",
       "      <th>id</th>\n",
       "    </tr>\n",
       "  </thead>\n",
       "  <tbody>\n",
       "    <tr>\n",
       "      <th>12</th>\n",
       "      <td>1</td>\n",
       "      <td>TOTL</td>\n",
       "      <td>ALL</td>\n",
       "      <td>705.0</td>\n",
       "      <td>2020-09-25 18:05:31</td>\n",
       "      <td>NaN</td>\n",
       "      <td>20080107X000261</td>\n",
       "    </tr>\n",
       "    <tr>\n",
       "      <th>34</th>\n",
       "      <td>1</td>\n",
       "      <td>TOTL</td>\n",
       "      <td>ALL</td>\n",
       "      <td>8300.0</td>\n",
       "      <td>2020-09-25 18:05:31</td>\n",
       "      <td>NaN</td>\n",
       "      <td>20080107X000262</td>\n",
       "    </tr>\n",
       "    <tr>\n",
       "      <th>58</th>\n",
       "      <td>1</td>\n",
       "      <td>TOTL</td>\n",
       "      <td>ALL</td>\n",
       "      <td>1000.0</td>\n",
       "      <td>2020-09-25 18:05:31</td>\n",
       "      <td>NaN</td>\n",
       "      <td>20080109X000361</td>\n",
       "    </tr>\n",
       "    <tr>\n",
       "      <th>64</th>\n",
       "      <td>1</td>\n",
       "      <td>TOTL</td>\n",
       "      <td>ALL</td>\n",
       "      <td>10571.0</td>\n",
       "      <td>2020-09-25 18:04:02</td>\n",
       "      <td>NaN</td>\n",
       "      <td>20080107X000271</td>\n",
       "    </tr>\n",
       "    <tr>\n",
       "      <th>75</th>\n",
       "      <td>1</td>\n",
       "      <td>TOTL</td>\n",
       "      <td>ALL</td>\n",
       "      <td>18.0</td>\n",
       "      <td>2020-09-25 18:06:16</td>\n",
       "      <td>NaN</td>\n",
       "      <td>20080115X000511</td>\n",
       "    </tr>\n",
       "    <tr>\n",
       "      <th>...</th>\n",
       "      <td>...</td>\n",
       "      <td>...</td>\n",
       "      <td>...</td>\n",
       "      <td>...</td>\n",
       "      <td>...</td>\n",
       "      <td>...</td>\n",
       "      <td>...</td>\n",
       "    </tr>\n",
       "    <tr>\n",
       "      <th>327105</th>\n",
       "      <td>2</td>\n",
       "      <td>TOTL</td>\n",
       "      <td>ALL</td>\n",
       "      <td>122.0</td>\n",
       "      <td>2023-04-20 18:02:40</td>\n",
       "      <td>coln</td>\n",
       "      <td>202303131068891</td>\n",
       "    </tr>\n",
       "    <tr>\n",
       "      <th>327122</th>\n",
       "      <td>1</td>\n",
       "      <td>TOTL</td>\n",
       "      <td>ALL</td>\n",
       "      <td>74.0</td>\n",
       "      <td>2023-04-27 18:00:03</td>\n",
       "      <td>coln</td>\n",
       "      <td>202303201069201</td>\n",
       "    </tr>\n",
       "    <tr>\n",
       "      <th>327160</th>\n",
       "      <td>1</td>\n",
       "      <td>TOTL</td>\n",
       "      <td>ALL</td>\n",
       "      <td>23000.0</td>\n",
       "      <td>2023-04-27 18:00:03</td>\n",
       "      <td>coln</td>\n",
       "      <td>202303241069471</td>\n",
       "    </tr>\n",
       "    <tr>\n",
       "      <th>327171</th>\n",
       "      <td>1</td>\n",
       "      <td>TOTL</td>\n",
       "      <td>ALL</td>\n",
       "      <td>33100.0</td>\n",
       "      <td>2023-05-04 18:00:11</td>\n",
       "      <td>fina</td>\n",
       "      <td>202303311069871</td>\n",
       "    </tr>\n",
       "    <tr>\n",
       "      <th>327189</th>\n",
       "      <td>1</td>\n",
       "      <td>TOTL</td>\n",
       "      <td>ALL</td>\n",
       "      <td>32.0</td>\n",
       "      <td>2023-05-11 18:00:35</td>\n",
       "      <td>coln</td>\n",
       "      <td>202304101070311</td>\n",
       "    </tr>\n",
       "  </tbody>\n",
       "</table>\n",
       "<p>22559 rows × 7 columns</p>\n",
       "</div>"
      ],
      "text/plain": [
       "        crew_no flight_type flight_craft  flight_hours            lchg_date  \\\n",
       "12            1        TOTL          ALL         705.0  2020-09-25 18:05:31   \n",
       "34            1        TOTL          ALL        8300.0  2020-09-25 18:05:31   \n",
       "58            1        TOTL          ALL        1000.0  2020-09-25 18:05:31   \n",
       "64            1        TOTL          ALL       10571.0  2020-09-25 18:04:02   \n",
       "75            1        TOTL          ALL          18.0  2020-09-25 18:06:16   \n",
       "...         ...         ...          ...           ...                  ...   \n",
       "327105        2        TOTL          ALL         122.0  2023-04-20 18:02:40   \n",
       "327122        1        TOTL          ALL          74.0  2023-04-27 18:00:03   \n",
       "327160        1        TOTL          ALL       23000.0  2023-04-27 18:00:03   \n",
       "327171        1        TOTL          ALL       33100.0  2023-05-04 18:00:11   \n",
       "327189        1        TOTL          ALL          32.0  2023-05-11 18:00:35   \n",
       "\n",
       "       lchg_userid               id  \n",
       "12             NaN  20080107X000261  \n",
       "34             NaN  20080107X000262  \n",
       "58             NaN  20080109X000361  \n",
       "64             NaN  20080107X000271  \n",
       "75             NaN  20080115X000511  \n",
       "...            ...              ...  \n",
       "327105        coln  202303131068891  \n",
       "327122        coln  202303201069201  \n",
       "327160        coln  202303241069471  \n",
       "327171        fina  202303311069871  \n",
       "327189        coln  202304101070311  \n",
       "\n",
       "[22559 rows x 7 columns]"
      ]
     },
     "execution_count": 3,
     "metadata": {},
     "output_type": "execute_result"
    }
   ],
   "source": [
    "mask = flight_time_df['flight_craft'] == 'ALL' \n",
    "flight_time_df = flight_time_df[mask]\n",
    "\n",
    "mask_2 = flight_time_df['flight_type'] == 'TOTL'\n",
    "flight_time_df = flight_time_df[mask_2]\n",
    "\n",
    "flight_time_df['id'] = (flight_time_df['ev_id'].astype(str) + flight_time_df['Aircraft_Key'].astype(str)).astype('object')\n",
    "flight_time_df.drop(['ev_id', 'Aircraft_Key'], axis=1, inplace=True)\n",
    "\n",
    "flight_time_df"
   ]
  },
  {
   "cell_type": "code",
   "execution_count": 4,
   "metadata": {},
   "outputs": [
    {
     "data": {
      "text/html": [
       "<div>\n",
       "<style scoped>\n",
       "    .dataframe tbody tr th:only-of-type {\n",
       "        vertical-align: middle;\n",
       "    }\n",
       "\n",
       "    .dataframe tbody tr th {\n",
       "        vertical-align: top;\n",
       "    }\n",
       "\n",
       "    .dataframe thead th {\n",
       "        text-align: right;\n",
       "    }\n",
       "</style>\n",
       "<table border=\"1\" class=\"dataframe\">\n",
       "  <thead>\n",
       "    <tr style=\"text-align: right;\">\n",
       "      <th></th>\n",
       "      <th>crew_no</th>\n",
       "      <th>flight_type</th>\n",
       "      <th>flight_craft</th>\n",
       "      <th>flight_hours</th>\n",
       "      <th>lchg_date</th>\n",
       "      <th>lchg_userid</th>\n",
       "      <th>id</th>\n",
       "    </tr>\n",
       "  </thead>\n",
       "  <tbody>\n",
       "    <tr>\n",
       "      <th>12</th>\n",
       "      <td>1</td>\n",
       "      <td>TOTL</td>\n",
       "      <td>ALL</td>\n",
       "      <td>705.0</td>\n",
       "      <td>2020-09-25 18:05:31</td>\n",
       "      <td>NaN</td>\n",
       "      <td>20080107X000261</td>\n",
       "    </tr>\n",
       "    <tr>\n",
       "      <th>34</th>\n",
       "      <td>1</td>\n",
       "      <td>TOTL</td>\n",
       "      <td>ALL</td>\n",
       "      <td>8300.0</td>\n",
       "      <td>2020-09-25 18:05:31</td>\n",
       "      <td>NaN</td>\n",
       "      <td>20080107X000262</td>\n",
       "    </tr>\n",
       "    <tr>\n",
       "      <th>58</th>\n",
       "      <td>1</td>\n",
       "      <td>TOTL</td>\n",
       "      <td>ALL</td>\n",
       "      <td>1000.0</td>\n",
       "      <td>2020-09-25 18:05:31</td>\n",
       "      <td>NaN</td>\n",
       "      <td>20080109X000361</td>\n",
       "    </tr>\n",
       "    <tr>\n",
       "      <th>64</th>\n",
       "      <td>1</td>\n",
       "      <td>TOTL</td>\n",
       "      <td>ALL</td>\n",
       "      <td>10571.0</td>\n",
       "      <td>2020-09-25 18:04:02</td>\n",
       "      <td>NaN</td>\n",
       "      <td>20080107X000271</td>\n",
       "    </tr>\n",
       "    <tr>\n",
       "      <th>75</th>\n",
       "      <td>1</td>\n",
       "      <td>TOTL</td>\n",
       "      <td>ALL</td>\n",
       "      <td>18.0</td>\n",
       "      <td>2020-09-25 18:06:16</td>\n",
       "      <td>NaN</td>\n",
       "      <td>20080115X000511</td>\n",
       "    </tr>\n",
       "  </tbody>\n",
       "</table>\n",
       "</div>"
      ],
      "text/plain": [
       "    crew_no flight_type flight_craft  flight_hours            lchg_date  \\\n",
       "12        1        TOTL          ALL         705.0  2020-09-25 18:05:31   \n",
       "34        1        TOTL          ALL        8300.0  2020-09-25 18:05:31   \n",
       "58        1        TOTL          ALL        1000.0  2020-09-25 18:05:31   \n",
       "64        1        TOTL          ALL       10571.0  2020-09-25 18:04:02   \n",
       "75        1        TOTL          ALL          18.0  2020-09-25 18:06:16   \n",
       "\n",
       "   lchg_userid               id  \n",
       "12         NaN  20080107X000261  \n",
       "34         NaN  20080107X000262  \n",
       "58         NaN  20080109X000361  \n",
       "64         NaN  20080107X000271  \n",
       "75         NaN  20080115X000511  "
      ]
     },
     "execution_count": 4,
     "metadata": {},
     "output_type": "execute_result"
    }
   ],
   "source": [
    "flight_time_df.head()"
   ]
  },
  {
   "cell_type": "code",
   "execution_count": 5,
   "metadata": {},
   "outputs": [],
   "source": [
    "flight_time_df.set_index('id', inplace=True)\n",
    "flight_hours_mean = pd.DataFrame(flight_time_df['flight_hours'].groupby('id').mean())\n",
    "flight_hours_mean.columns = ['flight_hours_mean']"
   ]
  },
  {
   "cell_type": "code",
   "execution_count": 6,
   "metadata": {},
   "outputs": [
    {
     "data": {
      "text/html": [
       "<div>\n",
       "<style scoped>\n",
       "    .dataframe tbody tr th:only-of-type {\n",
       "        vertical-align: middle;\n",
       "    }\n",
       "\n",
       "    .dataframe tbody tr th {\n",
       "        vertical-align: top;\n",
       "    }\n",
       "\n",
       "    .dataframe thead th {\n",
       "        text-align: right;\n",
       "    }\n",
       "</style>\n",
       "<table border=\"1\" class=\"dataframe\">\n",
       "  <thead>\n",
       "    <tr style=\"text-align: right;\">\n",
       "      <th></th>\n",
       "      <th>flight_type</th>\n",
       "      <th>flight_craft</th>\n",
       "    </tr>\n",
       "    <tr>\n",
       "      <th>id</th>\n",
       "      <th></th>\n",
       "      <th></th>\n",
       "    </tr>\n",
       "  </thead>\n",
       "  <tbody>\n",
       "    <tr>\n",
       "      <th>20080107X000261</th>\n",
       "      <td>TOTL</td>\n",
       "      <td>ALL</td>\n",
       "    </tr>\n",
       "    <tr>\n",
       "      <th>20080107X000262</th>\n",
       "      <td>TOTL</td>\n",
       "      <td>ALL</td>\n",
       "    </tr>\n",
       "    <tr>\n",
       "      <th>20080109X000361</th>\n",
       "      <td>TOTL</td>\n",
       "      <td>ALL</td>\n",
       "    </tr>\n",
       "    <tr>\n",
       "      <th>20080107X000271</th>\n",
       "      <td>TOTL</td>\n",
       "      <td>ALL</td>\n",
       "    </tr>\n",
       "    <tr>\n",
       "      <th>20080115X000511</th>\n",
       "      <td>TOTL</td>\n",
       "      <td>ALL</td>\n",
       "    </tr>\n",
       "  </tbody>\n",
       "</table>\n",
       "</div>"
      ],
      "text/plain": [
       "                flight_type flight_craft\n",
       "id                                      \n",
       "20080107X000261        TOTL          ALL\n",
       "20080107X000262        TOTL          ALL\n",
       "20080109X000361        TOTL          ALL\n",
       "20080107X000271        TOTL          ALL\n",
       "20080115X000511        TOTL          ALL"
      ]
     },
     "execution_count": 6,
     "metadata": {},
     "output_type": "execute_result"
    }
   ],
   "source": [
    "flight_time_df = flight_time_df[['flight_type', 'flight_craft']]\n",
    "flight_time_df.head()"
   ]
  },
  {
   "cell_type": "code",
   "execution_count": 7,
   "metadata": {},
   "outputs": [
    {
     "data": {
      "text/html": [
       "<div>\n",
       "<style scoped>\n",
       "    .dataframe tbody tr th:only-of-type {\n",
       "        vertical-align: middle;\n",
       "    }\n",
       "\n",
       "    .dataframe tbody tr th {\n",
       "        vertical-align: top;\n",
       "    }\n",
       "\n",
       "    .dataframe thead th {\n",
       "        text-align: right;\n",
       "    }\n",
       "</style>\n",
       "<table border=\"1\" class=\"dataframe\">\n",
       "  <thead>\n",
       "    <tr style=\"text-align: right;\">\n",
       "      <th></th>\n",
       "      <th>flight_hours_mean</th>\n",
       "    </tr>\n",
       "    <tr>\n",
       "      <th>id</th>\n",
       "      <th></th>\n",
       "    </tr>\n",
       "  </thead>\n",
       "  <tbody>\n",
       "    <tr>\n",
       "      <th>20080107X000261</th>\n",
       "      <td>705.0</td>\n",
       "    </tr>\n",
       "    <tr>\n",
       "      <th>20080107X000262</th>\n",
       "      <td>8300.0</td>\n",
       "    </tr>\n",
       "    <tr>\n",
       "      <th>20080107X000271</th>\n",
       "      <td>10571.0</td>\n",
       "    </tr>\n",
       "    <tr>\n",
       "      <th>20080109X000361</th>\n",
       "      <td>1000.0</td>\n",
       "    </tr>\n",
       "    <tr>\n",
       "      <th>20080114X000441</th>\n",
       "      <td>537.0</td>\n",
       "    </tr>\n",
       "    <tr>\n",
       "      <th>...</th>\n",
       "      <td>...</td>\n",
       "    </tr>\n",
       "    <tr>\n",
       "      <th>202303131068891</th>\n",
       "      <td>122.0</td>\n",
       "    </tr>\n",
       "    <tr>\n",
       "      <th>202303201069201</th>\n",
       "      <td>74.0</td>\n",
       "    </tr>\n",
       "    <tr>\n",
       "      <th>202303241069471</th>\n",
       "      <td>23000.0</td>\n",
       "    </tr>\n",
       "    <tr>\n",
       "      <th>202303311069871</th>\n",
       "      <td>33100.0</td>\n",
       "    </tr>\n",
       "    <tr>\n",
       "      <th>202304101070311</th>\n",
       "      <td>32.0</td>\n",
       "    </tr>\n",
       "  </tbody>\n",
       "</table>\n",
       "<p>19552 rows × 1 columns</p>\n",
       "</div>"
      ],
      "text/plain": [
       "                 flight_hours_mean\n",
       "id                                \n",
       "20080107X000261              705.0\n",
       "20080107X000262             8300.0\n",
       "20080107X000271            10571.0\n",
       "20080109X000361             1000.0\n",
       "20080114X000441              537.0\n",
       "...                            ...\n",
       "202303131068891              122.0\n",
       "202303201069201               74.0\n",
       "202303241069471            23000.0\n",
       "202303311069871            33100.0\n",
       "202304101070311               32.0\n",
       "\n",
       "[19552 rows x 1 columns]"
      ]
     },
     "execution_count": 7,
     "metadata": {},
     "output_type": "execute_result"
    }
   ],
   "source": [
    "flight_hours_mean"
   ]
  },
  {
   "cell_type": "code",
   "execution_count": 8,
   "metadata": {},
   "outputs": [],
   "source": [
    "flight_time_mean = flight_hours_mean.join(flight_time_df, how='inner')\n",
    "flight_time_mean = flight_time_mean[~flight_time_mean.index.duplicated(keep='first')]"
   ]
  },
  {
   "cell_type": "code",
   "execution_count": 9,
   "metadata": {},
   "outputs": [],
   "source": [
    "# ADV - Dropped filtered columns ('flight_type' & 'flight_craft')\n",
    "flight_time_mean.drop(['flight_type', 'flight_craft'], axis=1, inplace=True)"
   ]
  },
  {
   "cell_type": "code",
   "execution_count": 10,
   "metadata": {},
   "outputs": [
    {
     "data": {
      "text/plain": [
       "(19552, 1)"
      ]
     },
     "execution_count": 10,
     "metadata": {},
     "output_type": "execute_result"
    }
   ],
   "source": [
    "flight_time_mean.shape"
   ]
  },
  {
   "attachments": {},
   "cell_type": "markdown",
   "metadata": {},
   "source": [
    "## Flight crew"
   ]
  },
  {
   "cell_type": "code",
   "execution_count": 11,
   "metadata": {},
   "outputs": [],
   "source": [
    "# ADV - Added 'crew_no' to enable boolean mask\n",
    "flight_crew_df = flight_crew_df[['ev_id', 'Aircraft_Key', 'crew_no', 'crew_category', 'crew_sex', 'pc_profession', 'crew_tox_perf', 'mr_faa_med_certf', 'available_restraint']]"
   ]
  },
  {
   "cell_type": "code",
   "execution_count": 12,
   "metadata": {},
   "outputs": [],
   "source": [
    "# ADV - Changed mask to return unique rows & more categories for 'crew_category'\n",
    "mask = (flight_crew_df['crew_category'].isin(['PLT','DSTU','FLTI','CPLT','KPLT'])) & (flight_crew_df['crew_no'] == 1)\n",
    "flight_crew_df = flight_crew_df[mask]\n",
    "\n",
    "flight_crew_df['id'] = (flight_crew_df['ev_id'].astype(str) + flight_crew_df['Aircraft_Key'].astype(str)).astype('object')\n",
    "flight_crew_df.drop(['ev_id', 'Aircraft_Key'], axis=1, inplace=True)"
   ]
  },
  {
   "cell_type": "code",
   "execution_count": 13,
   "metadata": {},
   "outputs": [],
   "source": [
    "# ADV - Dropped filtered columns ('crew_no')\n",
    "flight_crew_df.drop(['crew_no'], axis=1, inplace=True)"
   ]
  },
  {
   "cell_type": "code",
   "execution_count": 14,
   "metadata": {},
   "outputs": [
    {
     "data": {
      "text/html": [
       "<div>\n",
       "<style scoped>\n",
       "    .dataframe tbody tr th:only-of-type {\n",
       "        vertical-align: middle;\n",
       "    }\n",
       "\n",
       "    .dataframe tbody tr th {\n",
       "        vertical-align: top;\n",
       "    }\n",
       "\n",
       "    .dataframe thead th {\n",
       "        text-align: right;\n",
       "    }\n",
       "</style>\n",
       "<table border=\"1\" class=\"dataframe\">\n",
       "  <thead>\n",
       "    <tr style=\"text-align: right;\">\n",
       "      <th></th>\n",
       "      <th>crew_category</th>\n",
       "      <th>crew_sex</th>\n",
       "      <th>pc_profession</th>\n",
       "      <th>crew_tox_perf</th>\n",
       "      <th>mr_faa_med_certf</th>\n",
       "      <th>available_restraint</th>\n",
       "    </tr>\n",
       "    <tr>\n",
       "      <th>id</th>\n",
       "      <th></th>\n",
       "      <th></th>\n",
       "      <th></th>\n",
       "      <th></th>\n",
       "      <th></th>\n",
       "      <th></th>\n",
       "    </tr>\n",
       "  </thead>\n",
       "  <tbody>\n",
       "    <tr>\n",
       "      <th>20080107X000261</th>\n",
       "      <td>PLT</td>\n",
       "      <td>M</td>\n",
       "      <td>No</td>\n",
       "      <td>N</td>\n",
       "      <td>NaN</td>\n",
       "      <td>NaN</td>\n",
       "    </tr>\n",
       "    <tr>\n",
       "      <th>20080107X000262</th>\n",
       "      <td>PLT</td>\n",
       "      <td>M</td>\n",
       "      <td>No</td>\n",
       "      <td>N</td>\n",
       "      <td>NaN</td>\n",
       "      <td>NaN</td>\n",
       "    </tr>\n",
       "    <tr>\n",
       "      <th>20080109X000361</th>\n",
       "      <td>PLT</td>\n",
       "      <td>F</td>\n",
       "      <td>No</td>\n",
       "      <td>N</td>\n",
       "      <td>NaN</td>\n",
       "      <td>NaN</td>\n",
       "    </tr>\n",
       "    <tr>\n",
       "      <th>20080107X000271</th>\n",
       "      <td>PLT</td>\n",
       "      <td>M</td>\n",
       "      <td>UNK</td>\n",
       "      <td>N</td>\n",
       "      <td>NaN</td>\n",
       "      <td>NaN</td>\n",
       "    </tr>\n",
       "    <tr>\n",
       "      <th>20080115X000511</th>\n",
       "      <td>DSTU</td>\n",
       "      <td>M</td>\n",
       "      <td>No</td>\n",
       "      <td>N</td>\n",
       "      <td>NaN</td>\n",
       "      <td>NaN</td>\n",
       "    </tr>\n",
       "  </tbody>\n",
       "</table>\n",
       "</div>"
      ],
      "text/plain": [
       "                crew_category crew_sex pc_profession crew_tox_perf  \\\n",
       "id                                                                   \n",
       "20080107X000261           PLT        M            No             N   \n",
       "20080107X000262           PLT        M            No             N   \n",
       "20080109X000361           PLT        F            No             N   \n",
       "20080107X000271           PLT        M           UNK             N   \n",
       "20080115X000511          DSTU        M            No             N   \n",
       "\n",
       "                mr_faa_med_certf available_restraint  \n",
       "id                                                    \n",
       "20080107X000261              NaN                 NaN  \n",
       "20080107X000262              NaN                 NaN  \n",
       "20080109X000361              NaN                 NaN  \n",
       "20080107X000271              NaN                 NaN  \n",
       "20080115X000511              NaN                 NaN  "
      ]
     },
     "execution_count": 14,
     "metadata": {},
     "output_type": "execute_result"
    }
   ],
   "source": [
    "flight_crew_df.set_index('id', inplace=True)\n",
    "flight_crew_df.head()"
   ]
  },
  {
   "cell_type": "code",
   "execution_count": 15,
   "metadata": {},
   "outputs": [
    {
     "data": {
      "text/plain": [
       "(20693, 6)"
      ]
     },
     "execution_count": 15,
     "metadata": {},
     "output_type": "execute_result"
    }
   ],
   "source": [
    "flight_crew_df.shape"
   ]
  },
  {
   "cell_type": "code",
   "execution_count": 16,
   "metadata": {},
   "outputs": [
    {
     "data": {
      "text/plain": [
       "(19474, 7)"
      ]
     },
     "execution_count": 16,
     "metadata": {},
     "output_type": "execute_result"
    }
   ],
   "source": [
    "flight_time_crew = flight_time_mean.join(flight_crew_df, how='inner')\n",
    "flight_time_crew.shape"
   ]
  },
  {
   "attachments": {},
   "cell_type": "markdown",
   "metadata": {},
   "source": [
    "## Aircraft"
   ]
  },
  {
   "cell_type": "code",
   "execution_count": 17,
   "metadata": {},
   "outputs": [],
   "source": [
    "aircraft_df = aircraft_df[['ev_id', 'Aircraft_Key', 'far_part', 'flt_plan_filed', 'acft_make',  'acft_model', 'total_seats', 'num_eng', 'fixed_retractable', 'cert_max_gr_wt', 'acft_category', 'homebuilt', 'type_last_insp', 'afm_hrs_last_insp', 'afm_hrs', 'elt_install', 'elt_type', 'oper_dba', 'certs_held', 'type_fly', 'second_pilot', 'dprt_apt_id', 'dprt_time', 'dest_apt_id', 'site_seeing', 'air_medical']]\n",
    "\n",
    "aircraft_df['id'] = (aircraft_df['ev_id'].astype(str) + aircraft_df['Aircraft_Key'].astype(str)).astype('object')\n",
    "aircraft_df.drop(['ev_id', 'Aircraft_Key'], axis=1, inplace=True)"
   ]
  },
  {
   "cell_type": "code",
   "execution_count": 18,
   "metadata": {},
   "outputs": [
    {
     "data": {
      "text/html": [
       "<div>\n",
       "<style scoped>\n",
       "    .dataframe tbody tr th:only-of-type {\n",
       "        vertical-align: middle;\n",
       "    }\n",
       "\n",
       "    .dataframe tbody tr th {\n",
       "        vertical-align: top;\n",
       "    }\n",
       "\n",
       "    .dataframe thead th {\n",
       "        text-align: right;\n",
       "    }\n",
       "</style>\n",
       "<table border=\"1\" class=\"dataframe\">\n",
       "  <thead>\n",
       "    <tr style=\"text-align: right;\">\n",
       "      <th></th>\n",
       "      <th>far_part</th>\n",
       "      <th>flt_plan_filed</th>\n",
       "      <th>acft_make</th>\n",
       "      <th>acft_model</th>\n",
       "      <th>total_seats</th>\n",
       "      <th>num_eng</th>\n",
       "      <th>fixed_retractable</th>\n",
       "      <th>cert_max_gr_wt</th>\n",
       "      <th>acft_category</th>\n",
       "      <th>homebuilt</th>\n",
       "      <th>...</th>\n",
       "      <th>elt_type</th>\n",
       "      <th>oper_dba</th>\n",
       "      <th>certs_held</th>\n",
       "      <th>type_fly</th>\n",
       "      <th>second_pilot</th>\n",
       "      <th>dprt_apt_id</th>\n",
       "      <th>dprt_time</th>\n",
       "      <th>dest_apt_id</th>\n",
       "      <th>site_seeing</th>\n",
       "      <th>air_medical</th>\n",
       "    </tr>\n",
       "    <tr>\n",
       "      <th>id</th>\n",
       "      <th></th>\n",
       "      <th></th>\n",
       "      <th></th>\n",
       "      <th></th>\n",
       "      <th></th>\n",
       "      <th></th>\n",
       "      <th></th>\n",
       "      <th></th>\n",
       "      <th></th>\n",
       "      <th></th>\n",
       "      <th></th>\n",
       "      <th></th>\n",
       "      <th></th>\n",
       "      <th></th>\n",
       "      <th></th>\n",
       "      <th></th>\n",
       "      <th></th>\n",
       "      <th></th>\n",
       "      <th></th>\n",
       "      <th></th>\n",
       "      <th></th>\n",
       "    </tr>\n",
       "  </thead>\n",
       "  <tbody>\n",
       "    <tr>\n",
       "      <th>20080211X001751</th>\n",
       "      <td>NUSN</td>\n",
       "      <td>NaN</td>\n",
       "      <td>Eurocopter France</td>\n",
       "      <td>AS350B3</td>\n",
       "      <td>NaN</td>\n",
       "      <td>NaN</td>\n",
       "      <td>FIXD</td>\n",
       "      <td>NaN</td>\n",
       "      <td>HELI</td>\n",
       "      <td>N</td>\n",
       "      <td>...</td>\n",
       "      <td>NaN</td>\n",
       "      <td>NaN</td>\n",
       "      <td>NaN</td>\n",
       "      <td>EXLD</td>\n",
       "      <td>NaN</td>\n",
       "      <td>NaN</td>\n",
       "      <td>NaN</td>\n",
       "      <td>NaN</td>\n",
       "      <td>N</td>\n",
       "      <td>N</td>\n",
       "    </tr>\n",
       "    <tr>\n",
       "      <th>20080107X000261</th>\n",
       "      <td>091</td>\n",
       "      <td>NONE</td>\n",
       "      <td>PIPER</td>\n",
       "      <td>PA 28-180</td>\n",
       "      <td>4.0</td>\n",
       "      <td>1.0</td>\n",
       "      <td>FIXD</td>\n",
       "      <td>2400.0</td>\n",
       "      <td>AIR</td>\n",
       "      <td>N</td>\n",
       "      <td>...</td>\n",
       "      <td>NaN</td>\n",
       "      <td>NaN</td>\n",
       "      <td>Y</td>\n",
       "      <td>PERS</td>\n",
       "      <td>N</td>\n",
       "      <td>O69</td>\n",
       "      <td>2200.0</td>\n",
       "      <td>OQ3</td>\n",
       "      <td>N</td>\n",
       "      <td>N</td>\n",
       "    </tr>\n",
       "    <tr>\n",
       "      <th>20080107X000262</th>\n",
       "      <td>091</td>\n",
       "      <td>NONE</td>\n",
       "      <td>Barnard/Stancil</td>\n",
       "      <td>Glastar</td>\n",
       "      <td>2.0</td>\n",
       "      <td>1.0</td>\n",
       "      <td>FIXD</td>\n",
       "      <td>1960.0</td>\n",
       "      <td>AIR</td>\n",
       "      <td>Y</td>\n",
       "      <td>...</td>\n",
       "      <td>NaN</td>\n",
       "      <td>NaN</td>\n",
       "      <td>Y</td>\n",
       "      <td>PERS</td>\n",
       "      <td>N</td>\n",
       "      <td>OQ3</td>\n",
       "      <td>2230.0</td>\n",
       "      <td>O70</td>\n",
       "      <td>N</td>\n",
       "      <td>N</td>\n",
       "    </tr>\n",
       "    <tr>\n",
       "      <th>20080109X000361</th>\n",
       "      <td>091</td>\n",
       "      <td>NONE</td>\n",
       "      <td>Micco Aircraft Company</td>\n",
       "      <td>MAC-145B</td>\n",
       "      <td>2.0</td>\n",
       "      <td>1.0</td>\n",
       "      <td>RETR</td>\n",
       "      <td>2850.0</td>\n",
       "      <td>AIR</td>\n",
       "      <td>N</td>\n",
       "      <td>...</td>\n",
       "      <td>NaN</td>\n",
       "      <td>NaN</td>\n",
       "      <td>Y</td>\n",
       "      <td>PERS</td>\n",
       "      <td>N</td>\n",
       "      <td>T20</td>\n",
       "      <td>2100.0</td>\n",
       "      <td>AXH</td>\n",
       "      <td>N</td>\n",
       "      <td>N</td>\n",
       "    </tr>\n",
       "    <tr>\n",
       "      <th>20080107X000271</th>\n",
       "      <td>091</td>\n",
       "      <td>IFR</td>\n",
       "      <td>Pilatus</td>\n",
       "      <td>PC-12/45</td>\n",
       "      <td>9.0</td>\n",
       "      <td>1.0</td>\n",
       "      <td>RETR</td>\n",
       "      <td>9920.0</td>\n",
       "      <td>AIR</td>\n",
       "      <td>N</td>\n",
       "      <td>...</td>\n",
       "      <td>NaN</td>\n",
       "      <td>NaN</td>\n",
       "      <td>Y</td>\n",
       "      <td>PERS</td>\n",
       "      <td>N</td>\n",
       "      <td>PHX</td>\n",
       "      <td>400.0</td>\n",
       "      <td>PWA</td>\n",
       "      <td>N</td>\n",
       "      <td>N</td>\n",
       "    </tr>\n",
       "  </tbody>\n",
       "</table>\n",
       "<p>5 rows × 24 columns</p>\n",
       "</div>"
      ],
      "text/plain": [
       "                far_part flt_plan_filed               acft_make acft_model  \\\n",
       "id                                                                           \n",
       "20080211X001751     NUSN            NaN       Eurocopter France    AS350B3   \n",
       "20080107X000261      091           NONE                   PIPER  PA 28-180   \n",
       "20080107X000262      091           NONE         Barnard/Stancil    Glastar   \n",
       "20080109X000361      091           NONE  Micco Aircraft Company   MAC-145B   \n",
       "20080107X000271      091            IFR                 Pilatus   PC-12/45   \n",
       "\n",
       "                 total_seats  num_eng fixed_retractable  cert_max_gr_wt  \\\n",
       "id                                                                        \n",
       "20080211X001751          NaN      NaN              FIXD             NaN   \n",
       "20080107X000261          4.0      1.0              FIXD          2400.0   \n",
       "20080107X000262          2.0      1.0              FIXD          1960.0   \n",
       "20080109X000361          2.0      1.0              RETR          2850.0   \n",
       "20080107X000271          9.0      1.0              RETR          9920.0   \n",
       "\n",
       "                acft_category homebuilt  ... elt_type  oper_dba  certs_held  \\\n",
       "id                                       ...                                  \n",
       "20080211X001751          HELI         N  ...      NaN       NaN         NaN   \n",
       "20080107X000261           AIR         N  ...      NaN       NaN           Y   \n",
       "20080107X000262           AIR         Y  ...      NaN       NaN           Y   \n",
       "20080109X000361           AIR         N  ...      NaN       NaN           Y   \n",
       "20080107X000271           AIR         N  ...      NaN       NaN           Y   \n",
       "\n",
       "                type_fly second_pilot dprt_apt_id dprt_time dest_apt_id  \\\n",
       "id                                                                        \n",
       "20080211X001751     EXLD          NaN         NaN       NaN         NaN   \n",
       "20080107X000261     PERS            N        O69     2200.0        OQ3    \n",
       "20080107X000262     PERS            N        OQ3     2230.0        O70    \n",
       "20080109X000361     PERS            N        T20     2100.0        AXH    \n",
       "20080107X000271     PERS            N        PHX      400.0        PWA    \n",
       "\n",
       "                site_seeing air_medical  \n",
       "id                                       \n",
       "20080211X001751           N           N  \n",
       "20080107X000261           N           N  \n",
       "20080107X000262           N           N  \n",
       "20080109X000361           N           N  \n",
       "20080107X000271           N           N  \n",
       "\n",
       "[5 rows x 24 columns]"
      ]
     },
     "execution_count": 18,
     "metadata": {},
     "output_type": "execute_result"
    }
   ],
   "source": [
    "aircraft_df.set_index('id', inplace=True)\n",
    "aircraft_df.head()"
   ]
  },
  {
   "cell_type": "code",
   "execution_count": 19,
   "metadata": {},
   "outputs": [
    {
     "data": {
      "text/plain": [
       "(26064, 24)"
      ]
     },
     "execution_count": 19,
     "metadata": {},
     "output_type": "execute_result"
    }
   ],
   "source": [
    "# ADV - Checking shape\n",
    "aircraft_df.shape"
   ]
  },
  {
   "cell_type": "code",
   "execution_count": 20,
   "metadata": {},
   "outputs": [
    {
     "data": {
      "text/plain": [
       "(19474, 31)"
      ]
     },
     "execution_count": 20,
     "metadata": {},
     "output_type": "execute_result"
    }
   ],
   "source": [
    "aircraft_fc_ft = aircraft_df.join(flight_time_crew, how='inner')\n",
    "aircraft_fc_ft.shape"
   ]
  },
  {
   "attachments": {},
   "cell_type": "markdown",
   "metadata": {},
   "source": [
    "## Engines"
   ]
  },
  {
   "cell_type": "code",
   "execution_count": 21,
   "metadata": {},
   "outputs": [
    {
     "data": {
      "text/plain": [
       "(23669, 14)"
      ]
     },
     "execution_count": 21,
     "metadata": {},
     "output_type": "execute_result"
    }
   ],
   "source": [
    "engines_df.shape"
   ]
  },
  {
   "cell_type": "code",
   "execution_count": 22,
   "metadata": {},
   "outputs": [],
   "source": [
    "engines_df.drop(columns=[\"Unnamed: 0\", \"eng_time_total\", \"eng_time_last_insp\", \"eng_time_overhaul\"], inplace=True)\n",
    "\n",
    "mask = engines_df['eng_no'] == 1 \n",
    "engines_df = engines_df[mask]\n",
    "\n",
    "engines_df['id'] = (engines_df['ev_id'].astype(str) + engines_df['Aircraft_Key'].astype(str)).astype('object')\n",
    "engines_df.drop(['ev_id', 'Aircraft_Key'], axis=1, inplace=True)\n",
    "engines_df.set_index('id', inplace=True)"
   ]
  },
  {
   "cell_type": "code",
   "execution_count": 23,
   "metadata": {},
   "outputs": [
    {
     "data": {
      "text/plain": [
       "(20876, 8)"
      ]
     },
     "execution_count": 23,
     "metadata": {},
     "output_type": "execute_result"
    }
   ],
   "source": [
    "engines_df.shape"
   ]
  },
  {
   "attachments": {},
   "cell_type": "markdown",
   "metadata": {},
   "source": [
    "## Wingman X and y"
   ]
  },
  {
   "cell_type": "code",
   "execution_count": 24,
   "metadata": {},
   "outputs": [],
   "source": [
    "X = aircraft_fc_ft.join(engines_df, how='inner')"
   ]
  },
  {
   "cell_type": "code",
   "execution_count": 25,
   "metadata": {},
   "outputs": [
    {
     "data": {
      "text/plain": [
       "(18893, 39)"
      ]
     },
     "execution_count": 25,
     "metadata": {},
     "output_type": "execute_result"
    }
   ],
   "source": [
    "X.shape"
   ]
  },
  {
   "cell_type": "code",
   "execution_count": 26,
   "metadata": {},
   "outputs": [],
   "source": [
    "# ADV - Added code on line 4 to drop 'phase_no' column from target table\n",
    "\n",
    "y = events_sequence_df.copy()\n",
    "y.drop(['phase_no'], axis=1, inplace=True)\n",
    "y.set_index('id', inplace=True)"
   ]
  },
  {
   "cell_type": "code",
   "execution_count": 27,
   "metadata": {},
   "outputs": [],
   "source": [
    "# ADV - Commented out code intended to remove duplicates\n",
    "\n",
    "wingman_data = y.join(X, how='inner')\n",
    "# wingman_data = wingman_data[~wingman_data.index.duplicated(keep='first')]"
   ]
  },
  {
   "cell_type": "code",
   "execution_count": 28,
   "metadata": {},
   "outputs": [
    {
     "data": {
      "text/html": [
       "<div>\n",
       "<style scoped>\n",
       "    .dataframe tbody tr th:only-of-type {\n",
       "        vertical-align: middle;\n",
       "    }\n",
       "\n",
       "    .dataframe tbody tr th {\n",
       "        vertical-align: top;\n",
       "    }\n",
       "\n",
       "    .dataframe thead th {\n",
       "        text-align: right;\n",
       "    }\n",
       "</style>\n",
       "<table border=\"1\" class=\"dataframe\">\n",
       "  <thead>\n",
       "    <tr style=\"text-align: right;\">\n",
       "      <th></th>\n",
       "      <th>eventsoe_no</th>\n",
       "      <th>far_part</th>\n",
       "      <th>flt_plan_filed</th>\n",
       "      <th>acft_make</th>\n",
       "      <th>acft_model</th>\n",
       "      <th>total_seats</th>\n",
       "      <th>num_eng</th>\n",
       "      <th>fixed_retractable</th>\n",
       "      <th>cert_max_gr_wt</th>\n",
       "      <th>acft_category</th>\n",
       "      <th>...</th>\n",
       "      <th>mr_faa_med_certf</th>\n",
       "      <th>available_restraint</th>\n",
       "      <th>eng_no</th>\n",
       "      <th>eng_type</th>\n",
       "      <th>eng_mfgr</th>\n",
       "      <th>eng_model</th>\n",
       "      <th>power_units</th>\n",
       "      <th>hp_or_lbs</th>\n",
       "      <th>carb_fuel_injection</th>\n",
       "      <th>propeller_type</th>\n",
       "    </tr>\n",
       "    <tr>\n",
       "      <th>id</th>\n",
       "      <th></th>\n",
       "      <th></th>\n",
       "      <th></th>\n",
       "      <th></th>\n",
       "      <th></th>\n",
       "      <th></th>\n",
       "      <th></th>\n",
       "      <th></th>\n",
       "      <th></th>\n",
       "      <th></th>\n",
       "      <th></th>\n",
       "      <th></th>\n",
       "      <th></th>\n",
       "      <th></th>\n",
       "      <th></th>\n",
       "      <th></th>\n",
       "      <th></th>\n",
       "      <th></th>\n",
       "      <th></th>\n",
       "      <th></th>\n",
       "      <th></th>\n",
       "    </tr>\n",
       "  </thead>\n",
       "  <tbody>\n",
       "  </tbody>\n",
       "</table>\n",
       "<p>0 rows × 40 columns</p>\n",
       "</div>"
      ],
      "text/plain": [
       "Empty DataFrame\n",
       "Columns: [eventsoe_no, far_part, flt_plan_filed, acft_make, acft_model, total_seats, num_eng, fixed_retractable, cert_max_gr_wt, acft_category, homebuilt, type_last_insp, afm_hrs_last_insp, afm_hrs, elt_install, elt_type, oper_dba, certs_held, type_fly, second_pilot, dprt_apt_id, dprt_time, dest_apt_id, site_seeing, air_medical, flight_hours_mean, crew_category, crew_sex, pc_profession, crew_tox_perf, mr_faa_med_certf, available_restraint, eng_no, eng_type, eng_mfgr, eng_model, power_units, hp_or_lbs, carb_fuel_injection, propeller_type]\n",
       "Index: []\n",
       "\n",
       "[0 rows x 40 columns]"
      ]
     },
     "execution_count": 28,
     "metadata": {},
     "output_type": "execute_result"
    }
   ],
   "source": [
    "# ADV - Code to return df of duplicated index entries (i.e check none exist)\n",
    "wingman_data[wingman_data.index.to_series().duplicated(keep=False)]"
   ]
  },
  {
   "cell_type": "code",
   "execution_count": 29,
   "metadata": {},
   "outputs": [
    {
     "data": {
      "text/plain": [
       "(18811, 40)"
      ]
     },
     "execution_count": 29,
     "metadata": {},
     "output_type": "execute_result"
    }
   ],
   "source": [
    "wingman_data.shape"
   ]
  },
  {
   "cell_type": "code",
   "execution_count": 30,
   "metadata": {},
   "outputs": [
    {
     "data": {
      "text/plain": [
       "((18811, 40), (25154, 3))"
      ]
     },
     "execution_count": 30,
     "metadata": {},
     "output_type": "execute_result"
    }
   ],
   "source": [
    "wingman_data.shape, events_sequence_df.shape"
   ]
  },
  {
   "cell_type": "code",
   "execution_count": 31,
   "metadata": {},
   "outputs": [
    {
     "data": {
      "text/html": [
       "<div>\n",
       "<style scoped>\n",
       "    .dataframe tbody tr th:only-of-type {\n",
       "        vertical-align: middle;\n",
       "    }\n",
       "\n",
       "    .dataframe tbody tr th {\n",
       "        vertical-align: top;\n",
       "    }\n",
       "\n",
       "    .dataframe thead th {\n",
       "        text-align: right;\n",
       "    }\n",
       "</style>\n",
       "<table border=\"1\" class=\"dataframe\">\n",
       "  <thead>\n",
       "    <tr style=\"text-align: right;\">\n",
       "      <th></th>\n",
       "      <th>eventsoe_no</th>\n",
       "    </tr>\n",
       "    <tr>\n",
       "      <th>id</th>\n",
       "      <th></th>\n",
       "    </tr>\n",
       "  </thead>\n",
       "  <tbody>\n",
       "    <tr>\n",
       "      <th>20080107X000261</th>\n",
       "      <td>250</td>\n",
       "    </tr>\n",
       "    <tr>\n",
       "      <th>20080107X000262</th>\n",
       "      <td>250</td>\n",
       "    </tr>\n",
       "    <tr>\n",
       "      <th>20080109X000361</th>\n",
       "      <td>230</td>\n",
       "    </tr>\n",
       "    <tr>\n",
       "      <th>20080107X000271</th>\n",
       "      <td>81</td>\n",
       "    </tr>\n",
       "    <tr>\n",
       "      <th>20080115X000511</th>\n",
       "      <td>240</td>\n",
       "    </tr>\n",
       "  </tbody>\n",
       "</table>\n",
       "</div>"
      ],
      "text/plain": [
       "                 eventsoe_no\n",
       "id                          \n",
       "20080107X000261          250\n",
       "20080107X000262          250\n",
       "20080109X000361          230\n",
       "20080107X000271           81\n",
       "20080115X000511          240"
      ]
     },
     "execution_count": 31,
     "metadata": {},
     "output_type": "execute_result"
    }
   ],
   "source": [
    "# ADV - Dropped 'phase_no' column from events_sequence_df\n",
    " \n",
    "events_sequence_df.set_index('id', inplace=True)\n",
    "events_sequence_df.drop(['phase_no'], axis=1, inplace=True)\n",
    "events_sequence_df.head()"
   ]
  },
  {
   "cell_type": "code",
   "execution_count": 32,
   "metadata": {},
   "outputs": [],
   "source": [
    "wingman_data_indices = list(wingman_data.index)\n",
    "events_sequence_indices = list(events_sequence_df.index)"
   ]
  },
  {
   "cell_type": "code",
   "execution_count": 33,
   "metadata": {},
   "outputs": [],
   "source": [
    "missing_indices = [i for i in events_sequence_indices if i not in wingman_data_indices]"
   ]
  },
  {
   "cell_type": "code",
   "execution_count": 34,
   "metadata": {},
   "outputs": [
    {
     "data": {
      "text/plain": [
       "6343"
      ]
     },
     "execution_count": 34,
     "metadata": {},
     "output_type": "execute_result"
    }
   ],
   "source": [
    "# ADV - Code returning sum of missing indices\n",
    "len(missing_indices)"
   ]
  },
  {
   "cell_type": "code",
   "execution_count": 35,
   "metadata": {},
   "outputs": [],
   "source": [
    "# ADV - Write to CSV\n",
    "\n",
    "import os\n",
    " \n",
    "output_directory = r\"/home/aaron/code/AaronDV17/wingman-project/raw_data/trimmed_data\"\n",
    "\n",
    "output_file = os.path.join(output_directory, \"wingman_data.csv\")\n",
    "\n",
    "pd.DataFrame.to_csv(wingman_data, output_file)"
   ]
  }
 ],
 "metadata": {
  "kernelspec": {
   "display_name": "wingman",
   "language": "python",
   "name": "python3"
  },
  "language_info": {
   "codemirror_mode": {
    "name": "ipython",
    "version": 3
   },
   "file_extension": ".py",
   "mimetype": "text/x-python",
   "name": "python",
   "nbconvert_exporter": "python",
   "pygments_lexer": "ipython3",
   "version": "3.10.6"
  },
  "orig_nbformat": 4
 },
 "nbformat": 4,
 "nbformat_minor": 2
}
