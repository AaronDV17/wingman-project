{
 "cells": [
  {
   "attachments": {},
   "cell_type": "markdown",
   "metadata": {},
   "source": [
    "## Imports"
   ]
  },
  {
   "cell_type": "code",
   "execution_count": 1,
   "metadata": {},
   "outputs": [],
   "source": [
    "# IMPORTS\n",
    "import pandas as pd\n",
    "import numpy as np\n",
    "\n",
    "import seaborn as sns\n",
    "import matplotlib.pyplot as plt\n",
    "\n",
    "from sklearn.preprocessing import OneHotEncoder\n",
    "from sklearn.preprocessing import LabelEncoder\n",
    "from sklearn.preprocessing import OrdinalEncoder"
   ]
  },
  {
   "attachments": {},
   "cell_type": "markdown",
   "metadata": {},
   "source": [
    "## Load Data"
   ]
  },
  {
   "cell_type": "code",
   "execution_count": 2,
   "metadata": {},
   "outputs": [],
   "source": [
    "wingman_df = pd.read_csv('../raw_data/trimmed_data/wingman_data_cleaned.csv')"
   ]
  },
  {
   "attachments": {},
   "cell_type": "markdown",
   "metadata": {},
   "source": [
    "## Process"
   ]
  },
  {
   "attachments": {},
   "cell_type": "markdown",
   "metadata": {},
   "source": [
    "### HP & Power Columns"
   ]
  },
  {
   "cell_type": "code",
   "execution_count": 3,
   "metadata": {},
   "outputs": [
    {
     "data": {
      "text/plain": [
       "Index(['id', 'eventsoe_no', 'far_part', 'acft_make', 'acft_model',\n",
       "       'fixed_retractable', 'acft_category', 'homebuilt', 'flight_hours_mean',\n",
       "       'crew_category', 'power_units', 'hp_or_lbs', 'dprt_time',\n",
       "       'cert_max_gr_wt', 'afm_hrs', 'total_seats', 'num_eng', 'type_last_insp',\n",
       "       'second_pilot', 'site_seeing', 'air_medical', 'crew_sex', 'certs_held',\n",
       "       'dprt_apt_id', 'dest_apt_id', 'flt_plan_filed', 'pc_profession',\n",
       "       'eng_type', 'carb_fuel_injection', 'type_fly', 'eng_mfgr'],\n",
       "      dtype='object')"
      ]
     },
     "execution_count": 3,
     "metadata": {},
     "output_type": "execute_result"
    }
   ],
   "source": [
    "wingman_df.columns"
   ]
  },
  {
   "cell_type": "code",
   "execution_count": 4,
   "metadata": {},
   "outputs": [
    {
     "data": {
      "text/plain": [
       "HP     16722\n",
       "LBS      525\n",
       "Name: hp_or_lbs, dtype: int64"
      ]
     },
     "execution_count": 4,
     "metadata": {},
     "output_type": "execute_result"
    }
   ],
   "source": [
    "wingman_df['hp_or_lbs'].value_counts()"
   ]
  },
  {
   "cell_type": "code",
   "execution_count": 5,
   "metadata": {},
   "outputs": [
    {
     "data": {
      "text/plain": [
       "1560"
      ]
     },
     "execution_count": 5,
     "metadata": {},
     "output_type": "execute_result"
    }
   ],
   "source": [
    "wingman_df['hp_or_lbs'].isnull().sum()"
   ]
  },
  {
   "cell_type": "code",
   "execution_count": 6,
   "metadata": {},
   "outputs": [],
   "source": [
    "mask = wingman_df['hp_or_lbs'] == 'HP'\n",
    "\n",
    "wingman_df = wingman_df[mask]\n",
    "\n",
    "wingman_df.drop(columns=['hp_or_lbs'], axis=1, inplace=True)"
   ]
  },
  {
   "cell_type": "code",
   "execution_count": 7,
   "metadata": {},
   "outputs": [
    {
     "data": {
      "text/plain": [
       "<AxesSubplot: >"
      ]
     },
     "execution_count": 7,
     "metadata": {},
     "output_type": "execute_result"
    },
    {
     "data": {
      "image/png": "[encoded data removed]",
      "text/plain": [
       "<Figure size 640x480 with 1 Axes>"
      ]
     },
     "metadata": {},
     "output_type": "display_data"
    }
   ],
   "source": [
    "wingman_df.boxplot(column='power_units')"
   ]
  },
  {
   "cell_type": "code",
   "execution_count": 8,
   "metadata": {},
   "outputs": [
    {
     "data": {
      "text/plain": [
       "count    16497.000000\n",
       "mean       301.231921\n",
       "std        946.124804\n",
       "min          0.000000\n",
       "25%        145.000000\n",
       "50%        180.000000\n",
       "75%        300.000000\n",
       "max      72195.000000\n",
       "Name: power_units, dtype: float64"
      ]
     },
     "execution_count": 8,
     "metadata": {},
     "output_type": "execute_result"
    }
   ],
   "source": [
    "wingman_df['power_units'].describe()"
   ]
  },
  {
   "cell_type": "code",
   "execution_count": 9,
   "metadata": {},
   "outputs": [
    {
     "data": {
      "text/plain": [
       "225"
      ]
     },
     "execution_count": 9,
     "metadata": {},
     "output_type": "execute_result"
    }
   ],
   "source": [
    "wingman_df['power_units'].isnull().sum()"
   ]
  },
  {
   "cell_type": "code",
   "execution_count": 10,
   "metadata": {},
   "outputs": [],
   "source": [
    "# Impute with median\n",
    "wingman_df['power_units'].fillna(wingman_df['power_units'].median(), inplace=True)"
   ]
  },
  {
   "attachments": {},
   "cell_type": "markdown",
   "metadata": {},
   "source": [
    "### Misc"
   ]
  },
  {
   "cell_type": "code",
   "execution_count": 13,
   "metadata": {},
   "outputs": [],
   "source": [
    "df = wingman_df.copy()"
   ]
  },
  {
   "cell_type": "code",
   "execution_count": 14,
   "metadata": {},
   "outputs": [],
   "source": [
    "df['acft_make'] = wingman_df['acft_make'].astype('category')"
   ]
  },
  {
   "cell_type": "code",
   "execution_count": 15,
   "metadata": {},
   "outputs": [
    {
     "data": {
      "text/plain": [
       "CESSNA                         3791\n",
       "PIPER                          2244\n",
       "BEECH                           746\n",
       "Cessna                          717\n",
       "Piper                           444\n",
       "BELL                            341\n",
       "ROBINSON HELICOPTER             200\n",
       "MOONEY                          182\n",
       "CIRRUS DESIGN CORP              175\n",
       "AIR TRACTOR INC                 173\n",
       "Beech                           165\n",
       "ROBINSON HELICOPTER COMPANY     148\n",
       "BELLANCA                        141\n",
       "MAULE                           131\n",
       "AERONCA                         124\n",
       "BOEING                          115\n",
       "HUGHES                           99\n",
       "EUROCOPTER                       86\n",
       "LUSCOMBE                         85\n",
       "Robinson                         84\n",
       "STINSON                          83\n",
       "DEHAVILLAND                      79\n",
       "CHAMPION                         76\n",
       "NORTH AMERICAN                   68\n",
       "AVIAT AIRCRAFT INC               67\n",
       "Name: acft_make, dtype: int64"
      ]
     },
     "execution_count": 15,
     "metadata": {},
     "output_type": "execute_result"
    }
   ],
   "source": [
    "df[\"acft_make\"].value_counts().head(25)"
   ]
  },
  {
   "cell_type": "code",
   "execution_count": 16,
   "metadata": {},
   "outputs": [
    {
     "data": {
      "text/plain": [
       "CESSNA                         0.226707\n",
       "PIPER                          0.134194\n",
       "BEECH                          0.044612\n",
       "Cessna                         0.042878\n",
       "Piper                          0.026552\n",
       "                                 ...   \n",
       "HALL JEFFREY                   0.000060\n",
       "HALL STEVEN C                  0.000060\n",
       "HALL TERRENCE / HALL CATHIE    0.000060\n",
       "HALL THOMAS K                  0.000060\n",
       " WSK PZL MIELEC                0.000060\n",
       "Name: acft_make, Length: 3002, dtype: float64"
      ]
     },
     "execution_count": 16,
     "metadata": {},
     "output_type": "execute_result"
    }
   ],
   "source": [
    "counts = df[\"acft_make\"].value_counts(normalize=True)\n",
    "counts"
   ]
  },
  {
   "cell_type": "code",
   "execution_count": 17,
   "metadata": {},
   "outputs": [
    {
     "data": {
      "text/plain": [
       "CESSNA                 0.226707\n",
       "PIPER                  0.134194\n",
       "BEECH                  0.044612\n",
       "Cessna                 0.042878\n",
       "Piper                  0.026552\n",
       "BELL                   0.020392\n",
       "ROBINSON HELICOPTER    0.011960\n",
       "MOONEY                 0.010884\n",
       "CIRRUS DESIGN CORP     0.010465\n",
       "AIR TRACTOR INC        0.010346\n",
       "Beech                  0.009867\n",
       "Name: acft_make, dtype: float64"
      ]
     },
     "execution_count": 17,
     "metadata": {},
     "output_type": "execute_result"
    }
   ],
   "source": [
    "majority_counts = counts[counts.cumsum() <= 0.55]\n",
    "majority_counts"
   ]
  }
 ],
 "metadata": {
  "kernelspec": {
   "display_name": "Python 3",
   "language": "python",
   "name": "python3"
  },
  "language_info": {
   "codemirror_mode": {
    "name": "ipython",
    "version": 3
   },
   "file_extension": ".py",
   "mimetype": "text/x-python",
   "name": "python",
   "nbconvert_exporter": "python",
   "pygments_lexer": "ipython3",
   "version": "3.10.6"
  },
  "orig_nbformat": 4
 },
 "nbformat": 4,
 "nbformat_minor": 2
}
