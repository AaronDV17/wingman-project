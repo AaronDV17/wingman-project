{
  "cells": [
    {
      "attachments": {},
      "cell_type": "markdown",
      "metadata": {
        "id": "GQcQ09z0pgpF"
      },
      "source": [
        "## Imports"
      ]
    },
    {
      "cell_type": "code",
      "execution_count": 1,
      "metadata": {
        "id": "aQ6vVSZUpgpH"
      },
      "outputs": [],
      "source": [
        "import pandas as pd\n",
        "import numpy as np\n",
        "import seaborn as sns\n",
        "import matplotlib.pyplot as plt\n",
        "\n",
        "from sklearn.ensemble import RandomForestClassifier\n",
        "from sklearn.model_selection import train_test_split\n",
        "from sklearn.metrics import accuracy_score, confusion_matrix, classification_report, f1_score\n",
        "\n",
        "from sklearn.model_selection import RandomizedSearchCV\n",
        "from sklearn.model_selection import GridSearchCV\n",
        "from sklearn.utils import compute_class_weight\n",
        "\n",
        "from imblearn.over_sampling import SMOTE\n",
        "from imblearn.over_sampling import ADASYN\n",
        "\n",
        "from sklearn.ensemble import AdaBoostClassifier\n"
      ]
    },
    {
      "cell_type": "code",
      "execution_count": 2,
      "metadata": {
        "id": "ZOJ8o_wqpgpI"
      },
      "outputs": [],
      "source": [
        "## import data when available\n",
        "data = pd.read_csv('raw_data/wingman_data_proc_v5.csv')\n",
        "data.set_index('id', inplace=True)"
      ]
    },
    {
      "cell_type": "code",
      "execution_count": 3,
      "metadata": {},
      "outputs": [
        {
          "data": {
            "text/html": [
              "<div>\n",
              "<style scoped>\n",
              "    .dataframe tbody tr th:only-of-type {\n",
              "        vertical-align: middle;\n",
              "    }\n",
              "\n",
              "    .dataframe tbody tr th {\n",
              "        vertical-align: top;\n",
              "    }\n",
              "\n",
              "    .dataframe thead th {\n",
              "        text-align: right;\n",
              "    }\n",
              "</style>\n",
              "<table border=\"1\" class=\"dataframe\">\n",
              "  <thead>\n",
              "    <tr style=\"text-align: right;\">\n",
              "      <th></th>\n",
              "      <th>subcategory_no</th>\n",
              "      <th>num_eng</th>\n",
              "      <th>total_seats</th>\n",
              "      <th>afm_hrs</th>\n",
              "      <th>cert_max_gr_wt</th>\n",
              "      <th>dprt_time</th>\n",
              "      <th>power_units</th>\n",
              "      <th>flight_hours_mean</th>\n",
              "      <th>certs_held</th>\n",
              "      <th>second_pilot</th>\n",
              "      <th>...</th>\n",
              "      <th>eng_type_infrequent_sklearn</th>\n",
              "      <th>carb_fuel_injection_CARB</th>\n",
              "      <th>carb_fuel_injection_FINJ</th>\n",
              "      <th>carb_fuel_injection_UNK</th>\n",
              "      <th>dprt_apt_id</th>\n",
              "      <th>dest_apt_id</th>\n",
              "      <th>flt_plan_filed_IFR</th>\n",
              "      <th>flt_plan_filed_NONE</th>\n",
              "      <th>flt_plan_filed_VFR</th>\n",
              "      <th>pc_profession</th>\n",
              "    </tr>\n",
              "    <tr>\n",
              "      <th>id</th>\n",
              "      <th></th>\n",
              "      <th></th>\n",
              "      <th></th>\n",
              "      <th></th>\n",
              "      <th></th>\n",
              "      <th></th>\n",
              "      <th></th>\n",
              "      <th></th>\n",
              "      <th></th>\n",
              "      <th></th>\n",
              "      <th></th>\n",
              "      <th></th>\n",
              "      <th></th>\n",
              "      <th></th>\n",
              "      <th></th>\n",
              "      <th></th>\n",
              "      <th></th>\n",
              "      <th></th>\n",
              "      <th></th>\n",
              "      <th></th>\n",
              "      <th></th>\n",
              "    </tr>\n",
              "  </thead>\n",
              "  <tbody>\n",
              "    <tr>\n",
              "      <th>20080115X000511</th>\n",
              "      <td>6</td>\n",
              "      <td>1</td>\n",
              "      <td>2</td>\n",
              "      <td>5835</td>\n",
              "      <td>1670</td>\n",
              "      <td>2215</td>\n",
              "      <td>110</td>\n",
              "      <td>18.000000</td>\n",
              "      <td>1.0</td>\n",
              "      <td>0.0</td>\n",
              "      <td>...</td>\n",
              "      <td>0.0</td>\n",
              "      <td>1.0</td>\n",
              "      <td>0.0</td>\n",
              "      <td>0.0</td>\n",
              "      <td>1</td>\n",
              "      <td>1</td>\n",
              "      <td>0.0</td>\n",
              "      <td>1.0</td>\n",
              "      <td>0.0</td>\n",
              "      <td>0</td>\n",
              "    </tr>\n",
              "    <tr>\n",
              "      <th>20080116X000631</th>\n",
              "      <td>3</td>\n",
              "      <td>2</td>\n",
              "      <td>10</td>\n",
              "      <td>13130</td>\n",
              "      <td>7368</td>\n",
              "      <td>1743</td>\n",
              "      <td>350</td>\n",
              "      <td>9437.000000</td>\n",
              "      <td>1.0</td>\n",
              "      <td>0.0</td>\n",
              "      <td>...</td>\n",
              "      <td>0.0</td>\n",
              "      <td>0.0</td>\n",
              "      <td>1.0</td>\n",
              "      <td>0.0</td>\n",
              "      <td>1</td>\n",
              "      <td>1</td>\n",
              "      <td>0.0</td>\n",
              "      <td>0.0</td>\n",
              "      <td>1.0</td>\n",
              "      <td>1</td>\n",
              "    </tr>\n",
              "    <tr>\n",
              "      <th>20080122X000871</th>\n",
              "      <td>5</td>\n",
              "      <td>1</td>\n",
              "      <td>7</td>\n",
              "      <td>3895</td>\n",
              "      <td>5000</td>\n",
              "      <td>2331</td>\n",
              "      <td>674</td>\n",
              "      <td>3120.000000</td>\n",
              "      <td>1.0</td>\n",
              "      <td>0.0</td>\n",
              "      <td>...</td>\n",
              "      <td>1.0</td>\n",
              "      <td>0.0</td>\n",
              "      <td>0.0</td>\n",
              "      <td>1.0</td>\n",
              "      <td>1</td>\n",
              "      <td>0</td>\n",
              "      <td>0.0</td>\n",
              "      <td>0.0</td>\n",
              "      <td>1.0</td>\n",
              "      <td>1</td>\n",
              "    </tr>\n",
              "    <tr>\n",
              "      <th>20080220X002121</th>\n",
              "      <td>6</td>\n",
              "      <td>1</td>\n",
              "      <td>2</td>\n",
              "      <td>1100</td>\n",
              "      <td>1650</td>\n",
              "      <td>1630</td>\n",
              "      <td>150</td>\n",
              "      <td>4600.000000</td>\n",
              "      <td>1.0</td>\n",
              "      <td>0.0</td>\n",
              "      <td>...</td>\n",
              "      <td>0.0</td>\n",
              "      <td>1.0</td>\n",
              "      <td>0.0</td>\n",
              "      <td>0.0</td>\n",
              "      <td>0</td>\n",
              "      <td>0</td>\n",
              "      <td>0.0</td>\n",
              "      <td>1.0</td>\n",
              "      <td>0.0</td>\n",
              "      <td>0</td>\n",
              "    </tr>\n",
              "    <tr>\n",
              "      <th>20080207X001531</th>\n",
              "      <td>4</td>\n",
              "      <td>1</td>\n",
              "      <td>5</td>\n",
              "      <td>3227</td>\n",
              "      <td>2450</td>\n",
              "      <td>1630</td>\n",
              "      <td>400</td>\n",
              "      <td>6500.000000</td>\n",
              "      <td>1.0</td>\n",
              "      <td>0.0</td>\n",
              "      <td>...</td>\n",
              "      <td>1.0</td>\n",
              "      <td>0.0</td>\n",
              "      <td>0.0</td>\n",
              "      <td>1.0</td>\n",
              "      <td>1</td>\n",
              "      <td>1</td>\n",
              "      <td>0.0</td>\n",
              "      <td>1.0</td>\n",
              "      <td>0.0</td>\n",
              "      <td>0</td>\n",
              "    </tr>\n",
              "    <tr>\n",
              "      <th>...</th>\n",
              "      <td>...</td>\n",
              "      <td>...</td>\n",
              "      <td>...</td>\n",
              "      <td>...</td>\n",
              "      <td>...</td>\n",
              "      <td>...</td>\n",
              "      <td>...</td>\n",
              "      <td>...</td>\n",
              "      <td>...</td>\n",
              "      <td>...</td>\n",
              "      <td>...</td>\n",
              "      <td>...</td>\n",
              "      <td>...</td>\n",
              "      <td>...</td>\n",
              "      <td>...</td>\n",
              "      <td>...</td>\n",
              "      <td>...</td>\n",
              "      <td>...</td>\n",
              "      <td>...</td>\n",
              "      <td>...</td>\n",
              "      <td>...</td>\n",
              "    </tr>\n",
              "    <tr>\n",
              "      <th>20190107X337411</th>\n",
              "      <td>2</td>\n",
              "      <td>1</td>\n",
              "      <td>4</td>\n",
              "      <td>9805</td>\n",
              "      <td>2270</td>\n",
              "      <td>2100</td>\n",
              "      <td>225</td>\n",
              "      <td>1877.000000</td>\n",
              "      <td>1.0</td>\n",
              "      <td>0.0</td>\n",
              "      <td>...</td>\n",
              "      <td>0.0</td>\n",
              "      <td>1.0</td>\n",
              "      <td>0.0</td>\n",
              "      <td>0.0</td>\n",
              "      <td>1</td>\n",
              "      <td>1</td>\n",
              "      <td>0.0</td>\n",
              "      <td>1.0</td>\n",
              "      <td>0.0</td>\n",
              "      <td>0</td>\n",
              "    </tr>\n",
              "    <tr>\n",
              "      <th>20190121X128521</th>\n",
              "      <td>7</td>\n",
              "      <td>1</td>\n",
              "      <td>4</td>\n",
              "      <td>3899</td>\n",
              "      <td>2550</td>\n",
              "      <td>1315</td>\n",
              "      <td>230</td>\n",
              "      <td>611.400024</td>\n",
              "      <td>1.0</td>\n",
              "      <td>0.0</td>\n",
              "      <td>...</td>\n",
              "      <td>0.0</td>\n",
              "      <td>1.0</td>\n",
              "      <td>0.0</td>\n",
              "      <td>0.0</td>\n",
              "      <td>1</td>\n",
              "      <td>1</td>\n",
              "      <td>0.0</td>\n",
              "      <td>1.0</td>\n",
              "      <td>0.0</td>\n",
              "      <td>0</td>\n",
              "    </tr>\n",
              "    <tr>\n",
              "      <th>20190108X549451</th>\n",
              "      <td>4</td>\n",
              "      <td>1</td>\n",
              "      <td>2</td>\n",
              "      <td>6177</td>\n",
              "      <td>1369</td>\n",
              "      <td>1630</td>\n",
              "      <td>160</td>\n",
              "      <td>1525.000000</td>\n",
              "      <td>1.0</td>\n",
              "      <td>1.0</td>\n",
              "      <td>...</td>\n",
              "      <td>0.0</td>\n",
              "      <td>1.0</td>\n",
              "      <td>0.0</td>\n",
              "      <td>0.0</td>\n",
              "      <td>1</td>\n",
              "      <td>1</td>\n",
              "      <td>0.0</td>\n",
              "      <td>1.0</td>\n",
              "      <td>0.0</td>\n",
              "      <td>1</td>\n",
              "    </tr>\n",
              "    <tr>\n",
              "      <th>20190112X112141</th>\n",
              "      <td>6</td>\n",
              "      <td>1</td>\n",
              "      <td>1</td>\n",
              "      <td>28</td>\n",
              "      <td>1320</td>\n",
              "      <td>2130</td>\n",
              "      <td>180</td>\n",
              "      <td>9000.000000</td>\n",
              "      <td>1.0</td>\n",
              "      <td>0.0</td>\n",
              "      <td>...</td>\n",
              "      <td>0.0</td>\n",
              "      <td>1.0</td>\n",
              "      <td>0.0</td>\n",
              "      <td>0.0</td>\n",
              "      <td>1</td>\n",
              "      <td>1</td>\n",
              "      <td>0.0</td>\n",
              "      <td>1.0</td>\n",
              "      <td>0.0</td>\n",
              "      <td>0</td>\n",
              "    </tr>\n",
              "    <tr>\n",
              "      <th>20190111X427051</th>\n",
              "      <td>6</td>\n",
              "      <td>1</td>\n",
              "      <td>1</td>\n",
              "      <td>15219</td>\n",
              "      <td>2450</td>\n",
              "      <td>300</td>\n",
              "      <td>680</td>\n",
              "      <td>6617.000000</td>\n",
              "      <td>1.0</td>\n",
              "      <td>0.0</td>\n",
              "      <td>...</td>\n",
              "      <td>1.0</td>\n",
              "      <td>0.0</td>\n",
              "      <td>0.0</td>\n",
              "      <td>1.0</td>\n",
              "      <td>1</td>\n",
              "      <td>1</td>\n",
              "      <td>0.0</td>\n",
              "      <td>1.0</td>\n",
              "      <td>0.0</td>\n",
              "      <td>1</td>\n",
              "    </tr>\n",
              "  </tbody>\n",
              "</table>\n",
              "<p>5871 rows × 58 columns</p>\n",
              "</div>"
            ],
            "text/plain": [
              "                 subcategory_no  num_eng  total_seats  afm_hrs  \\\n",
              "id                                                               \n",
              "20080115X000511               6        1            2     5835   \n",
              "20080116X000631               3        2           10    13130   \n",
              "20080122X000871               5        1            7     3895   \n",
              "20080220X002121               6        1            2     1100   \n",
              "20080207X001531               4        1            5     3227   \n",
              "...                         ...      ...          ...      ...   \n",
              "20190107X337411               2        1            4     9805   \n",
              "20190121X128521               7        1            4     3899   \n",
              "20190108X549451               4        1            2     6177   \n",
              "20190112X112141               6        1            1       28   \n",
              "20190111X427051               6        1            1    15219   \n",
              "\n",
              "                 cert_max_gr_wt  dprt_time  power_units  flight_hours_mean  \\\n",
              "id                                                                           \n",
              "20080115X000511            1670       2215          110          18.000000   \n",
              "20080116X000631            7368       1743          350        9437.000000   \n",
              "20080122X000871            5000       2331          674        3120.000000   \n",
              "20080220X002121            1650       1630          150        4600.000000   \n",
              "20080207X001531            2450       1630          400        6500.000000   \n",
              "...                         ...        ...          ...                ...   \n",
              "20190107X337411            2270       2100          225        1877.000000   \n",
              "20190121X128521            2550       1315          230         611.400024   \n",
              "20190108X549451            1369       1630          160        1525.000000   \n",
              "20190112X112141            1320       2130          180        9000.000000   \n",
              "20190111X427051            2450        300          680        6617.000000   \n",
              "\n",
              "                 certs_held  second_pilot  ...  eng_type_infrequent_sklearn  \\\n",
              "id                                         ...                                \n",
              "20080115X000511         1.0           0.0  ...                          0.0   \n",
              "20080116X000631         1.0           0.0  ...                          0.0   \n",
              "20080122X000871         1.0           0.0  ...                          1.0   \n",
              "20080220X002121         1.0           0.0  ...                          0.0   \n",
              "20080207X001531         1.0           0.0  ...                          1.0   \n",
              "...                     ...           ...  ...                          ...   \n",
              "20190107X337411         1.0           0.0  ...                          0.0   \n",
              "20190121X128521         1.0           0.0  ...                          0.0   \n",
              "20190108X549451         1.0           1.0  ...                          0.0   \n",
              "20190112X112141         1.0           0.0  ...                          0.0   \n",
              "20190111X427051         1.0           0.0  ...                          1.0   \n",
              "\n",
              "                 carb_fuel_injection_CARB  carb_fuel_injection_FINJ  \\\n",
              "id                                                                    \n",
              "20080115X000511                       1.0                       0.0   \n",
              "20080116X000631                       0.0                       1.0   \n",
              "20080122X000871                       0.0                       0.0   \n",
              "20080220X002121                       1.0                       0.0   \n",
              "20080207X001531                       0.0                       0.0   \n",
              "...                                   ...                       ...   \n",
              "20190107X337411                       1.0                       0.0   \n",
              "20190121X128521                       1.0                       0.0   \n",
              "20190108X549451                       1.0                       0.0   \n",
              "20190112X112141                       1.0                       0.0   \n",
              "20190111X427051                       0.0                       0.0   \n",
              "\n",
              "                 carb_fuel_injection_UNK  dprt_apt_id  dest_apt_id  \\\n",
              "id                                                                   \n",
              "20080115X000511                      0.0            1            1   \n",
              "20080116X000631                      0.0            1            1   \n",
              "20080122X000871                      1.0            1            0   \n",
              "20080220X002121                      0.0            0            0   \n",
              "20080207X001531                      1.0            1            1   \n",
              "...                                  ...          ...          ...   \n",
              "20190107X337411                      0.0            1            1   \n",
              "20190121X128521                      0.0            1            1   \n",
              "20190108X549451                      0.0            1            1   \n",
              "20190112X112141                      0.0            1            1   \n",
              "20190111X427051                      1.0            1            1   \n",
              "\n",
              "                 flt_plan_filed_IFR  flt_plan_filed_NONE  flt_plan_filed_VFR  \\\n",
              "id                                                                             \n",
              "20080115X000511                 0.0                  1.0                 0.0   \n",
              "20080116X000631                 0.0                  0.0                 1.0   \n",
              "20080122X000871                 0.0                  0.0                 1.0   \n",
              "20080220X002121                 0.0                  1.0                 0.0   \n",
              "20080207X001531                 0.0                  1.0                 0.0   \n",
              "...                             ...                  ...                 ...   \n",
              "20190107X337411                 0.0                  1.0                 0.0   \n",
              "20190121X128521                 0.0                  1.0                 0.0   \n",
              "20190108X549451                 0.0                  1.0                 0.0   \n",
              "20190112X112141                 0.0                  1.0                 0.0   \n",
              "20190111X427051                 0.0                  1.0                 0.0   \n",
              "\n",
              "                 pc_profession  \n",
              "id                              \n",
              "20080115X000511              0  \n",
              "20080116X000631              1  \n",
              "20080122X000871              1  \n",
              "20080220X002121              0  \n",
              "20080207X001531              0  \n",
              "...                        ...  \n",
              "20190107X337411              0  \n",
              "20190121X128521              0  \n",
              "20190108X549451              1  \n",
              "20190112X112141              0  \n",
              "20190111X427051              1  \n",
              "\n",
              "[5871 rows x 58 columns]"
            ]
          },
          "execution_count": 3,
          "metadata": {},
          "output_type": "execute_result"
        }
      ],
      "source": [
        "data"
      ]
    },
    {
      "attachments": {},
      "cell_type": "markdown",
      "metadata": {
        "id": "zzmXP3VNpgpI"
      },
      "source": [
        "## Train test split"
      ]
    },
    {
      "cell_type": "code",
      "execution_count": 4,
      "metadata": {
        "id": "NP5G2c2ypgpI"
      },
      "outputs": [],
      "source": [
        "X = data.drop('subcategory_no', axis=1)\n",
        "y = data['subcategory_no']"
      ]
    },
    {
      "cell_type": "code",
      "execution_count": 5,
      "metadata": {
        "id": "J7dBCpqwpgpI"
      },
      "outputs": [],
      "source": [
        "X_train, X_test, y_train, y_test = train_test_split(X, y, test_size=0.3, random_state=1)"
      ]
    },
    {
      "attachments": {},
      "cell_type": "markdown",
      "metadata": {
        "id": "IF-7nFxbpgpI"
      },
      "source": [
        "## Baseline model"
      ]
    },
    {
      "cell_type": "code",
      "execution_count": 5,
      "metadata": {
        "id": "gKQwz9rEpgpJ"
      },
      "outputs": [],
      "source": [
        "model = RandomForestClassifier(n_estimators=100, random_state=1, n_jobs=-1)"
      ]
    },
    {
      "cell_type": "code",
      "execution_count": 6,
      "metadata": {
        "colab": {
          "base_uri": "https://localhost:8080/",
          "height": 127
        },
        "id": "NWTrmdf7uYvE",
        "outputId": "9b186fa1-6811-4423-9cab-cf333c513fb3"
      },
      "outputs": [
        {
          "data": {
            "text/html": [
              "<style>#sk-container-id-1 {color: black;background-color: white;}#sk-container-id-1 pre{padding: 0;}#sk-container-id-1 div.sk-toggleable {background-color: white;}#sk-container-id-1 label.sk-toggleable__label {cursor: pointer;display: block;width: 100%;margin-bottom: 0;padding: 0.3em;box-sizing: border-box;text-align: center;}#sk-container-id-1 label.sk-toggleable__label-arrow:before {content: \"▸\";float: left;margin-right: 0.25em;color: #696969;}#sk-container-id-1 label.sk-toggleable__label-arrow:hover:before {color: black;}#sk-container-id-1 div.sk-estimator:hover label.sk-toggleable__label-arrow:before {color: black;}#sk-container-id-1 div.sk-toggleable__content {max-height: 0;max-width: 0;overflow: hidden;text-align: left;background-color: #f0f8ff;}#sk-container-id-1 div.sk-toggleable__content pre {margin: 0.2em;color: black;border-radius: 0.25em;background-color: #f0f8ff;}#sk-container-id-1 input.sk-toggleable__control:checked~div.sk-toggleable__content {max-height: 200px;max-width: 100%;overflow: auto;}#sk-container-id-1 input.sk-toggleable__control:checked~label.sk-toggleable__label-arrow:before {content: \"▾\";}#sk-container-id-1 div.sk-estimator input.sk-toggleable__control:checked~label.sk-toggleable__label {background-color: #d4ebff;}#sk-container-id-1 div.sk-label input.sk-toggleable__control:checked~label.sk-toggleable__label {background-color: #d4ebff;}#sk-container-id-1 input.sk-hidden--visually {border: 0;clip: rect(1px 1px 1px 1px);clip: rect(1px, 1px, 1px, 1px);height: 1px;margin: -1px;overflow: hidden;padding: 0;position: absolute;width: 1px;}#sk-container-id-1 div.sk-estimator {font-family: monospace;background-color: #f0f8ff;border: 1px dotted black;border-radius: 0.25em;box-sizing: border-box;margin-bottom: 0.5em;}#sk-container-id-1 div.sk-estimator:hover {background-color: #d4ebff;}#sk-container-id-1 div.sk-parallel-item::after {content: \"\";width: 100%;border-bottom: 1px solid gray;flex-grow: 1;}#sk-container-id-1 div.sk-label:hover label.sk-toggleable__label {background-color: #d4ebff;}#sk-container-id-1 div.sk-serial::before {content: \"\";position: absolute;border-left: 1px solid gray;box-sizing: border-box;top: 0;bottom: 0;left: 50%;z-index: 0;}#sk-container-id-1 div.sk-serial {display: flex;flex-direction: column;align-items: center;background-color: white;padding-right: 0.2em;padding-left: 0.2em;position: relative;}#sk-container-id-1 div.sk-item {position: relative;z-index: 1;}#sk-container-id-1 div.sk-parallel {display: flex;align-items: stretch;justify-content: center;background-color: white;position: relative;}#sk-container-id-1 div.sk-item::before, #sk-container-id-1 div.sk-parallel-item::before {content: \"\";position: absolute;border-left: 1px solid gray;box-sizing: border-box;top: 0;bottom: 0;left: 50%;z-index: -1;}#sk-container-id-1 div.sk-parallel-item {display: flex;flex-direction: column;z-index: 1;position: relative;background-color: white;}#sk-container-id-1 div.sk-parallel-item:first-child::after {align-self: flex-end;width: 50%;}#sk-container-id-1 div.sk-parallel-item:last-child::after {align-self: flex-start;width: 50%;}#sk-container-id-1 div.sk-parallel-item:only-child::after {width: 0;}#sk-container-id-1 div.sk-dashed-wrapped {border: 1px dashed gray;margin: 0 0.4em 0.5em 0.4em;box-sizing: border-box;padding-bottom: 0.4em;background-color: white;}#sk-container-id-1 div.sk-label label {font-family: monospace;font-weight: bold;display: inline-block;line-height: 1.2em;}#sk-container-id-1 div.sk-label-container {text-align: center;}#sk-container-id-1 div.sk-container {/* jupyter's `normalize.less` sets `[hidden] { display: none; }` but bootstrap.min.css set `[hidden] { display: none !important; }` so we also need the `!important` here to be able to override the default hidden behavior on the sphinx rendered scikit-learn.org. See: https://github.com/scikit-learn/scikit-learn/issues/21755 */display: inline-block !important;position: relative;}#sk-container-id-1 div.sk-text-repr-fallback {display: none;}</style><div id=\"sk-container-id-1\" class=\"sk-top-container\"><div class=\"sk-text-repr-fallback\"><pre>RandomForestClassifier(n_jobs=-1, random_state=1)</pre><b>In a Jupyter environment, please rerun this cell to show the HTML representation or trust the notebook. <br />On GitHub, the HTML representation is unable to render, please try loading this page with nbviewer.org.</b></div><div class=\"sk-container\" hidden><div class=\"sk-item\"><div class=\"sk-estimator sk-toggleable\"><input class=\"sk-toggleable__control sk-hidden--visually\" id=\"sk-estimator-id-1\" type=\"checkbox\" checked><label for=\"sk-estimator-id-1\" class=\"sk-toggleable__label sk-toggleable__label-arrow\">RandomForestClassifier</label><div class=\"sk-toggleable__content\"><pre>RandomForestClassifier(n_jobs=-1, random_state=1)</pre></div></div></div></div></div>"
            ],
            "text/plain": [
              "RandomForestClassifier(n_jobs=-1, random_state=1)"
            ]
          },
          "execution_count": 6,
          "metadata": {},
          "output_type": "execute_result"
        }
      ],
      "source": [
        "model.fit(X_train, y_train)"
      ]
    },
    {
      "cell_type": "code",
      "execution_count": 7,
      "metadata": {
        "colab": {
          "base_uri": "https://localhost:8080/"
        },
        "id": "52teviYepgpJ",
        "outputId": "9fe33117-f6ea-4b08-daec-5ebb279ca7ed"
      },
      "outputs": [
        {
          "data": {
            "text/plain": [
              "0.5368898978433598"
            ]
          },
          "execution_count": 7,
          "metadata": {},
          "output_type": "execute_result"
        }
      ],
      "source": [
        "## baseline prediction\n",
        "\n",
        "y_pred = model.predict(X_test)\n",
        "\n",
        "accuracy_score(y_test, y_pred)"
      ]
    },
    {
      "cell_type": "code",
      "execution_count": 8,
      "metadata": {},
      "outputs": [
        {
          "data": {
            "text/plain": [
              "0.43152830117440644"
            ]
          },
          "execution_count": 8,
          "metadata": {},
          "output_type": "execute_result"
        }
      ],
      "source": [
        "f1_score(y_test, y_pred, average='weighted')"
      ]
    },
    {
      "cell_type": "code",
      "execution_count": 9,
      "metadata": {
        "colab": {
          "base_uri": "https://localhost:8080/"
        },
        "id": "f7NFKiP-0Rhc",
        "outputId": "3e037939-c87f-421d-e9c0-4176048ccd4f"
      },
      "outputs": [
        {
          "data": {
            "text/plain": [
              "subcategory_no\n",
              "6    0.535003\n",
              "5    0.161472\n",
              "2    0.156191\n",
              "7    0.086357\n",
              "4    0.029978\n",
              "3    0.024527\n",
              "1    0.006472\n",
              "Name: count, dtype: float64"
            ]
          },
          "execution_count": 9,
          "metadata": {},
          "output_type": "execute_result"
        }
      ],
      "source": [
        "data['subcategory_no'].value_counts()\n",
        "len(data['subcategory_no'])\n",
        "\n",
        "data['subcategory_no'].value_counts()/len(data['subcategory_no'])"
      ]
    },
    {
      "attachments": {},
      "cell_type": "markdown",
      "metadata": {
        "id": "SbD_OC2LtZya"
      },
      "source": [
        "## Randomized search"
      ]
    },
    {
      "cell_type": "code",
      "execution_count": 29,
      "metadata": {
        "colab": {
          "base_uri": "https://localhost:8080/"
        },
        "id": "1LbpFs7fs8dm",
        "outputId": "927dc47d-a889-4d1a-bcd4-a09381642f9e"
      },
      "outputs": [
        {
          "data": {
            "text/plain": [
              "{'bootstrap': True,\n",
              " 'ccp_alpha': 0.0,\n",
              " 'class_weight': None,\n",
              " 'criterion': 'gini',\n",
              " 'max_depth': None,\n",
              " 'max_features': 'sqrt',\n",
              " 'max_leaf_nodes': None,\n",
              " 'max_samples': None,\n",
              " 'min_impurity_decrease': 0.0,\n",
              " 'min_samples_leaf': 1,\n",
              " 'min_samples_split': 2,\n",
              " 'min_weight_fraction_leaf': 0.0,\n",
              " 'n_estimators': 100,\n",
              " 'n_jobs': -1,\n",
              " 'oob_score': False,\n",
              " 'random_state': 1,\n",
              " 'verbose': 0,\n",
              " 'warm_start': False}"
            ]
          },
          "execution_count": 29,
          "metadata": {},
          "output_type": "execute_result"
        }
      ],
      "source": [
        "model.get_params()"
      ]
    },
    {
      "cell_type": "code",
      "execution_count": 30,
      "metadata": {
        "id": "BA-DWQy4s4Fv"
      },
      "outputs": [],
      "source": [
        "# Number of trees in random forest\n",
        "n_estimators = [int(x) for x in np.linspace(start = 100, stop = 2500, num = 10)]\n",
        "# Number of features to consider at every split\n",
        "max_features = ['log2', 'sqrt']\n",
        "# Maximum number of levels in tree\n",
        "max_depth = [int(x) for x in np.linspace(5, 250, num = 10)]\n",
        "max_depth.append(None)\n",
        "# Minimum number of samples required to split a node\n",
        "min_samples_split = [2, 5, 10, 15, 25, 35]\n",
        "# Minimum number of samples required at each leaf node\n",
        "min_samples_leaf = [1, 2, 4, 6, 8, 10, 15, 20, 30]\n",
        "# Method of selecting samples for training each tree\n",
        "bootstrap = [True, False]\n",
        "# Create the random grid\n",
        "random_grid = {'n_estimators': n_estimators,\n",
        "               'max_features': max_features,\n",
        "               'max_depth': max_depth,\n",
        "               'min_samples_split': min_samples_split,\n",
        "               'min_samples_leaf': min_samples_leaf,\n",
        "               'bootstrap': bootstrap}"
      ]
    },
    {
      "cell_type": "code",
      "execution_count": 31,
      "metadata": {
        "colab": {
          "base_uri": "https://localhost:8080/",
          "height": 427
        },
        "id": "JL-LvWuas5Zp",
        "outputId": "c848bcb8-941c-4a86-d846-65071d6cd65f"
      },
      "outputs": [
        {
          "name": "stdout",
          "output_type": "stream",
          "text": [
            "Fitting 5 folds for each of 10 candidates, totalling 50 fits\n"
          ]
        },
        {
          "name": "stdout",
          "output_type": "stream",
          "text": [
            "[CV 1/5] END bootstrap=True, max_depth=5, max_features=log2, min_samples_leaf=6, min_samples_split=35, n_estimators=1433;, score=0.530 total time=  10.1s\n",
            "[CV 2/5] END bootstrap=True, max_depth=5, max_features=log2, min_samples_leaf=6, min_samples_split=35, n_estimators=1433;, score=0.530 total time=   3.1s\n",
            "[CV 3/5] END bootstrap=True, max_depth=5, max_features=log2, min_samples_leaf=6, min_samples_split=35, n_estimators=1433;, score=0.530 total time=   3.5s\n",
            "[CV 4/5] END bootstrap=True, max_depth=5, max_features=log2, min_samples_leaf=6, min_samples_split=35, n_estimators=1433;, score=0.530 total time=   3.8s\n",
            "[CV 5/5] END bootstrap=True, max_depth=5, max_features=log2, min_samples_leaf=6, min_samples_split=35, n_estimators=1433;, score=0.531 total time=   3.8s\n",
            "[CV 1/5] END bootstrap=False, max_depth=5, max_features=log2, min_samples_leaf=8, min_samples_split=35, n_estimators=633;, score=0.530 total time=   2.5s\n",
            "[CV 2/5] END bootstrap=False, max_depth=5, max_features=log2, min_samples_leaf=8, min_samples_split=35, n_estimators=633;, score=0.530 total time=   1.3s\n",
            "[CV 3/5] END bootstrap=False, max_depth=5, max_features=log2, min_samples_leaf=8, min_samples_split=35, n_estimators=633;, score=0.530 total time=   1.3s\n",
            "[CV 4/5] END bootstrap=False, max_depth=5, max_features=log2, min_samples_leaf=8, min_samples_split=35, n_estimators=633;, score=0.530 total time=   1.4s\n",
            "[CV 5/5] END bootstrap=False, max_depth=5, max_features=log2, min_samples_leaf=8, min_samples_split=35, n_estimators=633;, score=0.531 total time=   1.4s\n",
            "[CV 1/5] END bootstrap=True, max_depth=113, max_features=sqrt, min_samples_leaf=10, min_samples_split=15, n_estimators=633;, score=0.532 total time=   3.1s\n",
            "[CV 2/5] END bootstrap=True, max_depth=113, max_features=sqrt, min_samples_leaf=10, min_samples_split=15, n_estimators=633;, score=0.534 total time=   3.7s\n",
            "[CV 3/5] END bootstrap=True, max_depth=113, max_features=sqrt, min_samples_leaf=10, min_samples_split=15, n_estimators=633;, score=0.532 total time=   3.2s\n",
            "[CV 4/5] END bootstrap=True, max_depth=113, max_features=sqrt, min_samples_leaf=10, min_samples_split=15, n_estimators=633;, score=0.532 total time=   2.5s\n",
            "[CV 5/5] END bootstrap=True, max_depth=113, max_features=sqrt, min_samples_leaf=10, min_samples_split=15, n_estimators=633;, score=0.532 total time=   3.9s\n",
            "[CV 1/5] END bootstrap=False, max_depth=141, max_features=log2, min_samples_leaf=1, min_samples_split=2, n_estimators=2500;, score=0.491 total time=  29.5s\n",
            "[CV 2/5] END bootstrap=False, max_depth=141, max_features=log2, min_samples_leaf=1, min_samples_split=2, n_estimators=2500;, score=0.513 total time=  37.6s\n",
            "[CV 3/5] END bootstrap=False, max_depth=141, max_features=log2, min_samples_leaf=1, min_samples_split=2, n_estimators=2500;, score=0.513 total time=  29.4s\n",
            "[CV 4/5] END bootstrap=False, max_depth=141, max_features=log2, min_samples_leaf=1, min_samples_split=2, n_estimators=2500;, score=0.491 total time=  21.0s\n",
            "[CV 5/5] END bootstrap=False, max_depth=141, max_features=log2, min_samples_leaf=1, min_samples_split=2, n_estimators=2500;, score=0.488 total time=  19.2s\n",
            "[CV 1/5] END bootstrap=True, max_depth=None, max_features=log2, min_samples_leaf=4, min_samples_split=15, n_estimators=1433;, score=0.533 total time=   5.4s\n",
            "[CV 2/5] END bootstrap=True, max_depth=None, max_features=log2, min_samples_leaf=4, min_samples_split=15, n_estimators=1433;, score=0.533 total time=   5.4s\n",
            "[CV 3/5] END bootstrap=True, max_depth=None, max_features=log2, min_samples_leaf=4, min_samples_split=15, n_estimators=1433;, score=0.529 total time=   4.9s\n",
            "[CV 4/5] END bootstrap=True, max_depth=None, max_features=log2, min_samples_leaf=4, min_samples_split=15, n_estimators=1433;, score=0.527 total time=   4.9s\n",
            "[CV 5/5] END bootstrap=True, max_depth=None, max_features=log2, min_samples_leaf=4, min_samples_split=15, n_estimators=1433;, score=0.529 total time=   7.2s\n",
            "[CV 1/5] END bootstrap=True, max_depth=195, max_features=log2, min_samples_leaf=8, min_samples_split=5, n_estimators=900;, score=0.533 total time=   4.1s\n",
            "[CV 2/5] END bootstrap=True, max_depth=195, max_features=log2, min_samples_leaf=8, min_samples_split=5, n_estimators=900;, score=0.532 total time=   3.9s\n",
            "[CV 3/5] END bootstrap=True, max_depth=195, max_features=log2, min_samples_leaf=8, min_samples_split=5, n_estimators=900;, score=0.529 total time=   3.5s\n",
            "[CV 4/5] END bootstrap=True, max_depth=195, max_features=log2, min_samples_leaf=8, min_samples_split=5, n_estimators=900;, score=0.530 total time=   5.6s\n",
            "[CV 5/5] END bootstrap=True, max_depth=195, max_features=log2, min_samples_leaf=8, min_samples_split=5, n_estimators=900;, score=0.529 total time=   5.8s\n",
            "[CV 1/5] END bootstrap=False, max_depth=168, max_features=sqrt, min_samples_leaf=15, min_samples_split=5, n_estimators=2500;, score=0.533 total time=  15.5s\n",
            "[CV 2/5] END bootstrap=False, max_depth=168, max_features=sqrt, min_samples_leaf=15, min_samples_split=5, n_estimators=2500;, score=0.534 total time=  15.1s\n",
            "[CV 3/5] END bootstrap=False, max_depth=168, max_features=sqrt, min_samples_leaf=15, min_samples_split=5, n_estimators=2500;, score=0.532 total time=  15.7s\n",
            "[CV 4/5] END bootstrap=False, max_depth=168, max_features=sqrt, min_samples_leaf=15, min_samples_split=5, n_estimators=2500;, score=0.535 total time=  14.8s\n",
            "[CV 5/5] END bootstrap=False, max_depth=168, max_features=sqrt, min_samples_leaf=15, min_samples_split=5, n_estimators=2500;, score=0.530 total time=  16.2s\n",
            "[CV 1/5] END bootstrap=False, max_depth=222, max_features=sqrt, min_samples_leaf=15, min_samples_split=10, n_estimators=100;, score=0.533 total time=   0.5s\n",
            "[CV 2/5] END bootstrap=False, max_depth=222, max_features=sqrt, min_samples_leaf=15, min_samples_split=10, n_estimators=100;, score=0.532 total time=   0.7s\n",
            "[CV 3/5] END bootstrap=False, max_depth=222, max_features=sqrt, min_samples_leaf=15, min_samples_split=10, n_estimators=100;, score=0.532 total time=   0.6s\n",
            "[CV 4/5] END bootstrap=False, max_depth=222, max_features=sqrt, min_samples_leaf=15, min_samples_split=10, n_estimators=100;, score=0.534 total time=   0.6s\n",
            "[CV 5/5] END bootstrap=False, max_depth=222, max_features=sqrt, min_samples_leaf=15, min_samples_split=10, n_estimators=100;, score=0.523 total time=   1.3s\n",
            "[CV 1/5] END bootstrap=True, max_depth=5, max_features=log2, min_samples_leaf=4, min_samples_split=10, n_estimators=1166;, score=0.530 total time=   6.8s\n",
            "[CV 2/5] END bootstrap=True, max_depth=5, max_features=log2, min_samples_leaf=4, min_samples_split=10, n_estimators=1166;, score=0.530 total time=   5.0s\n",
            "[CV 3/5] END bootstrap=True, max_depth=5, max_features=log2, min_samples_leaf=4, min_samples_split=10, n_estimators=1166;, score=0.530 total time=   5.7s\n",
            "[CV 4/5] END bootstrap=True, max_depth=5, max_features=log2, min_samples_leaf=4, min_samples_split=10, n_estimators=1166;, score=0.530 total time=   3.2s\n",
            "[CV 5/5] END bootstrap=True, max_depth=5, max_features=log2, min_samples_leaf=4, min_samples_split=10, n_estimators=1166;, score=0.531 total time=   7.2s\n",
            "[CV 1/5] END bootstrap=False, max_depth=222, max_features=log2, min_samples_leaf=2, min_samples_split=10, n_estimators=2500;, score=0.524 total time=  22.5s\n",
            "[CV 2/5] END bootstrap=False, max_depth=222, max_features=log2, min_samples_leaf=2, min_samples_split=10, n_estimators=2500;, score=0.536 total time=  12.5s\n",
            "[CV 3/5] END bootstrap=False, max_depth=222, max_features=log2, min_samples_leaf=2, min_samples_split=10, n_estimators=2500;, score=0.533 total time=  14.6s\n",
            "[CV 4/5] END bootstrap=False, max_depth=222, max_features=log2, min_samples_leaf=2, min_samples_split=10, n_estimators=2500;, score=0.530 total time=  13.3s\n",
            "[CV 5/5] END bootstrap=False, max_depth=222, max_features=log2, min_samples_leaf=2, min_samples_split=10, n_estimators=2500;, score=0.518 total time=  17.4s\n"
          ]
        },
        {
          "data": {
            "text/html": [
              "<style>#sk-container-id-3 {color: black;background-color: white;}#sk-container-id-3 pre{padding: 0;}#sk-container-id-3 div.sk-toggleable {background-color: white;}#sk-container-id-3 label.sk-toggleable__label {cursor: pointer;display: block;width: 100%;margin-bottom: 0;padding: 0.3em;box-sizing: border-box;text-align: center;}#sk-container-id-3 label.sk-toggleable__label-arrow:before {content: \"▸\";float: left;margin-right: 0.25em;color: #696969;}#sk-container-id-3 label.sk-toggleable__label-arrow:hover:before {color: black;}#sk-container-id-3 div.sk-estimator:hover label.sk-toggleable__label-arrow:before {color: black;}#sk-container-id-3 div.sk-toggleable__content {max-height: 0;max-width: 0;overflow: hidden;text-align: left;background-color: #f0f8ff;}#sk-container-id-3 div.sk-toggleable__content pre {margin: 0.2em;color: black;border-radius: 0.25em;background-color: #f0f8ff;}#sk-container-id-3 input.sk-toggleable__control:checked~div.sk-toggleable__content {max-height: 200px;max-width: 100%;overflow: auto;}#sk-container-id-3 input.sk-toggleable__control:checked~label.sk-toggleable__label-arrow:before {content: \"▾\";}#sk-container-id-3 div.sk-estimator input.sk-toggleable__control:checked~label.sk-toggleable__label {background-color: #d4ebff;}#sk-container-id-3 div.sk-label input.sk-toggleable__control:checked~label.sk-toggleable__label {background-color: #d4ebff;}#sk-container-id-3 input.sk-hidden--visually {border: 0;clip: rect(1px 1px 1px 1px);clip: rect(1px, 1px, 1px, 1px);height: 1px;margin: -1px;overflow: hidden;padding: 0;position: absolute;width: 1px;}#sk-container-id-3 div.sk-estimator {font-family: monospace;background-color: #f0f8ff;border: 1px dotted black;border-radius: 0.25em;box-sizing: border-box;margin-bottom: 0.5em;}#sk-container-id-3 div.sk-estimator:hover {background-color: #d4ebff;}#sk-container-id-3 div.sk-parallel-item::after {content: \"\";width: 100%;border-bottom: 1px solid gray;flex-grow: 1;}#sk-container-id-3 div.sk-label:hover label.sk-toggleable__label {background-color: #d4ebff;}#sk-container-id-3 div.sk-serial::before {content: \"\";position: absolute;border-left: 1px solid gray;box-sizing: border-box;top: 0;bottom: 0;left: 50%;z-index: 0;}#sk-container-id-3 div.sk-serial {display: flex;flex-direction: column;align-items: center;background-color: white;padding-right: 0.2em;padding-left: 0.2em;position: relative;}#sk-container-id-3 div.sk-item {position: relative;z-index: 1;}#sk-container-id-3 div.sk-parallel {display: flex;align-items: stretch;justify-content: center;background-color: white;position: relative;}#sk-container-id-3 div.sk-item::before, #sk-container-id-3 div.sk-parallel-item::before {content: \"\";position: absolute;border-left: 1px solid gray;box-sizing: border-box;top: 0;bottom: 0;left: 50%;z-index: -1;}#sk-container-id-3 div.sk-parallel-item {display: flex;flex-direction: column;z-index: 1;position: relative;background-color: white;}#sk-container-id-3 div.sk-parallel-item:first-child::after {align-self: flex-end;width: 50%;}#sk-container-id-3 div.sk-parallel-item:last-child::after {align-self: flex-start;width: 50%;}#sk-container-id-3 div.sk-parallel-item:only-child::after {width: 0;}#sk-container-id-3 div.sk-dashed-wrapped {border: 1px dashed gray;margin: 0 0.4em 0.5em 0.4em;box-sizing: border-box;padding-bottom: 0.4em;background-color: white;}#sk-container-id-3 div.sk-label label {font-family: monospace;font-weight: bold;display: inline-block;line-height: 1.2em;}#sk-container-id-3 div.sk-label-container {text-align: center;}#sk-container-id-3 div.sk-container {/* jupyter's `normalize.less` sets `[hidden] { display: none; }` but bootstrap.min.css set `[hidden] { display: none !important; }` so we also need the `!important` here to be able to override the default hidden behavior on the sphinx rendered scikit-learn.org. See: https://github.com/scikit-learn/scikit-learn/issues/21755 */display: inline-block !important;position: relative;}#sk-container-id-3 div.sk-text-repr-fallback {display: none;}</style><div id=\"sk-container-id-3\" class=\"sk-top-container\"><div class=\"sk-text-repr-fallback\"><pre>RandomizedSearchCV(cv=5,\n",
              "                   estimator=RandomForestClassifier(n_jobs=-1, random_state=1),\n",
              "                   n_jobs=1,\n",
              "                   param_distributions={&#x27;bootstrap&#x27;: [True, False],\n",
              "                                        &#x27;max_depth&#x27;: [5, 32, 59, 86, 113, 141,\n",
              "                                                      168, 195, 222, 250,\n",
              "                                                      None],\n",
              "                                        &#x27;max_features&#x27;: [&#x27;log2&#x27;, &#x27;sqrt&#x27;],\n",
              "                                        &#x27;min_samples_leaf&#x27;: [1, 2, 4, 6, 8, 10,\n",
              "                                                             15, 20, 30],\n",
              "                                        &#x27;min_samples_split&#x27;: [2, 5, 10, 15, 25,\n",
              "                                                              35],\n",
              "                                        &#x27;n_estimators&#x27;: [100, 366, 633, 900,\n",
              "                                                         1166, 1433, 1700, 1966,\n",
              "                                                         2233, 2500]},\n",
              "                   random_state=1, verbose=3)</pre><b>In a Jupyter environment, please rerun this cell to show the HTML representation or trust the notebook. <br />On GitHub, the HTML representation is unable to render, please try loading this page with nbviewer.org.</b></div><div class=\"sk-container\" hidden><div class=\"sk-item sk-dashed-wrapped\"><div class=\"sk-label-container\"><div class=\"sk-label sk-toggleable\"><input class=\"sk-toggleable__control sk-hidden--visually\" id=\"sk-estimator-id-3\" type=\"checkbox\" ><label for=\"sk-estimator-id-3\" class=\"sk-toggleable__label sk-toggleable__label-arrow\">RandomizedSearchCV</label><div class=\"sk-toggleable__content\"><pre>RandomizedSearchCV(cv=5,\n",
              "                   estimator=RandomForestClassifier(n_jobs=-1, random_state=1),\n",
              "                   n_jobs=1,\n",
              "                   param_distributions={&#x27;bootstrap&#x27;: [True, False],\n",
              "                                        &#x27;max_depth&#x27;: [5, 32, 59, 86, 113, 141,\n",
              "                                                      168, 195, 222, 250,\n",
              "                                                      None],\n",
              "                                        &#x27;max_features&#x27;: [&#x27;log2&#x27;, &#x27;sqrt&#x27;],\n",
              "                                        &#x27;min_samples_leaf&#x27;: [1, 2, 4, 6, 8, 10,\n",
              "                                                             15, 20, 30],\n",
              "                                        &#x27;min_samples_split&#x27;: [2, 5, 10, 15, 25,\n",
              "                                                              35],\n",
              "                                        &#x27;n_estimators&#x27;: [100, 366, 633, 900,\n",
              "                                                         1166, 1433, 1700, 1966,\n",
              "                                                         2233, 2500]},\n",
              "                   random_state=1, verbose=3)</pre></div></div></div><div class=\"sk-parallel\"><div class=\"sk-parallel-item\"><div class=\"sk-item\"><div class=\"sk-label-container\"><div class=\"sk-label sk-toggleable\"><input class=\"sk-toggleable__control sk-hidden--visually\" id=\"sk-estimator-id-4\" type=\"checkbox\" ><label for=\"sk-estimator-id-4\" class=\"sk-toggleable__label sk-toggleable__label-arrow\">estimator: RandomForestClassifier</label><div class=\"sk-toggleable__content\"><pre>RandomForestClassifier(n_jobs=-1, random_state=1)</pre></div></div></div><div class=\"sk-serial\"><div class=\"sk-item\"><div class=\"sk-estimator sk-toggleable\"><input class=\"sk-toggleable__control sk-hidden--visually\" id=\"sk-estimator-id-5\" type=\"checkbox\" ><label for=\"sk-estimator-id-5\" class=\"sk-toggleable__label sk-toggleable__label-arrow\">RandomForestClassifier</label><div class=\"sk-toggleable__content\"><pre>RandomForestClassifier(n_jobs=-1, random_state=1)</pre></div></div></div></div></div></div></div></div></div></div>"
            ],
            "text/plain": [
              "RandomizedSearchCV(cv=5,\n",
              "                   estimator=RandomForestClassifier(n_jobs=-1, random_state=1),\n",
              "                   n_jobs=1,\n",
              "                   param_distributions={'bootstrap': [True, False],\n",
              "                                        'max_depth': [5, 32, 59, 86, 113, 141,\n",
              "                                                      168, 195, 222, 250,\n",
              "                                                      None],\n",
              "                                        'max_features': ['log2', 'sqrt'],\n",
              "                                        'min_samples_leaf': [1, 2, 4, 6, 8, 10,\n",
              "                                                             15, 20, 30],\n",
              "                                        'min_samples_split': [2, 5, 10, 15, 25,\n",
              "                                                              35],\n",
              "                                        'n_estimators': [100, 366, 633, 900,\n",
              "                                                         1166, 1433, 1700, 1966,\n",
              "                                                         2233, 2500]},\n",
              "                   random_state=1, verbose=3)"
            ]
          },
          "execution_count": 31,
          "metadata": {},
          "output_type": "execute_result"
        }
      ],
      "source": [
        "model_random = RandomizedSearchCV(estimator = model, param_distributions = random_grid, n_iter = 10, cv = 5, random_state=1, n_jobs = 1, verbose=3)\n",
        "\n",
        "model_random.fit(X_train, y_train)"
      ]
    },
    {
      "cell_type": "code",
      "execution_count": 40,
      "metadata": {
        "colab": {
          "base_uri": "https://localhost:8080/"
        },
        "id": "qqJFicCkMJEv",
        "outputId": "4c0b35ab-cb24-4339-ec59-3ef5574f7310"
      },
      "outputs": [
        {
          "data": {
            "text/plain": [
              "{'n_estimators': 2500,\n",
              " 'min_samples_split': 5,\n",
              " 'min_samples_leaf': 15,\n",
              " 'max_features': 'sqrt',\n",
              " 'max_depth': 168,\n",
              " 'bootstrap': False}"
            ]
          },
          "execution_count": 40,
          "metadata": {},
          "output_type": "execute_result"
        }
      ],
      "source": [
        "model_random.best_params_"
      ]
    },
    {
      "cell_type": "code",
      "execution_count": 41,
      "metadata": {
        "colab": {
          "base_uri": "https://localhost:8080/"
        },
        "id": "uXmxcU4vDpcK",
        "outputId": "0fddf89b-e1d3-4d22-aee0-7e0d4d13ad49"
      },
      "outputs": [
        {
          "data": {
            "text/plain": [
              "0.5327323215709285"
            ]
          },
          "execution_count": 41,
          "metadata": {},
          "output_type": "execute_result"
        }
      ],
      "source": [
        "model_random.best_score_"
      ]
    },
    {
      "cell_type": "code",
      "execution_count": 65,
      "metadata": {},
      "outputs": [
        {
          "data": {
            "text/plain": [
              "0.5516458569807038"
            ]
          },
          "execution_count": 65,
          "metadata": {},
          "output_type": "execute_result"
        }
      ],
      "source": [
        "model_random_1 = RandomForestClassifier(n_estimators= 2500, min_samples_split=5, min_samples_leaf=15, \n",
        "                                        max_features= 'sqrt', max_depth=168, bootstrap=False)\n",
        "model_random_1.fit(X_train, y_train)\n",
        "y_pred_2 = model_random_1.predict(X_test)\n",
        "accuracy_score(y_test, y_pred_2)"
      ]
    },
    {
      "attachments": {},
      "cell_type": "markdown",
      "metadata": {},
      "source": [
        "## SMOTE"
      ]
    },
    {
      "cell_type": "code",
      "execution_count": 103,
      "metadata": {},
      "outputs": [],
      "source": [
        "from imblearn.over_sampling import SMOTE\n",
        "from collections import Counter\n",
        "from matplotlib import pyplot"
      ]
    },
    {
      "cell_type": "code",
      "execution_count": 104,
      "metadata": {},
      "outputs": [],
      "source": [
        "oversample = SMOTE()\n",
        "X_smote, y_smote = oversample.fit_resample(X_train, y_train)"
      ]
    },
    {
      "cell_type": "code",
      "execution_count": 105,
      "metadata": {},
      "outputs": [
        {
          "name": "stdout",
          "output_type": "stream",
          "text": [
            "Class=6, n=2180 (14.286%)\n",
            "Class=5, n=2180 (14.286%)\n",
            "Class=2, n=2180 (14.286%)\n",
            "Class=7, n=2180 (14.286%)\n",
            "Class=3, n=2180 (14.286%)\n",
            "Class=4, n=2180 (14.286%)\n",
            "Class=1, n=2180 (14.286%)\n"
          ]
        },
        {
          "data": {
            "image/png": "[encoded data removed]",
            "text/plain": [
              "<Figure size 640x480 with 1 Axes>"
            ]
          },
          "metadata": {},
          "output_type": "display_data"
        }
      ],
      "source": [
        "# summarize distribution\n",
        "counter = Counter(y_smote)\n",
        "for k,v in counter.items():\n",
        " per = v / len(y_smote) * 100\n",
        " print('Class=%d, n=%d (%.3f%%)' % (k, v, per))\n",
        "# plot the distribution\n",
        "pyplot.bar(counter.keys(), counter.values())\n",
        "pyplot.show()"
      ]
    },
    {
      "attachments": {},
      "cell_type": "markdown",
      "metadata": {},
      "source": [
        "## SMOTE model"
      ]
    },
    {
      "cell_type": "code",
      "execution_count": 106,
      "metadata": {},
      "outputs": [
        {
          "data": {
            "text/html": [
              "<style>#sk-container-id-11 {color: black;background-color: white;}#sk-container-id-11 pre{padding: 0;}#sk-container-id-11 div.sk-toggleable {background-color: white;}#sk-container-id-11 label.sk-toggleable__label {cursor: pointer;display: block;width: 100%;margin-bottom: 0;padding: 0.3em;box-sizing: border-box;text-align: center;}#sk-container-id-11 label.sk-toggleable__label-arrow:before {content: \"▸\";float: left;margin-right: 0.25em;color: #696969;}#sk-container-id-11 label.sk-toggleable__label-arrow:hover:before {color: black;}#sk-container-id-11 div.sk-estimator:hover label.sk-toggleable__label-arrow:before {color: black;}#sk-container-id-11 div.sk-toggleable__content {max-height: 0;max-width: 0;overflow: hidden;text-align: left;background-color: #f0f8ff;}#sk-container-id-11 div.sk-toggleable__content pre {margin: 0.2em;color: black;border-radius: 0.25em;background-color: #f0f8ff;}#sk-container-id-11 input.sk-toggleable__control:checked~div.sk-toggleable__content {max-height: 200px;max-width: 100%;overflow: auto;}#sk-container-id-11 input.sk-toggleable__control:checked~label.sk-toggleable__label-arrow:before {content: \"▾\";}#sk-container-id-11 div.sk-estimator input.sk-toggleable__control:checked~label.sk-toggleable__label {background-color: #d4ebff;}#sk-container-id-11 div.sk-label input.sk-toggleable__control:checked~label.sk-toggleable__label {background-color: #d4ebff;}#sk-container-id-11 input.sk-hidden--visually {border: 0;clip: rect(1px 1px 1px 1px);clip: rect(1px, 1px, 1px, 1px);height: 1px;margin: -1px;overflow: hidden;padding: 0;position: absolute;width: 1px;}#sk-container-id-11 div.sk-estimator {font-family: monospace;background-color: #f0f8ff;border: 1px dotted black;border-radius: 0.25em;box-sizing: border-box;margin-bottom: 0.5em;}#sk-container-id-11 div.sk-estimator:hover {background-color: #d4ebff;}#sk-container-id-11 div.sk-parallel-item::after {content: \"\";width: 100%;border-bottom: 1px solid gray;flex-grow: 1;}#sk-container-id-11 div.sk-label:hover label.sk-toggleable__label {background-color: #d4ebff;}#sk-container-id-11 div.sk-serial::before {content: \"\";position: absolute;border-left: 1px solid gray;box-sizing: border-box;top: 0;bottom: 0;left: 50%;z-index: 0;}#sk-container-id-11 div.sk-serial {display: flex;flex-direction: column;align-items: center;background-color: white;padding-right: 0.2em;padding-left: 0.2em;position: relative;}#sk-container-id-11 div.sk-item {position: relative;z-index: 1;}#sk-container-id-11 div.sk-parallel {display: flex;align-items: stretch;justify-content: center;background-color: white;position: relative;}#sk-container-id-11 div.sk-item::before, #sk-container-id-11 div.sk-parallel-item::before {content: \"\";position: absolute;border-left: 1px solid gray;box-sizing: border-box;top: 0;bottom: 0;left: 50%;z-index: -1;}#sk-container-id-11 div.sk-parallel-item {display: flex;flex-direction: column;z-index: 1;position: relative;background-color: white;}#sk-container-id-11 div.sk-parallel-item:first-child::after {align-self: flex-end;width: 50%;}#sk-container-id-11 div.sk-parallel-item:last-child::after {align-self: flex-start;width: 50%;}#sk-container-id-11 div.sk-parallel-item:only-child::after {width: 0;}#sk-container-id-11 div.sk-dashed-wrapped {border: 1px dashed gray;margin: 0 0.4em 0.5em 0.4em;box-sizing: border-box;padding-bottom: 0.4em;background-color: white;}#sk-container-id-11 div.sk-label label {font-family: monospace;font-weight: bold;display: inline-block;line-height: 1.2em;}#sk-container-id-11 div.sk-label-container {text-align: center;}#sk-container-id-11 div.sk-container {/* jupyter's `normalize.less` sets `[hidden] { display: none; }` but bootstrap.min.css set `[hidden] { display: none !important; }` so we also need the `!important` here to be able to override the default hidden behavior on the sphinx rendered scikit-learn.org. See: https://github.com/scikit-learn/scikit-learn/issues/21755 */display: inline-block !important;position: relative;}#sk-container-id-11 div.sk-text-repr-fallback {display: none;}</style><div id=\"sk-container-id-11\" class=\"sk-top-container\"><div class=\"sk-text-repr-fallback\"><pre>RandomForestClassifier()</pre><b>In a Jupyter environment, please rerun this cell to show the HTML representation or trust the notebook. <br />On GitHub, the HTML representation is unable to render, please try loading this page with nbviewer.org.</b></div><div class=\"sk-container\" hidden><div class=\"sk-item\"><div class=\"sk-estimator sk-toggleable\"><input class=\"sk-toggleable__control sk-hidden--visually\" id=\"sk-estimator-id-15\" type=\"checkbox\" checked><label for=\"sk-estimator-id-15\" class=\"sk-toggleable__label sk-toggleable__label-arrow\">RandomForestClassifier</label><div class=\"sk-toggleable__content\"><pre>RandomForestClassifier()</pre></div></div></div></div></div>"
            ],
            "text/plain": [
              "RandomForestClassifier()"
            ]
          },
          "execution_count": 106,
          "metadata": {},
          "output_type": "execute_result"
        }
      ],
      "source": [
        "model_smote = RandomForestClassifier()\n",
        "model_smote.fit(X_smote, y_smote)"
      ]
    },
    {
      "cell_type": "code",
      "execution_count": 107,
      "metadata": {},
      "outputs": [
        {
          "data": {
            "text/plain": [
              "0.5141884222474461"
            ]
          },
          "execution_count": 107,
          "metadata": {},
          "output_type": "execute_result"
        }
      ],
      "source": [
        "y_pred = model_smote.predict(X_test)\n",
        "\n",
        "accuracy_score(y_test, y_pred)"
      ]
    },
    {
      "cell_type": "code",
      "execution_count": 111,
      "metadata": {},
      "outputs": [
        {
          "name": "stdout",
          "output_type": "stream",
          "text": [
            "Fitting 3 folds for each of 5 candidates, totalling 15 fits\n",
            "[CV 1/3] END bootstrap=True, max_depth=5, max_features=log2, min_samples_leaf=6, min_samples_split=35, n_estimators=1433;, score=0.423 total time=  13.1s\n",
            "[CV 2/3] END bootstrap=True, max_depth=5, max_features=log2, min_samples_leaf=6, min_samples_split=35, n_estimators=1433;, score=0.520 total time=  14.3s\n",
            "[CV 3/3] END bootstrap=True, max_depth=5, max_features=log2, min_samples_leaf=6, min_samples_split=35, n_estimators=1433;, score=0.502 total time=  13.9s\n",
            "[CV 1/3] END bootstrap=False, max_depth=5, max_features=log2, min_samples_leaf=8, min_samples_split=35, n_estimators=633;, score=0.424 total time=   7.7s\n",
            "[CV 2/3] END bootstrap=False, max_depth=5, max_features=log2, min_samples_leaf=8, min_samples_split=35, n_estimators=633;, score=0.522 total time=   7.1s\n",
            "[CV 3/3] END bootstrap=False, max_depth=5, max_features=log2, min_samples_leaf=8, min_samples_split=35, n_estimators=633;, score=0.500 total time=   7.1s\n",
            "[CV 1/3] END bootstrap=True, max_depth=113, max_features=sqrt, min_samples_leaf=10, min_samples_split=15, n_estimators=633;, score=0.588 total time=  14.2s\n",
            "[CV 2/3] END bootstrap=True, max_depth=113, max_features=sqrt, min_samples_leaf=10, min_samples_split=15, n_estimators=633;, score=0.744 total time=  12.8s\n",
            "[CV 3/3] END bootstrap=True, max_depth=113, max_features=sqrt, min_samples_leaf=10, min_samples_split=15, n_estimators=633;, score=0.724 total time=  12.6s\n",
            "[CV 1/3] END bootstrap=False, max_depth=141, max_features=log2, min_samples_leaf=1, min_samples_split=2, n_estimators=2500;, score=0.636 total time= 1.6min\n",
            "[CV 2/3] END bootstrap=False, max_depth=141, max_features=log2, min_samples_leaf=1, min_samples_split=2, n_estimators=2500;, score=0.898 total time= 1.7min\n",
            "[CV 3/3] END bootstrap=False, max_depth=141, max_features=log2, min_samples_leaf=1, min_samples_split=2, n_estimators=2500;, score=0.892 total time= 1.5min\n",
            "[CV 1/3] END bootstrap=True, max_depth=None, max_features=log2, min_samples_leaf=4, min_samples_split=15, n_estimators=1433;, score=0.600 total time=  40.3s\n",
            "[CV 2/3] END bootstrap=True, max_depth=None, max_features=log2, min_samples_leaf=4, min_samples_split=15, n_estimators=1433;, score=0.790 total time=  28.1s\n",
            "[CV 3/3] END bootstrap=True, max_depth=None, max_features=log2, min_samples_leaf=4, min_samples_split=15, n_estimators=1433;, score=0.783 total time=  34.0s\n"
          ]
        },
        {
          "data": {
            "text/html": [
              "<style>#sk-container-id-12 {color: black;background-color: white;}#sk-container-id-12 pre{padding: 0;}#sk-container-id-12 div.sk-toggleable {background-color: white;}#sk-container-id-12 label.sk-toggleable__label {cursor: pointer;display: block;width: 100%;margin-bottom: 0;padding: 0.3em;box-sizing: border-box;text-align: center;}#sk-container-id-12 label.sk-toggleable__label-arrow:before {content: \"▸\";float: left;margin-right: 0.25em;color: #696969;}#sk-container-id-12 label.sk-toggleable__label-arrow:hover:before {color: black;}#sk-container-id-12 div.sk-estimator:hover label.sk-toggleable__label-arrow:before {color: black;}#sk-container-id-12 div.sk-toggleable__content {max-height: 0;max-width: 0;overflow: hidden;text-align: left;background-color: #f0f8ff;}#sk-container-id-12 div.sk-toggleable__content pre {margin: 0.2em;color: black;border-radius: 0.25em;background-color: #f0f8ff;}#sk-container-id-12 input.sk-toggleable__control:checked~div.sk-toggleable__content {max-height: 200px;max-width: 100%;overflow: auto;}#sk-container-id-12 input.sk-toggleable__control:checked~label.sk-toggleable__label-arrow:before {content: \"▾\";}#sk-container-id-12 div.sk-estimator input.sk-toggleable__control:checked~label.sk-toggleable__label {background-color: #d4ebff;}#sk-container-id-12 div.sk-label input.sk-toggleable__control:checked~label.sk-toggleable__label {background-color: #d4ebff;}#sk-container-id-12 input.sk-hidden--visually {border: 0;clip: rect(1px 1px 1px 1px);clip: rect(1px, 1px, 1px, 1px);height: 1px;margin: -1px;overflow: hidden;padding: 0;position: absolute;width: 1px;}#sk-container-id-12 div.sk-estimator {font-family: monospace;background-color: #f0f8ff;border: 1px dotted black;border-radius: 0.25em;box-sizing: border-box;margin-bottom: 0.5em;}#sk-container-id-12 div.sk-estimator:hover {background-color: #d4ebff;}#sk-container-id-12 div.sk-parallel-item::after {content: \"\";width: 100%;border-bottom: 1px solid gray;flex-grow: 1;}#sk-container-id-12 div.sk-label:hover label.sk-toggleable__label {background-color: #d4ebff;}#sk-container-id-12 div.sk-serial::before {content: \"\";position: absolute;border-left: 1px solid gray;box-sizing: border-box;top: 0;bottom: 0;left: 50%;z-index: 0;}#sk-container-id-12 div.sk-serial {display: flex;flex-direction: column;align-items: center;background-color: white;padding-right: 0.2em;padding-left: 0.2em;position: relative;}#sk-container-id-12 div.sk-item {position: relative;z-index: 1;}#sk-container-id-12 div.sk-parallel {display: flex;align-items: stretch;justify-content: center;background-color: white;position: relative;}#sk-container-id-12 div.sk-item::before, #sk-container-id-12 div.sk-parallel-item::before {content: \"\";position: absolute;border-left: 1px solid gray;box-sizing: border-box;top: 0;bottom: 0;left: 50%;z-index: -1;}#sk-container-id-12 div.sk-parallel-item {display: flex;flex-direction: column;z-index: 1;position: relative;background-color: white;}#sk-container-id-12 div.sk-parallel-item:first-child::after {align-self: flex-end;width: 50%;}#sk-container-id-12 div.sk-parallel-item:last-child::after {align-self: flex-start;width: 50%;}#sk-container-id-12 div.sk-parallel-item:only-child::after {width: 0;}#sk-container-id-12 div.sk-dashed-wrapped {border: 1px dashed gray;margin: 0 0.4em 0.5em 0.4em;box-sizing: border-box;padding-bottom: 0.4em;background-color: white;}#sk-container-id-12 div.sk-label label {font-family: monospace;font-weight: bold;display: inline-block;line-height: 1.2em;}#sk-container-id-12 div.sk-label-container {text-align: center;}#sk-container-id-12 div.sk-container {/* jupyter's `normalize.less` sets `[hidden] { display: none; }` but bootstrap.min.css set `[hidden] { display: none !important; }` so we also need the `!important` here to be able to override the default hidden behavior on the sphinx rendered scikit-learn.org. See: https://github.com/scikit-learn/scikit-learn/issues/21755 */display: inline-block !important;position: relative;}#sk-container-id-12 div.sk-text-repr-fallback {display: none;}</style><div id=\"sk-container-id-12\" class=\"sk-top-container\"><div class=\"sk-text-repr-fallback\"><pre>RandomizedSearchCV(cv=3, estimator=RandomForestClassifier(), n_iter=5, n_jobs=1,\n",
              "                   param_distributions={&#x27;bootstrap&#x27;: [True, False],\n",
              "                                        &#x27;max_depth&#x27;: [5, 32, 59, 86, 113, 141,\n",
              "                                                      168, 195, 222, 250,\n",
              "                                                      None],\n",
              "                                        &#x27;max_features&#x27;: [&#x27;log2&#x27;, &#x27;sqrt&#x27;],\n",
              "                                        &#x27;min_samples_leaf&#x27;: [1, 2, 4, 6, 8, 10,\n",
              "                                                             15, 20, 30],\n",
              "                                        &#x27;min_samples_split&#x27;: [2, 5, 10, 15, 25,\n",
              "                                                              35],\n",
              "                                        &#x27;n_estimators&#x27;: [100, 366, 633, 900,\n",
              "                                                         1166, 1433, 1700, 1966,\n",
              "                                                         2233, 2500]},\n",
              "                   random_state=1, verbose=3)</pre><b>In a Jupyter environment, please rerun this cell to show the HTML representation or trust the notebook. <br />On GitHub, the HTML representation is unable to render, please try loading this page with nbviewer.org.</b></div><div class=\"sk-container\" hidden><div class=\"sk-item sk-dashed-wrapped\"><div class=\"sk-label-container\"><div class=\"sk-label sk-toggleable\"><input class=\"sk-toggleable__control sk-hidden--visually\" id=\"sk-estimator-id-16\" type=\"checkbox\" ><label for=\"sk-estimator-id-16\" class=\"sk-toggleable__label sk-toggleable__label-arrow\">RandomizedSearchCV</label><div class=\"sk-toggleable__content\"><pre>RandomizedSearchCV(cv=3, estimator=RandomForestClassifier(), n_iter=5, n_jobs=1,\n",
              "                   param_distributions={&#x27;bootstrap&#x27;: [True, False],\n",
              "                                        &#x27;max_depth&#x27;: [5, 32, 59, 86, 113, 141,\n",
              "                                                      168, 195, 222, 250,\n",
              "                                                      None],\n",
              "                                        &#x27;max_features&#x27;: [&#x27;log2&#x27;, &#x27;sqrt&#x27;],\n",
              "                                        &#x27;min_samples_leaf&#x27;: [1, 2, 4, 6, 8, 10,\n",
              "                                                             15, 20, 30],\n",
              "                                        &#x27;min_samples_split&#x27;: [2, 5, 10, 15, 25,\n",
              "                                                              35],\n",
              "                                        &#x27;n_estimators&#x27;: [100, 366, 633, 900,\n",
              "                                                         1166, 1433, 1700, 1966,\n",
              "                                                         2233, 2500]},\n",
              "                   random_state=1, verbose=3)</pre></div></div></div><div class=\"sk-parallel\"><div class=\"sk-parallel-item\"><div class=\"sk-item\"><div class=\"sk-label-container\"><div class=\"sk-label sk-toggleable\"><input class=\"sk-toggleable__control sk-hidden--visually\" id=\"sk-estimator-id-17\" type=\"checkbox\" ><label for=\"sk-estimator-id-17\" class=\"sk-toggleable__label sk-toggleable__label-arrow\">estimator: RandomForestClassifier</label><div class=\"sk-toggleable__content\"><pre>RandomForestClassifier()</pre></div></div></div><div class=\"sk-serial\"><div class=\"sk-item\"><div class=\"sk-estimator sk-toggleable\"><input class=\"sk-toggleable__control sk-hidden--visually\" id=\"sk-estimator-id-18\" type=\"checkbox\" ><label for=\"sk-estimator-id-18\" class=\"sk-toggleable__label sk-toggleable__label-arrow\">RandomForestClassifier</label><div class=\"sk-toggleable__content\"><pre>RandomForestClassifier()</pre></div></div></div></div></div></div></div></div></div></div>"
            ],
            "text/plain": [
              "RandomizedSearchCV(cv=3, estimator=RandomForestClassifier(), n_iter=5, n_jobs=1,\n",
              "                   param_distributions={'bootstrap': [True, False],\n",
              "                                        'max_depth': [5, 32, 59, 86, 113, 141,\n",
              "                                                      168, 195, 222, 250,\n",
              "                                                      None],\n",
              "                                        'max_features': ['log2', 'sqrt'],\n",
              "                                        'min_samples_leaf': [1, 2, 4, 6, 8, 10,\n",
              "                                                             15, 20, 30],\n",
              "                                        'min_samples_split': [2, 5, 10, 15, 25,\n",
              "                                                              35],\n",
              "                                        'n_estimators': [100, 366, 633, 900,\n",
              "                                                         1166, 1433, 1700, 1966,\n",
              "                                                         2233, 2500]},\n",
              "                   random_state=1, verbose=3)"
            ]
          },
          "execution_count": 111,
          "metadata": {},
          "output_type": "execute_result"
        }
      ],
      "source": [
        "model_random_smote = RandomizedSearchCV(estimator = model_smote, param_distributions = random_grid, n_iter = 5, cv = 3, random_state=1, n_jobs = 1, verbose=3)\n",
        "\n",
        "model_random_smote.fit(X_smote, y_smote)"
      ]
    },
    {
      "cell_type": "code",
      "execution_count": 112,
      "metadata": {},
      "outputs": [
        {
          "data": {
            "text/plain": [
              "{'n_estimators': 2500,\n",
              " 'min_samples_split': 2,\n",
              " 'min_samples_leaf': 1,\n",
              " 'max_features': 'log2',\n",
              " 'max_depth': 141,\n",
              " 'bootstrap': False}"
            ]
          },
          "execution_count": 112,
          "metadata": {},
          "output_type": "execute_result"
        }
      ],
      "source": [
        "model_random_smote.best_params_"
      ]
    },
    {
      "cell_type": "code",
      "execution_count": 113,
      "metadata": {},
      "outputs": [
        {
          "data": {
            "text/plain": [
              "0.808721057376714"
            ]
          },
          "execution_count": 113,
          "metadata": {},
          "output_type": "execute_result"
        }
      ],
      "source": [
        "model_random_smote.best_score_"
      ]
    },
    {
      "cell_type": "code",
      "execution_count": 114,
      "metadata": {},
      "outputs": [
        {
          "data": {
            "text/html": [
              "<style>#sk-container-id-13 {color: black;background-color: white;}#sk-container-id-13 pre{padding: 0;}#sk-container-id-13 div.sk-toggleable {background-color: white;}#sk-container-id-13 label.sk-toggleable__label {cursor: pointer;display: block;width: 100%;margin-bottom: 0;padding: 0.3em;box-sizing: border-box;text-align: center;}#sk-container-id-13 label.sk-toggleable__label-arrow:before {content: \"▸\";float: left;margin-right: 0.25em;color: #696969;}#sk-container-id-13 label.sk-toggleable__label-arrow:hover:before {color: black;}#sk-container-id-13 div.sk-estimator:hover label.sk-toggleable__label-arrow:before {color: black;}#sk-container-id-13 div.sk-toggleable__content {max-height: 0;max-width: 0;overflow: hidden;text-align: left;background-color: #f0f8ff;}#sk-container-id-13 div.sk-toggleable__content pre {margin: 0.2em;color: black;border-radius: 0.25em;background-color: #f0f8ff;}#sk-container-id-13 input.sk-toggleable__control:checked~div.sk-toggleable__content {max-height: 200px;max-width: 100%;overflow: auto;}#sk-container-id-13 input.sk-toggleable__control:checked~label.sk-toggleable__label-arrow:before {content: \"▾\";}#sk-container-id-13 div.sk-estimator input.sk-toggleable__control:checked~label.sk-toggleable__label {background-color: #d4ebff;}#sk-container-id-13 div.sk-label input.sk-toggleable__control:checked~label.sk-toggleable__label {background-color: #d4ebff;}#sk-container-id-13 input.sk-hidden--visually {border: 0;clip: rect(1px 1px 1px 1px);clip: rect(1px, 1px, 1px, 1px);height: 1px;margin: -1px;overflow: hidden;padding: 0;position: absolute;width: 1px;}#sk-container-id-13 div.sk-estimator {font-family: monospace;background-color: #f0f8ff;border: 1px dotted black;border-radius: 0.25em;box-sizing: border-box;margin-bottom: 0.5em;}#sk-container-id-13 div.sk-estimator:hover {background-color: #d4ebff;}#sk-container-id-13 div.sk-parallel-item::after {content: \"\";width: 100%;border-bottom: 1px solid gray;flex-grow: 1;}#sk-container-id-13 div.sk-label:hover label.sk-toggleable__label {background-color: #d4ebff;}#sk-container-id-13 div.sk-serial::before {content: \"\";position: absolute;border-left: 1px solid gray;box-sizing: border-box;top: 0;bottom: 0;left: 50%;z-index: 0;}#sk-container-id-13 div.sk-serial {display: flex;flex-direction: column;align-items: center;background-color: white;padding-right: 0.2em;padding-left: 0.2em;position: relative;}#sk-container-id-13 div.sk-item {position: relative;z-index: 1;}#sk-container-id-13 div.sk-parallel {display: flex;align-items: stretch;justify-content: center;background-color: white;position: relative;}#sk-container-id-13 div.sk-item::before, #sk-container-id-13 div.sk-parallel-item::before {content: \"\";position: absolute;border-left: 1px solid gray;box-sizing: border-box;top: 0;bottom: 0;left: 50%;z-index: -1;}#sk-container-id-13 div.sk-parallel-item {display: flex;flex-direction: column;z-index: 1;position: relative;background-color: white;}#sk-container-id-13 div.sk-parallel-item:first-child::after {align-self: flex-end;width: 50%;}#sk-container-id-13 div.sk-parallel-item:last-child::after {align-self: flex-start;width: 50%;}#sk-container-id-13 div.sk-parallel-item:only-child::after {width: 0;}#sk-container-id-13 div.sk-dashed-wrapped {border: 1px dashed gray;margin: 0 0.4em 0.5em 0.4em;box-sizing: border-box;padding-bottom: 0.4em;background-color: white;}#sk-container-id-13 div.sk-label label {font-family: monospace;font-weight: bold;display: inline-block;line-height: 1.2em;}#sk-container-id-13 div.sk-label-container {text-align: center;}#sk-container-id-13 div.sk-container {/* jupyter's `normalize.less` sets `[hidden] { display: none; }` but bootstrap.min.css set `[hidden] { display: none !important; }` so we also need the `!important` here to be able to override the default hidden behavior on the sphinx rendered scikit-learn.org. See: https://github.com/scikit-learn/scikit-learn/issues/21755 */display: inline-block !important;position: relative;}#sk-container-id-13 div.sk-text-repr-fallback {display: none;}</style><div id=\"sk-container-id-13\" class=\"sk-top-container\"><div class=\"sk-text-repr-fallback\"><pre>RandomForestClassifier(bootstrap=False, max_depth=141, max_features=&#x27;log2&#x27;,\n",
              "                       n_estimators=2500)</pre><b>In a Jupyter environment, please rerun this cell to show the HTML representation or trust the notebook. <br />On GitHub, the HTML representation is unable to render, please try loading this page with nbviewer.org.</b></div><div class=\"sk-container\" hidden><div class=\"sk-item\"><div class=\"sk-estimator sk-toggleable\"><input class=\"sk-toggleable__control sk-hidden--visually\" id=\"sk-estimator-id-19\" type=\"checkbox\" checked><label for=\"sk-estimator-id-19\" class=\"sk-toggleable__label sk-toggleable__label-arrow\">RandomForestClassifier</label><div class=\"sk-toggleable__content\"><pre>RandomForestClassifier(bootstrap=False, max_depth=141, max_features=&#x27;log2&#x27;,\n",
              "                       n_estimators=2500)</pre></div></div></div></div></div>"
            ],
            "text/plain": [
              "RandomForestClassifier(bootstrap=False, max_depth=141, max_features='log2',\n",
              "                       n_estimators=2500)"
            ]
          },
          "execution_count": 114,
          "metadata": {},
          "output_type": "execute_result"
        }
      ],
      "source": [
        "model_smote_best = RandomForestClassifier(n_estimators=2500, min_samples_split= 2,min_samples_leaf=1,\n",
        "                                          max_features='log2',max_depth= 141, bootstrap=False)\n",
        "\n",
        "model_smote_best.fit(X_smote, y_smote)\n",
        "\n"
      ]
    },
    {
      "cell_type": "code",
      "execution_count": 115,
      "metadata": {},
      "outputs": [
        {
          "data": {
            "text/plain": [
              "0.5085130533484676"
            ]
          },
          "execution_count": 115,
          "metadata": {},
          "output_type": "execute_result"
        }
      ],
      "source": [
        "model_smote_best.score(X_test, y_test)"
      ]
    },
    {
      "cell_type": "code",
      "execution_count": 119,
      "metadata": {},
      "outputs": [
        {
          "data": {
            "text/plain": [
              "0.5085130533484676"
            ]
          },
          "execution_count": 119,
          "metadata": {},
          "output_type": "execute_result"
        }
      ],
      "source": [
        "y_pred_smote = model_smote_best.predict(X_test)\n",
        "accuracy_score(y_test, y_pred_smote)\n"
      ]
    },
    {
      "cell_type": "code",
      "execution_count": 120,
      "metadata": {},
      "outputs": [
        {
          "data": {
            "text/plain": [
              "0.43533856283741823"
            ]
          },
          "execution_count": 120,
          "metadata": {},
          "output_type": "execute_result"
        }
      ],
      "source": [
        "f1_score(y_test, y_pred_smote, average='weighted')"
      ]
    },
    {
      "attachments": {},
      "cell_type": "markdown",
      "metadata": {},
      "source": [
        "## ADASYN "
      ]
    },
    {
      "cell_type": "code",
      "execution_count": null,
      "metadata": {},
      "outputs": [],
      "source": [
        "from imblearn.over_sampling import ADASYN"
      ]
    },
    {
      "cell_type": "code",
      "execution_count": null,
      "metadata": {},
      "outputs": [
        {
          "name": "stdout",
          "output_type": "stream",
          "text": [
            "Class=6, n=2180 (14.374%)\n",
            "Class=5, n=2240 (14.770%)\n",
            "Class=2, n=2176 (14.348%)\n",
            "Class=7, n=2085 (13.748%)\n",
            "Class=3, n=2150 (14.176%)\n",
            "Class=4, n=2151 (14.183%)\n",
            "Class=1, n=2184 (14.401%)\n"
          ]
        },
        {
          "data": {
            "image/png": "[encoded data removed]",
            "text/plain": [
              "<Figure size 640x480 with 1 Axes>"
            ]
          },
          "metadata": {},
          "output_type": "display_data"
        }
      ],
      "source": [
        "ada = ADASYN()\n",
        "X_ada, y_ada = ada.fit_resample(X_train, y_train)\n",
        "\n",
        "# summarize distribution\n",
        "counter = Counter(y_ada)\n",
        "for k,v in counter.items():\n",
        " per = v / len(y_ada) * 100\n",
        " print('Class=%d, n=%d (%.3f%%)' % (k, v, per))\n",
        "# plot the distribution\n",
        "pyplot.bar(counter.keys(), counter.values())\n",
        "pyplot.show()"
      ]
    },
    {
      "cell_type": "code",
      "execution_count": null,
      "metadata": {},
      "outputs": [
        {
          "data": {
            "text/html": [
              "<style>#sk-container-id-1 {color: black;background-color: white;}#sk-container-id-1 pre{padding: 0;}#sk-container-id-1 div.sk-toggleable {background-color: white;}#sk-container-id-1 label.sk-toggleable__label {cursor: pointer;display: block;width: 100%;margin-bottom: 0;padding: 0.3em;box-sizing: border-box;text-align: center;}#sk-container-id-1 label.sk-toggleable__label-arrow:before {content: \"▸\";float: left;margin-right: 0.25em;color: #696969;}#sk-container-id-1 label.sk-toggleable__label-arrow:hover:before {color: black;}#sk-container-id-1 div.sk-estimator:hover label.sk-toggleable__label-arrow:before {color: black;}#sk-container-id-1 div.sk-toggleable__content {max-height: 0;max-width: 0;overflow: hidden;text-align: left;background-color: #f0f8ff;}#sk-container-id-1 div.sk-toggleable__content pre {margin: 0.2em;color: black;border-radius: 0.25em;background-color: #f0f8ff;}#sk-container-id-1 input.sk-toggleable__control:checked~div.sk-toggleable__content {max-height: 200px;max-width: 100%;overflow: auto;}#sk-container-id-1 input.sk-toggleable__control:checked~label.sk-toggleable__label-arrow:before {content: \"▾\";}#sk-container-id-1 div.sk-estimator input.sk-toggleable__control:checked~label.sk-toggleable__label {background-color: #d4ebff;}#sk-container-id-1 div.sk-label input.sk-toggleable__control:checked~label.sk-toggleable__label {background-color: #d4ebff;}#sk-container-id-1 input.sk-hidden--visually {border: 0;clip: rect(1px 1px 1px 1px);clip: rect(1px, 1px, 1px, 1px);height: 1px;margin: -1px;overflow: hidden;padding: 0;position: absolute;width: 1px;}#sk-container-id-1 div.sk-estimator {font-family: monospace;background-color: #f0f8ff;border: 1px dotted black;border-radius: 0.25em;box-sizing: border-box;margin-bottom: 0.5em;}#sk-container-id-1 div.sk-estimator:hover {background-color: #d4ebff;}#sk-container-id-1 div.sk-parallel-item::after {content: \"\";width: 100%;border-bottom: 1px solid gray;flex-grow: 1;}#sk-container-id-1 div.sk-label:hover label.sk-toggleable__label {background-color: #d4ebff;}#sk-container-id-1 div.sk-serial::before {content: \"\";position: absolute;border-left: 1px solid gray;box-sizing: border-box;top: 0;bottom: 0;left: 50%;z-index: 0;}#sk-container-id-1 div.sk-serial {display: flex;flex-direction: column;align-items: center;background-color: white;padding-right: 0.2em;padding-left: 0.2em;position: relative;}#sk-container-id-1 div.sk-item {position: relative;z-index: 1;}#sk-container-id-1 div.sk-parallel {display: flex;align-items: stretch;justify-content: center;background-color: white;position: relative;}#sk-container-id-1 div.sk-item::before, #sk-container-id-1 div.sk-parallel-item::before {content: \"\";position: absolute;border-left: 1px solid gray;box-sizing: border-box;top: 0;bottom: 0;left: 50%;z-index: -1;}#sk-container-id-1 div.sk-parallel-item {display: flex;flex-direction: column;z-index: 1;position: relative;background-color: white;}#sk-container-id-1 div.sk-parallel-item:first-child::after {align-self: flex-end;width: 50%;}#sk-container-id-1 div.sk-parallel-item:last-child::after {align-self: flex-start;width: 50%;}#sk-container-id-1 div.sk-parallel-item:only-child::after {width: 0;}#sk-container-id-1 div.sk-dashed-wrapped {border: 1px dashed gray;margin: 0 0.4em 0.5em 0.4em;box-sizing: border-box;padding-bottom: 0.4em;background-color: white;}#sk-container-id-1 div.sk-label label {font-family: monospace;font-weight: bold;display: inline-block;line-height: 1.2em;}#sk-container-id-1 div.sk-label-container {text-align: center;}#sk-container-id-1 div.sk-container {/* jupyter's `normalize.less` sets `[hidden] { display: none; }` but bootstrap.min.css set `[hidden] { display: none !important; }` so we also need the `!important` here to be able to override the default hidden behavior on the sphinx rendered scikit-learn.org. See: https://github.com/scikit-learn/scikit-learn/issues/21755 */display: inline-block !important;position: relative;}#sk-container-id-1 div.sk-text-repr-fallback {display: none;}</style><div id=\"sk-container-id-1\" class=\"sk-top-container\"><div class=\"sk-text-repr-fallback\"><pre>RandomForestClassifier()</pre><b>In a Jupyter environment, please rerun this cell to show the HTML representation or trust the notebook. <br />On GitHub, the HTML representation is unable to render, please try loading this page with nbviewer.org.</b></div><div class=\"sk-container\" hidden><div class=\"sk-item\"><div class=\"sk-estimator sk-toggleable\"><input class=\"sk-toggleable__control sk-hidden--visually\" id=\"sk-estimator-id-1\" type=\"checkbox\" checked><label for=\"sk-estimator-id-1\" class=\"sk-toggleable__label sk-toggleable__label-arrow\">RandomForestClassifier</label><div class=\"sk-toggleable__content\"><pre>RandomForestClassifier()</pre></div></div></div></div></div>"
            ],
            "text/plain": [
              "RandomForestClassifier()"
            ]
          },
          "execution_count": 11,
          "metadata": {},
          "output_type": "execute_result"
        }
      ],
      "source": [
        "model_ada = RandomForestClassifier()\n",
        "model_ada.fit(X_ada, y_ada)"
      ]
    },
    {
      "cell_type": "code",
      "execution_count": null,
      "metadata": {},
      "outputs": [
        {
          "data": {
            "text/plain": [
              "0.5130533484676504"
            ]
          },
          "execution_count": 12,
          "metadata": {},
          "output_type": "execute_result"
        }
      ],
      "source": [
        "y_pred = model_ada.predict(X_test)\n",
        "\n",
        "accuracy_score(y_test, y_pred)"
      ]
    },
    {
      "cell_type": "code",
      "execution_count": null,
      "metadata": {},
      "outputs": [],
      "source": [
        "model_random_ada = RandomizedSearchCV(estimator = model_ada, param_distributions = random_grid, n_iter = 10, cv = 5, random_state=1, n_jobs = 1, verbose=3)\n",
        "\n",
        "model_random_ada.fit(X_ada, y_ada)"
      ]
    },
    {
      "cell_type": "code",
      "execution_count": null,
      "metadata": {},
      "outputs": [
        {
          "ename": "AttributeError",
          "evalue": "'RandomizedSearchCV' object has no attribute 'best_params_'",
          "output_type": "error",
          "traceback": [
            "\u001b[0;31m---------------------------------------------------------------------------\u001b[0m",
            "\u001b[0;31mAttributeError\u001b[0m                            Traceback (most recent call last)",
            "Cell \u001b[0;32mIn[18], line 1\u001b[0m\n\u001b[0;32m----> 1\u001b[0m model_random_ada\u001b[39m.\u001b[39;49mbest_params_\n",
            "\u001b[0;31mAttributeError\u001b[0m: 'RandomizedSearchCV' object has no attribute 'best_params_'"
          ]
        }
      ],
      "source": [
        "model_random_ada.best_params_"
      ]
    },
    {
      "cell_type": "code",
      "execution_count": null,
      "metadata": {},
      "outputs": [
        {
          "data": {
            "text/plain": [
              "0.7379169065569876"
            ]
          },
          "execution_count": 28,
          "metadata": {},
          "output_type": "execute_result"
        }
      ],
      "source": [
        "model_random_ada.best_score_"
      ]
    },
    {
      "cell_type": "code",
      "execution_count": null,
      "metadata": {},
      "outputs": [
        {
          "data": {
            "text/plain": [
              "0.5107832009080591"
            ]
          },
          "execution_count": 29,
          "metadata": {},
          "output_type": "execute_result"
        }
      ],
      "source": [
        "model_ada_best = RandomForestClassifier(n_estimators=2500, min_samples_split= 2,min_samples_leaf=1,\n",
        "                                          max_features='log2',max_depth= 141, bootstrap=False)\n",
        "\n",
        "model_ada_best.fit(X_ada, y_ada)\n",
        "\n",
        "model_ada_best.score(X_test, y_test)"
      ]
    },
    {
      "cell_type": "code",
      "execution_count": null,
      "metadata": {},
      "outputs": [
        {
          "ename": "NameError",
          "evalue": "name 'model_ada_best' is not defined",
          "output_type": "error",
          "traceback": [
            "\u001b[0;31m---------------------------------------------------------------------------\u001b[0m",
            "\u001b[0;31mNameError\u001b[0m                                 Traceback (most recent call last)",
            "Cell \u001b[0;32mIn[19], line 4\u001b[0m\n\u001b[1;32m      1\u001b[0m \u001b[39mfrom\u001b[39;00m \u001b[39msklearn\u001b[39;00m\u001b[39m.\u001b[39;00m\u001b[39mmodel_selection\u001b[39;00m \u001b[39mimport\u001b[39;00m learning_curve\n\u001b[1;32m      3\u001b[0m \u001b[39m# Compute the learning curve\u001b[39;00m\n\u001b[0;32m----> 4\u001b[0m train_sizes, train_scores, test_scores \u001b[39m=\u001b[39m learning_curve(model_ada_best, X_ada, y_ada, train_sizes\u001b[39m=\u001b[39mnp\u001b[39m.\u001b[39mlinspace(\u001b[39m0.1\u001b[39m, \u001b[39m1.0\u001b[39m, \u001b[39m10\u001b[39m), cv\u001b[39m=\u001b[39m\u001b[39m5\u001b[39m)\n\u001b[1;32m      5\u001b[0m \u001b[39m# Calculate the mean and standard deviation of train and test scores\u001b[39;00m\n\u001b[1;32m      6\u001b[0m train_mean \u001b[39m=\u001b[39m np\u001b[39m.\u001b[39mmean(train_scores, axis\u001b[39m=\u001b[39m\u001b[39m1\u001b[39m)\n",
            "\u001b[0;31mNameError\u001b[0m: name 'model_ada_best' is not defined"
          ]
        }
      ],
      "source": [
        "from sklearn.model_selection import learning_curve\n",
        "\n",
        "# Compute the learning curve\n",
        "train_sizes, train_scores, test_scores = learning_curve(model_ada_best, X_ada, y_ada, train_sizes=np.linspace(0.1, 1.0, 10), cv=5)\n",
        "# Calculate the mean and standard deviation of train and test scores\n",
        "train_mean = np.mean(train_scores, axis=1)\n",
        "train_std = np.std(train_scores, axis=1)\n",
        "test_mean = np.mean(test_scores, axis=1)\n",
        "test_std = np.std(test_scores, axis=1)\n",
        "\n",
        "# Plot the learning curve\n",
        "plt.figure(figsize=(10, 6))\n",
        "plt.plot(train_sizes, train_mean, label='Training Score', color='blue')\n",
        "plt.plot(train_sizes, test_mean, label='Cross-validation Score', color='green')"
      ]
    },
    {
      "cell_type": "code",
      "execution_count": null,
      "metadata": {},
      "outputs": [],
      "source": [
        "ada = AdaBoostClassifier(base_estimator=model_ada_best,n_estimators=100)"
      ]
    },
    {
      "attachments": {},
      "cell_type": "markdown",
      "metadata": {},
      "source": []
    },
    {
      "cell_type": "code",
      "execution_count": null,
      "metadata": {},
      "outputs": [
        {
          "name": "stderr",
          "output_type": "stream",
          "text": [
            "/Users/danielderbyshire/.pyenv/versions/3.10.6/envs/wingman/lib/python3.10/site-packages/sklearn/ensemble/_base.py:166: FutureWarning: `base_estimator` was renamed to `estimator` in version 1.2 and will be removed in 1.4.\n",
            "  warnings.warn(\n"
          ]
        },
        {
          "data": {
            "text/plain": [
              "0.5102156640181612"
            ]
          },
          "execution_count": 35,
          "metadata": {},
          "output_type": "execute_result"
        }
      ],
      "source": [
        "ada = ada.fit(X_ada, y_ada)\n",
        "y_pred_ada = ada.predict(X_test)\n",
        "accuracy_score(y_test, y_pred_ada)"
      ]
    },
    {
      "attachments": {},
      "cell_type": "markdown",
      "metadata": {},
      "source": [
        "## Feature selection and reduced model"
      ]
    },
    {
      "cell_type": "code",
      "execution_count": 6,
      "metadata": {},
      "outputs": [
        {
          "ename": "NameError",
          "evalue": "name 'model_random_1' is not defined",
          "output_type": "error",
          "traceback": [
            "\u001b[0;31m---------------------------------------------------------------------------\u001b[0m",
            "\u001b[0;31mNameError\u001b[0m                                 Traceback (most recent call last)",
            "Cell \u001b[0;32mIn[6], line 3\u001b[0m\n\u001b[1;32m      1\u001b[0m \u001b[39m## feature importance for randomized search model (unbalanced classes)\u001b[39;00m\n\u001b[0;32m----> 3\u001b[0m feat_importances \u001b[39m=\u001b[39m pd\u001b[39m.\u001b[39mSeries(model_random_1\u001b[39m.\u001b[39mfeature_importances_, index\u001b[39m=\u001b[39mX\u001b[39m.\u001b[39mcolumns)\n\u001b[1;32m      4\u001b[0m feat_importances\u001b[39m.\u001b[39mnlargest(\u001b[39m15\u001b[39m)\u001b[39m.\u001b[39mplot(kind\u001b[39m=\u001b[39m\u001b[39m'\u001b[39m\u001b[39mbarh\u001b[39m\u001b[39m'\u001b[39m)\n\u001b[1;32m      5\u001b[0m plt\u001b[39m.\u001b[39mtitle(\u001b[39m\"\u001b[39m\u001b[39mTop 15 important features\u001b[39m\u001b[39m\"\u001b[39m)\n",
            "\u001b[0;31mNameError\u001b[0m: name 'model_random_1' is not defined"
          ]
        }
      ],
      "source": [
        "## feature importance for randomized search model (unbalanced classes)\n",
        "\n",
        "feat_importances = pd.Series(model_random_1.feature_importances_, index=X.columns)\n",
        "feat_importances.nlargest(15).plot(kind='barh')\n",
        "plt.title(\"Top 15 important features\")\n",
        "plt.show()"
      ]
    },
    {
      "cell_type": "code",
      "execution_count": 87,
      "metadata": {},
      "outputs": [
        {
          "data": {
            "text/plain": [
              "id\n",
              "20080115X000511    0\n",
              "20080116X000631    0\n",
              "20080122X000871    0\n",
              "20080220X002121    0\n",
              "20080207X001531    0\n",
              "                  ..\n",
              "20190107X337411    0\n",
              "20190121X128521    0\n",
              "20190108X549451    0\n",
              "20190112X112141    0\n",
              "20190111X427051    0\n",
              "Name: _BUS , Length: 5871, dtype: int64"
            ]
          },
          "execution_count": 87,
          "metadata": {},
          "output_type": "execute_result"
        }
      ],
      "source": [
        "data['_BUS ']"
      ]
    },
    {
      "cell_type": "code",
      "execution_count": 88,
      "metadata": {},
      "outputs": [
        {
          "data": {
            "text/plain": [
              "_AOBV                          0.000005\n",
              "site_seeing                    0.000038\n",
              "air_medical                    0.000083\n",
              "_BUS                           0.000364\n",
              "_POSI                          0.000460\n",
              "_Other                         0.000462\n",
              "type_last_insp_AAIP            0.000465\n",
              "type_last_insp_COAW            0.000513\n",
              "certs_held                     0.000533\n",
              "_OWRK                          0.000627\n",
              "type_last_insp_UNK             0.000960\n",
              "_FLTS                          0.001215\n",
              "_AAPL                          0.001229\n",
              "eng_mfgr_P&W                   0.001278\n",
              "crew_sex                       0.001840\n",
              "eng_type_infrequent_sklearn    0.002127\n",
              "_UNK                           0.002274\n",
              "eng_type_REC                   0.002315\n",
              "flt_plan_filed_IFR             0.002746\n",
              "num_eng                        0.002966\n",
              "flt_plan_filed_VFR             0.003972\n",
              "dprt_apt_id                    0.004350\n",
              "type_last_insp_COND            0.004382\n",
              "second_pilot                   0.004859\n",
              "_INST                          0.005134\n",
              "eng_mfgr_ROTAX                 0.005586\n",
              "eng_mfgr_infrequent_sklearn    0.005649\n",
              "type_last_insp_100H            0.005905\n",
              "crew_category_FLTI             0.006557\n",
              "dest_apt_id                    0.007073\n",
              "flt_plan_filed_NONE            0.007485\n",
              "carb_fuel_injection_UNK        0.007840\n",
              "acft_make_PIPER                0.008830\n",
              "pc_profession                  0.009678\n",
              "carb_fuel_injection_FINJ       0.009765\n",
              "_PERS                          0.010485\n",
              "acft_make_BEECH                0.010701\n",
              "carb_fuel_injection_CARB       0.011017\n",
              "dtype: float64"
            ]
          },
          "execution_count": 88,
          "metadata": {},
          "output_type": "execute_result"
        }
      ],
      "source": [
        "feat_importances.nsmallest(38)"
      ]
    },
    {
      "cell_type": "code",
      "execution_count": 89,
      "metadata": {},
      "outputs": [],
      "source": [
        "data_drop_feats = data.drop(columns=['_AOBV', 'site_seeing', 'air_medical', '_BUS ', '_POSI', 'type_last_insp_COAW',\n",
        "                                     'certs_held', 'type_last_insp_AAIP', '_Other', '_OWRK', 'type_last_insp_UNK',\n",
        "                                     '_AAPL', 'eng_mfgr_P&W', '_FLTS', 'crew_sex', '_UNK', 'eng_type_REC', \n",
        "                                     'eng_type_infrequent_sklearn', 'flt_plan_filed_IFR', 'num_eng', \n",
        "                                     'flt_plan_filed_VFR', 'type_last_insp_COND', 'dprt_apt_id', 'second_pilot',\n",
        "                                     '_INST', 'eng_mfgr_infrequent_sklearn', 'eng_mfgr_ROTAX', 'type_last_insp_100H',\n",
        "                                     'crew_category_FLTI', 'dest_apt_id', 'carb_fuel_injection_UNK', 'flt_plan_filed_NONE',\n",
        "                                     'acft_make_PIPER', 'carb_fuel_injection_FINJ', 'pc_profession', '_PERS',\n",
        "                                     'acft_make_BEECH', 'carb_fuel_injection_CARB'], axis=1)"
      ]
    },
    {
      "cell_type": "code",
      "execution_count": 90,
      "metadata": {},
      "outputs": [],
      "source": [
        "X_drop = data_drop_feats.drop('subcategory_no', axis=1)\n",
        "y_drop = data_drop_feats['subcategory_no']\n",
        "\n",
        "X_train_dr, X_test_dr, y_train_dr, y_test_dr = train_test_split(X_drop, y_drop, test_size=0.3, random_state=1)\n",
        "\n"
      ]
    },
    {
      "cell_type": "code",
      "execution_count": 91,
      "metadata": {},
      "outputs": [],
      "source": [
        "model_random_2 = RandomForestClassifier(n_estimators= 2500, min_samples_split=5, min_samples_leaf=15, \n",
        "                                        max_features= 'sqrt', max_depth=168, bootstrap=False)\n"
      ]
    },
    {
      "cell_type": "code",
      "execution_count": 92,
      "metadata": {},
      "outputs": [
        {
          "data": {
            "text/html": [
              "<style>#sk-container-id-10 {color: black;background-color: white;}#sk-container-id-10 pre{padding: 0;}#sk-container-id-10 div.sk-toggleable {background-color: white;}#sk-container-id-10 label.sk-toggleable__label {cursor: pointer;display: block;width: 100%;margin-bottom: 0;padding: 0.3em;box-sizing: border-box;text-align: center;}#sk-container-id-10 label.sk-toggleable__label-arrow:before {content: \"▸\";float: left;margin-right: 0.25em;color: #696969;}#sk-container-id-10 label.sk-toggleable__label-arrow:hover:before {color: black;}#sk-container-id-10 div.sk-estimator:hover label.sk-toggleable__label-arrow:before {color: black;}#sk-container-id-10 div.sk-toggleable__content {max-height: 0;max-width: 0;overflow: hidden;text-align: left;background-color: #f0f8ff;}#sk-container-id-10 div.sk-toggleable__content pre {margin: 0.2em;color: black;border-radius: 0.25em;background-color: #f0f8ff;}#sk-container-id-10 input.sk-toggleable__control:checked~div.sk-toggleable__content {max-height: 200px;max-width: 100%;overflow: auto;}#sk-container-id-10 input.sk-toggleable__control:checked~label.sk-toggleable__label-arrow:before {content: \"▾\";}#sk-container-id-10 div.sk-estimator input.sk-toggleable__control:checked~label.sk-toggleable__label {background-color: #d4ebff;}#sk-container-id-10 div.sk-label input.sk-toggleable__control:checked~label.sk-toggleable__label {background-color: #d4ebff;}#sk-container-id-10 input.sk-hidden--visually {border: 0;clip: rect(1px 1px 1px 1px);clip: rect(1px, 1px, 1px, 1px);height: 1px;margin: -1px;overflow: hidden;padding: 0;position: absolute;width: 1px;}#sk-container-id-10 div.sk-estimator {font-family: monospace;background-color: #f0f8ff;border: 1px dotted black;border-radius: 0.25em;box-sizing: border-box;margin-bottom: 0.5em;}#sk-container-id-10 div.sk-estimator:hover {background-color: #d4ebff;}#sk-container-id-10 div.sk-parallel-item::after {content: \"\";width: 100%;border-bottom: 1px solid gray;flex-grow: 1;}#sk-container-id-10 div.sk-label:hover label.sk-toggleable__label {background-color: #d4ebff;}#sk-container-id-10 div.sk-serial::before {content: \"\";position: absolute;border-left: 1px solid gray;box-sizing: border-box;top: 0;bottom: 0;left: 50%;z-index: 0;}#sk-container-id-10 div.sk-serial {display: flex;flex-direction: column;align-items: center;background-color: white;padding-right: 0.2em;padding-left: 0.2em;position: relative;}#sk-container-id-10 div.sk-item {position: relative;z-index: 1;}#sk-container-id-10 div.sk-parallel {display: flex;align-items: stretch;justify-content: center;background-color: white;position: relative;}#sk-container-id-10 div.sk-item::before, #sk-container-id-10 div.sk-parallel-item::before {content: \"\";position: absolute;border-left: 1px solid gray;box-sizing: border-box;top: 0;bottom: 0;left: 50%;z-index: -1;}#sk-container-id-10 div.sk-parallel-item {display: flex;flex-direction: column;z-index: 1;position: relative;background-color: white;}#sk-container-id-10 div.sk-parallel-item:first-child::after {align-self: flex-end;width: 50%;}#sk-container-id-10 div.sk-parallel-item:last-child::after {align-self: flex-start;width: 50%;}#sk-container-id-10 div.sk-parallel-item:only-child::after {width: 0;}#sk-container-id-10 div.sk-dashed-wrapped {border: 1px dashed gray;margin: 0 0.4em 0.5em 0.4em;box-sizing: border-box;padding-bottom: 0.4em;background-color: white;}#sk-container-id-10 div.sk-label label {font-family: monospace;font-weight: bold;display: inline-block;line-height: 1.2em;}#sk-container-id-10 div.sk-label-container {text-align: center;}#sk-container-id-10 div.sk-container {/* jupyter's `normalize.less` sets `[hidden] { display: none; }` but bootstrap.min.css set `[hidden] { display: none !important; }` so we also need the `!important` here to be able to override the default hidden behavior on the sphinx rendered scikit-learn.org. See: https://github.com/scikit-learn/scikit-learn/issues/21755 */display: inline-block !important;position: relative;}#sk-container-id-10 div.sk-text-repr-fallback {display: none;}</style><div id=\"sk-container-id-10\" class=\"sk-top-container\"><div class=\"sk-text-repr-fallback\"><pre>RandomForestClassifier(bootstrap=False, max_depth=168, min_samples_leaf=15,\n",
              "                       min_samples_split=5, n_estimators=2500)</pre><b>In a Jupyter environment, please rerun this cell to show the HTML representation or trust the notebook. <br />On GitHub, the HTML representation is unable to render, please try loading this page with nbviewer.org.</b></div><div class=\"sk-container\" hidden><div class=\"sk-item\"><div class=\"sk-estimator sk-toggleable\"><input class=\"sk-toggleable__control sk-hidden--visually\" id=\"sk-estimator-id-14\" type=\"checkbox\" checked><label for=\"sk-estimator-id-14\" class=\"sk-toggleable__label sk-toggleable__label-arrow\">RandomForestClassifier</label><div class=\"sk-toggleable__content\"><pre>RandomForestClassifier(bootstrap=False, max_depth=168, min_samples_leaf=15,\n",
              "                       min_samples_split=5, n_estimators=2500)</pre></div></div></div></div></div>"
            ],
            "text/plain": [
              "RandomForestClassifier(bootstrap=False, max_depth=168, min_samples_leaf=15,\n",
              "                       min_samples_split=5, n_estimators=2500)"
            ]
          },
          "execution_count": 92,
          "metadata": {},
          "output_type": "execute_result"
        }
      ],
      "source": [
        "model_random_2.fit(X_train_dr, y_train_dr)\n"
      ]
    },
    {
      "cell_type": "code",
      "execution_count": 93,
      "metadata": {},
      "outputs": [
        {
          "data": {
            "text/plain": [
              "0.5516458569807038"
            ]
          },
          "execution_count": 93,
          "metadata": {},
          "output_type": "execute_result"
        }
      ],
      "source": [
        "y_pred_3 = model_random_2.predict(X_test_dr)\n",
        "accuracy_score(y_test_dr, y_pred_2)"
      ]
    },
    {
      "attachments": {},
      "cell_type": "markdown",
      "metadata": {},
      "source": [
        "## Adaboost reduced model"
      ]
    },
    {
      "cell_type": "code",
      "execution_count": 83,
      "metadata": {},
      "outputs": [],
      "source": [
        "ada = AdaBoostClassifier(base_estimator=model_random_2,n_estimators=10)"
      ]
    },
    {
      "cell_type": "code",
      "execution_count": 84,
      "metadata": {},
      "outputs": [
        {
          "name": "stderr",
          "output_type": "stream",
          "text": [
            "/Users/danielderbyshire/.pyenv/versions/3.10.6/envs/wingman/lib/python3.10/site-packages/sklearn/ensemble/_base.py:166: FutureWarning: `base_estimator` was renamed to `estimator` in version 1.2 and will be removed in 1.4.\n",
            "  warnings.warn(\n"
          ]
        },
        {
          "data": {
            "text/html": [
              "<style>#sk-container-id-9 {color: black;background-color: white;}#sk-container-id-9 pre{padding: 0;}#sk-container-id-9 div.sk-toggleable {background-color: white;}#sk-container-id-9 label.sk-toggleable__label {cursor: pointer;display: block;width: 100%;margin-bottom: 0;padding: 0.3em;box-sizing: border-box;text-align: center;}#sk-container-id-9 label.sk-toggleable__label-arrow:before {content: \"▸\";float: left;margin-right: 0.25em;color: #696969;}#sk-container-id-9 label.sk-toggleable__label-arrow:hover:before {color: black;}#sk-container-id-9 div.sk-estimator:hover label.sk-toggleable__label-arrow:before {color: black;}#sk-container-id-9 div.sk-toggleable__content {max-height: 0;max-width: 0;overflow: hidden;text-align: left;background-color: #f0f8ff;}#sk-container-id-9 div.sk-toggleable__content pre {margin: 0.2em;color: black;border-radius: 0.25em;background-color: #f0f8ff;}#sk-container-id-9 input.sk-toggleable__control:checked~div.sk-toggleable__content {max-height: 200px;max-width: 100%;overflow: auto;}#sk-container-id-9 input.sk-toggleable__control:checked~label.sk-toggleable__label-arrow:before {content: \"▾\";}#sk-container-id-9 div.sk-estimator input.sk-toggleable__control:checked~label.sk-toggleable__label {background-color: #d4ebff;}#sk-container-id-9 div.sk-label input.sk-toggleable__control:checked~label.sk-toggleable__label {background-color: #d4ebff;}#sk-container-id-9 input.sk-hidden--visually {border: 0;clip: rect(1px 1px 1px 1px);clip: rect(1px, 1px, 1px, 1px);height: 1px;margin: -1px;overflow: hidden;padding: 0;position: absolute;width: 1px;}#sk-container-id-9 div.sk-estimator {font-family: monospace;background-color: #f0f8ff;border: 1px dotted black;border-radius: 0.25em;box-sizing: border-box;margin-bottom: 0.5em;}#sk-container-id-9 div.sk-estimator:hover {background-color: #d4ebff;}#sk-container-id-9 div.sk-parallel-item::after {content: \"\";width: 100%;border-bottom: 1px solid gray;flex-grow: 1;}#sk-container-id-9 div.sk-label:hover label.sk-toggleable__label {background-color: #d4ebff;}#sk-container-id-9 div.sk-serial::before {content: \"\";position: absolute;border-left: 1px solid gray;box-sizing: border-box;top: 0;bottom: 0;left: 50%;z-index: 0;}#sk-container-id-9 div.sk-serial {display: flex;flex-direction: column;align-items: center;background-color: white;padding-right: 0.2em;padding-left: 0.2em;position: relative;}#sk-container-id-9 div.sk-item {position: relative;z-index: 1;}#sk-container-id-9 div.sk-parallel {display: flex;align-items: stretch;justify-content: center;background-color: white;position: relative;}#sk-container-id-9 div.sk-item::before, #sk-container-id-9 div.sk-parallel-item::before {content: \"\";position: absolute;border-left: 1px solid gray;box-sizing: border-box;top: 0;bottom: 0;left: 50%;z-index: -1;}#sk-container-id-9 div.sk-parallel-item {display: flex;flex-direction: column;z-index: 1;position: relative;background-color: white;}#sk-container-id-9 div.sk-parallel-item:first-child::after {align-self: flex-end;width: 50%;}#sk-container-id-9 div.sk-parallel-item:last-child::after {align-self: flex-start;width: 50%;}#sk-container-id-9 div.sk-parallel-item:only-child::after {width: 0;}#sk-container-id-9 div.sk-dashed-wrapped {border: 1px dashed gray;margin: 0 0.4em 0.5em 0.4em;box-sizing: border-box;padding-bottom: 0.4em;background-color: white;}#sk-container-id-9 div.sk-label label {font-family: monospace;font-weight: bold;display: inline-block;line-height: 1.2em;}#sk-container-id-9 div.sk-label-container {text-align: center;}#sk-container-id-9 div.sk-container {/* jupyter's `normalize.less` sets `[hidden] { display: none; }` but bootstrap.min.css set `[hidden] { display: none !important; }` so we also need the `!important` here to be able to override the default hidden behavior on the sphinx rendered scikit-learn.org. See: https://github.com/scikit-learn/scikit-learn/issues/21755 */display: inline-block !important;position: relative;}#sk-container-id-9 div.sk-text-repr-fallback {display: none;}</style><div id=\"sk-container-id-9\" class=\"sk-top-container\"><div class=\"sk-text-repr-fallback\"><pre>AdaBoostClassifier(base_estimator=RandomForestClassifier(bootstrap=False,\n",
              "                                                         max_depth=168,\n",
              "                                                         min_samples_leaf=15,\n",
              "                                                         min_samples_split=5,\n",
              "                                                         n_estimators=2500),\n",
              "                   n_estimators=10)</pre><b>In a Jupyter environment, please rerun this cell to show the HTML representation or trust the notebook. <br />On GitHub, the HTML representation is unable to render, please try loading this page with nbviewer.org.</b></div><div class=\"sk-container\" hidden><div class=\"sk-item sk-dashed-wrapped\"><div class=\"sk-label-container\"><div class=\"sk-label sk-toggleable\"><input class=\"sk-toggleable__control sk-hidden--visually\" id=\"sk-estimator-id-11\" type=\"checkbox\" ><label for=\"sk-estimator-id-11\" class=\"sk-toggleable__label sk-toggleable__label-arrow\">AdaBoostClassifier</label><div class=\"sk-toggleable__content\"><pre>AdaBoostClassifier(base_estimator=RandomForestClassifier(bootstrap=False,\n",
              "                                                         max_depth=168,\n",
              "                                                         min_samples_leaf=15,\n",
              "                                                         min_samples_split=5,\n",
              "                                                         n_estimators=2500),\n",
              "                   n_estimators=10)</pre></div></div></div><div class=\"sk-parallel\"><div class=\"sk-parallel-item\"><div class=\"sk-item\"><div class=\"sk-label-container\"><div class=\"sk-label sk-toggleable\"><input class=\"sk-toggleable__control sk-hidden--visually\" id=\"sk-estimator-id-12\" type=\"checkbox\" ><label for=\"sk-estimator-id-12\" class=\"sk-toggleable__label sk-toggleable__label-arrow\">base_estimator: RandomForestClassifier</label><div class=\"sk-toggleable__content\"><pre>RandomForestClassifier(bootstrap=False, max_depth=168, min_samples_leaf=15,\n",
              "                       min_samples_split=5, n_estimators=2500)</pre></div></div></div><div class=\"sk-serial\"><div class=\"sk-item\"><div class=\"sk-estimator sk-toggleable\"><input class=\"sk-toggleable__control sk-hidden--visually\" id=\"sk-estimator-id-13\" type=\"checkbox\" ><label for=\"sk-estimator-id-13\" class=\"sk-toggleable__label sk-toggleable__label-arrow\">RandomForestClassifier</label><div class=\"sk-toggleable__content\"><pre>RandomForestClassifier(bootstrap=False, max_depth=168, min_samples_leaf=15,\n",
              "                       min_samples_split=5, n_estimators=2500)</pre></div></div></div></div></div></div></div></div></div></div>"
            ],
            "text/plain": [
              "AdaBoostClassifier(base_estimator=RandomForestClassifier(bootstrap=False,\n",
              "                                                         max_depth=168,\n",
              "                                                         min_samples_leaf=15,\n",
              "                                                         min_samples_split=5,\n",
              "                                                         n_estimators=2500),\n",
              "                   n_estimators=10)"
            ]
          },
          "execution_count": 84,
          "metadata": {},
          "output_type": "execute_result"
        }
      ],
      "source": [
        "ada.fit(X_train_dr, y_train_dr)"
      ]
    },
    {
      "cell_type": "code",
      "execution_count": 85,
      "metadata": {},
      "outputs": [
        {
          "data": {
            "text/plain": [
              "0.5329171396140749"
            ]
          },
          "execution_count": 85,
          "metadata": {},
          "output_type": "execute_result"
        }
      ],
      "source": [
        "y_pred_ada = ada.predict(X_test_dr)\n",
        "accuracy_score(y_test_dr, y_pred_ada)"
      ]
    },
    {
      "attachments": {},
      "cell_type": "markdown",
      "metadata": {},
      "source": [
        "## SMOTE reduced model"
      ]
    },
    {
      "cell_type": "code",
      "execution_count": 116,
      "metadata": {},
      "outputs": [
        {
          "data": {
            "text/plain": [
              "0.49545970488081725"
            ]
          },
          "execution_count": 116,
          "metadata": {},
          "output_type": "execute_result"
        }
      ],
      "source": [
        "oversample = SMOTE()\n",
        "X_smote_dr, y_smote_dr = oversample.fit_resample(X_train_dr, y_train_dr)\n",
        "\n",
        "model_smote_dr = RandomForestClassifier(n_estimators =2500, min_samples_split=2, min_samples_leaf=1,\n",
        "                                        max_features= 'log2', max_depth=141, bootstrap=False)\n",
        "model_smote_dr.fit(X_smote_dr, y_smote_dr)\n",
        "\n",
        "y_pred_smdr = model_smote_dr.predict(X_test_dr)\n",
        "\n",
        "accuracy_score(y_test_dr, y_pred_smdr)"
      ]
    },
    {
      "cell_type": "code",
      "execution_count": 7,
      "metadata": {},
      "outputs": [],
      "source": [
        "from sklearn import svm "
      ]
    },
    {
      "cell_type": "code",
      "execution_count": 8,
      "metadata": {},
      "outputs": [],
      "source": [
        "rbf = svm.SVC(kernel='rbf', gamma=0.5, C=0.1).fit(X_train, y_train)\n",
        "poly = svm.SVC(kernel='poly').fit(X_train, y_train)"
      ]
    },
    {
      "cell_type": "code",
      "execution_count": 9,
      "metadata": {},
      "outputs": [],
      "source": [
        "poly_pred = poly.predict(X_test)\n",
        "rbf_pred = rbf.predict(X_test)"
      ]
    },
    {
      "cell_type": "code",
      "execution_count": 10,
      "metadata": {},
      "outputs": [],
      "source": [
        "poly_accuracy = accuracy_score(y_test, poly_pred)\n",
        "poly_f1 = f1_score(y_test, poly_pred, average='weighted')"
      ]
    },
    {
      "cell_type": "code",
      "execution_count": 11,
      "metadata": {},
      "outputs": [],
      "source": [
        "rbf_accuracy = accuracy_score(y_test, rbf_pred)\n",
        "rbf_f1 = f1_score(y_test, rbf_pred, average='weighted')"
      ]
    },
    {
      "cell_type": "code",
      "execution_count": 12,
      "metadata": {},
      "outputs": [
        {
          "data": {
            "text/plain": [
              "0.5459704880817253"
            ]
          },
          "execution_count": 12,
          "metadata": {},
          "output_type": "execute_result"
        }
      ],
      "source": [
        "poly_accuracy"
      ]
    },
    {
      "cell_type": "code",
      "execution_count": 13,
      "metadata": {},
      "outputs": [
        {
          "data": {
            "text/plain": [
              "0.5454029511918275"
            ]
          },
          "execution_count": 13,
          "metadata": {},
          "output_type": "execute_result"
        }
      ],
      "source": [
        "rbf_accuracy"
      ]
    },
    {
      "cell_type": "code",
      "execution_count": 14,
      "metadata": {},
      "outputs": [
        {
          "name": "stdout",
          "output_type": "stream",
          "text": [
            "Fitting 3 folds for each of 5 candidates, totalling 15 fits\n"
          ]
        }
      ],
      "source": [
        "grid_list = {\"C\": np.arange(2, 10, 2),\n",
        "             \"gamma\": np.arange(0.1, 1, 0.2)}\n",
        "\n",
        "random_search = RandomizedSearchCV(poly, param_distributions = grid_list, n_iter = 5, cv = 3, random_state=1, n_jobs = 1, verbose=3) \n",
        "random_search.fit(X_train, y_train)"
      ]
    },
    {
      "cell_type": "code",
      "execution_count": null,
      "metadata": {},
      "outputs": [],
      "source": []
    },
    {
      "cell_type": "code",
      "execution_count": null,
      "metadata": {},
      "outputs": [],
      "source": []
    }
  ],
  "metadata": {
    "colab": {
      "provenance": []
    },
    "kernelspec": {
      "display_name": "Python 3",
      "name": "python3"
    },
    "language_info": {
      "codemirror_mode": {
        "name": "ipython",
        "version": 3
      },
      "file_extension": ".py",
      "mimetype": "text/x-python",
      "name": "python",
      "nbconvert_exporter": "python",
      "pygments_lexer": "ipython3",
      "version": "3.10.6"
    },
    "orig_nbformat": 4
  },
  "nbformat": 4,
  "nbformat_minor": 0
}
